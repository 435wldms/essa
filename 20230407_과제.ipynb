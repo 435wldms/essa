{
  "nbformat": 4,
  "nbformat_minor": 0,
  "metadata": {
    "colab": {
      "provenance": [],
      "authorship_tag": "ABX9TyOZ9w+4OuBpir2eXP5tzw+/",
      "include_colab_link": true
    },
    "kernelspec": {
      "name": "python3",
      "display_name": "Python 3"
    },
    "language_info": {
      "name": "python"
    }
  },
  "cells": [
    {
      "cell_type": "markdown",
      "metadata": {
        "id": "view-in-github",
        "colab_type": "text"
      },
      "source": [
        "<a href=\"https://colab.research.google.com/github/435wldms/essa/blob/main/20230407_%EA%B3%BC%EC%A0%9C.ipynb\" target=\"_parent\"><img src=\"https://colab.research.google.com/assets/colab-badge.svg\" alt=\"Open In Colab\"/></a>"
      ]
    },
    {
      "cell_type": "markdown",
      "source": [
        "# datetime 오브젝트"
      ],
      "metadata": {
        "id": "gDM995TOo3cU"
      }
    },
    {
      "cell_type": "markdown",
      "source": [
        "* datetime 라이브러리는 날짜와 시간을 처리하는 등의 다양한 기능을 제공하는 파이썬 라이브러리 -> date(날짜), time(시간), datetime(날짜&시간)"
      ],
      "metadata": {
        "id": "Gfao0XDOo_bh"
      }
    },
    {
      "cell_type": "code",
      "execution_count": 1,
      "metadata": {
        "colab": {
          "base_uri": "https://localhost:8080/"
        },
        "id": "scQgieWqonqd",
        "outputId": "ea03aaa2-8eea-4a41-c170-61bf85ec9541"
      },
      "outputs": [
        {
          "output_type": "stream",
          "name": "stdout",
          "text": [
            "2023-04-05 16:25:06.504968\n",
            "2023-04-05 16:25:06.510381\n"
          ]
        }
      ],
      "source": [
        "from datetime import datetime\n",
        "\n",
        "now1 = datetime.now()\n",
        "print(now1)\n",
        "\n",
        "now2 = datetime.today()\n",
        "print(now2)"
      ]
    },
    {
      "cell_type": "markdown",
      "source": [
        "* 시간을 직접 입력해 인자로 전달"
      ],
      "metadata": {
        "id": "Tbw4NcXEqXip"
      }
    },
    {
      "cell_type": "code",
      "source": [
        "t1 = datetime.now()\n",
        "t2 = datetime(1970,1,1)\n",
        "t3 = datetime(1970,12,12,13,24,34)\n",
        "\n",
        "print(t1)\n",
        "print(t2)\n",
        "print(t3)"
      ],
      "metadata": {
        "colab": {
          "base_uri": "https://localhost:8080/"
        },
        "id": "ZtUmhEBUp1Ua",
        "outputId": "6f3498d5-f9d2-4739-cc80-a8319fdc77ed"
      },
      "execution_count": 2,
      "outputs": [
        {
          "output_type": "stream",
          "name": "stdout",
          "text": [
            "2023-04-05 16:25:07.241741\n",
            "1970-01-01 00:00:00\n",
            "1970-12-12 13:24:34\n"
          ]
        }
      ]
    },
    {
      "cell_type": "markdown",
      "source": [
        "* 시간 계산 가능(datetime 오브젝트의 차이)"
      ],
      "metadata": {
        "id": "DJVtMOVzVjFw"
      }
    },
    {
      "cell_type": "code",
      "source": [
        "diff1 = t1 -t2\n",
        "\n",
        "print(diff1)\n",
        "print(type(diff1))\n"
      ],
      "metadata": {
        "colab": {
          "base_uri": "https://localhost:8080/"
        },
        "id": "PMdSVpuwVoE5",
        "outputId": "c651530c-e468-43c5-a983-0eb2351e1955"
      },
      "execution_count": 3,
      "outputs": [
        {
          "output_type": "stream",
          "name": "stdout",
          "text": [
            "19452 days, 16:25:07.241741\n",
            "<class 'datetime.timedelta'>\n"
          ]
        }
      ]
    },
    {
      "cell_type": "code",
      "source": [
        "diff2 = t2-t1\n",
        "\n",
        "print(diff2)\n",
        "print(type(diff2))\n"
      ],
      "metadata": {
        "colab": {
          "base_uri": "https://localhost:8080/"
        },
        "id": "2xFyQRAjV2Rq",
        "outputId": "b2089119-0ccf-4c40-a004-340b546b8fe5"
      },
      "execution_count": 4,
      "outputs": [
        {
          "output_type": "stream",
          "name": "stdout",
          "text": [
            "-19453 days, 7:34:52.758259\n",
            "<class 'datetime.timedelta'>\n"
          ]
        }
      ]
    },
    {
      "cell_type": "markdown",
      "source": [
        "# 테슬라 주식 데이터로 시간 계산하기"
      ],
      "metadata": {
        "id": "sgZBpfLqWSRp"
      }
    },
    {
      "cell_type": "code",
      "source": [
        "pip install pandas-datareader"
      ],
      "metadata": {
        "colab": {
          "base_uri": "https://localhost:8080/"
        },
        "id": "zI7dQKI4WVh0",
        "outputId": "cfb88cf5-1735-4daa-83b3-89fb68db04a8"
      },
      "execution_count": 5,
      "outputs": [
        {
          "output_type": "stream",
          "name": "stdout",
          "text": [
            "Looking in indexes: https://pypi.org/simple, https://us-python.pkg.dev/colab-wheels/public/simple/\n",
            "Requirement already satisfied: pandas-datareader in /usr/local/lib/python3.9/dist-packages (0.10.0)\n",
            "Requirement already satisfied: requests>=2.19.0 in /usr/local/lib/python3.9/dist-packages (from pandas-datareader) (2.27.1)\n",
            "Requirement already satisfied: pandas>=0.23 in /usr/local/lib/python3.9/dist-packages (from pandas-datareader) (1.4.4)\n",
            "Requirement already satisfied: lxml in /usr/local/lib/python3.9/dist-packages (from pandas-datareader) (4.9.2)\n",
            "Requirement already satisfied: pytz>=2020.1 in /usr/local/lib/python3.9/dist-packages (from pandas>=0.23->pandas-datareader) (2022.7.1)\n",
            "Requirement already satisfied: python-dateutil>=2.8.1 in /usr/local/lib/python3.9/dist-packages (from pandas>=0.23->pandas-datareader) (2.8.2)\n",
            "Requirement already satisfied: numpy>=1.18.5 in /usr/local/lib/python3.9/dist-packages (from pandas>=0.23->pandas-datareader) (1.22.4)\n",
            "Requirement already satisfied: certifi>=2017.4.17 in /usr/local/lib/python3.9/dist-packages (from requests>=2.19.0->pandas-datareader) (2022.12.7)\n",
            "Requirement already satisfied: urllib3<1.27,>=1.21.1 in /usr/local/lib/python3.9/dist-packages (from requests>=2.19.0->pandas-datareader) (1.26.15)\n",
            "Requirement already satisfied: idna<4,>=2.5 in /usr/local/lib/python3.9/dist-packages (from requests>=2.19.0->pandas-datareader) (3.4)\n",
            "Requirement already satisfied: charset-normalizer~=2.0.0 in /usr/local/lib/python3.9/dist-packages (from requests>=2.19.0->pandas-datareader) (2.0.12)\n",
            "Requirement already satisfied: six>=1.5 in /usr/local/lib/python3.9/dist-packages (from python-dateutil>=2.8.1->pandas>=0.23->pandas-datareader) (1.16.0)\n"
          ]
        }
      ]
    },
    {
      "cell_type": "markdown",
      "source": [
        "1) tesla_stock_suandl를 tesla라는 이름으로 저장"
      ],
      "metadata": {
        "id": "zUwXDUSWD7wH"
      }
    },
    {
      "cell_type": "code",
      "source": [
        "import pandas as pd\n",
        "tesla = pd.read_csv('tesla_stock_quandl.csv')\n",
        "print(tesla.head())"
      ],
      "metadata": {
        "colab": {
          "base_uri": "https://localhost:8080/"
        },
        "id": "jnrRsawoI85G",
        "outputId": "6a279f6e-b053-4816-dc99-df16bf10dc6a"
      },
      "execution_count": 6,
      "outputs": [
        {
          "output_type": "stream",
          "name": "stdout",
          "text": [
            "         Date    Open    High     Low   Close    Volume  ExDividend  \\\n",
            "0  2018-03-27  304.00  304.27  277.18  279.18  13696168           0   \n",
            "1  2018-03-26  307.34  307.59  291.36  304.18   8324639           0   \n",
            "2  2018-03-23  311.25  311.61  300.45  301.54   6600538           0   \n",
            "3  2018-03-22  313.89  318.82  308.18  309.10   4914307           0   \n",
            "4  2018-03-21  310.25  322.44  310.19  316.53   5927881           0   \n",
            "\n",
            "   SplitRatio  AdjOpen  AdjHigh  AdjLow  AdjClose  AdjVolume  \n",
            "0           1   304.00   304.27  277.18    279.18   13696168  \n",
            "1           1   307.34   307.59  291.36    304.18    8324639  \n",
            "2           1   311.25   311.61  300.45    301.54    6600538  \n",
            "3           1   313.89   318.82  308.18    309.10    4914307  \n",
            "4           1   310.25   322.44  310.19    316.53    5927881  \n"
          ]
        }
      ]
    },
    {
      "cell_type": "markdown",
      "source": [
        "2) date 열을 datetime 형으로 변환하기위해 parse_dates 인자에 date 열 전달"
      ],
      "metadata": {
        "id": "bWtVXD3BJdpK"
      }
    },
    {
      "cell_type": "code",
      "source": [
        "tesla = pd.read_csv('tesla_stock_quandl.csv',parse_dates=[0])\n",
        "print(tesla.info())"
      ],
      "metadata": {
        "colab": {
          "base_uri": "https://localhost:8080/"
        },
        "id": "1WyNNWzjD1Wf",
        "outputId": "1a15a094-211f-4134-d1ca-9ad93dbc19f1"
      },
      "execution_count": 7,
      "outputs": [
        {
          "output_type": "stream",
          "name": "stdout",
          "text": [
            "<class 'pandas.core.frame.DataFrame'>\n",
            "RangeIndex: 1949 entries, 0 to 1948\n",
            "Data columns (total 13 columns):\n",
            " #   Column      Non-Null Count  Dtype         \n",
            "---  ------      --------------  -----         \n",
            " 0   Date        1949 non-null   datetime64[ns]\n",
            " 1   Open        1949 non-null   float64       \n",
            " 2   High        1949 non-null   float64       \n",
            " 3   Low         1949 non-null   float64       \n",
            " 4   Close       1949 non-null   float64       \n",
            " 5   Volume      1949 non-null   int64         \n",
            " 6   ExDividend  1949 non-null   int64         \n",
            " 7   SplitRatio  1949 non-null   int64         \n",
            " 8   AdjOpen     1949 non-null   float64       \n",
            " 9   AdjHigh     1949 non-null   float64       \n",
            " 10  AdjLow      1949 non-null   float64       \n",
            " 11  AdjClose    1949 non-null   float64       \n",
            " 12  AdjVolume   1949 non-null   int64         \n",
            "dtypes: datetime64[ns](1), float64(8), int64(4)\n",
            "memory usage: 198.1 KB\n",
            "None\n"
          ]
        }
      ]
    },
    {
      "cell_type": "markdown",
      "source": [
        "3) dt 접근자를 활용해 2010년 6월의 데이터만 추출"
      ],
      "metadata": {
        "id": "0igO8C28Jh4E"
      }
    },
    {
      "cell_type": "code",
      "source": [
        "print(tesla.loc[(tesla.Date.dt.year ==2010)&(tesla.Date.dt.month == 6)])"
      ],
      "metadata": {
        "colab": {
          "base_uri": "https://localhost:8080/"
        },
        "id": "ZCVnf3VRJL25",
        "outputId": "829ba789-2e4f-4283-cb05-e0f2544a1128"
      },
      "execution_count": 8,
      "outputs": [
        {
          "output_type": "stream",
          "name": "stdout",
          "text": [
            "           Date   Open     High    Low  Close    Volume  ExDividend  \\\n",
            "1947 2010-06-30  25.79  30.4192  23.30  23.83  17187100           0   \n",
            "1948 2010-06-29  19.00  25.0000  17.54  23.89  18766300           0   \n",
            "\n",
            "      SplitRatio  AdjOpen  AdjHigh  AdjLow  AdjClose  AdjVolume  \n",
            "1947           1    25.79  30.4192   23.30     23.83   17187100  \n",
            "1948           1    19.00  25.0000   17.54     23.89   18766300  \n"
          ]
        }
      ]
    },
    {
      "cell_type": "markdown",
      "source": [
        "**datetime 오브젝트를 인덱스로 설정해 데이터 추출하기**"
      ],
      "metadata": {
        "id": "DnLbZLtcKkt5"
      }
    },
    {
      "cell_type": "markdown",
      "source": [
        "1) date 열을 tesla df의 인덱스로 지정"
      ],
      "metadata": {
        "id": "QUSICY02KvKt"
      }
    },
    {
      "cell_type": "code",
      "source": [
        "tesla.index = tesla['Date']\n",
        "print(tesla.index)"
      ],
      "metadata": {
        "colab": {
          "base_uri": "https://localhost:8080/"
        },
        "id": "8Scj9UfQKyvL",
        "outputId": "1ce4f5ad-e90e-4598-afb7-ba8ac403b0f8"
      },
      "execution_count": 9,
      "outputs": [
        {
          "output_type": "stream",
          "name": "stdout",
          "text": [
            "DatetimeIndex(['2018-03-27', '2018-03-26', '2018-03-23', '2018-03-22',\n",
            "               '2018-03-21', '2018-03-20', '2018-03-19', '2018-03-16',\n",
            "               '2018-03-15', '2018-03-14',\n",
            "               ...\n",
            "               '2010-07-13', '2010-07-12', '2010-07-09', '2010-07-08',\n",
            "               '2010-07-07', '2010-07-06', '2010-07-02', '2010-07-01',\n",
            "               '2010-06-30', '2010-06-29'],\n",
            "              dtype='datetime64[ns]', name='Date', length=1949, freq=None)\n"
          ]
        }
      ]
    },
    {
      "cell_type": "markdown",
      "source": [
        "2) datetime 오브젝트를 인덱스로 저장해 원하는 시간 데이터 바로 추출"
      ],
      "metadata": {
        "id": "ZWhBQW34P39k"
      }
    },
    {
      "cell_type": "code",
      "source": [
        "# 2015년 데이터 추출\n",
        "print(tesla['2015'].iloc[:5,:5])"
      ],
      "metadata": {
        "colab": {
          "base_uri": "https://localhost:8080/"
        },
        "id": "mejs0LtUPH3v",
        "outputId": "4ce7a265-96ff-4c60-ff5a-fb2763ecb3f0"
      },
      "execution_count": 10,
      "outputs": [
        {
          "output_type": "stream",
          "name": "stdout",
          "text": [
            "                 Date    Open     High       Low   Close\n",
            "Date                                                    \n",
            "2015-12-31 2015-12-31  238.51  243.450  238.3700  240.01\n",
            "2015-12-30 2015-12-30  236.60  243.634  235.6707  238.09\n",
            "2015-12-29 2015-12-29  230.06  237.720  229.5470  237.19\n",
            "2015-12-28 2015-12-28  231.49  231.980  225.5400  228.95\n",
            "2015-12-24 2015-12-24  230.56  231.880  228.2800  230.57\n"
          ]
        },
        {
          "output_type": "stream",
          "name": "stderr",
          "text": [
            "<ipython-input-10-e6026fbf2efd>:1: FutureWarning: Indexing a DataFrame with a datetimelike index using a single string to slice the rows, like `frame[string]`, is deprecated and will be removed in a future version. Use `frame.loc[string]` instead.\n",
            "  print(tesla['2015'].iloc[:5,:5])\n"
          ]
        }
      ]
    },
    {
      "cell_type": "code",
      "source": [
        "# 2010년 6월 \n",
        "print(tesla['2010-06'].iloc[:,:5])"
      ],
      "metadata": {
        "colab": {
          "base_uri": "https://localhost:8080/"
        },
        "id": "usoXlQeMQUjo",
        "outputId": "b1398a96-173e-4f7d-ad27-4d481237f662"
      },
      "execution_count": 11,
      "outputs": [
        {
          "output_type": "stream",
          "name": "stdout",
          "text": [
            "                 Date   Open     High    Low  Close\n",
            "Date                                               \n",
            "2010-06-30 2010-06-30  25.79  30.4192  23.30  23.83\n",
            "2010-06-29 2010-06-29  19.00  25.0000  17.54  23.89\n"
          ]
        },
        {
          "output_type": "stream",
          "name": "stderr",
          "text": [
            "<ipython-input-11-d5a0a6710e49>:2: FutureWarning: Indexing a DataFrame with a datetimelike index using a single string to slice the rows, like `frame[string]`, is deprecated and will be removed in a future version. Use `frame.loc[string]` instead.\n",
            "  print(tesla['2010-06'].iloc[:,:5])\n"
          ]
        }
      ]
    },
    {
      "cell_type": "markdown",
      "source": [
        "**시간 간격을 인덱스로 지정해 데이터 추출 - TimedeltaIndex**"
      ],
      "metadata": {
        "id": "d_ZxPD8wQlT-"
      }
    },
    {
      "cell_type": "markdown",
      "source": [
        "1) date 열에서 date 열의 최솟값을 빼면 시간이 얼마나 흘렀는지 알 수 있음"
      ],
      "metadata": {
        "id": "DIDbojIKRADZ"
      }
    },
    {
      "cell_type": "code",
      "source": [
        "tesla['ref_date'] = tesla['Date']-tesla['Date'].min()\n",
        "print(tesla.head())"
      ],
      "metadata": {
        "colab": {
          "base_uri": "https://localhost:8080/"
        },
        "id": "zb-kKOQhQuD8",
        "outputId": "c66e3679-d0ca-4db8-c610-dfaf39998bf6"
      },
      "execution_count": 12,
      "outputs": [
        {
          "output_type": "stream",
          "name": "stdout",
          "text": [
            "                 Date    Open    High     Low   Close    Volume  ExDividend  \\\n",
            "Date                                                                          \n",
            "2018-03-27 2018-03-27  304.00  304.27  277.18  279.18  13696168           0   \n",
            "2018-03-26 2018-03-26  307.34  307.59  291.36  304.18   8324639           0   \n",
            "2018-03-23 2018-03-23  311.25  311.61  300.45  301.54   6600538           0   \n",
            "2018-03-22 2018-03-22  313.89  318.82  308.18  309.10   4914307           0   \n",
            "2018-03-21 2018-03-21  310.25  322.44  310.19  316.53   5927881           0   \n",
            "\n",
            "            SplitRatio  AdjOpen  AdjHigh  AdjLow  AdjClose  AdjVolume  \\\n",
            "Date                                                                    \n",
            "2018-03-27           1   304.00   304.27  277.18    279.18   13696168   \n",
            "2018-03-26           1   307.34   307.59  291.36    304.18    8324639   \n",
            "2018-03-23           1   311.25   311.61  300.45    301.54    6600538   \n",
            "2018-03-22           1   313.89   318.82  308.18    309.10    4914307   \n",
            "2018-03-21           1   310.25   322.44  310.19    316.53    5927881   \n",
            "\n",
            "            ref_date  \n",
            "Date                  \n",
            "2018-03-27 2828 days  \n",
            "2018-03-26 2827 days  \n",
            "2018-03-23 2824 days  \n",
            "2018-03-22 2823 days  \n",
            "2018-03-21 2822 days  \n"
          ]
        }
      ]
    },
    {
      "cell_type": "markdown",
      "source": [
        "2) ref_date 열을 인덱스로 지정"
      ],
      "metadata": {
        "id": "TOAQbKBwROMq"
      }
    },
    {
      "cell_type": "code",
      "source": [
        "tesla.index = tesla['ref_date']\n",
        "print(tesla.iloc[:5,:5])"
      ],
      "metadata": {
        "colab": {
          "base_uri": "https://localhost:8080/"
        },
        "id": "lv_XMxutRTbe",
        "outputId": "76da889f-f392-430d-be61-838706442bed"
      },
      "execution_count": 13,
      "outputs": [
        {
          "output_type": "stream",
          "name": "stdout",
          "text": [
            "                Date    Open    High     Low   Close\n",
            "ref_date                                            \n",
            "2828 days 2018-03-27  304.00  304.27  277.18  279.18\n",
            "2827 days 2018-03-26  307.34  307.59  291.36  304.18\n",
            "2824 days 2018-03-23  311.25  311.61  300.45  301.54\n",
            "2823 days 2018-03-22  313.89  318.82  308.18  309.10\n",
            "2822 days 2018-03-21  310.25  322.44  310.19  316.53\n"
          ]
        }
      ]
    },
    {
      "cell_type": "markdown",
      "source": [
        "3) 데이터를 수집한 이후 최초 5일의 데이터 추출"
      ],
      "metadata": {
        "id": "8UEDRx9RVtb4"
      }
    },
    {
      "cell_type": "code",
      "source": [
        "print(tesla['5 days':].iloc[:5,:5])"
      ],
      "metadata": {
        "colab": {
          "base_uri": "https://localhost:8080/"
        },
        "id": "hWhfra9SVwqa",
        "outputId": "e64e538b-8f9c-40b0-c61e-2e6eea62e437"
      },
      "execution_count": 14,
      "outputs": [
        {
          "output_type": "stream",
          "name": "stdout",
          "text": [
            "               Date   Open     High    Low  Close\n",
            "ref_date                                         \n",
            "3 days   2010-07-02  23.00  23.1000  18.71  19.20\n",
            "2 days   2010-07-01  25.00  25.9200  20.27  21.96\n",
            "1 days   2010-06-30  25.79  30.4192  23.30  23.83\n",
            "0 days   2010-06-29  19.00  25.0000  17.54  23.89\n"
          ]
        }
      ]
    },
    {
      "cell_type": "markdown",
      "source": [
        "**시간 범위 생성해 인덱스로 지정하기**"
      ],
      "metadata": {
        "id": "qZZc7EToWY1L"
      }
    },
    {
      "cell_type": "markdown",
      "source": [
        "1) 에볼라 데이터 집합 -> 2015년 01월 01일 데이터 누락"
      ],
      "metadata": {
        "id": "S_L6hN22WsDG"
      }
    },
    {
      "cell_type": "code",
      "source": [
        "# 누락된 데이터 이용을 위해 에볼라 데이터 집합 사용\n",
        "ebola = pd.read_csv('country_timeseries.csv',parse_dates =[0])\n",
        "print(ebola.iloc[:5,:5])"
      ],
      "metadata": {
        "colab": {
          "base_uri": "https://localhost:8080/"
        },
        "id": "XlMtycllWh6l",
        "outputId": "73bae8ef-7ae8-493b-f856-4b247424e33d"
      },
      "execution_count": 15,
      "outputs": [
        {
          "output_type": "stream",
          "name": "stdout",
          "text": [
            "        Date  Day  Cases_Guinea  Cases_Liberia  Cases_SierraLeone\n",
            "0 2015-01-05  289        2776.0            NaN            10030.0\n",
            "1 2015-01-04  288        2775.0            NaN             9780.0\n",
            "2 2015-01-03  287        2769.0         8166.0             9722.0\n",
            "3 2015-01-02  286           NaN         8157.0                NaN\n",
            "4 2014-12-31  284        2730.0         8115.0             9633.0\n"
          ]
        }
      ]
    },
    {
      "cell_type": "markdown",
      "source": [
        "2) 2014년 03월 23일 데이터 누락"
      ],
      "metadata": {
        "id": "7COJnIS7X5O0"
      }
    },
    {
      "cell_type": "code",
      "source": [
        "print(ebola.iloc[-5:,:5])"
      ],
      "metadata": {
        "colab": {
          "base_uri": "https://localhost:8080/"
        },
        "id": "7J3Qvp1nX4qV",
        "outputId": "99e08bf5-725b-4ab9-bf9d-9671befb8a79"
      },
      "execution_count": 17,
      "outputs": [
        {
          "output_type": "stream",
          "name": "stdout",
          "text": [
            "          Date  Day  Cases_Guinea  Cases_Liberia  Cases_SierraLeone\n",
            "117 2014-03-27    5         103.0            8.0                6.0\n",
            "118 2014-03-26    4          86.0            NaN                NaN\n",
            "119 2014-03-25    3          86.0            NaN                NaN\n",
            "120 2014-03-24    2          86.0            NaN                NaN\n",
            "121 2014-03-22    0          49.0            NaN                NaN\n"
          ]
        }
      ]
    },
    {
      "cell_type": "markdown",
      "source": [
        "3) date_range 메서드를 사용해 2014년 12월 31부터 2015년 01월 05일 사이의 시간 인덱스 생성"
      ],
      "metadata": {
        "id": "Gd3uIIKjYG5G"
      }
    },
    {
      "cell_type": "code",
      "source": [
        "head_range = pd.date_range(start ='2014-12-31',end='2015-01-05')\n",
        "print(head_range)"
      ],
      "metadata": {
        "colab": {
          "base_uri": "https://localhost:8080/"
        },
        "id": "MeThJvroYO6c",
        "outputId": "26e4829f-7ec9-4c27-fadc-5ebfc32548ed"
      },
      "execution_count": 18,
      "outputs": [
        {
          "output_type": "stream",
          "name": "stdout",
          "text": [
            "DatetimeIndex(['2014-12-31', '2015-01-01', '2015-01-02', '2015-01-03',\n",
            "               '2015-01-04', '2015-01-05'],\n",
            "              dtype='datetime64[ns]', freq='D')\n"
          ]
        }
      ]
    },
    {
      "cell_type": "markdown",
      "source": [
        "4) ebola df의 앞쪽 5개의 데이터를 추출해 새로운 df 만들기 (date열을 인덱스로 먼저 지정해야만 오류 발생 방지)"
      ],
      "metadata": {
        "id": "33_cjMkAYflb"
      }
    },
    {
      "cell_type": "code",
      "source": [
        "ebola_5 = ebola.head()\n",
        "ebola_5.index = ebola_5['Date']\n",
        "ebola_5.reindex(head_range)\n",
        "print(ebola_5.iloc[:5,:5])"
      ],
      "metadata": {
        "colab": {
          "base_uri": "https://localhost:8080/"
        },
        "id": "AkpbUTsDYpT-",
        "outputId": "ef0701cf-a441-4626-b1bd-bde405180b7d"
      },
      "execution_count": 19,
      "outputs": [
        {
          "output_type": "stream",
          "name": "stdout",
          "text": [
            "                 Date  Day  Cases_Guinea  Cases_Liberia  Cases_SierraLeone\n",
            "Date                                                                      \n",
            "2015-01-05 2015-01-05  289        2776.0            NaN            10030.0\n",
            "2015-01-04 2015-01-04  288        2775.0            NaN             9780.0\n",
            "2015-01-03 2015-01-03  287        2769.0         8166.0             9722.0\n",
            "2015-01-02 2015-01-02  286           NaN         8157.0                NaN\n",
            "2014-12-31 2014-12-31  284        2730.0         8115.0             9633.0\n"
          ]
        }
      ]
    }
  ]
}