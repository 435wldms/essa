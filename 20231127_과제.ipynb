{
  "nbformat": 4,
  "nbformat_minor": 0,
  "metadata": {
    "colab": {
      "provenance": [],
      "authorship_tag": "ABX9TyM2eBSCACfleUiNMX8FfaJf",
      "include_colab_link": true
    },
    "kernelspec": {
      "name": "python3",
      "display_name": "Python 3"
    },
    "language_info": {
      "name": "python"
    }
  },
  "cells": [
    {
      "cell_type": "markdown",
      "metadata": {
        "id": "view-in-github",
        "colab_type": "text"
      },
      "source": [
        "<a href=\"https://colab.research.google.com/github/435wldms/essa/blob/main/20231127_%EA%B3%BC%EC%A0%9C.ipynb\" target=\"_parent\"><img src=\"https://colab.research.google.com/assets/colab-badge.svg\" alt=\"Open In Colab\"/></a>"
      ]
    },
    {
      "cell_type": "markdown",
      "source": [
        "# 01 합성곱 신경망\n",
        "* 데이터가 가진 특징들의 패턴을 학습하는 알고리즘\n",
        "* 이미지 분류, 객체 탐지, 스타일 전이"
      ],
      "metadata": {
        "id": "_qEajVCNzI5f"
      }
    },
    {
      "cell_type": "markdown",
      "source": [
        "**1-1 이미지 표현**\n",
        "* 이미지를 컴퓨터가 이해할 수 있게 하기 위해서는 숫자로 표현해야 함\n",
        "* 0- 255 사이 숫자로 표현하는데 0은 검정 255는 흰색, 그 사이는 회색\n",
        "* 컬러는 r,g,b 채널로 구성된 3장의 이미지를 겹쳐 표현 -> 0-255 숫자이면서 숫자가 클수록 해당 색상이 더 강함"
      ],
      "metadata": {
        "id": "uLL7ry-o1G0N"
      }
    },
    {
      "cell_type": "markdown",
      "source": [
        "**1-2 합성곱**\n",
        "* 입력 이미지에 대하여 정방형 크기를 가지는 커널을 이용해 입력 이미지에 대한 특성을 추출하는 것\n",
        "* 이렇게 추출된 이미지: 특성맵\n",
        "* (5x5) shape인 이미지의 좌측 상단부터 커널과 같은 크기를 갖도록 입력 이미지의 일부분에 커널이 겹치도록 투영해 줌 -> 겹치는 부분에 대하여 합성곱 연산 수행\n",
        "* 커널 사이즈가 3x3 인 경우 9개의 가중치를 가지고 오차 역전파 시 커널의 가중치를 업데이트 (9개에 대해서만 커널의 그래디언트를 업데이트하면 되므로 완전 연결층보다 연산량이 훨씬 작음"
      ],
      "metadata": {
        "id": "rcj2-ZNV1sWc"
      }
    },
    {
      "cell_type": "markdown",
      "source": [
        "**1-3 채널**\n",
        "* 입력 이미지를 구성하는 2차원 배열의 개수\n",
        "* 흑백은 채널이 1개, 컬러는 r&g&b로 채널이 3개\n",
        "* 채널이 여러 개인 경우, 합성곱 연산을 수행할 때 특성 맵의 생성 과정을 잘 살펴보아야 함\n",
        "* 여러 개의 채널을 가지면 각 채널마다 하나씩 커널을 적용해 합성곱 연산 수행, 이를 통해 입력 이미지의 채널 개수만큼 합성곱 연산된 결과가 생성되고 이들을 다 더해주면 최종 특성맵이 생성\n",
        "* 합성곱 레이어에 출력 필터의 개수가 20개라면 입력 이미지 체널 개수 3개와 곱해져 60개의 커널이 형성됨, 필터가 3x3인 경우에 총 업데이트할 가중치의 그래디언트는 540개 + bias (출력 필터 개수) 20개 = 560개"
      ],
      "metadata": {
        "id": "MfhDQgvY3mfu"
      }
    },
    {
      "cell_type": "markdown",
      "source": [
        "**1-4 스트라이드**\n",
        "* 좌측 상단에서 우측으로 이동하면서 합성곱 연산을 계속 수행하고 특성맵에 결과를 채워나가는데 이때 이동 간격을 스트라이드로 정의\n",
        "* 텐서플로 케라스에서 제공하는 Conv2D 레이어의 strides 매개변수에 지정"
      ],
      "metadata": {
        "id": "dmcLEj_l48yT"
      }
    },
    {
      "cell_type": "markdown",
      "source": [
        "**1-5 패딩**\n",
        "* 입력 이미지: 5x5, 커널: 3x3, 스트라이드:1인 경우에 추출된 특성맵 사이즈는 입력 이미지 대비 가로와 세로 각각 2픽셀씩 줄어듦 -> 줄어들지 않도록 패딩을 설정\n",
        "* 보통은 가장 자리에 0으로 채워진 패딩 값으로 채운 후 추출\n",
        "* padding = 'same'으로 설정"
      ],
      "metadata": {
        "id": "81kssFkd5WzW"
      }
    },
    {
      "cell_type": "markdown",
      "source": [
        "**1-6 특성맵 사이즈**\n",
        "* 패딩, 스트라이드, 입력 데이터와 필터의 크기가 주어졌을 때 출력 데이터 크기 구할 수 있음"
      ],
      "metadata": {
        "id": "I42so1NC506M"
      }
    },
    {
      "cell_type": "markdown",
      "source": [
        "**1-7 풀링**\n",
        "* 추출된 특성맵에 다운 샘플링하여 이미지의 크기 축소\n",
        "* 이미지 축소를 통해 연산량 감소 및 과대적합 방지\n",
        "* 최대 풀링과 평균 풀링이 있는데 주로 최대 풀링을 사용 -> 스트라이드를 2로 설정하면 2칸씩 건너뛰면서 풀링 수행"
      ],
      "metadata": {
        "id": "2NRDadCC6Kgl"
      }
    },
    {
      "cell_type": "markdown",
      "source": [
        "# 02 간단한 모델 생성\n",
        "* mnist 데이터"
      ],
      "metadata": {
        "id": "naqTUL9f7AQl"
      }
    },
    {
      "cell_type": "markdown",
      "source": [
        "**2-1 데이터 로드 및 전처리**"
      ],
      "metadata": {
        "id": "GvPpt2gv7Hlu"
      }
    },
    {
      "cell_type": "code",
      "execution_count": 2,
      "metadata": {
        "id": "kUwiXwzLwggB"
      },
      "outputs": [],
      "source": [
        "# tensorflow 모듈 import\n",
        "import tensorflow as tf"
      ]
    },
    {
      "cell_type": "markdown",
      "source": [
        "* 훈련 셋 60000개, 검증 셋 10000개, 가로&세로 28 픽셀"
      ],
      "metadata": {
        "id": "tE_JEWZ37QW1"
      }
    },
    {
      "cell_type": "code",
      "source": [
        "# mnist 손글씨 이미지 데이터 로드\n",
        "mnist = tf.keras.datasets.mnist\n",
        "(x_train, y_train),(x_valid,y_valid) = mnist.load_data()\n",
        "\n",
        "print(x_train.shape,y_train.shape)\n",
        "print(x_valid.shape,y_valid.shape)"
      ],
      "metadata": {
        "colab": {
          "base_uri": "https://localhost:8080/"
        },
        "id": "LAZ5L6JN7Y8-",
        "outputId": "27fca92f-e832-46c8-c852-65f2ecd43ac6"
      },
      "execution_count": 3,
      "outputs": [
        {
          "output_type": "stream",
          "name": "stdout",
          "text": [
            "Downloading data from https://storage.googleapis.com/tensorflow/tf-keras-datasets/mnist.npz\n",
            "11490434/11490434 [==============================] - 0s 0us/step\n",
            "(60000, 28, 28) (60000,)\n",
            "(10000, 28, 28) (10000,)\n"
          ]
        }
      ]
    },
    {
      "cell_type": "code",
      "source": [
        "# 샘플 이미지 출력\n",
        "import matplotlib.pylab as plt\n",
        "\n",
        "def plot_image(data,idx):\n",
        "  plt.figure(figsize=(5,5))\n",
        "  plt.imshow(data[idx],cmap='gray')\n",
        "  plt.axis('off')\n",
        "  plt.show()\n",
        "\n",
        "plot_image(x_train,0)"
      ],
      "metadata": {
        "colab": {
          "base_uri": "https://localhost:8080/",
          "height": 422
        },
        "id": "1EhylJ0O7wGG",
        "outputId": "fa33d615-a456-4a83-844a-7e0cab3905d3"
      },
      "execution_count": 4,
      "outputs": [
        {
          "output_type": "display_data",
          "data": {
            "text/plain": [
              "<Figure size 500x500 with 1 Axes>"
            ],
            "image/png": "[encoded data removed]"
          },
          "metadata": {}
        }
      ]
    },
    {
      "cell_type": "code",
      "source": [
        "print(x_train.min(),x_train.max())\n",
        "print(x_valid.min(),x_valid.max())"
      ],
      "metadata": {
        "colab": {
          "base_uri": "https://localhost:8080/"
        },
        "id": "tehgGUJT8HRj",
        "outputId": "19c771bf-7323-41b7-c64a-632597cc8c09"
      },
      "execution_count": 5,
      "outputs": [
        {
          "output_type": "stream",
          "name": "stdout",
          "text": [
            "0 255\n",
            "0 255\n"
          ]
        }
      ]
    },
    {
      "cell_type": "markdown",
      "source": [
        "-> 0-255 범위의 숫자\n",
        "* 입력 이미지 픽셀 값 정규화 변환"
      ],
      "metadata": {
        "id": "R5cVwiaP8R_7"
      }
    },
    {
      "cell_type": "code",
      "source": [
        "# 정규화\n",
        "x_train = x_train /255.0\n",
        "x_valid= x_valid /255.0\n",
        "\n",
        "print(x_train.min(),x_train.max())\n",
        "print(x_valid.min(),x_valid.max())"
      ],
      "metadata": {
        "colab": {
          "base_uri": "https://localhost:8080/"
        },
        "id": "OPu74QGB8XO9",
        "outputId": "8ab86ce0-7b4d-4b4d-a5ba-db36191c7aca"
      },
      "execution_count": 6,
      "outputs": [
        {
          "output_type": "stream",
          "name": "stdout",
          "text": [
            "0.0 1.0\n",
            "0.0 1.0\n"
          ]
        }
      ]
    },
    {
      "cell_type": "markdown",
      "source": [
        "* mnist는 모노 컬러 이미지 -> cnn 모델에 주입하기 위해 색상을 나타내는 채널 추가"
      ],
      "metadata": {
        "id": "CeBtjSCT8m4z"
      }
    },
    {
      "cell_type": "code",
      "source": [
        "# 채널 추가\n",
        "print(x_train.shape,x_valid.shape)\n",
        "\n",
        "x_train_in = x_train[..., tf.newaxis]\n",
        "x_valid_in = x_valid[..., tf.newaxis]\n",
        "\n",
        "print(x_train_in.shape, x_valid_in.shape)"
      ],
      "metadata": {
        "colab": {
          "base_uri": "https://localhost:8080/"
        },
        "id": "wTL4UK1s8vX6",
        "outputId": "4b8d98f6-ae31-4b3c-ecc6-cc873fbf8198"
      },
      "execution_count": 7,
      "outputs": [
        {
          "output_type": "stream",
          "name": "stdout",
          "text": [
            "(60000, 28, 28) (10000, 28, 28)\n",
            "(60000, 28, 28, 1) (10000, 28, 28, 1)\n"
          ]
        }
      ]
    },
    {
      "cell_type": "markdown",
      "source": [
        "**2-2 Sequential API로 모델 생성 및 학습**\n"
      ],
      "metadata": {
        "id": "POVEkBs69H6K"
      }
    },
    {
      "cell_type": "code",
      "source": [
        "# Sequential API를 사용해 샘플 모델 생성\n",
        "model = tf.keras.Sequential([\n",
        "    # Convolution 적용(32 filters)\n",
        "    tf.keras.layers.Conv2D(32,(3,3),activation='relu', input_shape=(28,28,1), name='conv'),\n",
        "    # Max Pooling 적용\n",
        "    tf.keras.layers.MaxPooling2D((2,2), name='pool'),\n",
        "\n",
        "    # Classifier 출력층\n",
        "    tf.keras.layers.Flatten(),\n",
        "    tf.keras.layers.Dense(10, activation='softmax')\n",
        "    ])"
      ],
      "metadata": {
        "id": "mbE6Ju-I9p4K"
      },
      "execution_count": 8,
      "outputs": []
    },
    {
      "cell_type": "markdown",
      "source": [
        "* 모델 구조에 옵티마이저, 손실함수, 평가지표를 설정하고 컴파일"
      ],
      "metadata": {
        "id": "_2DXlIQh_IW3"
      }
    },
    {
      "cell_type": "code",
      "source": [
        "# 모델 컴파일\n",
        "model.compile(optimizer='adam', loss='sparse_categorical_crossentropy', metrics=['accuracy'])\n",
        "history = model.fit(x_train_in, y_train, validation_data=(x_valid_in, y_valid), epochs=10)"
      ],
      "metadata": {
        "colab": {
          "base_uri": "https://localhost:8080/"
        },
        "id": "Adw5rcOw-8gF",
        "outputId": "d9157a35-40fc-457f-e898-5fcb7e461ce4"
      },
      "execution_count": 9,
      "outputs": [
        {
          "output_type": "stream",
          "name": "stdout",
          "text": [
            "Epoch 1/10\n",
            "1875/1875 [==============================] - 31s 16ms/step - loss: 0.2099 - accuracy: 0.9406 - val_loss: 0.0828 - val_accuracy: 0.9752\n",
            "Epoch 2/10\n",
            "1875/1875 [==============================] - 30s 16ms/step - loss: 0.0758 - accuracy: 0.9778 - val_loss: 0.0664 - val_accuracy: 0.9792\n",
            "Epoch 3/10\n",
            "1875/1875 [==============================] - 30s 16ms/step - loss: 0.0579 - accuracy: 0.9823 - val_loss: 0.0668 - val_accuracy: 0.9786\n",
            "Epoch 4/10\n",
            "1875/1875 [==============================] - 29s 15ms/step - loss: 0.0474 - accuracy: 0.9852 - val_loss: 0.0694 - val_accuracy: 0.9778\n",
            "Epoch 5/10\n",
            "1875/1875 [==============================] - 30s 16ms/step - loss: 0.0402 - accuracy: 0.9880 - val_loss: 0.0565 - val_accuracy: 0.9815\n",
            "Epoch 6/10\n",
            "1875/1875 [==============================] - 30s 16ms/step - loss: 0.0346 - accuracy: 0.9894 - val_loss: 0.0601 - val_accuracy: 0.9812\n",
            "Epoch 7/10\n",
            "1875/1875 [==============================] - 29s 15ms/step - loss: 0.0290 - accuracy: 0.9913 - val_loss: 0.0568 - val_accuracy: 0.9823\n",
            "Epoch 8/10\n",
            "1875/1875 [==============================] - 30s 16ms/step - loss: 0.0247 - accuracy: 0.9929 - val_loss: 0.0547 - val_accuracy: 0.9840\n",
            "Epoch 9/10\n",
            "1875/1875 [==============================] - 31s 16ms/step - loss: 0.0211 - accuracy: 0.9934 - val_loss: 0.0524 - val_accuracy: 0.9837\n",
            "Epoch 10/10\n",
            "1875/1875 [==============================] - 30s 16ms/step - loss: 0.0176 - accuracy: 0.9948 - val_loss: 0.0593 - val_accuracy: 0.9837\n"
          ]
        }
      ]
    },
    {
      "cell_type": "code",
      "source": [
        "model.evaluate(x_valid_in,y_valid)"
      ],
      "metadata": {
        "colab": {
          "base_uri": "https://localhost:8080/"
        },
        "id": "xSSkG1pgBPEe",
        "outputId": "702f653b-cadb-499e-9407-a3d0882a9869"
      },
      "execution_count": 10,
      "outputs": [
        {
          "output_type": "stream",
          "name": "stdout",
          "text": [
            "313/313 [==============================] - 2s 6ms/step - loss: 0.0593 - accuracy: 0.9837\n"
          ]
        },
        {
          "output_type": "execute_result",
          "data": {
            "text/plain": [
              "[0.059268418699502945, 0.9836999773979187]"
            ]
          },
          "metadata": {},
          "execution_count": 10
        }
      ]
    },
    {
      "cell_type": "markdown",
      "source": [
        "-> 4 epoch 이후부터는 모델이 과대적합으로 진행됨"
      ],
      "metadata": {
        "id": "ubfr6wFqAZeI"
      }
    },
    {
      "cell_type": "code",
      "source": [
        "def plot_loss_acc(history, epoch):\n",
        "  loss, val_loss = history.history['loss'], history.history['val_loss']\n",
        "  acc, val_acc = history.history['accuracy'], history.history['val_accuracy']\n",
        "\n",
        "  fig, axes= plt.subplots(1,2,figsize=(12,4))\n",
        "\n",
        "  axes[0].plot(range(1,epoch+1), loss, label='Training')\n",
        "  axes[0].plot(range(1,epoch+1), val_loss, label='Validation')\n",
        "  axes[0].legend(loc='best')\n",
        "  axes[0].set_title('Loss')\n",
        "\n",
        "  axes[1].plot(range(1,epoch+1), acc, label='Training')\n",
        "  axes[1].plot(range(1,epoch+1), val_acc, label='Validation')\n",
        "  axes[1].legend(loc='best')\n",
        "  axes[1].set_title('Accuracy')\n",
        "\n",
        "  plt.show()\n",
        "\n",
        "\n",
        "plot_loss_acc(history,10)"
      ],
      "metadata": {
        "colab": {
          "base_uri": "https://localhost:8080/",
          "height": 292
        },
        "id": "wzLiaTtABTwl",
        "outputId": "8de555f3-ed59-4680-c61a-08987b8929fe"
      },
      "execution_count": 11,
      "outputs": [
        {
          "output_type": "display_data",
          "data": {
            "text/plain": [
              "<Figure size 1200x400 with 2 Axes>"
            ],
            "image/png": "[encoded data removed]"
          },
          "metadata": {}
        }
      ]
    },
    {
      "cell_type": "markdown",
      "source": [
        "**2-3 모델 구조 파악**\n",
        "* summary를 통해 모델의 구조 요약본 볼 수 있음\n",
        "* 3x3 합성곱 필터를 사용해 원래에 비해 가로, 세로 크기가 2씩 줄어듦 -> 32개의 필터를 적용해 32가지 종류의 피처 추출 -> 2x2 풀링 레이어를 적용해 이미지 크기가 반으로 줄고 이를 1차원 텐서로 펼치면 1차원 벡터가 됨 -> 출력 노드가 10인 dense 레이어로 보내 최종 분류 값 예측 및 출력"
      ],
      "metadata": {
        "id": "Gk4vYlVXD23n"
      }
    },
    {
      "cell_type": "code",
      "source": [
        "# 모델 구조\n",
        "model.summary()"
      ],
      "metadata": {
        "colab": {
          "base_uri": "https://localhost:8080/"
        },
        "id": "3MODY1TyCtPW",
        "outputId": "dd07d847-0125-4338-aab9-2ea66086bbf9"
      },
      "execution_count": 12,
      "outputs": [
        {
          "output_type": "stream",
          "name": "stdout",
          "text": [
            "Model: \"sequential\"\n",
            "_________________________________________________________________\n",
            " Layer (type)                Output Shape              Param #   \n",
            "=================================================================\n",
            " conv (Conv2D)               (None, 26, 26, 32)        320       \n",
            "                                                                 \n",
            " pool (MaxPooling2D)         (None, 13, 13, 32)        0         \n",
            "                                                                 \n",
            " flatten (Flatten)           (None, 5408)              0         \n",
            "                                                                 \n",
            " dense (Dense)               (None, 10)                54090     \n",
            "                                                                 \n",
            "=================================================================\n",
            "Total params: 54410 (212.54 KB)\n",
            "Trainable params: 54410 (212.54 KB)\n",
            "Non-trainable params: 0 (0.00 Byte)\n",
            "_________________________________________________________________\n"
          ]
        }
      ]
    },
    {
      "cell_type": "code",
      "source": [
        "# 입력 텐서 형태\n",
        "model.input"
      ],
      "metadata": {
        "colab": {
          "base_uri": "https://localhost:8080/"
        },
        "id": "hDLRHHYbE9f8",
        "outputId": "cb161506-7803-41ae-a859-c5a1ed5d9e62"
      },
      "execution_count": 13,
      "outputs": [
        {
          "output_type": "execute_result",
          "data": {
            "text/plain": [
              "<KerasTensor: shape=(None, 28, 28, 1) dtype=float32 (created by layer 'conv_input')>"
            ]
          },
          "metadata": {},
          "execution_count": 13
        }
      ]
    },
    {
      "cell_type": "code",
      "source": [
        "# 출력 텐서 형태\n",
        "model.output"
      ],
      "metadata": {
        "colab": {
          "base_uri": "https://localhost:8080/"
        },
        "id": "_HKCmWs1FCVk",
        "outputId": "87bcb95b-b95f-413b-84c9-5ffe880868d9"
      },
      "execution_count": 14,
      "outputs": [
        {
          "output_type": "execute_result",
          "data": {
            "text/plain": [
              "<KerasTensor: shape=(None, 10) dtype=float32 (created by layer 'dense')>"
            ]
          },
          "metadata": {},
          "execution_count": 14
        }
      ]
    },
    {
      "cell_type": "code",
      "source": [
        "# 레이어\n",
        "model.layers"
      ],
      "metadata": {
        "colab": {
          "base_uri": "https://localhost:8080/"
        },
        "id": "CxZff3f6FIGN",
        "outputId": "e7ab21b1-ba75-443b-aa55-ae2d8ed73a30"
      },
      "execution_count": 15,
      "outputs": [
        {
          "output_type": "execute_result",
          "data": {
            "text/plain": [
              "[<keras.src.layers.convolutional.conv2d.Conv2D at 0x7bfc400b6b60>,\n",
              " <keras.src.layers.pooling.max_pooling2d.MaxPooling2D at 0x7bfc3ab151b0>,\n",
              " <keras.src.layers.reshaping.flatten.Flatten at 0x7bfc3ab15480>,\n",
              " <keras.src.layers.core.dense.Dense at 0x7bfc3ab15840>]"
            ]
          },
          "metadata": {},
          "execution_count": 15
        }
      ]
    },
    {
      "cell_type": "markdown",
      "source": [
        "-> 4개의 레이어로 구성되고 첫 번째 레이어는 conv2d 레이어"
      ],
      "metadata": {
        "id": "ZUcTQBLqFHg6"
      }
    },
    {
      "cell_type": "code",
      "source": [
        "# 첫 번째 레이어 입력\n",
        "model.layers[0].input"
      ],
      "metadata": {
        "colab": {
          "base_uri": "https://localhost:8080/"
        },
        "id": "xMf2tm-7FNbq",
        "outputId": "c48adb7a-13d1-4772-e544-3a88ec6d2e9e"
      },
      "execution_count": 16,
      "outputs": [
        {
          "output_type": "execute_result",
          "data": {
            "text/plain": [
              "<KerasTensor: shape=(None, 28, 28, 1) dtype=float32 (created by layer 'conv_input')>"
            ]
          },
          "metadata": {},
          "execution_count": 16
        }
      ]
    },
    {
      "cell_type": "markdown",
      "source": [
        "* conv2d 레이어를 거쳐 픽셀 사이즈는 2씩 줄고 채널 개수는 32개로 늘어남"
      ],
      "metadata": {
        "id": "u383BhPWFu0Y"
      }
    },
    {
      "cell_type": "code",
      "source": [
        "# 첫 번째 레이어 출력\n",
        "model.layers[0].output"
      ],
      "metadata": {
        "colab": {
          "base_uri": "https://localhost:8080/"
        },
        "id": "lZ9Og1bvFqYA",
        "outputId": "43f88d99-afaa-4c3a-991c-e8e4be6a2b02"
      },
      "execution_count": 17,
      "outputs": [
        {
          "output_type": "execute_result",
          "data": {
            "text/plain": [
              "<KerasTensor: shape=(None, 26, 26, 32) dtype=float32 (created by layer 'conv')>"
            ]
          },
          "metadata": {},
          "execution_count": 17
        }
      ]
    },
    {
      "cell_type": "code",
      "source": [
        "# 첫 번째 레이어 가중치\n",
        "model.layers[0].weights"
      ],
      "metadata": {
        "colab": {
          "base_uri": "https://localhost:8080/"
        },
        "id": "XvkT3wc9F3Q3",
        "outputId": "d805557c-65ff-4bbd-9662-bc3198b83661"
      },
      "execution_count": 18,
      "outputs": [
        {
          "output_type": "execute_result",
          "data": {
            "text/plain": [
              "[<tf.Variable 'conv/kernel:0' shape=(3, 3, 1, 32) dtype=float32, numpy=\n",
              " array([[[[-0.08693092,  0.2594216 , -0.21395047,  0.07851819,\n",
              "           -0.29952234,  0.41620576, -0.67288774, -0.6110543 ,\n",
              "           -0.36236387, -0.8806605 ,  0.3988724 ,  0.17923044,\n",
              "            0.24802013,  0.32690272,  0.6141954 , -0.50595474,\n",
              "            0.3291989 ,  0.35927114, -1.5303708 , -0.9365923 ,\n",
              "            0.23952143,  0.30652657,  0.2508367 , -0.05378658,\n",
              "            0.24642183,  0.31367737,  0.24695343,  0.2688282 ,\n",
              "            0.0482566 ,  0.31561148, -0.22879364, -0.3488742 ]],\n",
              " \n",
              "         [[-0.6473735 , -0.33174607, -0.30964473, -0.22968718,\n",
              "           -0.1968174 ,  0.08307779, -0.23873593,  0.03480025,\n",
              "           -0.39901513,  0.1323192 ,  0.14950423,  0.2471434 ,\n",
              "            0.51907367,  0.46488848,  0.41234097,  0.0945395 ,\n",
              "            0.21165471,  0.0219379 , -0.88597643, -0.9107548 ,\n",
              "           -0.06571127,  0.2887005 ,  0.02768353, -0.37312174,\n",
              "            0.2124361 ,  0.2551482 , -0.28861925,  0.14056738,\n",
              "            0.48685896,  0.2017034 ,  0.18873322, -0.19400412]],\n",
              " \n",
              "         [[ 0.721559  , -0.02498838,  0.30938452,  0.04220292,\n",
              "           -0.08682523, -0.37241945,  0.27114397,  0.16681486,\n",
              "           -0.12029321,  0.48893633, -0.6430041 , -0.71090806,\n",
              "            0.7320728 ,  0.4100479 , -0.77430993,  0.25267506,\n",
              "           -0.2720274 , -0.56852067, -0.85734266, -0.8145456 ,\n",
              "            0.06191232, -0.1108856 , -0.97068346, -0.99979866,\n",
              "            0.4630815 , -0.61714995, -0.43292397, -0.18962255,\n",
              "            0.335217  , -0.49085906,  0.3506755 ,  0.3171295 ]]],\n",
              " \n",
              " \n",
              "        [[[ 0.4465674 ,  0.06609516, -0.41757488,  0.17821088,\n",
              "            0.275248  ,  0.61788356, -0.0513678 , -0.08168411,\n",
              "            0.26863652, -1.018386  ,  0.5530544 ,  0.34461808,\n",
              "           -0.28076154, -0.2304432 ,  0.32210422,  0.14316669,\n",
              "           -0.05123021,  0.36233288, -0.71319133,  0.30687758,\n",
              "           -0.484657  , -0.17806976,  0.35087088,  0.55493116,\n",
              "           -0.5908214 ,  0.10957494, -0.13660568,  0.1525527 ,\n",
              "            0.14625643,  0.09851221,  0.18033892, -0.10563653]],\n",
              " \n",
              "         [[-1.130727  , -0.17946236,  0.02513206,  0.04214935,\n",
              "            0.54912984,  0.02779661,  0.32163528,  0.39776856,\n",
              "            0.5283893 ,  0.04113722,  0.12011427,  0.27202004,\n",
              "            0.14107233,  0.02917178, -0.83876485,  0.2387354 ,\n",
              "           -0.04083695, -0.23033963,  0.24029692,  0.22756498,\n",
              "            0.05603861,  0.03173648,  0.42933136,  0.24245806,\n",
              "           -0.6069098 ,  0.18939948,  0.09405342, -0.13475733,\n",
              "            0.32997292,  0.12492102,  0.11599769,  0.1401655 ]],\n",
              " \n",
              "         [[ 0.22787043,  0.35471514,  0.35944664,  0.25550273,\n",
              "            0.4054252 , -0.84725624,  0.2708014 ,  0.02737411,\n",
              "            0.30022547,  0.61820656, -0.7327329 , -0.6755012 ,\n",
              "           -0.1404454 , -0.07892866, -0.555546  , -0.03061588,\n",
              "            0.06612305, -0.29226333,  0.47255242, -0.29682755,\n",
              "            0.30069718,  0.2244562 , -0.97440904, -0.39407477,\n",
              "           -0.7611028 , -0.27148524, -0.1446897 , -0.36949074,\n",
              "            0.34467164, -0.16607983, -0.32897606,  0.14966738]]],\n",
              " \n",
              " \n",
              "        [[[ 0.6439434 ,  0.11993737,  0.27385938,  0.21303461,\n",
              "           -0.09453284, -0.0212195 ,  0.36972746,  0.08131061,\n",
              "           -0.00276421, -0.6969327 ,  0.17955077,  0.30540195,\n",
              "           -1.0136732 , -1.022738  , -0.63316965,  0.19490035,\n",
              "           -0.23155254,  0.29159597, -0.10286737,  0.5753963 ,\n",
              "           -0.6381824 , -0.328094  , -0.35257468,  0.39633235,\n",
              "            0.30063775, -0.16890036, -0.16419767,  0.45459616,\n",
              "           -0.7942319 , -0.52413964,  0.23252897,  0.27595437]],\n",
              " \n",
              "         [[-0.292795  ,  0.16598962,  0.24584648, -0.19247533,\n",
              "           -0.4081346 , -0.78677535,  0.08682518,  0.2356844 ,\n",
              "           -0.25516486, -0.08585281, -0.41175467,  0.30436802,\n",
              "           -0.7822294 , -0.5688682 , -0.7234469 , -0.04249853,\n",
              "            0.13708396,  0.11936163,  0.59727544,  0.6494916 ,\n",
              "            0.04701412, -0.19740959, -1.1296182 ,  0.248537  ,\n",
              "            0.49905306,  0.20632075,  0.35409525, -0.08516113,\n",
              "           -0.8157797 ,  0.15171243, -0.07998341,  0.17603482]],\n",
              " \n",
              "         [[-0.11909629, -0.05583225,  0.01581667,  0.0751505 ,\n",
              "           -0.38022724, -1.1276731 , -0.4885307 , -0.4899535 ,\n",
              "           -0.2952132 ,  0.45086816, -0.94298416, -0.37324905,\n",
              "           -0.87292975, -0.4650931 ,  1.0184503 , -0.30244356,\n",
              "            0.32858962,  0.14738159,  0.5843351 ,  0.2209929 ,\n",
              "            0.53097034,  0.34199882, -0.70461977,  0.00998319,\n",
              "            0.07056294,  0.3528123 ,  0.30578622, -0.23179251,\n",
              "           -0.23522353,  0.42967552, -0.15319376, -0.2012798 ]]]],\n",
              "       dtype=float32)>,\n",
              " <tf.Variable 'conv/bias:0' shape=(32,) dtype=float32, numpy=\n",
              " array([-0.00318168, -0.23088115, -0.3417949 , -0.2667188 , -0.00803408,\n",
              "        -0.03439077, -0.22599673, -0.17415673,  0.00264115, -0.13115512,\n",
              "        -0.10160296, -0.23964734, -0.00302564, -0.01351653, -0.01040097,\n",
              "        -0.27673912, -0.31209904, -0.3753085 , -0.01080221, -0.01148545,\n",
              "        -0.17996308, -0.40101182,  0.23029496, -0.02758353, -0.0124118 ,\n",
              "        -0.40600047, -0.10172455, -0.37775156, -0.05551088, -0.22272444,\n",
              "        -0.30429998, -0.35002774], dtype=float32)>]"
            ]
          },
          "metadata": {},
          "execution_count": 18
        }
      ]
    },
    {
      "cell_type": "markdown",
      "source": [
        "-> 첫 번째 변수는 커널 행렬의 가중치, 두 번째 행렬은 커널의 상수항(bias)\n",
        ">\n",
        "-> 커널 가중치의 shape: (3,3,1,32)로, (3,3)은 필터의 크기, (1)은 입력 층의 채널 개수, (32)는 출력 층의 채널 개수\n",
        ">\n",
        "-> layer[0]의 학습 가능한 파라미터 수는 3x3x1x32 = 288개이고 상수항까지 더하면 320개 (상수항은 출력층의 채널 수)"
      ],
      "metadata": {
        "id": "lsGd7JPLGEfK"
      }
    },
    {
      "cell_type": "markdown",
      "source": [
        "* 커널 행렬의 가중치 또는 상수항을 따로 선택"
      ],
      "metadata": {
        "id": "0ut-we_bHUzt"
      }
    },
    {
      "cell_type": "code",
      "source": [
        "# 첫 번째 레이어 커널 가중치\n",
        "model.layers[0].kernel"
      ],
      "metadata": {
        "colab": {
          "base_uri": "https://localhost:8080/"
        },
        "id": "d8h-t6cZGEM7",
        "outputId": "05107286-af0e-456a-8b5c-9007e5fca2e6"
      },
      "execution_count": 19,
      "outputs": [
        {
          "output_type": "execute_result",
          "data": {
            "text/plain": [
              "<tf.Variable 'conv/kernel:0' shape=(3, 3, 1, 32) dtype=float32, numpy=\n",
              "array([[[[-0.08693092,  0.2594216 , -0.21395047,  0.07851819,\n",
              "          -0.29952234,  0.41620576, -0.67288774, -0.6110543 ,\n",
              "          -0.36236387, -0.8806605 ,  0.3988724 ,  0.17923044,\n",
              "           0.24802013,  0.32690272,  0.6141954 , -0.50595474,\n",
              "           0.3291989 ,  0.35927114, -1.5303708 , -0.9365923 ,\n",
              "           0.23952143,  0.30652657,  0.2508367 , -0.05378658,\n",
              "           0.24642183,  0.31367737,  0.24695343,  0.2688282 ,\n",
              "           0.0482566 ,  0.31561148, -0.22879364, -0.3488742 ]],\n",
              "\n",
              "        [[-0.6473735 , -0.33174607, -0.30964473, -0.22968718,\n",
              "          -0.1968174 ,  0.08307779, -0.23873593,  0.03480025,\n",
              "          -0.39901513,  0.1323192 ,  0.14950423,  0.2471434 ,\n",
              "           0.51907367,  0.46488848,  0.41234097,  0.0945395 ,\n",
              "           0.21165471,  0.0219379 , -0.88597643, -0.9107548 ,\n",
              "          -0.06571127,  0.2887005 ,  0.02768353, -0.37312174,\n",
              "           0.2124361 ,  0.2551482 , -0.28861925,  0.14056738,\n",
              "           0.48685896,  0.2017034 ,  0.18873322, -0.19400412]],\n",
              "\n",
              "        [[ 0.721559  , -0.02498838,  0.30938452,  0.04220292,\n",
              "          -0.08682523, -0.37241945,  0.27114397,  0.16681486,\n",
              "          -0.12029321,  0.48893633, -0.6430041 , -0.71090806,\n",
              "           0.7320728 ,  0.4100479 , -0.77430993,  0.25267506,\n",
              "          -0.2720274 , -0.56852067, -0.85734266, -0.8145456 ,\n",
              "           0.06191232, -0.1108856 , -0.97068346, -0.99979866,\n",
              "           0.4630815 , -0.61714995, -0.43292397, -0.18962255,\n",
              "           0.335217  , -0.49085906,  0.3506755 ,  0.3171295 ]]],\n",
              "\n",
              "\n",
              "       [[[ 0.4465674 ,  0.06609516, -0.41757488,  0.17821088,\n",
              "           0.275248  ,  0.61788356, -0.0513678 , -0.08168411,\n",
              "           0.26863652, -1.018386  ,  0.5530544 ,  0.34461808,\n",
              "          -0.28076154, -0.2304432 ,  0.32210422,  0.14316669,\n",
              "          -0.05123021,  0.36233288, -0.71319133,  0.30687758,\n",
              "          -0.484657  , -0.17806976,  0.35087088,  0.55493116,\n",
              "          -0.5908214 ,  0.10957494, -0.13660568,  0.1525527 ,\n",
              "           0.14625643,  0.09851221,  0.18033892, -0.10563653]],\n",
              "\n",
              "        [[-1.130727  , -0.17946236,  0.02513206,  0.04214935,\n",
              "           0.54912984,  0.02779661,  0.32163528,  0.39776856,\n",
              "           0.5283893 ,  0.04113722,  0.12011427,  0.27202004,\n",
              "           0.14107233,  0.02917178, -0.83876485,  0.2387354 ,\n",
              "          -0.04083695, -0.23033963,  0.24029692,  0.22756498,\n",
              "           0.05603861,  0.03173648,  0.42933136,  0.24245806,\n",
              "          -0.6069098 ,  0.18939948,  0.09405342, -0.13475733,\n",
              "           0.32997292,  0.12492102,  0.11599769,  0.1401655 ]],\n",
              "\n",
              "        [[ 0.22787043,  0.35471514,  0.35944664,  0.25550273,\n",
              "           0.4054252 , -0.84725624,  0.2708014 ,  0.02737411,\n",
              "           0.30022547,  0.61820656, -0.7327329 , -0.6755012 ,\n",
              "          -0.1404454 , -0.07892866, -0.555546  , -0.03061588,\n",
              "           0.06612305, -0.29226333,  0.47255242, -0.29682755,\n",
              "           0.30069718,  0.2244562 , -0.97440904, -0.39407477,\n",
              "          -0.7611028 , -0.27148524, -0.1446897 , -0.36949074,\n",
              "           0.34467164, -0.16607983, -0.32897606,  0.14966738]]],\n",
              "\n",
              "\n",
              "       [[[ 0.6439434 ,  0.11993737,  0.27385938,  0.21303461,\n",
              "          -0.09453284, -0.0212195 ,  0.36972746,  0.08131061,\n",
              "          -0.00276421, -0.6969327 ,  0.17955077,  0.30540195,\n",
              "          -1.0136732 , -1.022738  , -0.63316965,  0.19490035,\n",
              "          -0.23155254,  0.29159597, -0.10286737,  0.5753963 ,\n",
              "          -0.6381824 , -0.328094  , -0.35257468,  0.39633235,\n",
              "           0.30063775, -0.16890036, -0.16419767,  0.45459616,\n",
              "          -0.7942319 , -0.52413964,  0.23252897,  0.27595437]],\n",
              "\n",
              "        [[-0.292795  ,  0.16598962,  0.24584648, -0.19247533,\n",
              "          -0.4081346 , -0.78677535,  0.08682518,  0.2356844 ,\n",
              "          -0.25516486, -0.08585281, -0.41175467,  0.30436802,\n",
              "          -0.7822294 , -0.5688682 , -0.7234469 , -0.04249853,\n",
              "           0.13708396,  0.11936163,  0.59727544,  0.6494916 ,\n",
              "           0.04701412, -0.19740959, -1.1296182 ,  0.248537  ,\n",
              "           0.49905306,  0.20632075,  0.35409525, -0.08516113,\n",
              "          -0.8157797 ,  0.15171243, -0.07998341,  0.17603482]],\n",
              "\n",
              "        [[-0.11909629, -0.05583225,  0.01581667,  0.0751505 ,\n",
              "          -0.38022724, -1.1276731 , -0.4885307 , -0.4899535 ,\n",
              "          -0.2952132 ,  0.45086816, -0.94298416, -0.37324905,\n",
              "          -0.87292975, -0.4650931 ,  1.0184503 , -0.30244356,\n",
              "           0.32858962,  0.14738159,  0.5843351 ,  0.2209929 ,\n",
              "           0.53097034,  0.34199882, -0.70461977,  0.00998319,\n",
              "           0.07056294,  0.3528123 ,  0.30578622, -0.23179251,\n",
              "          -0.23522353,  0.42967552, -0.15319376, -0.2012798 ]]]],\n",
              "      dtype=float32)>"
            ]
          },
          "metadata": {},
          "execution_count": 19
        }
      ]
    },
    {
      "cell_type": "code",
      "source": [
        "# 첫 번째 레이어 bias 가중치\n",
        "model.layers[0].bias"
      ],
      "metadata": {
        "colab": {
          "base_uri": "https://localhost:8080/"
        },
        "id": "-iG3DXICHd9j",
        "outputId": "6d158fa4-a3e2-4a88-a6fd-0a7797bcd44f"
      },
      "execution_count": 20,
      "outputs": [
        {
          "output_type": "execute_result",
          "data": {
            "text/plain": [
              "<tf.Variable 'conv/bias:0' shape=(32,) dtype=float32, numpy=\n",
              "array([-0.00318168, -0.23088115, -0.3417949 , -0.2667188 , -0.00803408,\n",
              "       -0.03439077, -0.22599673, -0.17415673,  0.00264115, -0.13115512,\n",
              "       -0.10160296, -0.23964734, -0.00302564, -0.01351653, -0.01040097,\n",
              "       -0.27673912, -0.31209904, -0.3753085 , -0.01080221, -0.01148545,\n",
              "       -0.17996308, -0.40101182,  0.23029496, -0.02758353, -0.0124118 ,\n",
              "       -0.40600047, -0.10172455, -0.37775156, -0.05551088, -0.22272444,\n",
              "       -0.30429998, -0.35002774], dtype=float32)>"
            ]
          },
          "metadata": {},
          "execution_count": 20
        }
      ]
    },
    {
      "cell_type": "markdown",
      "source": [
        "* 레이어의 이름을 사용해 해당 레이어 선택 가능"
      ],
      "metadata": {
        "id": "g64GJVZ5Hook"
      }
    },
    {
      "cell_type": "code",
      "source": [
        "# 레이어 이름 사용하여 레이어 선택\n",
        "model.get_layer('conv')"
      ],
      "metadata": {
        "colab": {
          "base_uri": "https://localhost:8080/"
        },
        "id": "pq232hgCHryt",
        "outputId": "098c19ec-95eb-4ebe-8732-436103cfc9ac"
      },
      "execution_count": 21,
      "outputs": [
        {
          "output_type": "execute_result",
          "data": {
            "text/plain": [
              "<keras.src.layers.convolutional.conv2d.Conv2D at 0x7bfc400b6b60>"
            ]
          },
          "metadata": {},
          "execution_count": 21
        }
      ]
    },
    {
      "cell_type": "markdown",
      "source": [
        "* 모델에 입력 데이터를 넣고 첫 번째와 두 번째 레이어의 출력을 최종 출력으로 갖는 activator 모델 정의\n",
        "* 첫 번째 샘플에 대해 각 레이어의 출력 예측"
      ],
      "metadata": {
        "id": "y7oFe2rCIAjc"
      }
    },
    {
      "cell_type": "code",
      "source": [
        "# 샘플 이미지의 레이어 별 출력을 리스트에 추가 (첫 번째, 두 번째 레이어)\n",
        "activator = tf.keras.Model(inputs=model.input, outputs=[layer.output for layer in model.layers[:2]])\n",
        "activations = activator.predict(x_train_in[0][tf.newaxis, ...])\n",
        "\n",
        "len(activations)"
      ],
      "metadata": {
        "colab": {
          "base_uri": "https://localhost:8080/"
        },
        "id": "QA9KzAf7H_OA",
        "outputId": "f4b3e1a7-fbf0-4017-94a4-a01064953bc9"
      },
      "execution_count": 22,
      "outputs": [
        {
          "output_type": "stream",
          "name": "stdout",
          "text": [
            "1/1 [==============================] - 0s 138ms/step\n"
          ]
        },
        {
          "output_type": "execute_result",
          "data": {
            "text/plain": [
              "2"
            ]
          },
          "metadata": {},
          "execution_count": 22
        }
      ]
    },
    {
      "cell_type": "code",
      "source": [
        "# 첫 번째 레이어(conv) 출력층\n",
        "conv_activation = activations[0]\n",
        "conv_activation.shape"
      ],
      "metadata": {
        "colab": {
          "base_uri": "https://localhost:8080/"
        },
        "id": "hj088j-SIqAQ",
        "outputId": "9f64e9e2-395a-421c-e22b-7d5d50493222"
      },
      "execution_count": 23,
      "outputs": [
        {
          "output_type": "execute_result",
          "data": {
            "text/plain": [
              "(1, 26, 26, 32)"
            ]
          },
          "metadata": {},
          "execution_count": 23
        }
      ]
    },
    {
      "cell_type": "markdown",
      "source": [
        "-> conv2d 레이어의 출력, 1은 입력 이미지의 개수"
      ],
      "metadata": {
        "id": "aH05j1wxJCU7"
      }
    },
    {
      "cell_type": "markdown",
      "source": [
        "* 첫 번째 레이어에서 출력되는 특성맵 이미지를 32개 커널 별로 구분하여 시각화"
      ],
      "metadata": {
        "id": "jaKK_M7_e34k"
      }
    },
    {
      "cell_type": "code",
      "source": [
        "# Convolution 시각화\n",
        "fig, axes = plt.subplots(4,8)\n",
        "fig.set_size_inches(10,5)\n",
        "\n",
        "for i in range(32):\n",
        "  axes[i//8,i%8].matshow(conv_activation[0,:,:,i],cmap ='viridis') # 첫 번째 레이어(conv)의 i번째 커널의 모든 값을 시각화\n",
        "  axes[i//8,i%8].set_title('kernel %s'%str(i),fontsize=10)\n",
        "  plt.setp(axes[i//8,i%8].get_xticklabels(),visible=False)\n",
        "  plt.setp(axes[i//8,i%8].get_yticklabels(),visible=False)\n",
        "\n",
        "plt.tight_layout()\n",
        "plt.show()"
      ],
      "metadata": {
        "colab": {
          "base_uri": "https://localhost:8080/",
          "height": 389
        },
        "id": "A46H5eZde3X0",
        "outputId": "6ffd5542-d784-45dd-c68c-d06cad1aed04"
      },
      "execution_count": 26,
      "outputs": [
        {
          "output_type": "display_data",
          "data": {
            "text/plain": [
              "<Figure size 1000x500 with 32 Axes>"
            ],
            "image/png": "[encoded data removed]"
          },
          "metadata": {}
        }
      ]
    },
    {
      "cell_type": "markdown",
      "source": [
        "-> 커널은 입력 이미지로부터 서로 다른 피처를 추출하는 역할"
      ],
      "metadata": {
        "id": "ZeD30GMDe_G_"
      }
    },
    {
      "cell_type": "code",
      "source": [
        "# 두 번째 레이어(pool) 출력층\n",
        "pooling_activation = activations[1]\n",
        "print(pooling_activation.shape)"
      ],
      "metadata": {
        "colab": {
          "base_uri": "https://localhost:8080/"
        },
        "id": "vy9JQYwsI-sU",
        "outputId": "e9a3e365-16b6-4185-e3f3-0248443e858d"
      },
      "execution_count": 27,
      "outputs": [
        {
          "output_type": "stream",
          "name": "stdout",
          "text": [
            "(1, 13, 13, 32)\n"
          ]
        }
      ]
    },
    {
      "cell_type": "markdown",
      "source": [
        "-> 이전의 conv2d 출력 이미지에 비해 화소 크기가 굵어짐 (인근 픽셀들을 모아 최대값으로 고정하기 때문)"
      ],
      "metadata": {
        "id": "luuJQSOLgenW"
      }
    },
    {
      "cell_type": "code",
      "source": [
        "# 시각화\n",
        "fig, axes = plt.subplots(4,8)\n",
        "fig.set_size_inches(10,5)\n",
        "\n",
        "for i in range(32):\n",
        "  axes[i//8,i%8].matshow(pooling_activation[0,:,:,i],cmap ='viridis') # pooling 레이어의 i번째 커널의 모든 값을 시각화\n",
        "  axes[i//8,i%8].set_title('kernel %s'%str(i),fontsize=10)\n",
        "  plt.setp(axes[i//8,i%8].get_xticklabels(),visible=False)\n",
        "  plt.setp(axes[i//8,i%8].get_yticklabels(),visible=False)\n",
        "\n",
        "plt.tight_layout()\n",
        "plt.show()"
      ],
      "metadata": {
        "colab": {
          "base_uri": "https://localhost:8080/",
          "height": 389
        },
        "id": "7seV_xG_grQ6",
        "outputId": "51966f85-ad32-4187-8fbf-abe6cd86e01f"
      },
      "execution_count": 28,
      "outputs": [
        {
          "output_type": "display_data",
          "data": {
            "text/plain": [
              "<Figure size 1000x500 with 32 Axes>"
            ],
            "image/png": "[encoded data removed]"
          },
          "metadata": {}
        }
      ]
    },
    {
      "cell_type": "markdown",
      "source": [
        "# 03 복잡한 모델 생성"
      ],
      "metadata": {
        "id": "umADpiJxDryx"
      }
    },
    {
      "cell_type": "markdown",
      "source": [
        "**3-1 데이터셋 준비**"
      ],
      "metadata": {
        "id": "b6gPMJkhEKp0"
      }
    },
    {
      "cell_type": "code",
      "source": [
        "import tensorflow as tf\n",
        "import numpy as np"
      ],
      "metadata": {
        "id": "KhBrTjSvENZX"
      },
      "execution_count": 2,
      "outputs": []
    },
    {
      "cell_type": "code",
      "source": [
        "# mnist 손글씨 이미지 데이터 로드\n",
        "mnist = tf.keras.datasets.mnist\n",
        "(x_train, y_train),(x_valid,y_valid) = mnist.load_data()\n",
        "\n",
        "print(x_train.shape, y_train.shape)\n",
        "print(x_valid.shape, y_valid.shape)"
      ],
      "metadata": {
        "colab": {
          "base_uri": "https://localhost:8080/"
        },
        "id": "c8A2D6JyETHe",
        "outputId": "703cfbb1-abd0-416d-a66f-90b9a06c4c15"
      },
      "execution_count": 3,
      "outputs": [
        {
          "output_type": "stream",
          "name": "stdout",
          "text": [
            "Downloading data from https://storage.googleapis.com/tensorflow/tf-keras-datasets/mnist.npz\n",
            "11490434/11490434 [==============================] - 0s 0us/step\n",
            "(60000, 28, 28) (60000,)\n",
            "(10000, 28, 28) (10000,)\n"
          ]
        }
      ]
    },
    {
      "cell_type": "markdown",
      "source": [
        "* 0-9까지 숫자를 맞추는 정답 외에 홀수인지 짝수인지 판단하는 정답(y_odd) 추가"
      ],
      "metadata": {
        "id": "jWTvTc_FFCgs"
      }
    },
    {
      "cell_type": "code",
      "source": [
        "# 새로운 출력 값 배열 생성(홀수:1, 짝수:0)\n",
        "y_train_odd = []\n",
        "for y in y_train:\n",
        "  if y % 2 ==0:\n",
        "    y_train_odd.append(0)\n",
        "  else:\n",
        "    y_train_odd.append(1)\n",
        "\n",
        "y_train_odd = np.array(y_train_odd)\n",
        "y_train_odd.shape"
      ],
      "metadata": {
        "colab": {
          "base_uri": "https://localhost:8080/"
        },
        "id": "31GYQcx6FSCe",
        "outputId": "28ce552e-42bf-4284-efce-f4a03b0ea668"
      },
      "execution_count": 4,
      "outputs": [
        {
          "output_type": "execute_result",
          "data": {
            "text/plain": [
              "(60000,)"
            ]
          },
          "metadata": {},
          "execution_count": 4
        }
      ]
    },
    {
      "cell_type": "code",
      "source": [
        "print(y_train[:10])\n",
        "print(y_train_odd[:10])"
      ],
      "metadata": {
        "colab": {
          "base_uri": "https://localhost:8080/"
        },
        "id": "S1rHjaB2GADa",
        "outputId": "8fb9e74b-49b5-4023-b7a1-512604c7e362"
      },
      "execution_count": 5,
      "outputs": [
        {
          "output_type": "stream",
          "name": "stdout",
          "text": [
            "[5 0 4 1 9 2 1 3 1 4]\n",
            "[1 0 0 1 1 0 1 1 1 0]\n"
          ]
        }
      ]
    },
    {
      "cell_type": "markdown",
      "source": [
        "* 검증 데이터 셋도 같은 작업 수행"
      ],
      "metadata": {
        "id": "in1sRUgJGH6o"
      }
    },
    {
      "cell_type": "code",
      "source": [
        "# Validation 데이터셋 처리\n",
        "y_valid_odd = []\n",
        "for y in y_valid:\n",
        "  if y % 2 ==0:\n",
        "    y_valid_odd.append(0)\n",
        "  else:\n",
        "    y_valid_odd.append(1)\n",
        "\n",
        "y_valid_odd = np.array(y_valid_odd)\n",
        "y_valid_odd.shape"
      ],
      "metadata": {
        "colab": {
          "base_uri": "https://localhost:8080/"
        },
        "id": "h2cl11S8GLCf",
        "outputId": "31ea6d3b-9698-4123-a4d1-8fc77be6aa1b"
      },
      "execution_count": 6,
      "outputs": [
        {
          "output_type": "execute_result",
          "data": {
            "text/plain": [
              "(10000,)"
            ]
          },
          "metadata": {},
          "execution_count": 6
        }
      ]
    },
    {
      "cell_type": "markdown",
      "source": [
        "* 255로 나눠서 정규화, 채널 개수를 1로 지정해 새로운 축 추가\n",
        "* expand_dims() 함수에 원본 배열을 입력하고 새롭게 추가하려는 축의 인덱스 지정"
      ],
      "metadata": {
        "id": "CqyJui8NGmJE"
      }
    },
    {
      "cell_type": "code",
      "source": [
        "# 정규화(Normalization)\n",
        "x_train = x_train/255.0\n",
        "x_valid = x_valid/255.0\n",
        "\n",
        "# 채널 추가\n",
        "x_train_in = tf.expand_dims(x_train,-1)\n",
        "x_valid_in = tf.expand_dims(x_valid,-1)\n",
        "\n",
        "print(x_train_in.shape, x_valid_in.shape)"
      ],
      "metadata": {
        "colab": {
          "base_uri": "https://localhost:8080/"
        },
        "id": "G_13B1WUHSuz",
        "outputId": "14ca6f11-5f2d-4a45-fed0-3f08faf781e6"
      },
      "execution_count": 7,
      "outputs": [
        {
          "output_type": "stream",
          "name": "stdout",
          "text": [
            "(60000, 28, 28, 1) (10000, 28, 28, 1)\n"
          ]
        }
      ]
    },
    {
      "cell_type": "markdown",
      "source": [
        "**3-2 Functional API로 다중 입력, 다중 출력 레이어 생성**\n",
        "* Functional API를 사용하면 Sequential과 달리 다중 입력, 출력 구조 가능\n",
        "* inputs이 conv2d와 flatten 레이어의 입력으로 사용되므로 2개의 출력을 가짐 -> 서로 다른 레이어의 입력으로 사용된 후 concatenate 레이어에서 합쳐진 후에 dense 레이어 통과"
      ],
      "metadata": {
        "id": "qygzG1_THrry"
      }
    },
    {
      "cell_type": "code",
      "source": [
        "# Functional API를 사용하여 모델 생성\n",
        "inputs = tf.keras.layers.Input(shape=(28,28,1))\n",
        "\n",
        "conv = tf.keras.layers.Conv2D(32,(3,3), activation='relu')(inputs)\n",
        "pool = tf.keras.layers.MaxPooling2D(2,2)(conv)\n",
        "flat = tf.keras.layers.Flatten()(pool)\n",
        "\n",
        "flat_inputs = tf.keras.layers.Flatten()(inputs)\n",
        "concat = tf.keras.layers.Concatenate()([flat, flat_inputs])\n",
        "outputs = tf.keras.layers.Dense(10, activation='softmax')(concat)\n",
        "\n",
        "model = tf.keras.models.Model(inputs=inputs, outputs=outputs)\n",
        "model.summary()"
      ],
      "metadata": {
        "colab": {
          "base_uri": "https://localhost:8080/"
        },
        "id": "rov_jSsDIvtQ",
        "outputId": "f15c93e7-4a0e-435e-dc1c-7c442bb39da0"
      },
      "execution_count": 10,
      "outputs": [
        {
          "output_type": "stream",
          "name": "stdout",
          "text": [
            "Model: \"model\"\n",
            "__________________________________________________________________________________________________\n",
            " Layer (type)                Output Shape                 Param #   Connected to                  \n",
            "==================================================================================================\n",
            " input_2 (InputLayer)        [(None, 28, 28, 1)]          0         []                            \n",
            "                                                                                                  \n",
            " conv2d_1 (Conv2D)           (None, 26, 26, 32)           320       ['input_2[0][0]']             \n",
            "                                                                                                  \n",
            " max_pooling2d_1 (MaxPoolin  (None, 13, 13, 32)           0         ['conv2d_1[0][0]']            \n",
            " g2D)                                                                                             \n",
            "                                                                                                  \n",
            " flatten_2 (Flatten)         (None, 5408)                 0         ['max_pooling2d_1[0][0]']     \n",
            "                                                                                                  \n",
            " flatten_3 (Flatten)         (None, 784)                  0         ['input_2[0][0]']             \n",
            "                                                                                                  \n",
            " concatenate (Concatenate)   (None, 6192)                 0         ['flatten_2[0][0]',           \n",
            "                                                                     'flatten_3[0][0]']           \n",
            "                                                                                                  \n",
            " dense (Dense)               (None, 10)                   61930     ['concatenate[0][0]']         \n",
            "                                                                                                  \n",
            "==================================================================================================\n",
            "Total params: 62250 (243.16 KB)\n",
            "Trainable params: 62250 (243.16 KB)\n",
            "Non-trainable params: 0 (0.00 Byte)\n",
            "__________________________________________________________________________________________________\n"
          ]
        }
      ]
    },
    {
      "cell_type": "code",
      "source": [
        "# 모델 구조 출력 및 이미지 파일로 저장\n",
        "tf.keras.utils.plot_model(model,show_shapes=True, show_layer_names=True, to_file='functional_cnn.png')"
      ],
      "metadata": {
        "colab": {
          "base_uri": "https://localhost:8080/",
          "height": 664
        },
        "id": "e3WHRINiKmRy",
        "outputId": "7601859e-9406-492b-8cb6-b5ef14f18df0"
      },
      "execution_count": 18,
      "outputs": [
        {
          "output_type": "execute_result",
          "data": {
            "image/png": "[encoded data removed]",
            "text/plain": [
              "<IPython.core.display.Image object>"
            ]
          },
          "metadata": {},
          "execution_count": 18
        }
      ]
    },
    {
      "cell_type": "code",
      "source": [
        "# 모델 컴파일\n",
        "model.compile(optimizer='adam', loss='sparse_categorical_crossentropy', metrics=['accuracy'])\n",
        "\n",
        "# 모델 훈련\n",
        "history = model.fit(x_train_in, y_train, validation_data=(x_valid_in, y_valid),epochs=10)\n",
        "\n",
        "# 모델 성능\n",
        "val_loss, val_acc = model.evaluate(x_valid_in, y_valid)\n",
        "print(val_loss, val_acc)"
      ],
      "metadata": {
        "colab": {
          "base_uri": "https://localhost:8080/"
        },
        "id": "sMtWpXJrLPCN",
        "outputId": "f5739fc1-3d78-4a14-ad81-5212d1c593c7"
      },
      "execution_count": 13,
      "outputs": [
        {
          "output_type": "stream",
          "name": "stdout",
          "text": [
            "Epoch 1/10\n",
            "1875/1875 [==============================] - 35s 18ms/step - loss: 0.2025 - accuracy: 0.9421 - val_loss: 0.0812 - val_accuracy: 0.9765\n",
            "Epoch 2/10\n",
            "1875/1875 [==============================] - 32s 17ms/step - loss: 0.0776 - accuracy: 0.9777 - val_loss: 0.0606 - val_accuracy: 0.9804\n",
            "Epoch 3/10\n",
            "1875/1875 [==============================] - 44s 23ms/step - loss: 0.0598 - accuracy: 0.9823 - val_loss: 0.0599 - val_accuracy: 0.9807\n",
            "Epoch 4/10\n",
            "1875/1875 [==============================] - 33s 17ms/step - loss: 0.0493 - accuracy: 0.9846 - val_loss: 0.0559 - val_accuracy: 0.9824\n",
            "Epoch 5/10\n",
            "1875/1875 [==============================] - 27s 14ms/step - loss: 0.0402 - accuracy: 0.9873 - val_loss: 0.0581 - val_accuracy: 0.9810\n",
            "Epoch 6/10\n",
            "1875/1875 [==============================] - 29s 15ms/step - loss: 0.0343 - accuracy: 0.9895 - val_loss: 0.0536 - val_accuracy: 0.9826\n",
            "Epoch 7/10\n",
            "1875/1875 [==============================] - 29s 15ms/step - loss: 0.0295 - accuracy: 0.9908 - val_loss: 0.0559 - val_accuracy: 0.9833\n",
            "Epoch 8/10\n",
            "1875/1875 [==============================] - 29s 15ms/step - loss: 0.0244 - accuracy: 0.9926 - val_loss: 0.0526 - val_accuracy: 0.9847\n",
            "Epoch 9/10\n",
            "1875/1875 [==============================] - 29s 15ms/step - loss: 0.0211 - accuracy: 0.9934 - val_loss: 0.0592 - val_accuracy: 0.9834\n",
            "Epoch 10/10\n",
            "1875/1875 [==============================] - 29s 15ms/step - loss: 0.0180 - accuracy: 0.9944 - val_loss: 0.0537 - val_accuracy: 0.9840\n",
            "313/313 [==============================] - 2s 5ms/step - loss: 0.0537 - accuracy: 0.9840\n",
            "0.05366473272442818 0.984000027179718\n"
          ]
        }
      ]
    },
    {
      "cell_type": "markdown",
      "source": [
        "**3-3 다중 출력 분류 모델**\n",
        "* 0-9까지의 숫자를 맞추는 분류 문제와 홀수, 짝수를 맞추는 분류 문제를 동시에 풀어내는 모델 정의"
      ],
      "metadata": {
        "id": "GxvQStrzL3lA"
      }
    },
    {
      "cell_type": "code",
      "source": [
        "# Functional API를 사용해 모델 생성\n",
        "\n",
        "inputs = tf.keras.layers.Input(shape=(28,28,1),name='inputs')\n",
        "\n",
        "conv = tf.keras.layers.Conv2D(32,(3,3), activation='relu', name='conv2d_layer')(inputs)\n",
        "pool = tf.keras.layers.MaxPooling2D((2,2),name='maxpool_layer')(conv)\n",
        "flat = tf.keras.layers.Flatten(name='flatten_layer')(pool)\n",
        "\n",
        "flat_inputs = tf.keras.layers.Flatten()(inputs)\n",
        "concat = tf.keras.layers.Concatenate()([flat, flat_inputs])\n",
        "digit_outputs = tf.keras.layers.Dense(10, activation='softmax', name='digit_dense')(concat)\n",
        "\n",
        "odd_outputs = tf.keras.layers.Dense(1, activation='sigmoid', name='odd_dense')(flat_inputs)\n",
        "model = tf.keras.models.Model(inputs=inputs, outputs=[digit_outputs, odd_outputs])\n",
        "model.summary()"
      ],
      "metadata": {
        "colab": {
          "base_uri": "https://localhost:8080/"
        },
        "id": "UIYRgS-rMFkR",
        "outputId": "d4504e37-5aa4-47ef-efb3-6380c7f608d6"
      },
      "execution_count": 23,
      "outputs": [
        {
          "output_type": "stream",
          "name": "stdout",
          "text": [
            "Model: \"model_2\"\n",
            "__________________________________________________________________________________________________\n",
            " Layer (type)                Output Shape                 Param #   Connected to                  \n",
            "==================================================================================================\n",
            " inputs (InputLayer)         [(None, 28, 28, 1)]          0         []                            \n",
            "                                                                                                  \n",
            " conv2d_layer (Conv2D)       (None, 26, 26, 32)           320       ['inputs[0][0]']              \n",
            "                                                                                                  \n",
            " maxpool_layer (MaxPooling2  (None, 13, 13, 32)           0         ['conv2d_layer[0][0]']        \n",
            " D)                                                                                               \n",
            "                                                                                                  \n",
            " flatten_layer (Flatten)     (None, 5408)                 0         ['maxpool_layer[0][0]']       \n",
            "                                                                                                  \n",
            " flatten_5 (Flatten)         (None, 784)                  0         ['inputs[0][0]']              \n",
            "                                                                                                  \n",
            " concatenate_2 (Concatenate  (None, 6192)                 0         ['flatten_layer[0][0]',       \n",
            " )                                                                   'flatten_5[0][0]']           \n",
            "                                                                                                  \n",
            " digit_dense (Dense)         (None, 10)                   61930     ['concatenate_2[0][0]']       \n",
            "                                                                                                  \n",
            " odd_dense (Dense)           (None, 1)                    785       ['flatten_5[0][0]']           \n",
            "                                                                                                  \n",
            "==================================================================================================\n",
            "Total params: 63035 (246.23 KB)\n",
            "Trainable params: 63035 (246.23 KB)\n",
            "Non-trainable params: 0 (0.00 Byte)\n",
            "__________________________________________________________________________________________________\n"
          ]
        }
      ]
    },
    {
      "cell_type": "code",
      "source": [
        "# 모델의 입력과 출력을 나타내는 텐서\n",
        "print(model.input)\n",
        "print(model.output)"
      ],
      "metadata": {
        "colab": {
          "base_uri": "https://localhost:8080/"
        },
        "id": "i7EwDeOdQfA7",
        "outputId": "7b1c49b0-28aa-46be-efd3-626f04ab2d70"
      },
      "execution_count": 24,
      "outputs": [
        {
          "output_type": "stream",
          "name": "stdout",
          "text": [
            "KerasTensor(type_spec=TensorSpec(shape=(None, 28, 28, 1), dtype=tf.float32, name='inputs'), name='inputs', description=\"created by layer 'inputs'\")\n",
            "[<KerasTensor: shape=(None, 10) dtype=float32 (created by layer 'digit_dense')>, <KerasTensor: shape=(None, 1) dtype=float32 (created by layer 'odd_dense')>]\n"
          ]
        }
      ]
    },
    {
      "cell_type": "markdown",
      "source": [
        "-> 입력은 하나, 출력은 10과 1 두 개"
      ],
      "metadata": {
        "id": "h8e67jqlQeqU"
      }
    },
    {
      "cell_type": "code",
      "source": [
        "# 모델 구조 그림\n",
        "tf.keras.utils.plot_model(model,show_shapes=True, show_layer_names=True, to_file='multi_output_cnn.png')"
      ],
      "metadata": {
        "colab": {
          "base_uri": "https://localhost:8080/",
          "height": 644
        },
        "id": "7HOo-elcQ1FS",
        "outputId": "e2e4f950-dd88-4fc3-af1d-8969f7e005f3"
      },
      "execution_count": 25,
      "outputs": [
        {
          "output_type": "execute_result",
          "data": {
            "image/png": "[encoded data removed]",
            "text/plain": [
              "<IPython.core.display.Image object>"
            ]
          },
          "metadata": {},
          "execution_count": 25
        }
      ]
    },
    {
      "cell_type": "markdown",
      "source": [
        "* 모델 컴파일하는 경우 dense 레이어에 name 속성에 따라 각각 손실함수나 가중치 설정"
      ],
      "metadata": {
        "id": "HZ2B4G2pR5I8"
      }
    },
    {
      "cell_type": "code",
      "source": [
        "# 모델 컴파일\n",
        "model.compile(optimizer='adam', loss={'digit_dense':'sparse_categorical_crossentropy','odd_dense': 'binary_crossentropy'}, loss_weights={'digit_dense':1,'odd_dense':0.5}, metrics=['accuracy'])\n",
        "\n",
        "# 모델 훈련\n",
        "history = model.fit({'inputs':x_train_in},\n",
        "                  {'digit_dense':y_train, 'odd_dense':y_train_odd},\n",
        "                   validation_data=({'inputs':x_valid_in}, {'digit_dense':y_valid, 'odd_dense':y_valid_odd}), epochs=10)"
      ],
      "metadata": {
        "colab": {
          "base_uri": "https://localhost:8080/"
        },
        "id": "g1n9fF67R0Xl",
        "outputId": "0c4dd3de-695e-474b-b930-831d4431a493"
      },
      "execution_count": 26,
      "outputs": [
        {
          "output_type": "stream",
          "name": "stdout",
          "text": [
            "Epoch 1/10\n",
            "1875/1875 [==============================] - 36s 19ms/step - loss: 0.3717 - digit_dense_loss: 0.2089 - odd_dense_loss: 0.3256 - digit_dense_accuracy: 0.9413 - odd_dense_accuracy: 0.8641 - val_loss: 0.2220 - val_digit_dense_loss: 0.0846 - val_odd_dense_loss: 0.2747 - val_digit_dense_accuracy: 0.9742 - val_odd_dense_accuracy: 0.8888\n",
            "Epoch 2/10\n",
            "1875/1875 [==============================] - 45s 24ms/step - loss: 0.2113 - digit_dense_loss: 0.0757 - odd_dense_loss: 0.2713 - digit_dense_accuracy: 0.9777 - odd_dense_accuracy: 0.8917 - val_loss: 0.1955 - val_digit_dense_loss: 0.0638 - val_odd_dense_loss: 0.2634 - val_digit_dense_accuracy: 0.9787 - val_odd_dense_accuracy: 0.8971\n",
            "Epoch 3/10\n",
            "1875/1875 [==============================] - 40s 21ms/step - loss: 0.1874 - digit_dense_loss: 0.0562 - odd_dense_loss: 0.2623 - digit_dense_accuracy: 0.9837 - odd_dense_accuracy: 0.8960 - val_loss: 0.1872 - val_digit_dense_loss: 0.0570 - val_odd_dense_loss: 0.2604 - val_digit_dense_accuracy: 0.9816 - val_odd_dense_accuracy: 0.8997\n",
            "Epoch 4/10\n",
            "1875/1875 [==============================] - 35s 19ms/step - loss: 0.1754 - digit_dense_loss: 0.0459 - odd_dense_loss: 0.2590 - digit_dense_accuracy: 0.9858 - odd_dense_accuracy: 0.8984 - val_loss: 0.1854 - val_digit_dense_loss: 0.0564 - val_odd_dense_loss: 0.2578 - val_digit_dense_accuracy: 0.9817 - val_odd_dense_accuracy: 0.9013\n",
            "Epoch 5/10\n",
            "1875/1875 [==============================] - 36s 19ms/step - loss: 0.1664 - digit_dense_loss: 0.0380 - odd_dense_loss: 0.2569 - digit_dense_accuracy: 0.9881 - odd_dense_accuracy: 0.8990 - val_loss: 0.1798 - val_digit_dense_loss: 0.0516 - val_odd_dense_loss: 0.2564 - val_digit_dense_accuracy: 0.9830 - val_odd_dense_accuracy: 0.9012\n",
            "Epoch 6/10\n",
            "1875/1875 [==============================] - 46s 24ms/step - loss: 0.1602 - digit_dense_loss: 0.0323 - odd_dense_loss: 0.2557 - digit_dense_accuracy: 0.9901 - odd_dense_accuracy: 0.8997 - val_loss: 0.1843 - val_digit_dense_loss: 0.0565 - val_odd_dense_loss: 0.2555 - val_digit_dense_accuracy: 0.9825 - val_odd_dense_accuracy: 0.9022\n",
            "Epoch 7/10\n",
            "1875/1875 [==============================] - 29s 15ms/step - loss: 0.1542 - digit_dense_loss: 0.0267 - odd_dense_loss: 0.2549 - digit_dense_accuracy: 0.9918 - odd_dense_accuracy: 0.9001 - val_loss: 0.1938 - val_digit_dense_loss: 0.0659 - val_odd_dense_loss: 0.2558 - val_digit_dense_accuracy: 0.9813 - val_odd_dense_accuracy: 0.9014\n",
            "Epoch 8/10\n",
            "1875/1875 [==============================] - 40s 21ms/step - loss: 0.1497 - digit_dense_loss: 0.0227 - odd_dense_loss: 0.2541 - digit_dense_accuracy: 0.9931 - odd_dense_accuracy: 0.9010 - val_loss: 0.1851 - val_digit_dense_loss: 0.0569 - val_odd_dense_loss: 0.2564 - val_digit_dense_accuracy: 0.9832 - val_odd_dense_accuracy: 0.9017\n",
            "Epoch 9/10\n",
            "1875/1875 [==============================] - 31s 17ms/step - loss: 0.1458 - digit_dense_loss: 0.0190 - odd_dense_loss: 0.2536 - digit_dense_accuracy: 0.9943 - odd_dense_accuracy: 0.9009 - val_loss: 0.1838 - val_digit_dense_loss: 0.0562 - val_odd_dense_loss: 0.2553 - val_digit_dense_accuracy: 0.9838 - val_odd_dense_accuracy: 0.9005\n",
            "Epoch 10/10\n",
            "1875/1875 [==============================] - 36s 19ms/step - loss: 0.1433 - digit_dense_loss: 0.0167 - odd_dense_loss: 0.2532 - digit_dense_accuracy: 0.9948 - odd_dense_accuracy: 0.9012 - val_loss: 0.1874 - val_digit_dense_loss: 0.0588 - val_odd_dense_loss: 0.2573 - val_digit_dense_accuracy: 0.9827 - val_odd_dense_accuracy: 0.9015\n"
          ]
        }
      ]
    },
    {
      "cell_type": "code",
      "source": [
        "# 모델 성능\n",
        "model.evaluate({'inputs':x_valid_in},{'digit_dense':y_valid,'odd_dense':y_valid_odd})"
      ],
      "metadata": {
        "colab": {
          "base_uri": "https://localhost:8080/"
        },
        "id": "W2GVt-ifT-ZR",
        "outputId": "06d581b1-fb74-4b58-befa-2dbea5e5d929"
      },
      "execution_count": 27,
      "outputs": [
        {
          "output_type": "stream",
          "name": "stdout",
          "text": [
            "313/313 [==============================] - 2s 5ms/step - loss: 0.1874 - digit_dense_loss: 0.0588 - odd_dense_loss: 0.2573 - digit_dense_accuracy: 0.9827 - odd_dense_accuracy: 0.9015\n"
          ]
        },
        {
          "output_type": "execute_result",
          "data": {
            "text/plain": [
              "[0.1874469667673111,\n",
              " 0.0588010810315609,\n",
              " 0.2572919428348541,\n",
              " 0.982699990272522,\n",
              " 0.9014999866485596]"
            ]
          },
          "metadata": {},
          "execution_count": 27
        }
      ]
    },
    {
      "cell_type": "code",
      "source": [
        "# 샘플 이미지 출력\n",
        "import matplotlib.pylab as plt\n",
        "\n",
        "def plot_image(data,idx):\n",
        "  plt.figure(figsize=(5,5))\n",
        "  plt.imshow(data[idx])\n",
        "  plt.axis('off')\n",
        "  plt.show()\n",
        "\n",
        "plot_image(x_valid,0)"
      ],
      "metadata": {
        "colab": {
          "base_uri": "https://localhost:8080/",
          "height": 422
        },
        "id": "CUKOHpdMULz2",
        "outputId": "36fe2c92-4b5f-470a-d40e-5ede9f99a1f0"
      },
      "execution_count": 28,
      "outputs": [
        {
          "output_type": "display_data",
          "data": {
            "text/plain": [
              "<Figure size 500x500 with 1 Axes>"
            ],
            "image/png": "[encoded data removed]"
          },
          "metadata": {}
        }
      ]
    },
    {
      "cell_type": "markdown",
      "source": [
        "* 검증 데이터셋의 모든 이미지 데이터를 입력해 두 분류 문제에 대한 예측 확률 구하기"
      ],
      "metadata": {
        "id": "5PhVg1iYVJE2"
      }
    },
    {
      "cell_type": "code",
      "source": [
        "digit_preds, odd_preds = model.predict(x_valid_in)\n",
        "print(digit_preds[0])\n",
        "print(odd_preds[0])"
      ],
      "metadata": {
        "colab": {
          "base_uri": "https://localhost:8080/"
        },
        "id": "8ZzzkS3rVGYK",
        "outputId": "d054dfb5-4606-4809-ffa1-c0ee199dcad3"
      },
      "execution_count": 29,
      "outputs": [
        {
          "output_type": "stream",
          "name": "stdout",
          "text": [
            "313/313 [==============================] - 3s 8ms/step\n",
            "[2.9685664e-11 2.2767836e-10 1.6811937e-08 2.2545127e-07 7.3893859e-13\n",
            " 1.0334462e-12 5.2480894e-21 9.9999970e-01 6.7143408e-10 4.7148867e-09]\n",
            "[0.9994254]\n"
          ]
        }
      ]
    },
    {
      "cell_type": "markdown",
      "source": [
        "* 예측 확률을 실제 정답 레이블로 변환"
      ],
      "metadata": {
        "id": "X1GDZFX9VYXl"
      }
    },
    {
      "cell_type": "code",
      "source": [
        "digit_labels = np.argmax(digit_preds, axis=1)\n",
        "digit_labels[0:10]"
      ],
      "metadata": {
        "colab": {
          "base_uri": "https://localhost:8080/"
        },
        "id": "g7BDWFBOVbwT",
        "outputId": "55bfeab9-6e04-4a0c-dc06-65bebbe0fd2b"
      },
      "execution_count": 30,
      "outputs": [
        {
          "output_type": "execute_result",
          "data": {
            "text/plain": [
              "array([7, 2, 1, 0, 4, 1, 4, 9, 5, 9])"
            ]
          },
          "metadata": {},
          "execution_count": 30
        }
      ]
    },
    {
      "cell_type": "markdown",
      "source": [
        "-> 첫 번째 이미지를 7로 잘 예측함\n",
        "* 홀수, 짝수 여부에 대한 예측 레이블 출력 (threshold를 0.5로 지정)"
      ],
      "metadata": {
        "id": "Cd_BZdZaVnxg"
      }
    },
    {
      "cell_type": "code",
      "source": [
        "odd_labels = (odd_preds >0.5).astype(np.int).reshape(1,-1)[0]\n",
        "odd_labels[0:10]"
      ],
      "metadata": {
        "colab": {
          "base_uri": "https://localhost:8080/"
        },
        "id": "PKqqgwAEVye0",
        "outputId": "51fe1d3c-c3bc-4de2-af3f-02bf914d0799"
      },
      "execution_count": 31,
      "outputs": [
        {
          "output_type": "stream",
          "name": "stderr",
          "text": [
            "<ipython-input-31-9c1f25fee548>:1: DeprecationWarning: `np.int` is a deprecated alias for the builtin `int`. To silence this warning, use `int` by itself. Doing this will not modify any behavior and is safe. When replacing `np.int`, you may wish to use e.g. `np.int64` or `np.int32` to specify the precision. If you wish to review your current use, check the release note link for additional information.\n",
            "Deprecated in NumPy 1.20; for more details and guidance: https://numpy.org/devdocs/release/1.20.0-notes.html#deprecations\n",
            "  odd_labels = (odd_preds >0.5).astype(np.int).reshape(1,-1)[0]\n"
          ]
        },
        {
          "output_type": "execute_result",
          "data": {
            "text/plain": [
              "array([1, 0, 1, 0, 0, 1, 0, 1, 0, 1])"
            ]
          },
          "metadata": {},
          "execution_count": 31
        }
      ]
    },
    {
      "cell_type": "markdown",
      "source": [
        "**3-4 전이 학습**\n",
        "* 기존의 학습된 모델을 사용해 새로운 모델을 만들어내는 것\n",
        "* 앞에서 학습한 모델에서 입력 레이어부터 'flatten_layer' 층까지 해당하는 부분을 따로 추출해 base_model 객체 만들기\n"
      ],
      "metadata": {
        "id": "RpCiAGoCWEmV"
      }
    },
    {
      "cell_type": "code",
      "source": [
        "# 앞의 모델에서 flatten_layer 출력을 추출\n",
        "base_model_output = model.get_layer('flatten_layer').output\n",
        "\n",
        "# 앞의 출력을 출력으로 하는 모델 정의\n",
        "base_model = tf.keras.models.Model(inputs=model.input, outputs=base_model_output, name='base')\n",
        "base_model.summary()"
      ],
      "metadata": {
        "colab": {
          "base_uri": "https://localhost:8080/"
        },
        "id": "7_072Xd_WoQq",
        "outputId": "6ca07f38-3ee4-471c-f04c-9541639bbb99"
      },
      "execution_count": 32,
      "outputs": [
        {
          "output_type": "stream",
          "name": "stdout",
          "text": [
            "Model: \"base\"\n",
            "_________________________________________________________________\n",
            " Layer (type)                Output Shape              Param #   \n",
            "=================================================================\n",
            " inputs (InputLayer)         [(None, 28, 28, 1)]       0         \n",
            "                                                                 \n",
            " conv2d_layer (Conv2D)       (None, 26, 26, 32)        320       \n",
            "                                                                 \n",
            " maxpool_layer (MaxPooling2  (None, 13, 13, 32)        0         \n",
            " D)                                                              \n",
            "                                                                 \n",
            " flatten_layer (Flatten)     (None, 5408)              0         \n",
            "                                                                 \n",
            "=================================================================\n",
            "Total params: 320 (1.25 KB)\n",
            "Trainable params: 320 (1.25 KB)\n",
            "Non-trainable params: 0 (0.00 Byte)\n",
            "_________________________________________________________________\n"
          ]
        }
      ]
    },
    {
      "cell_type": "code",
      "source": [
        "# 모델 구조 출력 및 이미지 파일로 저장\n",
        "tf.keras.utils.plot_model(base_model,show_shapes=True, show_layer_names=True, to_file='base_model.png')"
      ],
      "metadata": {
        "colab": {
          "base_uri": "https://localhost:8080/",
          "height": 422
        },
        "id": "6YoFGueEXDuq",
        "outputId": "7283455e-5e68-41db-c526-d87ccdc3eb8a"
      },
      "execution_count": 33,
      "outputs": [
        {
          "output_type": "execute_result",
          "data": {
            "image/png": "[encoded data removed]",
            "text/plain": [
              "<IPython.core.display.Image object>"
            ]
          },
          "metadata": {},
          "execution_count": 33
        }
      ]
    },
    {
      "cell_type": "markdown",
      "source": [
        "* base_model을 레이어로 추가하고 dense 레이어 새롭게 이어서 추가"
      ],
      "metadata": {
        "id": "Yq9ZSeXTX5Zg"
      }
    },
    {
      "cell_type": "code",
      "source": [
        "# Sequential API 적용\n",
        "digit_model = tf.keras.Sequential([\n",
        "                                  base_model,\n",
        "                                  tf.keras.layers.Dense(10,activation='softmax')\n",
        "])\n",
        "digit_model.summary()"
      ],
      "metadata": {
        "colab": {
          "base_uri": "https://localhost:8080/"
        },
        "id": "0002APIuXnnK",
        "outputId": "09897d22-e502-431b-e9e5-fd44f970754b"
      },
      "execution_count": 35,
      "outputs": [
        {
          "output_type": "stream",
          "name": "stdout",
          "text": [
            "Model: \"sequential\"\n",
            "_________________________________________________________________\n",
            " Layer (type)                Output Shape              Param #   \n",
            "=================================================================\n",
            " base (Functional)           (None, 5408)              320       \n",
            "                                                                 \n",
            " dense_1 (Dense)             (None, 10)                54090     \n",
            "                                                                 \n",
            "=================================================================\n",
            "Total params: 54410 (212.54 KB)\n",
            "Trainable params: 54410 (212.54 KB)\n",
            "Non-trainable params: 0 (0.00 Byte)\n",
            "_________________________________________________________________\n"
          ]
        }
      ]
    },
    {
      "cell_type": "code",
      "source": [
        "tf.keras.utils.plot_model(digit_model,show_shapes=True, show_layer_names=True, to_file='digit_model.png')"
      ],
      "metadata": {
        "colab": {
          "base_uri": "https://localhost:8080/",
          "height": 312
        },
        "id": "YHx9CtaYYFrH",
        "outputId": "a1efacae-2fe1-4e96-a893-124150620a42"
      },
      "execution_count": 36,
      "outputs": [
        {
          "output_type": "execute_result",
          "data": {
            "image/png": "[encoded data removed]",
            "text/plain": [
              "<IPython.core.display.Image object>"
            ]
          },
          "metadata": {},
          "execution_count": 36
        }
      ]
    },
    {
      "cell_type": "code",
      "source": [
        "# 모델 컴파일\n",
        "digit_model.compile(optimizer='adam', loss='sparse_categorical_crossentropy', metrics=['accuracy'])\n",
        "\n",
        "# 모델 훈련\n",
        "history = digit_model.fit(x_train_in, y_train, validation_data=(x_valid_in, y_valid),epochs=10)"
      ],
      "metadata": {
        "colab": {
          "base_uri": "https://localhost:8080/"
        },
        "id": "wmp7ka5HYTkL",
        "outputId": "00b3717a-61a9-43ec-adfa-cc45e988f4f8"
      },
      "execution_count": 37,
      "outputs": [
        {
          "output_type": "stream",
          "name": "stdout",
          "text": [
            "Epoch 1/10\n",
            "1875/1875 [==============================] - 31s 16ms/step - loss: 0.1293 - accuracy: 0.9639 - val_loss: 0.0585 - val_accuracy: 0.9823\n",
            "Epoch 2/10\n",
            "1875/1875 [==============================] - 35s 19ms/step - loss: 0.0568 - accuracy: 0.9834 - val_loss: 0.0549 - val_accuracy: 0.9833\n",
            "Epoch 3/10\n",
            "1875/1875 [==============================] - 37s 20ms/step - loss: 0.0419 - accuracy: 0.9875 - val_loss: 0.0559 - val_accuracy: 0.9822\n",
            "Epoch 4/10\n",
            "1875/1875 [==============================] - 41s 22ms/step - loss: 0.0339 - accuracy: 0.9897 - val_loss: 0.0621 - val_accuracy: 0.9811\n",
            "Epoch 5/10\n",
            "1875/1875 [==============================] - 36s 19ms/step - loss: 0.0277 - accuracy: 0.9916 - val_loss: 0.0566 - val_accuracy: 0.9827\n",
            "Epoch 6/10\n",
            "1875/1875 [==============================] - 28s 15ms/step - loss: 0.0222 - accuracy: 0.9932 - val_loss: 0.0585 - val_accuracy: 0.9828\n",
            "Epoch 7/10\n",
            "1875/1875 [==============================] - 41s 22ms/step - loss: 0.0187 - accuracy: 0.9940 - val_loss: 0.0556 - val_accuracy: 0.9836\n",
            "Epoch 8/10\n",
            "1875/1875 [==============================] - 40s 21ms/step - loss: 0.0152 - accuracy: 0.9953 - val_loss: 0.0589 - val_accuracy: 0.9849\n",
            "Epoch 9/10\n",
            "1875/1875 [==============================] - 36s 19ms/step - loss: 0.0127 - accuracy: 0.9960 - val_loss: 0.0611 - val_accuracy: 0.9852\n",
            "Epoch 10/10\n",
            "1875/1875 [==============================] - 38s 20ms/step - loss: 0.0105 - accuracy: 0.9967 - val_loss: 0.0631 - val_accuracy: 0.9821\n"
          ]
        }
      ]
    },
    {
      "cell_type": "markdown",
      "source": [
        "* trainable = False로 지정 시 파라미터 값이 고정되어 훈련을 통해 업데이트되지 않음"
      ],
      "metadata": {
        "id": "c1EGwND4YhX5"
      }
    },
    {
      "cell_type": "code",
      "source": [
        "# 베이스 모델의 가중치 고정\n",
        "base_model_frozen = tf.keras.models.Model(inputs=model.input, outputs=base_model_output, name='base_frozen')\n",
        "base_model_frozen.trainable = False\n",
        "base_model_frozen.summary()"
      ],
      "metadata": {
        "colab": {
          "base_uri": "https://localhost:8080/"
        },
        "id": "1fL_7ecaYgwa",
        "outputId": "6d164154-a247-4269-ac1b-f9367587c38b"
      },
      "execution_count": 38,
      "outputs": [
        {
          "output_type": "stream",
          "name": "stdout",
          "text": [
            "Model: \"base_frozen\"\n",
            "_________________________________________________________________\n",
            " Layer (type)                Output Shape              Param #   \n",
            "=================================================================\n",
            " inputs (InputLayer)         [(None, 28, 28, 1)]       0         \n",
            "                                                                 \n",
            " conv2d_layer (Conv2D)       (None, 26, 26, 32)        320       \n",
            "                                                                 \n",
            " maxpool_layer (MaxPooling2  (None, 13, 13, 32)        0         \n",
            " D)                                                              \n",
            "                                                                 \n",
            " flatten_layer (Flatten)     (None, 5408)              0         \n",
            "                                                                 \n",
            "=================================================================\n",
            "Total params: 320 (1.25 KB)\n",
            "Trainable params: 0 (0.00 Byte)\n",
            "Non-trainable params: 320 (1.25 KB)\n",
            "_________________________________________________________________\n"
          ]
        }
      ]
    },
    {
      "cell_type": "code",
      "source": [
        "# Functional API 적용\n",
        "dense_output = tf.keras.layers.Dense(10, activation='softmax')(base_model_frozen.output)\n",
        "digit_model_frozen = tf.keras.models.Model(inputs=base_model_frozen.input, outputs=dense_output)\n",
        "digit_model_frozen.summary()"
      ],
      "metadata": {
        "colab": {
          "base_uri": "https://localhost:8080/"
        },
        "id": "6w13tN95ZOpJ",
        "outputId": "613d643a-5c95-4da4-b15f-534ec9bcbb43"
      },
      "execution_count": 39,
      "outputs": [
        {
          "output_type": "stream",
          "name": "stdout",
          "text": [
            "Model: \"model_3\"\n",
            "_________________________________________________________________\n",
            " Layer (type)                Output Shape              Param #   \n",
            "=================================================================\n",
            " inputs (InputLayer)         [(None, 28, 28, 1)]       0         \n",
            "                                                                 \n",
            " conv2d_layer (Conv2D)       (None, 26, 26, 32)        320       \n",
            "                                                                 \n",
            " maxpool_layer (MaxPooling2  (None, 13, 13, 32)        0         \n",
            " D)                                                              \n",
            "                                                                 \n",
            " flatten_layer (Flatten)     (None, 5408)              0         \n",
            "                                                                 \n",
            " dense_2 (Dense)             (None, 10)                54090     \n",
            "                                                                 \n",
            "=================================================================\n",
            "Total params: 54410 (212.54 KB)\n",
            "Trainable params: 54090 (211.29 KB)\n",
            "Non-trainable params: 320 (1.25 KB)\n",
            "_________________________________________________________________\n"
          ]
        }
      ]
    },
    {
      "cell_type": "code",
      "source": [
        "# 모델 컴파일\n",
        "digit_model_frozen.compile(optimizer='adam', loss='sparse_categorical_crossentropy',metrics=['accuracy'])\n",
        "\n",
        "# 모델 훈련\n",
        "history = digit_model_frozen.fit(x_train_in, y_train, validation_data=(x_valid_in, y_valid),epochs=10)"
      ],
      "metadata": {
        "colab": {
          "base_uri": "https://localhost:8080/"
        },
        "id": "aWLE_EmuZm3q",
        "outputId": "f0574b19-06f9-461f-8179-21752b429f2f"
      },
      "execution_count": 40,
      "outputs": [
        {
          "output_type": "stream",
          "name": "stdout",
          "text": [
            "Epoch 1/10\n",
            "1875/1875 [==============================] - 14s 7ms/step - loss: 0.1142 - accuracy: 0.9694 - val_loss: 0.0528 - val_accuracy: 0.9827\n",
            "Epoch 2/10\n",
            "1875/1875 [==============================] - 17s 9ms/step - loss: 0.0475 - accuracy: 0.9863 - val_loss: 0.0496 - val_accuracy: 0.9846\n",
            "Epoch 3/10\n",
            "1875/1875 [==============================] - 17s 9ms/step - loss: 0.0344 - accuracy: 0.9894 - val_loss: 0.0486 - val_accuracy: 0.9835\n",
            "Epoch 4/10\n",
            "1875/1875 [==============================] - 15s 8ms/step - loss: 0.0262 - accuracy: 0.9921 - val_loss: 0.0485 - val_accuracy: 0.9843\n",
            "Epoch 5/10\n",
            "1875/1875 [==============================] - 20s 11ms/step - loss: 0.0209 - accuracy: 0.9939 - val_loss: 0.0523 - val_accuracy: 0.9830\n",
            "Epoch 6/10\n",
            "1875/1875 [==============================] - 23s 12ms/step - loss: 0.0171 - accuracy: 0.9949 - val_loss: 0.0506 - val_accuracy: 0.9848\n",
            "Epoch 7/10\n",
            "1875/1875 [==============================] - 20s 11ms/step - loss: 0.0138 - accuracy: 0.9958 - val_loss: 0.0485 - val_accuracy: 0.9846\n",
            "Epoch 8/10\n",
            "1875/1875 [==============================] - 20s 10ms/step - loss: 0.0112 - accuracy: 0.9971 - val_loss: 0.0569 - val_accuracy: 0.9849\n",
            "Epoch 9/10\n",
            "1875/1875 [==============================] - 20s 11ms/step - loss: 0.0089 - accuracy: 0.9979 - val_loss: 0.0579 - val_accuracy: 0.9845\n",
            "Epoch 10/10\n",
            "1875/1875 [==============================] - 17s 9ms/step - loss: 0.0084 - accuracy: 0.9979 - val_loss: 0.0573 - val_accuracy: 0.9844\n"
          ]
        }
      ]
    },
    {
      "cell_type": "markdown",
      "source": [
        "* 모델 전체가 아닌 특정 레이어를 지정해 파라미터가 업데이트되지 않도록 고정"
      ],
      "metadata": {
        "id": "fodFTLxuZ_Ps"
      }
    },
    {
      "cell_type": "code",
      "source": [
        "# 베이스 모델의 conv2d 레이어의 가중치만 고정\n",
        "base_model_frozen2 = tf.keras.models.Model(inputs=model.input, outputs=base_model_output, name='base_frozen2')\n",
        "base_model_frozen2.get_layer('conv2d_layer').trainable=False\n",
        "base_model_frozen2.summary()"
      ],
      "metadata": {
        "colab": {
          "base_uri": "https://localhost:8080/"
        },
        "id": "TQxV4f9WaD_C",
        "outputId": "683fae38-c376-41f5-e6d9-23b606766896"
      },
      "execution_count": 41,
      "outputs": [
        {
          "output_type": "stream",
          "name": "stdout",
          "text": [
            "Model: \"base_frozen2\"\n",
            "_________________________________________________________________\n",
            " Layer (type)                Output Shape              Param #   \n",
            "=================================================================\n",
            " inputs (InputLayer)         [(None, 28, 28, 1)]       0         \n",
            "                                                                 \n",
            " conv2d_layer (Conv2D)       (None, 26, 26, 32)        320       \n",
            "                                                                 \n",
            " maxpool_layer (MaxPooling2  (None, 13, 13, 32)        0         \n",
            " D)                                                              \n",
            "                                                                 \n",
            " flatten_layer (Flatten)     (None, 5408)              0         \n",
            "                                                                 \n",
            "=================================================================\n",
            "Total params: 320 (1.25 KB)\n",
            "Trainable params: 0 (0.00 Byte)\n",
            "Non-trainable params: 320 (1.25 KB)\n",
            "_________________________________________________________________\n"
          ]
        }
      ]
    },
    {
      "cell_type": "code",
      "source": [
        "# Functional API 적용\n",
        "dense_output2 = tf.keras.layers.Dense(10, activation='softmax')(base_model_frozen2.output)\n",
        "digit_model_frozen2 = tf.keras.models.Model(inputs=base_model_frozen2.input, outputs=dense_output2)\n",
        "digit_model_frozen2.summary()"
      ],
      "metadata": {
        "colab": {
          "base_uri": "https://localhost:8080/"
        },
        "id": "ej0zsIjaakVU",
        "outputId": "52bfb5a1-6acf-4fec-d607-851cd2658fbb"
      },
      "execution_count": 42,
      "outputs": [
        {
          "output_type": "stream",
          "name": "stdout",
          "text": [
            "Model: \"model_4\"\n",
            "_________________________________________________________________\n",
            " Layer (type)                Output Shape              Param #   \n",
            "=================================================================\n",
            " inputs (InputLayer)         [(None, 28, 28, 1)]       0         \n",
            "                                                                 \n",
            " conv2d_layer (Conv2D)       (None, 26, 26, 32)        320       \n",
            "                                                                 \n",
            " maxpool_layer (MaxPooling2  (None, 13, 13, 32)        0         \n",
            " D)                                                              \n",
            "                                                                 \n",
            " flatten_layer (Flatten)     (None, 5408)              0         \n",
            "                                                                 \n",
            " dense_3 (Dense)             (None, 10)                54090     \n",
            "                                                                 \n",
            "=================================================================\n",
            "Total params: 54410 (212.54 KB)\n",
            "Trainable params: 54090 (211.29 KB)\n",
            "Non-trainable params: 320 (1.25 KB)\n",
            "_________________________________________________________________\n"
          ]
        }
      ]
    },
    {
      "cell_type": "code",
      "source": [
        "# 모델 컴파일\n",
        "digit_model_frozen2.compile(optimizer='adam', loss='sparse_categorical_crossentropy',metrics=['accuracy'])\n",
        "\n",
        "# 모델 훈련\n",
        "history = digit_model_frozen2.fit(x_train_in, y_train, validati on_data=(x_valid_in, y_valid),epochs=10)"
      ],
      "metadata": {
        "colab": {
          "base_uri": "https://localhost:8080/"
        },
        "id": "-NqBg05zaw-3",
        "outputId": "e4840977-77e1-4474-de3e-830106467dd9"
      },
      "execution_count": 43,
      "outputs": [
        {
          "output_type": "stream",
          "name": "stdout",
          "text": [
            "Epoch 1/10\n",
            "1875/1875 [==============================] - 13s 7ms/step - loss: 0.1147 - accuracy: 0.9692 - val_loss: 0.0586 - val_accuracy: 0.9805\n",
            "Epoch 2/10\n",
            "1875/1875 [==============================] - 13s 7ms/step - loss: 0.0472 - accuracy: 0.9861 - val_loss: 0.0529 - val_accuracy: 0.9827\n",
            "Epoch 3/10\n",
            "1875/1875 [==============================] - 14s 7ms/step - loss: 0.0348 - accuracy: 0.9895 - val_loss: 0.0473 - val_accuracy: 0.9856\n",
            "Epoch 4/10\n",
            "1875/1875 [==============================] - 12s 7ms/step - loss: 0.0266 - accuracy: 0.9919 - val_loss: 0.0545 - val_accuracy: 0.9835\n",
            "Epoch 5/10\n",
            "1875/1875 [==============================] - 13s 7ms/step - loss: 0.0207 - accuracy: 0.9937 - val_loss: 0.0557 - val_accuracy: 0.9830\n",
            "Epoch 6/10\n",
            "1875/1875 [==============================] - 13s 7ms/step - loss: 0.0171 - accuracy: 0.9948 - val_loss: 0.0487 - val_accuracy: 0.9856\n",
            "Epoch 7/10\n",
            "1875/1875 [==============================] - 13s 7ms/step - loss: 0.0140 - accuracy: 0.9957 - val_loss: 0.0524 - val_accuracy: 0.9842\n",
            "Epoch 8/10\n",
            "1875/1875 [==============================] - 13s 7ms/step - loss: 0.0112 - accuracy: 0.9969 - val_loss: 0.0599 - val_accuracy: 0.9828\n",
            "Epoch 9/10\n",
            "1875/1875 [==============================] - 13s 7ms/step - loss: 0.0090 - accuracy: 0.9974 - val_loss: 0.0598 - val_accuracy: 0.9839\n",
            "Epoch 10/10\n",
            "1875/1875 [==============================] - 13s 7ms/step - loss: 0.0080 - accuracy: 0.9978 - val_loss: 0.0619 - val_accuracy: 0.9832\n"
          ]
        }
      ]
    }
  ]
}