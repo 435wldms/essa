{
  "nbformat": 4,
  "nbformat_minor": 0,
  "metadata": {
    "colab": {
      "provenance": [],
      "authorship_tag": "ABX9TyPRjXeyilrUcbP059yNxAn9",
      "include_colab_link": true
    },
    "kernelspec": {
      "name": "python3",
      "display_name": "Python 3"
    },
    "language_info": {
      "name": "python"
    }
  },
  "cells": [
    {
      "cell_type": "markdown",
      "metadata": {
        "id": "view-in-github",
        "colab_type": "text"
      },
      "source": [
        "<a href=\"https://colab.research.google.com/github/435wldms/essa/blob/main/20230515_%EA%B3%BC%EC%A0%9C.ipynb\" target=\"_parent\"><img src=\"https://colab.research.google.com/assets/colab-badge.svg\" alt=\"Open In Colab\"/></a>"
      ]
    },
    {
      "cell_type": "markdown",
      "source": [
        "# 08 분류 실습 - 캐글 산탄데르 고객 만족 예측"
      ],
      "metadata": {
        "id": "JImF53Gimwsl"
      }
    },
    {
      "cell_type": "markdown",
      "source": [
        "* 데이터 전처리"
      ],
      "metadata": {
        "id": "LmKdsyeCm0kf"
      }
    },
    {
      "cell_type": "code",
      "execution_count": null,
      "metadata": {
        "colab": {
          "base_uri": "https://localhost:8080/",
          "height": 255
        },
        "id": "pltvqGJBmNPV",
        "outputId": "a152c102-2b3a-4fcc-a18f-1347763baadd"
      },
      "outputs": [
        {
          "output_type": "stream",
          "name": "stdout",
          "text": [
            "dataset shape: (63115, 371)\n"
          ]
        },
        {
          "output_type": "execute_result",
          "data": {
            "text/plain": [
              "   ID  var3  var15  imp_ent_var16_ult1  imp_op_var39_comer_ult1  \\\n",
              "0   1     2     23                 0.0                      0.0   \n",
              "1   3     2     34                 0.0                      0.0   \n",
              "2   4     2     23                 0.0                      0.0   \n",
              "\n",
              "   imp_op_var39_comer_ult3  imp_op_var40_comer_ult1  imp_op_var40_comer_ult3  \\\n",
              "0                      0.0                      0.0                      0.0   \n",
              "1                      0.0                      0.0                      0.0   \n",
              "2                      0.0                      0.0                      0.0   \n",
              "\n",
              "   imp_op_var40_efect_ult1  imp_op_var40_efect_ult3  ...  \\\n",
              "0                      0.0                      0.0  ...   \n",
              "1                      0.0                      0.0  ...   \n",
              "2                      0.0                      0.0  ...   \n",
              "\n",
              "   saldo_medio_var33_hace2  saldo_medio_var33_hace3  saldo_medio_var33_ult1  \\\n",
              "0                      0.0                      0.0                     0.0   \n",
              "1                      0.0                      0.0                     0.0   \n",
              "2                      0.0                      0.0                     0.0   \n",
              "\n",
              "   saldo_medio_var33_ult3  saldo_medio_var44_hace2  saldo_medio_var44_hace3  \\\n",
              "0                     0.0                      0.0                      0.0   \n",
              "1                     0.0                      0.0                      0.0   \n",
              "2                     0.0                      0.0                      0.0   \n",
              "\n",
              "   saldo_medio_var44_ult1  saldo_medio_var44_ult3     var38  TARGET  \n",
              "0                     0.0                     0.0  39205.17     0.0  \n",
              "1                     0.0                     0.0  49278.03     0.0  \n",
              "2                     0.0                     0.0  67333.77     0.0  \n",
              "\n",
              "[3 rows x 371 columns]"
            ],
            "text/html": [
              "\n",
              "  <div id=\"df-00fa46b0-2f05-4f1e-95ea-8e7f46de11b4\">\n",
              "    <div class=\"colab-df-container\">\n",
              "      <div>\n",
              "<style scoped>\n",
              "    .dataframe tbody tr th:only-of-type {\n",
              "        vertical-align: middle;\n",
              "    }\n",
              "\n",
              "    .dataframe tbody tr th {\n",
              "        vertical-align: top;\n",
              "    }\n",
              "\n",
              "    .dataframe thead th {\n",
              "        text-align: right;\n",
              "    }\n",
              "</style>\n",
              "<table border=\"1\" class=\"dataframe\">\n",
              "  <thead>\n",
              "    <tr style=\"text-align: right;\">\n",
              "      <th></th>\n",
              "      <th>ID</th>\n",
              "      <th>var3</th>\n",
              "      <th>var15</th>\n",
              "      <th>imp_ent_var16_ult1</th>\n",
              "      <th>imp_op_var39_comer_ult1</th>\n",
              "      <th>imp_op_var39_comer_ult3</th>\n",
              "      <th>imp_op_var40_comer_ult1</th>\n",
              "      <th>imp_op_var40_comer_ult3</th>\n",
              "      <th>imp_op_var40_efect_ult1</th>\n",
              "      <th>imp_op_var40_efect_ult3</th>\n",
              "      <th>...</th>\n",
              "      <th>saldo_medio_var33_hace2</th>\n",
              "      <th>saldo_medio_var33_hace3</th>\n",
              "      <th>saldo_medio_var33_ult1</th>\n",
              "      <th>saldo_medio_var33_ult3</th>\n",
              "      <th>saldo_medio_var44_hace2</th>\n",
              "      <th>saldo_medio_var44_hace3</th>\n",
              "      <th>saldo_medio_var44_ult1</th>\n",
              "      <th>saldo_medio_var44_ult3</th>\n",
              "      <th>var38</th>\n",
              "      <th>TARGET</th>\n",
              "    </tr>\n",
              "  </thead>\n",
              "  <tbody>\n",
              "    <tr>\n",
              "      <th>0</th>\n",
              "      <td>1</td>\n",
              "      <td>2</td>\n",
              "      <td>23</td>\n",
              "      <td>0.0</td>\n",
              "      <td>0.0</td>\n",
              "      <td>0.0</td>\n",
              "      <td>0.0</td>\n",
              "      <td>0.0</td>\n",
              "      <td>0.0</td>\n",
              "      <td>0.0</td>\n",
              "      <td>...</td>\n",
              "      <td>0.0</td>\n",
              "      <td>0.0</td>\n",
              "      <td>0.0</td>\n",
              "      <td>0.0</td>\n",
              "      <td>0.0</td>\n",
              "      <td>0.0</td>\n",
              "      <td>0.0</td>\n",
              "      <td>0.0</td>\n",
              "      <td>39205.17</td>\n",
              "      <td>0.0</td>\n",
              "    </tr>\n",
              "    <tr>\n",
              "      <th>1</th>\n",
              "      <td>3</td>\n",
              "      <td>2</td>\n",
              "      <td>34</td>\n",
              "      <td>0.0</td>\n",
              "      <td>0.0</td>\n",
              "      <td>0.0</td>\n",
              "      <td>0.0</td>\n",
              "      <td>0.0</td>\n",
              "      <td>0.0</td>\n",
              "      <td>0.0</td>\n",
              "      <td>...</td>\n",
              "      <td>0.0</td>\n",
              "      <td>0.0</td>\n",
              "      <td>0.0</td>\n",
              "      <td>0.0</td>\n",
              "      <td>0.0</td>\n",
              "      <td>0.0</td>\n",
              "      <td>0.0</td>\n",
              "      <td>0.0</td>\n",
              "      <td>49278.03</td>\n",
              "      <td>0.0</td>\n",
              "    </tr>\n",
              "    <tr>\n",
              "      <th>2</th>\n",
              "      <td>4</td>\n",
              "      <td>2</td>\n",
              "      <td>23</td>\n",
              "      <td>0.0</td>\n",
              "      <td>0.0</td>\n",
              "      <td>0.0</td>\n",
              "      <td>0.0</td>\n",
              "      <td>0.0</td>\n",
              "      <td>0.0</td>\n",
              "      <td>0.0</td>\n",
              "      <td>...</td>\n",
              "      <td>0.0</td>\n",
              "      <td>0.0</td>\n",
              "      <td>0.0</td>\n",
              "      <td>0.0</td>\n",
              "      <td>0.0</td>\n",
              "      <td>0.0</td>\n",
              "      <td>0.0</td>\n",
              "      <td>0.0</td>\n",
              "      <td>67333.77</td>\n",
              "      <td>0.0</td>\n",
              "    </tr>\n",
              "  </tbody>\n",
              "</table>\n",
              "<p>3 rows × 371 columns</p>\n",
              "</div>\n",
              "      <button class=\"colab-df-convert\" onclick=\"convertToInteractive('df-00fa46b0-2f05-4f1e-95ea-8e7f46de11b4')\"\n",
              "              title=\"Convert this dataframe to an interactive table.\"\n",
              "              style=\"display:none;\">\n",
              "        \n",
              "  <svg xmlns=\"http://www.w3.org/2000/svg\" height=\"24px\"viewBox=\"0 0 24 24\"\n",
              "       width=\"24px\">\n",
              "    <path d=\"M0 0h24v24H0V0z\" fill=\"none\"/>\n",
              "    <path d=\"M18.56 5.44l.94 2.06.94-2.06 2.06-.94-2.06-.94-.94-2.06-.94 2.06-2.06.94zm-11 1L8.5 8.5l.94-2.06 2.06-.94-2.06-.94L8.5 2.5l-.94 2.06-2.06.94zm10 10l.94 2.06.94-2.06 2.06-.94-2.06-.94-.94-2.06-.94 2.06-2.06.94z\"/><path d=\"M17.41 7.96l-1.37-1.37c-.4-.4-.92-.59-1.43-.59-.52 0-1.04.2-1.43.59L10.3 9.45l-7.72 7.72c-.78.78-.78 2.05 0 2.83L4 21.41c.39.39.9.59 1.41.59.51 0 1.02-.2 1.41-.59l7.78-7.78 2.81-2.81c.8-.78.8-2.07 0-2.86zM5.41 20L4 18.59l7.72-7.72 1.47 1.35L5.41 20z\"/>\n",
              "  </svg>\n",
              "      </button>\n",
              "      \n",
              "  <style>\n",
              "    .colab-df-container {\n",
              "      display:flex;\n",
              "      flex-wrap:wrap;\n",
              "      gap: 12px;\n",
              "    }\n",
              "\n",
              "    .colab-df-convert {\n",
              "      background-color: #E8F0FE;\n",
              "      border: none;\n",
              "      border-radius: 50%;\n",
              "      cursor: pointer;\n",
              "      display: none;\n",
              "      fill: #1967D2;\n",
              "      height: 32px;\n",
              "      padding: 0 0 0 0;\n",
              "      width: 32px;\n",
              "    }\n",
              "\n",
              "    .colab-df-convert:hover {\n",
              "      background-color: #E2EBFA;\n",
              "      box-shadow: 0px 1px 2px rgba(60, 64, 67, 0.3), 0px 1px 3px 1px rgba(60, 64, 67, 0.15);\n",
              "      fill: #174EA6;\n",
              "    }\n",
              "\n",
              "    [theme=dark] .colab-df-convert {\n",
              "      background-color: #3B4455;\n",
              "      fill: #D2E3FC;\n",
              "    }\n",
              "\n",
              "    [theme=dark] .colab-df-convert:hover {\n",
              "      background-color: #434B5C;\n",
              "      box-shadow: 0px 1px 3px 1px rgba(0, 0, 0, 0.15);\n",
              "      filter: drop-shadow(0px 1px 2px rgba(0, 0, 0, 0.3));\n",
              "      fill: #FFFFFF;\n",
              "    }\n",
              "  </style>\n",
              "\n",
              "      <script>\n",
              "        const buttonEl =\n",
              "          document.querySelector('#df-00fa46b0-2f05-4f1e-95ea-8e7f46de11b4 button.colab-df-convert');\n",
              "        buttonEl.style.display =\n",
              "          google.colab.kernel.accessAllowed ? 'block' : 'none';\n",
              "\n",
              "        async function convertToInteractive(key) {\n",
              "          const element = document.querySelector('#df-00fa46b0-2f05-4f1e-95ea-8e7f46de11b4');\n",
              "          const dataTable =\n",
              "            await google.colab.kernel.invokeFunction('convertToInteractive',\n",
              "                                                     [key], {});\n",
              "          if (!dataTable) return;\n",
              "\n",
              "          const docLinkHtml = 'Like what you see? Visit the ' +\n",
              "            '<a target=\"_blank\" href=https://colab.research.google.com/notebooks/data_table.ipynb>data table notebook</a>'\n",
              "            + ' to learn more about interactive tables.';\n",
              "          element.innerHTML = '';\n",
              "          dataTable['output_type'] = 'display_data';\n",
              "          await google.colab.output.renderOutput(dataTable, element);\n",
              "          const docLink = document.createElement('div');\n",
              "          docLink.innerHTML = docLinkHtml;\n",
              "          element.appendChild(docLink);\n",
              "        }\n",
              "      </script>\n",
              "    </div>\n",
              "  </div>\n",
              "  "
            ]
          },
          "metadata": {},
          "execution_count": 12
        }
      ],
      "source": [
        "import numpy as np\n",
        "import pandas as pd\n",
        "import matplotlib.pyplot as plt\n",
        "import matplotlib\n",
        "\n",
        "cust_df = pd.read_csv('train_santander.csv',encoding='latin-1')\n",
        "print('dataset shape:',cust_df.shape)\n",
        "cust_df.head(3)"
      ]
    },
    {
      "cell_type": "code",
      "source": [
        "cust_df.info()"
      ],
      "metadata": {
        "colab": {
          "base_uri": "https://localhost:8080/"
        },
        "id": "M7PhXI2xo_3u",
        "outputId": "5cea0751-73c9-4484-f9d2-af1e1eeadedd"
      },
      "execution_count": null,
      "outputs": [
        {
          "output_type": "stream",
          "name": "stdout",
          "text": [
            "<class 'pandas.core.frame.DataFrame'>\n",
            "RangeIndex: 63115 entries, 0 to 63114\n",
            "Columns: 371 entries, ID to TARGET\n",
            "dtypes: float64(166), int64(205)\n",
            "memory usage: 178.6 MB\n"
          ]
        }
      ]
    },
    {
      "cell_type": "markdown",
      "source": [
        "-> 111개 피처가 float, 260개 피처가 int 형, null값 없음."
      ],
      "metadata": {
        "id": "NAGb6FenpNeC"
      }
    },
    {
      "cell_type": "code",
      "source": [
        "print(cust_df['TARGET'].value_counts())\n",
        "unsatisfied_cnt = cust_df[cust_df['TARGET']==1].TARGET.count()\n",
        "total_cnt = cust_df.TARGET.count()\n",
        "print('unsatisfied 비율은 {0:.2f}'.format((unsatisfied_cnt/total_cnt)))"
      ],
      "metadata": {
        "colab": {
          "base_uri": "https://localhost:8080/"
        },
        "id": "mfU2U0E_pMQL",
        "outputId": "1d2dc68e-8747-4ae5-faa4-55dac6d97716"
      },
      "execution_count": null,
      "outputs": [
        {
          "output_type": "stream",
          "name": "stdout",
          "text": [
            "0.0    60663\n",
            "1.0     2451\n",
            "Name: TARGET, dtype: int64\n",
            "unsatisfied 비율은 0.04\n"
          ]
        }
      ]
    },
    {
      "cell_type": "code",
      "source": [
        "cust_df.describe()"
      ],
      "metadata": {
        "colab": {
          "base_uri": "https://localhost:8080/",
          "height": 393
        },
        "id": "SvNocef9p1Y1",
        "outputId": "78485e82-44e3-4082-b5df-66fd530ad7c2"
      },
      "execution_count": null,
      "outputs": [
        {
          "output_type": "execute_result",
          "data": {
            "text/plain": [
              "                  ID           var3         var15  imp_ent_var16_ult1  \\\n",
              "count   63115.000000   63115.000000  63115.000000        63115.000000   \n",
              "mean    63091.339301   -1470.767694     33.222150           89.150631   \n",
              "std     36350.241701   38358.285423     12.966501         1717.792884   \n",
              "min         1.000000 -999999.000000      5.000000            0.000000   \n",
              "25%     31683.500000       2.000000     23.000000            0.000000   \n",
              "50%     63083.000000       2.000000     27.000000            0.000000   \n",
              "75%     94584.000000       2.000000     40.000000            0.000000   \n",
              "max    126026.000000     235.000000    105.000000       210000.000000   \n",
              "\n",
              "       imp_op_var39_comer_ult1  imp_op_var39_comer_ult3  \\\n",
              "count             63115.000000             63115.000000   \n",
              "mean                 72.578494               120.376555   \n",
              "std                 338.096189               548.426451   \n",
              "min                   0.000000                 0.000000   \n",
              "25%                   0.000000                 0.000000   \n",
              "50%                   0.000000                 0.000000   \n",
              "75%                   0.000000                 0.000000   \n",
              "max               12888.030000             21024.810000   \n",
              "\n",
              "       imp_op_var40_comer_ult1  imp_op_var40_comer_ult3  \\\n",
              "count             63115.000000             63115.000000   \n",
              "mean                  3.720232                 6.595842   \n",
              "std                  97.696998               156.024451   \n",
              "min                   0.000000                 0.000000   \n",
              "25%                   0.000000                 0.000000   \n",
              "50%                   0.000000                 0.000000   \n",
              "75%                   0.000000                 0.000000   \n",
              "max                8237.820000             11073.570000   \n",
              "\n",
              "       imp_op_var40_efect_ult1  imp_op_var40_efect_ult3  ...  \\\n",
              "count             63115.000000             63115.000000  ...   \n",
              "mean                  0.462682                 0.646758  ...   \n",
              "std                  33.268927                39.802505  ...   \n",
              "min                   0.000000                 0.000000  ...   \n",
              "25%                   0.000000                 0.000000  ...   \n",
              "50%                   0.000000                 0.000000  ...   \n",
              "75%                   0.000000                 0.000000  ...   \n",
              "max                6600.000000              6600.000000  ...   \n",
              "\n",
              "       saldo_medio_var33_hace2  saldo_medio_var33_hace3  \\\n",
              "count             63114.000000             63114.000000   \n",
              "mean                  7.902191                 1.156069   \n",
              "std                 467.613747               105.577977   \n",
              "min                   0.000000                 0.000000   \n",
              "25%                   0.000000                 0.000000   \n",
              "50%                   0.000000                 0.000000   \n",
              "75%                   0.000000                 0.000000   \n",
              "max               50003.880000             20385.720000   \n",
              "\n",
              "       saldo_medio_var33_ult1  saldo_medio_var33_ult3  \\\n",
              "count            63114.000000            63114.000000   \n",
              "mean                12.933760                9.172590   \n",
              "std                837.921658              573.064781   \n",
              "min                  0.000000                0.000000   \n",
              "25%                  0.000000                0.000000   \n",
              "50%                  0.000000                0.000000   \n",
              "75%                  0.000000                0.000000   \n",
              "max             138831.630000            91778.730000   \n",
              "\n",
              "       saldo_medio_var44_hace2  saldo_medio_var44_hace3  \\\n",
              "count             63114.000000             63114.000000   \n",
              "mean                 33.702799                 2.238630   \n",
              "std                2156.524175               162.192083   \n",
              "min                   0.000000                 0.000000   \n",
              "25%                   0.000000                 0.000000   \n",
              "50%                   0.000000                 0.000000   \n",
              "75%                   0.000000                 0.000000   \n",
              "max              438329.220000             24650.010000   \n",
              "\n",
              "       saldo_medio_var44_ult1  saldo_medio_var44_ult3         var38  \\\n",
              "count            63114.000000            63114.000000  6.311400e+04   \n",
              "mean                76.321687               56.249881  1.176059e+05   \n",
              "std               4046.707449             2820.431585  1.940669e+05   \n",
              "min                  0.000000                0.000000  5.163750e+03   \n",
              "25%                  0.000000                0.000000  6.783193e+04   \n",
              "50%                  0.000000                0.000000  1.065594e+05   \n",
              "75%                  0.000000                0.000000  1.188659e+05   \n",
              "max             681462.900000           397884.300000  2.203474e+07   \n",
              "\n",
              "             TARGET  \n",
              "count  63114.000000  \n",
              "mean       0.038834  \n",
              "std        0.193202  \n",
              "min        0.000000  \n",
              "25%        0.000000  \n",
              "50%        0.000000  \n",
              "75%        0.000000  \n",
              "max        1.000000  \n",
              "\n",
              "[8 rows x 371 columns]"
            ],
            "text/html": [
              "\n",
              "  <div id=\"df-590cafd1-5e80-4029-a81c-afbce2fa6ecf\">\n",
              "    <div class=\"colab-df-container\">\n",
              "      <div>\n",
              "<style scoped>\n",
              "    .dataframe tbody tr th:only-of-type {\n",
              "        vertical-align: middle;\n",
              "    }\n",
              "\n",
              "    .dataframe tbody tr th {\n",
              "        vertical-align: top;\n",
              "    }\n",
              "\n",
              "    .dataframe thead th {\n",
              "        text-align: right;\n",
              "    }\n",
              "</style>\n",
              "<table border=\"1\" class=\"dataframe\">\n",
              "  <thead>\n",
              "    <tr style=\"text-align: right;\">\n",
              "      <th></th>\n",
              "      <th>ID</th>\n",
              "      <th>var3</th>\n",
              "      <th>var15</th>\n",
              "      <th>imp_ent_var16_ult1</th>\n",
              "      <th>imp_op_var39_comer_ult1</th>\n",
              "      <th>imp_op_var39_comer_ult3</th>\n",
              "      <th>imp_op_var40_comer_ult1</th>\n",
              "      <th>imp_op_var40_comer_ult3</th>\n",
              "      <th>imp_op_var40_efect_ult1</th>\n",
              "      <th>imp_op_var40_efect_ult3</th>\n",
              "      <th>...</th>\n",
              "      <th>saldo_medio_var33_hace2</th>\n",
              "      <th>saldo_medio_var33_hace3</th>\n",
              "      <th>saldo_medio_var33_ult1</th>\n",
              "      <th>saldo_medio_var33_ult3</th>\n",
              "      <th>saldo_medio_var44_hace2</th>\n",
              "      <th>saldo_medio_var44_hace3</th>\n",
              "      <th>saldo_medio_var44_ult1</th>\n",
              "      <th>saldo_medio_var44_ult3</th>\n",
              "      <th>var38</th>\n",
              "      <th>TARGET</th>\n",
              "    </tr>\n",
              "  </thead>\n",
              "  <tbody>\n",
              "    <tr>\n",
              "      <th>count</th>\n",
              "      <td>63115.000000</td>\n",
              "      <td>63115.000000</td>\n",
              "      <td>63115.000000</td>\n",
              "      <td>63115.000000</td>\n",
              "      <td>63115.000000</td>\n",
              "      <td>63115.000000</td>\n",
              "      <td>63115.000000</td>\n",
              "      <td>63115.000000</td>\n",
              "      <td>63115.000000</td>\n",
              "      <td>63115.000000</td>\n",
              "      <td>...</td>\n",
              "      <td>63114.000000</td>\n",
              "      <td>63114.000000</td>\n",
              "      <td>63114.000000</td>\n",
              "      <td>63114.000000</td>\n",
              "      <td>63114.000000</td>\n",
              "      <td>63114.000000</td>\n",
              "      <td>63114.000000</td>\n",
              "      <td>63114.000000</td>\n",
              "      <td>6.311400e+04</td>\n",
              "      <td>63114.000000</td>\n",
              "    </tr>\n",
              "    <tr>\n",
              "      <th>mean</th>\n",
              "      <td>63091.339301</td>\n",
              "      <td>-1470.767694</td>\n",
              "      <td>33.222150</td>\n",
              "      <td>89.150631</td>\n",
              "      <td>72.578494</td>\n",
              "      <td>120.376555</td>\n",
              "      <td>3.720232</td>\n",
              "      <td>6.595842</td>\n",
              "      <td>0.462682</td>\n",
              "      <td>0.646758</td>\n",
              "      <td>...</td>\n",
              "      <td>7.902191</td>\n",
              "      <td>1.156069</td>\n",
              "      <td>12.933760</td>\n",
              "      <td>9.172590</td>\n",
              "      <td>33.702799</td>\n",
              "      <td>2.238630</td>\n",
              "      <td>76.321687</td>\n",
              "      <td>56.249881</td>\n",
              "      <td>1.176059e+05</td>\n",
              "      <td>0.038834</td>\n",
              "    </tr>\n",
              "    <tr>\n",
              "      <th>std</th>\n",
              "      <td>36350.241701</td>\n",
              "      <td>38358.285423</td>\n",
              "      <td>12.966501</td>\n",
              "      <td>1717.792884</td>\n",
              "      <td>338.096189</td>\n",
              "      <td>548.426451</td>\n",
              "      <td>97.696998</td>\n",
              "      <td>156.024451</td>\n",
              "      <td>33.268927</td>\n",
              "      <td>39.802505</td>\n",
              "      <td>...</td>\n",
              "      <td>467.613747</td>\n",
              "      <td>105.577977</td>\n",
              "      <td>837.921658</td>\n",
              "      <td>573.064781</td>\n",
              "      <td>2156.524175</td>\n",
              "      <td>162.192083</td>\n",
              "      <td>4046.707449</td>\n",
              "      <td>2820.431585</td>\n",
              "      <td>1.940669e+05</td>\n",
              "      <td>0.193202</td>\n",
              "    </tr>\n",
              "    <tr>\n",
              "      <th>min</th>\n",
              "      <td>1.000000</td>\n",
              "      <td>-999999.000000</td>\n",
              "      <td>5.000000</td>\n",
              "      <td>0.000000</td>\n",
              "      <td>0.000000</td>\n",
              "      <td>0.000000</td>\n",
              "      <td>0.000000</td>\n",
              "      <td>0.000000</td>\n",
              "      <td>0.000000</td>\n",
              "      <td>0.000000</td>\n",
              "      <td>...</td>\n",
              "      <td>0.000000</td>\n",
              "      <td>0.000000</td>\n",
              "      <td>0.000000</td>\n",
              "      <td>0.000000</td>\n",
              "      <td>0.000000</td>\n",
              "      <td>0.000000</td>\n",
              "      <td>0.000000</td>\n",
              "      <td>0.000000</td>\n",
              "      <td>5.163750e+03</td>\n",
              "      <td>0.000000</td>\n",
              "    </tr>\n",
              "    <tr>\n",
              "      <th>25%</th>\n",
              "      <td>31683.500000</td>\n",
              "      <td>2.000000</td>\n",
              "      <td>23.000000</td>\n",
              "      <td>0.000000</td>\n",
              "      <td>0.000000</td>\n",
              "      <td>0.000000</td>\n",
              "      <td>0.000000</td>\n",
              "      <td>0.000000</td>\n",
              "      <td>0.000000</td>\n",
              "      <td>0.000000</td>\n",
              "      <td>...</td>\n",
              "      <td>0.000000</td>\n",
              "      <td>0.000000</td>\n",
              "      <td>0.000000</td>\n",
              "      <td>0.000000</td>\n",
              "      <td>0.000000</td>\n",
              "      <td>0.000000</td>\n",
              "      <td>0.000000</td>\n",
              "      <td>0.000000</td>\n",
              "      <td>6.783193e+04</td>\n",
              "      <td>0.000000</td>\n",
              "    </tr>\n",
              "    <tr>\n",
              "      <th>50%</th>\n",
              "      <td>63083.000000</td>\n",
              "      <td>2.000000</td>\n",
              "      <td>27.000000</td>\n",
              "      <td>0.000000</td>\n",
              "      <td>0.000000</td>\n",
              "      <td>0.000000</td>\n",
              "      <td>0.000000</td>\n",
              "      <td>0.000000</td>\n",
              "      <td>0.000000</td>\n",
              "      <td>0.000000</td>\n",
              "      <td>...</td>\n",
              "      <td>0.000000</td>\n",
              "      <td>0.000000</td>\n",
              "      <td>0.000000</td>\n",
              "      <td>0.000000</td>\n",
              "      <td>0.000000</td>\n",
              "      <td>0.000000</td>\n",
              "      <td>0.000000</td>\n",
              "      <td>0.000000</td>\n",
              "      <td>1.065594e+05</td>\n",
              "      <td>0.000000</td>\n",
              "    </tr>\n",
              "    <tr>\n",
              "      <th>75%</th>\n",
              "      <td>94584.000000</td>\n",
              "      <td>2.000000</td>\n",
              "      <td>40.000000</td>\n",
              "      <td>0.000000</td>\n",
              "      <td>0.000000</td>\n",
              "      <td>0.000000</td>\n",
              "      <td>0.000000</td>\n",
              "      <td>0.000000</td>\n",
              "      <td>0.000000</td>\n",
              "      <td>0.000000</td>\n",
              "      <td>...</td>\n",
              "      <td>0.000000</td>\n",
              "      <td>0.000000</td>\n",
              "      <td>0.000000</td>\n",
              "      <td>0.000000</td>\n",
              "      <td>0.000000</td>\n",
              "      <td>0.000000</td>\n",
              "      <td>0.000000</td>\n",
              "      <td>0.000000</td>\n",
              "      <td>1.188659e+05</td>\n",
              "      <td>0.000000</td>\n",
              "    </tr>\n",
              "    <tr>\n",
              "      <th>max</th>\n",
              "      <td>126026.000000</td>\n",
              "      <td>235.000000</td>\n",
              "      <td>105.000000</td>\n",
              "      <td>210000.000000</td>\n",
              "      <td>12888.030000</td>\n",
              "      <td>21024.810000</td>\n",
              "      <td>8237.820000</td>\n",
              "      <td>11073.570000</td>\n",
              "      <td>6600.000000</td>\n",
              "      <td>6600.000000</td>\n",
              "      <td>...</td>\n",
              "      <td>50003.880000</td>\n",
              "      <td>20385.720000</td>\n",
              "      <td>138831.630000</td>\n",
              "      <td>91778.730000</td>\n",
              "      <td>438329.220000</td>\n",
              "      <td>24650.010000</td>\n",
              "      <td>681462.900000</td>\n",
              "      <td>397884.300000</td>\n",
              "      <td>2.203474e+07</td>\n",
              "      <td>1.000000</td>\n",
              "    </tr>\n",
              "  </tbody>\n",
              "</table>\n",
              "<p>8 rows × 371 columns</p>\n",
              "</div>\n",
              "      <button class=\"colab-df-convert\" onclick=\"convertToInteractive('df-590cafd1-5e80-4029-a81c-afbce2fa6ecf')\"\n",
              "              title=\"Convert this dataframe to an interactive table.\"\n",
              "              style=\"display:none;\">\n",
              "        \n",
              "  <svg xmlns=\"http://www.w3.org/2000/svg\" height=\"24px\"viewBox=\"0 0 24 24\"\n",
              "       width=\"24px\">\n",
              "    <path d=\"M0 0h24v24H0V0z\" fill=\"none\"/>\n",
              "    <path d=\"M18.56 5.44l.94 2.06.94-2.06 2.06-.94-2.06-.94-.94-2.06-.94 2.06-2.06.94zm-11 1L8.5 8.5l.94-2.06 2.06-.94-2.06-.94L8.5 2.5l-.94 2.06-2.06.94zm10 10l.94 2.06.94-2.06 2.06-.94-2.06-.94-.94-2.06-.94 2.06-2.06.94z\"/><path d=\"M17.41 7.96l-1.37-1.37c-.4-.4-.92-.59-1.43-.59-.52 0-1.04.2-1.43.59L10.3 9.45l-7.72 7.72c-.78.78-.78 2.05 0 2.83L4 21.41c.39.39.9.59 1.41.59.51 0 1.02-.2 1.41-.59l7.78-7.78 2.81-2.81c.8-.78.8-2.07 0-2.86zM5.41 20L4 18.59l7.72-7.72 1.47 1.35L5.41 20z\"/>\n",
              "  </svg>\n",
              "      </button>\n",
              "      \n",
              "  <style>\n",
              "    .colab-df-container {\n",
              "      display:flex;\n",
              "      flex-wrap:wrap;\n",
              "      gap: 12px;\n",
              "    }\n",
              "\n",
              "    .colab-df-convert {\n",
              "      background-color: #E8F0FE;\n",
              "      border: none;\n",
              "      border-radius: 50%;\n",
              "      cursor: pointer;\n",
              "      display: none;\n",
              "      fill: #1967D2;\n",
              "      height: 32px;\n",
              "      padding: 0 0 0 0;\n",
              "      width: 32px;\n",
              "    }\n",
              "\n",
              "    .colab-df-convert:hover {\n",
              "      background-color: #E2EBFA;\n",
              "      box-shadow: 0px 1px 2px rgba(60, 64, 67, 0.3), 0px 1px 3px 1px rgba(60, 64, 67, 0.15);\n",
              "      fill: #174EA6;\n",
              "    }\n",
              "\n",
              "    [theme=dark] .colab-df-convert {\n",
              "      background-color: #3B4455;\n",
              "      fill: #D2E3FC;\n",
              "    }\n",
              "\n",
              "    [theme=dark] .colab-df-convert:hover {\n",
              "      background-color: #434B5C;\n",
              "      box-shadow: 0px 1px 3px 1px rgba(0, 0, 0, 0.15);\n",
              "      filter: drop-shadow(0px 1px 2px rgba(0, 0, 0, 0.3));\n",
              "      fill: #FFFFFF;\n",
              "    }\n",
              "  </style>\n",
              "\n",
              "      <script>\n",
              "        const buttonEl =\n",
              "          document.querySelector('#df-590cafd1-5e80-4029-a81c-afbce2fa6ecf button.colab-df-convert');\n",
              "        buttonEl.style.display =\n",
              "          google.colab.kernel.accessAllowed ? 'block' : 'none';\n",
              "\n",
              "        async function convertToInteractive(key) {\n",
              "          const element = document.querySelector('#df-590cafd1-5e80-4029-a81c-afbce2fa6ecf');\n",
              "          const dataTable =\n",
              "            await google.colab.kernel.invokeFunction('convertToInteractive',\n",
              "                                                     [key], {});\n",
              "          if (!dataTable) return;\n",
              "\n",
              "          const docLinkHtml = 'Like what you see? Visit the ' +\n",
              "            '<a target=\"_blank\" href=https://colab.research.google.com/notebooks/data_table.ipynb>data table notebook</a>'\n",
              "            + ' to learn more about interactive tables.';\n",
              "          element.innerHTML = '';\n",
              "          dataTable['output_type'] = 'display_data';\n",
              "          await google.colab.output.renderOutput(dataTable, element);\n",
              "          const docLink = document.createElement('div');\n",
              "          docLink.innerHTML = docLinkHtml;\n",
              "          element.appendChild(docLink);\n",
              "        }\n",
              "      </script>\n",
              "    </div>\n",
              "  </div>\n",
              "  "
            ]
          },
          "metadata": {},
          "execution_count": 15
        }
      ]
    },
    {
      "cell_type": "markdown",
      "source": [
        "-> 결과: var3 칼럼의 min 값이 -999999로 nan이나 예외 값을 변환한 것으로 보임 -> 편차가 너무 심하기 대문에 -999999를 가장 값이 많은 2로 변환 & ID는 의미가 없어서 드롭"
      ],
      "metadata": {
        "id": "tYfB9Xqvp-ll"
      }
    },
    {
      "cell_type": "code",
      "source": [
        "cust_df['var3'].replace(-999999,2,inplace=True)\n",
        "cust_df.drop('ID',axis=1,inplace=True)\n",
        "\n",
        "# 피처 세트와 레이블 세트 분리. 레이블 칼럼은 DataFrame의 맨 마지막에 위치해 칼럼 위치 -1로 분리\n",
        "X_features = cust_df.iloc[:,:-1]\n",
        "y_labels = cust_df.iloc[:,-1]\n",
        "print('피처 데이터 shape:{0}'.format(X_features.shape))"
      ],
      "metadata": {
        "colab": {
          "base_uri": "https://localhost:8080/"
        },
        "id": "2Z0HbClPqUCJ",
        "outputId": "1d3f408c-3cc0-4db9-c3f3-c1f6e3cc0aa8"
      },
      "execution_count": null,
      "outputs": [
        {
          "output_type": "stream",
          "name": "stdout",
          "text": [
            "피처 데이터 shape:(63115, 369)\n"
          ]
        }
      ]
    },
    {
      "cell_type": "code",
      "source": [
        "from sklearn.model_selection import train_test_split\n",
        "\n",
        "X_train, X_test, y_train, y_test = train_test_split(X_features, y_labels, test_size=0.2, random_state=0)\n",
        "\n",
        "train_cnt = y_train.count()\n",
        "test_cnt = y_test.count()\n",
        "print('학습 세트 Shape:{0}, 테스트 세트 Shape:{1}'.format(X_train.shape, X_test.shape))\n",
        "\n",
        "print('학습 세트 레이블 값 분포 비율')\n",
        "print(y_train.value_counts()/train_cnt)\n",
        "\n",
        "print('\\n 테스트 세트 레이블 값 분포 비율')\n",
        "print(y_test.value_counts()/test_cnt)"
      ],
      "metadata": {
        "colab": {
          "base_uri": "https://localhost:8080/"
        },
        "id": "u8esF-PX_OYO",
        "outputId": "b6df6eb4-51b9-4e8c-b142-e23b8b88ba0a"
      },
      "execution_count": null,
      "outputs": [
        {
          "output_type": "stream",
          "name": "stdout",
          "text": [
            "학습 세트 Shape:(50492, 369), 테스트 세트 Shape:(12623, 369)\n",
            "학습 세트 레이블 값 분포 비율\n",
            "0.0    0.960864\n",
            "1.0    0.039136\n",
            "Name: TARGET, dtype: float64\n",
            "\n",
            " 테스트 세트 레이블 값 분포 비율\n",
            "0.0    0.96237\n",
            "1.0    0.03763\n",
            "Name: TARGET, dtype: float64\n"
          ]
        }
      ]
    },
    {
      "cell_type": "markdown",
      "source": [
        "**XGBoost 모델 학습과 하이퍼 파라미터 튜닝**"
      ],
      "metadata": {
        "id": "WkqpkSrrAQ_G"
      }
    },
    {
      "cell_type": "markdown",
      "source": [
        "* XGBClassifier 기반 & 예측 결과는 ROC AUC로 평가, n_estimators=500, early_stopping_rounds=100, eval_metric ='auc'로 설정"
      ],
      "metadata": {
        "id": "02ILBVWQAXL1"
      }
    },
    {
      "cell_type": "code",
      "source": [
        "from xgboost import XGBClassifier\n",
        "from sklearn.metrics import roc_auc_score\n",
        "\n",
        "# n_estimators는 500으로, random state는 예제 수행 시마다 동일 예측 결과를 위해 설정.\n",
        "xgb_clf = XGBClassifier(n_estimators=500, random_state=156)\n",
        "\n",
        "# 성능 평가 지표를 auc로, 조기 중단 파라미터는 100으로 설정하고 학습 수행.\n",
        "xgb_clf.fit(X_train, y_train, early_stopping_rounds=100, eval_metric ='auc',eval_set=[(X_train, y_train),(X_test,y_test)])\n",
        "\n",
        "xgb_roc_score = roc_auc_score(y_test, xgb_clf.predict_proba(X_test)[:,1],average='macro')\n",
        "print('ROC AUC:{0:.4f}'.format(xgb_roc_score))"
      ],
      "metadata": {
        "colab": {
          "base_uri": "https://localhost:8080/",
          "height": 415
        },
        "id": "1ZCxv3-FAUpS",
        "outputId": "9da19d21-8349-440c-fc79-0e18727c0691"
      },
      "execution_count": null,
      "outputs": [
        {
          "output_type": "error",
          "ename": "ValueError",
          "evalue": "ignored",
          "traceback": [
            "\u001b[0;31m---------------------------------------------------------------------------\u001b[0m",
            "\u001b[0;31mValueError\u001b[0m                                Traceback (most recent call last)",
            "\u001b[0;32m<ipython-input-18-15558a9e4da6>\u001b[0m in \u001b[0;36m<cell line: 8>\u001b[0;34m()\u001b[0m\n\u001b[1;32m      6\u001b[0m \u001b[0;34m\u001b[0m\u001b[0m\n\u001b[1;32m      7\u001b[0m \u001b[0;31m# 성능 평가 지표를 auc로, 조기 중단 파라미터는 100으로 설정하고 학습 수행.\u001b[0m\u001b[0;34m\u001b[0m\u001b[0;34m\u001b[0m\u001b[0m\n\u001b[0;32m----> 8\u001b[0;31m \u001b[0mxgb_clf\u001b[0m\u001b[0;34m.\u001b[0m\u001b[0mfit\u001b[0m\u001b[0;34m(\u001b[0m\u001b[0mX_train\u001b[0m\u001b[0;34m,\u001b[0m \u001b[0my_train\u001b[0m\u001b[0;34m,\u001b[0m \u001b[0mearly_stopping_rounds\u001b[0m\u001b[0;34m=\u001b[0m\u001b[0;36m100\u001b[0m\u001b[0;34m,\u001b[0m \u001b[0meval_metric\u001b[0m \u001b[0;34m=\u001b[0m\u001b[0;34m'auc'\u001b[0m\u001b[0;34m,\u001b[0m\u001b[0meval_set\u001b[0m\u001b[0;34m=\u001b[0m\u001b[0;34m[\u001b[0m\u001b[0;34m(\u001b[0m\u001b[0mX_train\u001b[0m\u001b[0;34m,\u001b[0m \u001b[0my_train\u001b[0m\u001b[0;34m)\u001b[0m\u001b[0;34m,\u001b[0m\u001b[0;34m(\u001b[0m\u001b[0mX_test\u001b[0m\u001b[0;34m,\u001b[0m\u001b[0my_test\u001b[0m\u001b[0;34m)\u001b[0m\u001b[0;34m]\u001b[0m\u001b[0;34m)\u001b[0m\u001b[0;34m\u001b[0m\u001b[0;34m\u001b[0m\u001b[0m\n\u001b[0m\u001b[1;32m      9\u001b[0m \u001b[0;34m\u001b[0m\u001b[0m\n\u001b[1;32m     10\u001b[0m \u001b[0mxgb_roc_score\u001b[0m \u001b[0;34m=\u001b[0m \u001b[0mroc_auc_score\u001b[0m\u001b[0;34m(\u001b[0m\u001b[0my_test\u001b[0m\u001b[0;34m,\u001b[0m \u001b[0mxgb_clf\u001b[0m\u001b[0;34m.\u001b[0m\u001b[0mpredict_proba\u001b[0m\u001b[0;34m(\u001b[0m\u001b[0mX_test\u001b[0m\u001b[0;34m)\u001b[0m\u001b[0;34m[\u001b[0m\u001b[0;34m:\u001b[0m\u001b[0;34m,\u001b[0m\u001b[0;36m1\u001b[0m\u001b[0;34m]\u001b[0m\u001b[0;34m,\u001b[0m\u001b[0maverage\u001b[0m\u001b[0;34m=\u001b[0m\u001b[0;34m'macro'\u001b[0m\u001b[0;34m)\u001b[0m\u001b[0;34m\u001b[0m\u001b[0;34m\u001b[0m\u001b[0m\n",
            "\u001b[0;32m/usr/local/lib/python3.10/dist-packages/xgboost/core.py\u001b[0m in \u001b[0;36minner_f\u001b[0;34m(*args, **kwargs)\u001b[0m\n\u001b[1;32m    618\u001b[0m             \u001b[0;32mfor\u001b[0m \u001b[0mk\u001b[0m\u001b[0;34m,\u001b[0m \u001b[0marg\u001b[0m \u001b[0;32min\u001b[0m \u001b[0mzip\u001b[0m\u001b[0;34m(\u001b[0m\u001b[0msig\u001b[0m\u001b[0;34m.\u001b[0m\u001b[0mparameters\u001b[0m\u001b[0;34m,\u001b[0m \u001b[0margs\u001b[0m\u001b[0;34m)\u001b[0m\u001b[0;34m:\u001b[0m\u001b[0;34m\u001b[0m\u001b[0;34m\u001b[0m\u001b[0m\n\u001b[1;32m    619\u001b[0m                 \u001b[0mkwargs\u001b[0m\u001b[0;34m[\u001b[0m\u001b[0mk\u001b[0m\u001b[0;34m]\u001b[0m \u001b[0;34m=\u001b[0m \u001b[0marg\u001b[0m\u001b[0;34m\u001b[0m\u001b[0;34m\u001b[0m\u001b[0m\n\u001b[0;32m--> 620\u001b[0;31m             \u001b[0;32mreturn\u001b[0m \u001b[0mfunc\u001b[0m\u001b[0;34m(\u001b[0m\u001b[0;34m**\u001b[0m\u001b[0mkwargs\u001b[0m\u001b[0;34m)\u001b[0m\u001b[0;34m\u001b[0m\u001b[0;34m\u001b[0m\u001b[0m\n\u001b[0m\u001b[1;32m    621\u001b[0m \u001b[0;34m\u001b[0m\u001b[0m\n\u001b[1;32m    622\u001b[0m         \u001b[0;32mreturn\u001b[0m \u001b[0minner_f\u001b[0m\u001b[0;34m\u001b[0m\u001b[0;34m\u001b[0m\u001b[0m\n",
            "\u001b[0;32m/usr/local/lib/python3.10/dist-packages/xgboost/sklearn.py\u001b[0m in \u001b[0;36mfit\u001b[0;34m(self, X, y, sample_weight, base_margin, eval_set, eval_metric, early_stopping_rounds, verbose, xgb_model, sample_weight_eval_set, base_margin_eval_set, feature_weights, callbacks)\u001b[0m\n\u001b[1;32m   1438\u001b[0m                 \u001b[0;32mor\u001b[0m \u001b[0;32mnot\u001b[0m \u001b[0;34m(\u001b[0m\u001b[0mself\u001b[0m\u001b[0;34m.\u001b[0m\u001b[0mclasses_\u001b[0m \u001b[0;34m==\u001b[0m \u001b[0mexpected_classes\u001b[0m\u001b[0;34m)\u001b[0m\u001b[0;34m.\u001b[0m\u001b[0mall\u001b[0m\u001b[0;34m(\u001b[0m\u001b[0;34m)\u001b[0m\u001b[0;34m\u001b[0m\u001b[0;34m\u001b[0m\u001b[0m\n\u001b[1;32m   1439\u001b[0m             ):\n\u001b[0;32m-> 1440\u001b[0;31m                 raise ValueError(\n\u001b[0m\u001b[1;32m   1441\u001b[0m                     \u001b[0;34mf\"Invalid classes inferred from unique values of `y`.  \"\u001b[0m\u001b[0;34m\u001b[0m\u001b[0;34m\u001b[0m\u001b[0m\n\u001b[1;32m   1442\u001b[0m                     \u001b[0;34mf\"Expected: {expected_classes}, got {self.classes_}\"\u001b[0m\u001b[0;34m\u001b[0m\u001b[0;34m\u001b[0m\u001b[0m\n",
            "\u001b[0;31mValueError\u001b[0m: Invalid classes inferred from unique values of `y`.  Expected: [0 1 2], got [ 0.  1. nan]"
          ]
        }
      ]
    },
    {
      "cell_type": "markdown",
      "source": [
        "* XGBoost의 하이퍼 파라미터 튜닝\n",
        "* max_depth, min_child_weight, colsample_bytree 튜닝\n",
        "* n_estimators=100, early_stopping_rounds=30으로 줄여서 테스트한 후 다시 증가시키기"
      ],
      "metadata": {
        "id": "DgGmH2IPBuvf"
      }
    },
    {
      "cell_type": "code",
      "source": [
        "from sklearn.model_selection import GridSearchCV\n",
        "\n",
        "# 하이퍼 파라미터 테스트의 수행 속도를 향상시키기 위해 n_estimators를 100으로 감소\n",
        "xgb_clf = XGBClassifier(n_estimators=100)\n",
        "\n",
        "params = {'max_depth':[5,7],'min_child_weight':[1,3], 'colsample_bytree':[0.5,0.75]}\n",
        "\n",
        "# cv는 3으로 지정\n",
        "gridcv = GridSearchCV(xgb_clf, param_grid=params,cv=3)\n",
        "gridcv.fit(X_train, y_train, early_stopping_rounds=30, eval_metric='auc',eval_set=[(X_train,y_train),(X_test,y_test)])\n",
        "\n",
        "print('GridSearchCV 최적 파라미터:', gridcv.best_params_)\n",
        "\n",
        "xgb_roc_score = roc_auc_score(y_test, gridcv.predict_proba(X_test)[:,1],average='macro')\n",
        "print('ROC AUC: {0:.4f}'.format(xgb_roc_score))"
      ],
      "metadata": {
        "id": "vaGVSFLuF0OI"
      },
      "execution_count": null,
      "outputs": []
    },
    {
      "cell_type": "markdown",
      "source": [
        "* 위에서 구한 최적화 파라미터인 'colsample_bytree':0.75,'max_depth':7, 'min_child_weight':1로 설정, n_estimators=1000으로, learning_rate=0.02로 설정"
      ],
      "metadata": {
        "id": "s2vOG55fIugo"
      }
    },
    {
      "cell_type": "code",
      "source": [
        "# n_estimators=1000으로 증가시키고, learning_rate=0.02로 감소, reg_alpha=0.03으로 추가함.\n",
        "xgb_clf = XGBClassifier(n_estimators=1000,random_state=156, learning_rate=0.02,max_depth=7,colsample_bytree=0.75,min_child_weight=1,reg_alpha=0.03)\n",
        "\n",
        "# 성능 평가 지표를 auc로, 조기 중단 파라미터 값은 200으로 설정하고 학습 수행.\n",
        "xgb_clf.fit(X_train, y_train, early_stopping_rounds=200, eval_metric='auc',eval_set=[(X_train,y_train),(X_test,y_test)])\n",
        "\n",
        "xgb_roc_score = roc_auc_score(y_test, xgb_clf.predict_proba(X_test)[:,1],average='macro')\n",
        "print('ROC AUC: {0:.4f}'.format(xgb_roc_score))"
      ],
      "metadata": {
        "colab": {
          "base_uri": "https://localhost:8080/",
          "height": 1000
        },
        "id": "gGdTNDkAIn1C",
        "outputId": "0cf4031f-5bc0-43f8-8e23-987a9fdc60fb"
      },
      "execution_count": null,
      "outputs": [
        {
          "output_type": "stream",
          "name": "stderr",
          "text": [
            "/usr/local/lib/python3.10/dist-packages/xgboost/sklearn.py:835: UserWarning: `eval_metric` in `fit` method is deprecated for better compatibility with scikit-learn, use `eval_metric` in constructor or`set_params` instead.\n",
            "  warnings.warn(\n",
            "/usr/local/lib/python3.10/dist-packages/xgboost/sklearn.py:835: UserWarning: `early_stopping_rounds` in `fit` method is deprecated for better compatibility with scikit-learn, use `early_stopping_rounds` in constructor or`set_params` instead.\n",
            "  warnings.warn(\n"
          ]
        },
        {
          "output_type": "stream",
          "name": "stdout",
          "text": [
            "[0]\tvalidation_0-auc:0.82311\tvalidation_1-auc:0.81793\n",
            "[1]\tvalidation_0-auc:0.82585\tvalidation_1-auc:0.81766\n",
            "[2]\tvalidation_0-auc:0.82950\tvalidation_1-auc:0.81846\n",
            "[3]\tvalidation_0-auc:0.83162\tvalidation_1-auc:0.82051\n",
            "[4]\tvalidation_0-auc:0.83561\tvalidation_1-auc:0.82587\n",
            "[5]\tvalidation_0-auc:0.83569\tvalidation_1-auc:0.82566\n",
            "[6]\tvalidation_0-auc:0.83635\tvalidation_1-auc:0.82582\n",
            "[7]\tvalidation_0-auc:0.83757\tvalidation_1-auc:0.82763\n",
            "[8]\tvalidation_0-auc:0.83873\tvalidation_1-auc:0.82945\n",
            "[9]\tvalidation_0-auc:0.83986\tvalidation_1-auc:0.83072\n",
            "[10]\tvalidation_0-auc:0.84036\tvalidation_1-auc:0.83039\n",
            "[11]\tvalidation_0-auc:0.84071\tvalidation_1-auc:0.83051\n",
            "[12]\tvalidation_0-auc:0.84064\tvalidation_1-auc:0.82997\n",
            "[13]\tvalidation_0-auc:0.84098\tvalidation_1-auc:0.82958\n",
            "[14]\tvalidation_0-auc:0.84174\tvalidation_1-auc:0.83016\n",
            "[15]\tvalidation_0-auc:0.84223\tvalidation_1-auc:0.83103\n",
            "[16]\tvalidation_0-auc:0.84262\tvalidation_1-auc:0.83055\n",
            "[17]\tvalidation_0-auc:0.84302\tvalidation_1-auc:0.83020\n",
            "[18]\tvalidation_0-auc:0.84539\tvalidation_1-auc:0.83365\n",
            "[19]\tvalidation_0-auc:0.84552\tvalidation_1-auc:0.83365\n",
            "[20]\tvalidation_0-auc:0.84602\tvalidation_1-auc:0.83425\n",
            "[21]\tvalidation_0-auc:0.84638\tvalidation_1-auc:0.83417\n",
            "[22]\tvalidation_0-auc:0.84674\tvalidation_1-auc:0.83410\n",
            "[23]\tvalidation_0-auc:0.84709\tvalidation_1-auc:0.83411\n",
            "[24]\tvalidation_0-auc:0.84733\tvalidation_1-auc:0.83414\n",
            "[25]\tvalidation_0-auc:0.84748\tvalidation_1-auc:0.83433\n",
            "[26]\tvalidation_0-auc:0.84773\tvalidation_1-auc:0.83412\n",
            "[27]\tvalidation_0-auc:0.84851\tvalidation_1-auc:0.83440\n",
            "[28]\tvalidation_0-auc:0.84845\tvalidation_1-auc:0.83438\n",
            "[29]\tvalidation_0-auc:0.84997\tvalidation_1-auc:0.83507\n",
            "[30]\tvalidation_0-auc:0.84927\tvalidation_1-auc:0.83379\n",
            "[31]\tvalidation_0-auc:0.84984\tvalidation_1-auc:0.83457\n",
            "[32]\tvalidation_0-auc:0.85048\tvalidation_1-auc:0.83473\n",
            "[33]\tvalidation_0-auc:0.85068\tvalidation_1-auc:0.83501\n",
            "[34]\tvalidation_0-auc:0.85075\tvalidation_1-auc:0.83495\n",
            "[35]\tvalidation_0-auc:0.85103\tvalidation_1-auc:0.83530\n",
            "[36]\tvalidation_0-auc:0.85164\tvalidation_1-auc:0.83564\n",
            "[37]\tvalidation_0-auc:0.85178\tvalidation_1-auc:0.83554\n",
            "[38]\tvalidation_0-auc:0.85234\tvalidation_1-auc:0.83545\n",
            "[39]\tvalidation_0-auc:0.85237\tvalidation_1-auc:0.83567\n",
            "[40]\tvalidation_0-auc:0.85311\tvalidation_1-auc:0.83620\n",
            "[41]\tvalidation_0-auc:0.85368\tvalidation_1-auc:0.83621\n",
            "[42]\tvalidation_0-auc:0.85389\tvalidation_1-auc:0.83596\n",
            "[43]\tvalidation_0-auc:0.85433\tvalidation_1-auc:0.83682\n",
            "[44]\tvalidation_0-auc:0.85522\tvalidation_1-auc:0.83704\n",
            "[45]\tvalidation_0-auc:0.85467\tvalidation_1-auc:0.83725\n",
            "[46]\tvalidation_0-auc:0.85488\tvalidation_1-auc:0.83704\n",
            "[47]\tvalidation_0-auc:0.85532\tvalidation_1-auc:0.83738\n",
            "[48]\tvalidation_0-auc:0.85549\tvalidation_1-auc:0.83757\n",
            "[49]\tvalidation_0-auc:0.85594\tvalidation_1-auc:0.83784\n",
            "[50]\tvalidation_0-auc:0.85634\tvalidation_1-auc:0.83812\n",
            "[51]\tvalidation_0-auc:0.85657\tvalidation_1-auc:0.83801\n",
            "[52]\tvalidation_0-auc:0.85697\tvalidation_1-auc:0.83844\n",
            "[53]\tvalidation_0-auc:0.85723\tvalidation_1-auc:0.83852\n",
            "[54]\tvalidation_0-auc:0.85742\tvalidation_1-auc:0.83858\n",
            "[55]\tvalidation_0-auc:0.85812\tvalidation_1-auc:0.83872\n",
            "[56]\tvalidation_0-auc:0.85866\tvalidation_1-auc:0.83871\n",
            "[57]\tvalidation_0-auc:0.85912\tvalidation_1-auc:0.83880\n",
            "[58]\tvalidation_0-auc:0.85923\tvalidation_1-auc:0.83909\n",
            "[59]\tvalidation_0-auc:0.85954\tvalidation_1-auc:0.83934\n",
            "[60]\tvalidation_0-auc:0.85967\tvalidation_1-auc:0.83949\n",
            "[61]\tvalidation_0-auc:0.86005\tvalidation_1-auc:0.83945\n",
            "[62]\tvalidation_0-auc:0.86043\tvalidation_1-auc:0.83996\n",
            "[63]\tvalidation_0-auc:0.86012\tvalidation_1-auc:0.83966\n",
            "[64]\tvalidation_0-auc:0.86063\tvalidation_1-auc:0.83984\n",
            "[65]\tvalidation_0-auc:0.86082\tvalidation_1-auc:0.83975\n",
            "[66]\tvalidation_0-auc:0.86093\tvalidation_1-auc:0.83895\n",
            "[67]\tvalidation_0-auc:0.86136\tvalidation_1-auc:0.83965\n",
            "[68]\tvalidation_0-auc:0.86149\tvalidation_1-auc:0.83962\n",
            "[69]\tvalidation_0-auc:0.86173\tvalidation_1-auc:0.83958\n",
            "[70]\tvalidation_0-auc:0.86199\tvalidation_1-auc:0.83980\n",
            "[71]\tvalidation_0-auc:0.86218\tvalidation_1-auc:0.83973\n",
            "[72]\tvalidation_0-auc:0.86248\tvalidation_1-auc:0.83983\n",
            "[73]\tvalidation_0-auc:0.86276\tvalidation_1-auc:0.83996\n",
            "[74]\tvalidation_0-auc:0.86285\tvalidation_1-auc:0.83998\n",
            "[75]\tvalidation_0-auc:0.86294\tvalidation_1-auc:0.83973\n",
            "[76]\tvalidation_0-auc:0.86316\tvalidation_1-auc:0.83976\n",
            "[77]\tvalidation_0-auc:0.86358\tvalidation_1-auc:0.83968\n",
            "[78]\tvalidation_0-auc:0.86369\tvalidation_1-auc:0.83982\n",
            "[79]\tvalidation_0-auc:0.86398\tvalidation_1-auc:0.83987\n",
            "[80]\tvalidation_0-auc:0.86432\tvalidation_1-auc:0.84005\n",
            "[81]\tvalidation_0-auc:0.86476\tvalidation_1-auc:0.84042\n",
            "[82]\tvalidation_0-auc:0.86498\tvalidation_1-auc:0.84035\n",
            "[83]\tvalidation_0-auc:0.86530\tvalidation_1-auc:0.84019\n",
            "[84]\tvalidation_0-auc:0.86578\tvalidation_1-auc:0.84093\n",
            "[85]\tvalidation_0-auc:0.86592\tvalidation_1-auc:0.84102\n",
            "[86]\tvalidation_0-auc:0.86611\tvalidation_1-auc:0.84108\n",
            "[87]\tvalidation_0-auc:0.86618\tvalidation_1-auc:0.84116\n",
            "[88]\tvalidation_0-auc:0.86644\tvalidation_1-auc:0.84116\n",
            "[89]\tvalidation_0-auc:0.86686\tvalidation_1-auc:0.84144\n",
            "[90]\tvalidation_0-auc:0.86707\tvalidation_1-auc:0.84125\n",
            "[91]\tvalidation_0-auc:0.86721\tvalidation_1-auc:0.84144\n",
            "[92]\tvalidation_0-auc:0.86743\tvalidation_1-auc:0.84143\n",
            "[93]\tvalidation_0-auc:0.86771\tvalidation_1-auc:0.84160\n",
            "[94]\tvalidation_0-auc:0.86807\tvalidation_1-auc:0.84154\n",
            "[95]\tvalidation_0-auc:0.86823\tvalidation_1-auc:0.84149\n",
            "[96]\tvalidation_0-auc:0.86843\tvalidation_1-auc:0.84156\n",
            "[97]\tvalidation_0-auc:0.86860\tvalidation_1-auc:0.84159\n",
            "[98]\tvalidation_0-auc:0.86881\tvalidation_1-auc:0.84167\n",
            "[99]\tvalidation_0-auc:0.86902\tvalidation_1-auc:0.84168\n",
            "[100]\tvalidation_0-auc:0.86919\tvalidation_1-auc:0.84163\n",
            "[101]\tvalidation_0-auc:0.86925\tvalidation_1-auc:0.84163\n",
            "[102]\tvalidation_0-auc:0.86960\tvalidation_1-auc:0.84177\n",
            "[103]\tvalidation_0-auc:0.86976\tvalidation_1-auc:0.84180\n",
            "[104]\tvalidation_0-auc:0.86996\tvalidation_1-auc:0.84189\n",
            "[105]\tvalidation_0-auc:0.87023\tvalidation_1-auc:0.84202\n",
            "[106]\tvalidation_0-auc:0.87045\tvalidation_1-auc:0.84195\n",
            "[107]\tvalidation_0-auc:0.87078\tvalidation_1-auc:0.84188\n",
            "[108]\tvalidation_0-auc:0.87092\tvalidation_1-auc:0.84199\n",
            "[109]\tvalidation_0-auc:0.87112\tvalidation_1-auc:0.84217\n",
            "[110]\tvalidation_0-auc:0.87141\tvalidation_1-auc:0.84213\n",
            "[111]\tvalidation_0-auc:0.87192\tvalidation_1-auc:0.84244\n",
            "[112]\tvalidation_0-auc:0.87232\tvalidation_1-auc:0.84243\n",
            "[113]\tvalidation_0-auc:0.87242\tvalidation_1-auc:0.84232\n",
            "[114]\tvalidation_0-auc:0.87252\tvalidation_1-auc:0.84229\n",
            "[115]\tvalidation_0-auc:0.87279\tvalidation_1-auc:0.84238\n",
            "[116]\tvalidation_0-auc:0.87282\tvalidation_1-auc:0.84228\n",
            "[117]\tvalidation_0-auc:0.87282\tvalidation_1-auc:0.84234\n",
            "[118]\tvalidation_0-auc:0.87274\tvalidation_1-auc:0.84222\n",
            "[119]\tvalidation_0-auc:0.87291\tvalidation_1-auc:0.84231\n",
            "[120]\tvalidation_0-auc:0.87319\tvalidation_1-auc:0.84241\n",
            "[121]\tvalidation_0-auc:0.87352\tvalidation_1-auc:0.84235\n",
            "[122]\tvalidation_0-auc:0.87383\tvalidation_1-auc:0.84233\n",
            "[123]\tvalidation_0-auc:0.87422\tvalidation_1-auc:0.84236\n",
            "[124]\tvalidation_0-auc:0.87438\tvalidation_1-auc:0.84269\n",
            "[125]\tvalidation_0-auc:0.87444\tvalidation_1-auc:0.84250\n",
            "[126]\tvalidation_0-auc:0.87460\tvalidation_1-auc:0.84279\n",
            "[127]\tvalidation_0-auc:0.87495\tvalidation_1-auc:0.84275\n",
            "[128]\tvalidation_0-auc:0.87543\tvalidation_1-auc:0.84248\n",
            "[129]\tvalidation_0-auc:0.87577\tvalidation_1-auc:0.84236\n",
            "[130]\tvalidation_0-auc:0.87601\tvalidation_1-auc:0.84235\n",
            "[131]\tvalidation_0-auc:0.87627\tvalidation_1-auc:0.84224\n",
            "[132]\tvalidation_0-auc:0.87640\tvalidation_1-auc:0.84255\n",
            "[133]\tvalidation_0-auc:0.87656\tvalidation_1-auc:0.84265\n",
            "[134]\tvalidation_0-auc:0.87688\tvalidation_1-auc:0.84274\n",
            "[135]\tvalidation_0-auc:0.87708\tvalidation_1-auc:0.84283\n",
            "[136]\tvalidation_0-auc:0.87711\tvalidation_1-auc:0.84300\n",
            "[137]\tvalidation_0-auc:0.87728\tvalidation_1-auc:0.84307\n",
            "[138]\tvalidation_0-auc:0.87767\tvalidation_1-auc:0.84305\n",
            "[139]\tvalidation_0-auc:0.87803\tvalidation_1-auc:0.84299\n",
            "[140]\tvalidation_0-auc:0.87816\tvalidation_1-auc:0.84308\n",
            "[141]\tvalidation_0-auc:0.87825\tvalidation_1-auc:0.84306\n",
            "[142]\tvalidation_0-auc:0.87861\tvalidation_1-auc:0.84288\n",
            "[143]\tvalidation_0-auc:0.87879\tvalidation_1-auc:0.84282\n",
            "[144]\tvalidation_0-auc:0.87896\tvalidation_1-auc:0.84296\n",
            "[145]\tvalidation_0-auc:0.87911\tvalidation_1-auc:0.84314\n",
            "[146]\tvalidation_0-auc:0.87940\tvalidation_1-auc:0.84316\n",
            "[147]\tvalidation_0-auc:0.87956\tvalidation_1-auc:0.84323\n",
            "[148]\tvalidation_0-auc:0.87977\tvalidation_1-auc:0.84337\n",
            "[149]\tvalidation_0-auc:0.88011\tvalidation_1-auc:0.84347\n",
            "[150]\tvalidation_0-auc:0.88016\tvalidation_1-auc:0.84351\n",
            "[151]\tvalidation_0-auc:0.88036\tvalidation_1-auc:0.84368\n",
            "[152]\tvalidation_0-auc:0.88043\tvalidation_1-auc:0.84369\n",
            "[153]\tvalidation_0-auc:0.88086\tvalidation_1-auc:0.84372\n",
            "[154]\tvalidation_0-auc:0.88116\tvalidation_1-auc:0.84389\n",
            "[155]\tvalidation_0-auc:0.88139\tvalidation_1-auc:0.84393\n",
            "[156]\tvalidation_0-auc:0.88165\tvalidation_1-auc:0.84387\n",
            "[157]\tvalidation_0-auc:0.88188\tvalidation_1-auc:0.84389\n",
            "[158]\tvalidation_0-auc:0.88209\tvalidation_1-auc:0.84390\n",
            "[159]\tvalidation_0-auc:0.88219\tvalidation_1-auc:0.84396\n",
            "[160]\tvalidation_0-auc:0.88243\tvalidation_1-auc:0.84418\n",
            "[161]\tvalidation_0-auc:0.88281\tvalidation_1-auc:0.84436\n",
            "[162]\tvalidation_0-auc:0.88284\tvalidation_1-auc:0.84432\n",
            "[163]\tvalidation_0-auc:0.88293\tvalidation_1-auc:0.84461\n",
            "[164]\tvalidation_0-auc:0.88323\tvalidation_1-auc:0.84463\n",
            "[165]\tvalidation_0-auc:0.88352\tvalidation_1-auc:0.84467\n",
            "[166]\tvalidation_0-auc:0.88386\tvalidation_1-auc:0.84495\n",
            "[167]\tvalidation_0-auc:0.88421\tvalidation_1-auc:0.84493\n",
            "[168]\tvalidation_0-auc:0.88450\tvalidation_1-auc:0.84497\n",
            "[169]\tvalidation_0-auc:0.88477\tvalidation_1-auc:0.84497\n",
            "[170]\tvalidation_0-auc:0.88510\tvalidation_1-auc:0.84503\n",
            "[171]\tvalidation_0-auc:0.88526\tvalidation_1-auc:0.84505\n",
            "[172]\tvalidation_0-auc:0.88553\tvalidation_1-auc:0.84502\n",
            "[173]\tvalidation_0-auc:0.88575\tvalidation_1-auc:0.84502\n",
            "[174]\tvalidation_0-auc:0.88598\tvalidation_1-auc:0.84505\n",
            "[175]\tvalidation_0-auc:0.88622\tvalidation_1-auc:0.84508\n",
            "[176]\tvalidation_0-auc:0.88635\tvalidation_1-auc:0.84517\n",
            "[177]\tvalidation_0-auc:0.88663\tvalidation_1-auc:0.84514\n",
            "[178]\tvalidation_0-auc:0.88676\tvalidation_1-auc:0.84510\n",
            "[179]\tvalidation_0-auc:0.88695\tvalidation_1-auc:0.84513\n",
            "[180]\tvalidation_0-auc:0.88711\tvalidation_1-auc:0.84525\n",
            "[181]\tvalidation_0-auc:0.88735\tvalidation_1-auc:0.84534\n",
            "[182]\tvalidation_0-auc:0.88771\tvalidation_1-auc:0.84527\n",
            "[183]\tvalidation_0-auc:0.88804\tvalidation_1-auc:0.84529\n",
            "[184]\tvalidation_0-auc:0.88842\tvalidation_1-auc:0.84538\n",
            "[185]\tvalidation_0-auc:0.88862\tvalidation_1-auc:0.84526\n",
            "[186]\tvalidation_0-auc:0.88875\tvalidation_1-auc:0.84521\n",
            "[187]\tvalidation_0-auc:0.88899\tvalidation_1-auc:0.84531\n",
            "[188]\tvalidation_0-auc:0.88918\tvalidation_1-auc:0.84538\n",
            "[189]\tvalidation_0-auc:0.88950\tvalidation_1-auc:0.84530\n",
            "[190]\tvalidation_0-auc:0.88973\tvalidation_1-auc:0.84513\n",
            "[191]\tvalidation_0-auc:0.88990\tvalidation_1-auc:0.84525\n",
            "[192]\tvalidation_0-auc:0.89009\tvalidation_1-auc:0.84528\n",
            "[193]\tvalidation_0-auc:0.89033\tvalidation_1-auc:0.84525\n",
            "[194]\tvalidation_0-auc:0.89049\tvalidation_1-auc:0.84522\n",
            "[195]\tvalidation_0-auc:0.89063\tvalidation_1-auc:0.84529\n",
            "[196]\tvalidation_0-auc:0.89082\tvalidation_1-auc:0.84541\n",
            "[197]\tvalidation_0-auc:0.89096\tvalidation_1-auc:0.84531\n",
            "[198]\tvalidation_0-auc:0.89123\tvalidation_1-auc:0.84544\n",
            "[199]\tvalidation_0-auc:0.89135\tvalidation_1-auc:0.84557\n",
            "[200]\tvalidation_0-auc:0.89146\tvalidation_1-auc:0.84557\n",
            "[201]\tvalidation_0-auc:0.89176\tvalidation_1-auc:0.84560\n",
            "[202]\tvalidation_0-auc:0.89197\tvalidation_1-auc:0.84568\n",
            "[203]\tvalidation_0-auc:0.89227\tvalidation_1-auc:0.84576\n",
            "[204]\tvalidation_0-auc:0.89253\tvalidation_1-auc:0.84571\n",
            "[205]\tvalidation_0-auc:0.89269\tvalidation_1-auc:0.84576\n",
            "[206]\tvalidation_0-auc:0.89288\tvalidation_1-auc:0.84578\n",
            "[207]\tvalidation_0-auc:0.89307\tvalidation_1-auc:0.84584\n",
            "[208]\tvalidation_0-auc:0.89325\tvalidation_1-auc:0.84590\n",
            "[209]\tvalidation_0-auc:0.89344\tvalidation_1-auc:0.84598\n",
            "[210]\tvalidation_0-auc:0.89364\tvalidation_1-auc:0.84598\n",
            "[211]\tvalidation_0-auc:0.89381\tvalidation_1-auc:0.84591\n",
            "[212]\tvalidation_0-auc:0.89400\tvalidation_1-auc:0.84591\n",
            "[213]\tvalidation_0-auc:0.89420\tvalidation_1-auc:0.84590\n",
            "[214]\tvalidation_0-auc:0.89443\tvalidation_1-auc:0.84589\n",
            "[215]\tvalidation_0-auc:0.89456\tvalidation_1-auc:0.84585\n",
            "[216]\tvalidation_0-auc:0.89472\tvalidation_1-auc:0.84582\n",
            "[217]\tvalidation_0-auc:0.89490\tvalidation_1-auc:0.84577\n",
            "[218]\tvalidation_0-auc:0.89510\tvalidation_1-auc:0.84579\n",
            "[219]\tvalidation_0-auc:0.89534\tvalidation_1-auc:0.84582\n",
            "[220]\tvalidation_0-auc:0.89549\tvalidation_1-auc:0.84580\n",
            "[221]\tvalidation_0-auc:0.89570\tvalidation_1-auc:0.84588\n",
            "[222]\tvalidation_0-auc:0.89597\tvalidation_1-auc:0.84581\n",
            "[223]\tvalidation_0-auc:0.89619\tvalidation_1-auc:0.84583\n",
            "[224]\tvalidation_0-auc:0.89631\tvalidation_1-auc:0.84582\n",
            "[225]\tvalidation_0-auc:0.89648\tvalidation_1-auc:0.84574\n",
            "[226]\tvalidation_0-auc:0.89665\tvalidation_1-auc:0.84569\n",
            "[227]\tvalidation_0-auc:0.89684\tvalidation_1-auc:0.84571\n",
            "[228]\tvalidation_0-auc:0.89707\tvalidation_1-auc:0.84562\n",
            "[229]\tvalidation_0-auc:0.89720\tvalidation_1-auc:0.84559\n",
            "[230]\tvalidation_0-auc:0.89739\tvalidation_1-auc:0.84546\n",
            "[231]\tvalidation_0-auc:0.89756\tvalidation_1-auc:0.84540\n",
            "[232]\tvalidation_0-auc:0.89779\tvalidation_1-auc:0.84534\n",
            "[233]\tvalidation_0-auc:0.89790\tvalidation_1-auc:0.84528\n",
            "[234]\tvalidation_0-auc:0.89806\tvalidation_1-auc:0.84528\n",
            "[235]\tvalidation_0-auc:0.89819\tvalidation_1-auc:0.84530\n",
            "[236]\tvalidation_0-auc:0.89832\tvalidation_1-auc:0.84528\n",
            "[237]\tvalidation_0-auc:0.89841\tvalidation_1-auc:0.84526\n",
            "[238]\tvalidation_0-auc:0.89856\tvalidation_1-auc:0.84523\n",
            "[239]\tvalidation_0-auc:0.89873\tvalidation_1-auc:0.84516\n",
            "[240]\tvalidation_0-auc:0.89896\tvalidation_1-auc:0.84512\n",
            "[241]\tvalidation_0-auc:0.89912\tvalidation_1-auc:0.84505\n",
            "[242]\tvalidation_0-auc:0.89926\tvalidation_1-auc:0.84501\n",
            "[243]\tvalidation_0-auc:0.89943\tvalidation_1-auc:0.84494\n",
            "[244]\tvalidation_0-auc:0.89957\tvalidation_1-auc:0.84486\n",
            "[245]\tvalidation_0-auc:0.89969\tvalidation_1-auc:0.84489\n",
            "[246]\tvalidation_0-auc:0.89984\tvalidation_1-auc:0.84491\n",
            "[247]\tvalidation_0-auc:0.89997\tvalidation_1-auc:0.84499\n",
            "[248]\tvalidation_0-auc:0.90013\tvalidation_1-auc:0.84494\n",
            "[249]\tvalidation_0-auc:0.90024\tvalidation_1-auc:0.84497\n",
            "[250]\tvalidation_0-auc:0.90037\tvalidation_1-auc:0.84501\n",
            "[251]\tvalidation_0-auc:0.90046\tvalidation_1-auc:0.84497\n",
            "[252]\tvalidation_0-auc:0.90059\tvalidation_1-auc:0.84494\n",
            "[253]\tvalidation_0-auc:0.90065\tvalidation_1-auc:0.84493\n",
            "[254]\tvalidation_0-auc:0.90076\tvalidation_1-auc:0.84495\n",
            "[255]\tvalidation_0-auc:0.90093\tvalidation_1-auc:0.84500\n",
            "[256]\tvalidation_0-auc:0.90097\tvalidation_1-auc:0.84491\n",
            "[257]\tvalidation_0-auc:0.90107\tvalidation_1-auc:0.84487\n",
            "[258]\tvalidation_0-auc:0.90115\tvalidation_1-auc:0.84484\n",
            "[259]\tvalidation_0-auc:0.90129\tvalidation_1-auc:0.84478\n",
            "[260]\tvalidation_0-auc:0.90133\tvalidation_1-auc:0.84473\n",
            "[261]\tvalidation_0-auc:0.90144\tvalidation_1-auc:0.84468\n",
            "[262]\tvalidation_0-auc:0.90160\tvalidation_1-auc:0.84472\n",
            "[263]\tvalidation_0-auc:0.90177\tvalidation_1-auc:0.84465\n",
            "[264]\tvalidation_0-auc:0.90188\tvalidation_1-auc:0.84466\n",
            "[265]\tvalidation_0-auc:0.90210\tvalidation_1-auc:0.84468\n",
            "[266]\tvalidation_0-auc:0.90222\tvalidation_1-auc:0.84467\n",
            "[267]\tvalidation_0-auc:0.90226\tvalidation_1-auc:0.84469\n",
            "[268]\tvalidation_0-auc:0.90241\tvalidation_1-auc:0.84464\n",
            "[269]\tvalidation_0-auc:0.90245\tvalidation_1-auc:0.84456\n",
            "[270]\tvalidation_0-auc:0.90258\tvalidation_1-auc:0.84463\n",
            "[271]\tvalidation_0-auc:0.90268\tvalidation_1-auc:0.84464\n",
            "[272]\tvalidation_0-auc:0.90274\tvalidation_1-auc:0.84459\n",
            "[273]\tvalidation_0-auc:0.90286\tvalidation_1-auc:0.84461\n",
            "[274]\tvalidation_0-auc:0.90296\tvalidation_1-auc:0.84468\n",
            "[275]\tvalidation_0-auc:0.90305\tvalidation_1-auc:0.84475\n",
            "[276]\tvalidation_0-auc:0.90315\tvalidation_1-auc:0.84471\n",
            "[277]\tvalidation_0-auc:0.90325\tvalidation_1-auc:0.84471\n",
            "[278]\tvalidation_0-auc:0.90339\tvalidation_1-auc:0.84465\n",
            "[279]\tvalidation_0-auc:0.90351\tvalidation_1-auc:0.84459\n",
            "[280]\tvalidation_0-auc:0.90359\tvalidation_1-auc:0.84464\n",
            "[281]\tvalidation_0-auc:0.90366\tvalidation_1-auc:0.84465\n",
            "[282]\tvalidation_0-auc:0.90373\tvalidation_1-auc:0.84465\n",
            "[283]\tvalidation_0-auc:0.90384\tvalidation_1-auc:0.84461\n",
            "[284]\tvalidation_0-auc:0.90388\tvalidation_1-auc:0.84460\n",
            "[285]\tvalidation_0-auc:0.90397\tvalidation_1-auc:0.84455\n",
            "[286]\tvalidation_0-auc:0.90416\tvalidation_1-auc:0.84450\n",
            "[287]\tvalidation_0-auc:0.90421\tvalidation_1-auc:0.84450\n",
            "[288]\tvalidation_0-auc:0.90425\tvalidation_1-auc:0.84454\n",
            "[289]\tvalidation_0-auc:0.90431\tvalidation_1-auc:0.84450\n",
            "[290]\tvalidation_0-auc:0.90440\tvalidation_1-auc:0.84443\n",
            "[291]\tvalidation_0-auc:0.90457\tvalidation_1-auc:0.84440\n",
            "[292]\tvalidation_0-auc:0.90476\tvalidation_1-auc:0.84436\n",
            "[293]\tvalidation_0-auc:0.90492\tvalidation_1-auc:0.84442\n",
            "[294]\tvalidation_0-auc:0.90506\tvalidation_1-auc:0.84443\n",
            "[295]\tvalidation_0-auc:0.90516\tvalidation_1-auc:0.84450\n",
            "[296]\tvalidation_0-auc:0.90523\tvalidation_1-auc:0.84449\n",
            "[297]\tvalidation_0-auc:0.90542\tvalidation_1-auc:0.84444\n",
            "[298]\tvalidation_0-auc:0.90550\tvalidation_1-auc:0.84440\n",
            "[299]\tvalidation_0-auc:0.90555\tvalidation_1-auc:0.84439\n",
            "[300]\tvalidation_0-auc:0.90562\tvalidation_1-auc:0.84433\n",
            "[301]\tvalidation_0-auc:0.90564\tvalidation_1-auc:0.84436\n",
            "[302]\tvalidation_0-auc:0.90581\tvalidation_1-auc:0.84440\n",
            "[303]\tvalidation_0-auc:0.90588\tvalidation_1-auc:0.84434\n",
            "[304]\tvalidation_0-auc:0.90602\tvalidation_1-auc:0.84429\n",
            "[305]\tvalidation_0-auc:0.90623\tvalidation_1-auc:0.84427\n",
            "[306]\tvalidation_0-auc:0.90629\tvalidation_1-auc:0.84428\n",
            "[307]\tvalidation_0-auc:0.90639\tvalidation_1-auc:0.84432\n",
            "[308]\tvalidation_0-auc:0.90646\tvalidation_1-auc:0.84432\n",
            "[309]\tvalidation_0-auc:0.90651\tvalidation_1-auc:0.84438\n",
            "[310]\tvalidation_0-auc:0.90658\tvalidation_1-auc:0.84431\n",
            "[311]\tvalidation_0-auc:0.90664\tvalidation_1-auc:0.84432\n",
            "[312]\tvalidation_0-auc:0.90678\tvalidation_1-auc:0.84433\n",
            "[313]\tvalidation_0-auc:0.90684\tvalidation_1-auc:0.84428\n",
            "[314]\tvalidation_0-auc:0.90689\tvalidation_1-auc:0.84438\n",
            "[315]\tvalidation_0-auc:0.90694\tvalidation_1-auc:0.84442\n",
            "[316]\tvalidation_0-auc:0.90702\tvalidation_1-auc:0.84433\n",
            "[317]\tvalidation_0-auc:0.90708\tvalidation_1-auc:0.84431\n",
            "[318]\tvalidation_0-auc:0.90713\tvalidation_1-auc:0.84428\n",
            "[319]\tvalidation_0-auc:0.90719\tvalidation_1-auc:0.84424\n",
            "[320]\tvalidation_0-auc:0.90725\tvalidation_1-auc:0.84423\n",
            "[321]\tvalidation_0-auc:0.90732\tvalidation_1-auc:0.84424\n",
            "[322]\tvalidation_0-auc:0.90737\tvalidation_1-auc:0.84423\n",
            "[323]\tvalidation_0-auc:0.90740\tvalidation_1-auc:0.84429\n",
            "[324]\tvalidation_0-auc:0.90752\tvalidation_1-auc:0.84426\n",
            "[325]\tvalidation_0-auc:0.90755\tvalidation_1-auc:0.84429\n",
            "[326]\tvalidation_0-auc:0.90759\tvalidation_1-auc:0.84429\n",
            "[327]\tvalidation_0-auc:0.90774\tvalidation_1-auc:0.84434\n",
            "[328]\tvalidation_0-auc:0.90791\tvalidation_1-auc:0.84434\n",
            "[329]\tvalidation_0-auc:0.90800\tvalidation_1-auc:0.84430\n",
            "[330]\tvalidation_0-auc:0.90802\tvalidation_1-auc:0.84432\n",
            "[331]\tvalidation_0-auc:0.90809\tvalidation_1-auc:0.84429\n",
            "[332]\tvalidation_0-auc:0.90819\tvalidation_1-auc:0.84426\n",
            "[333]\tvalidation_0-auc:0.90823\tvalidation_1-auc:0.84427\n",
            "[334]\tvalidation_0-auc:0.90825\tvalidation_1-auc:0.84428\n",
            "[335]\tvalidation_0-auc:0.90841\tvalidation_1-auc:0.84425\n",
            "[336]\tvalidation_0-auc:0.90848\tvalidation_1-auc:0.84424\n",
            "[337]\tvalidation_0-auc:0.90858\tvalidation_1-auc:0.84417\n",
            "[338]\tvalidation_0-auc:0.90870\tvalidation_1-auc:0.84422\n",
            "[339]\tvalidation_0-auc:0.90882\tvalidation_1-auc:0.84424\n",
            "[340]\tvalidation_0-auc:0.90899\tvalidation_1-auc:0.84431\n",
            "[341]\tvalidation_0-auc:0.90905\tvalidation_1-auc:0.84430\n",
            "[342]\tvalidation_0-auc:0.90907\tvalidation_1-auc:0.84432\n",
            "[343]\tvalidation_0-auc:0.90919\tvalidation_1-auc:0.84439\n",
            "[344]\tvalidation_0-auc:0.90926\tvalidation_1-auc:0.84442\n",
            "[345]\tvalidation_0-auc:0.90928\tvalidation_1-auc:0.84443\n",
            "[346]\tvalidation_0-auc:0.90943\tvalidation_1-auc:0.84443\n",
            "[347]\tvalidation_0-auc:0.90947\tvalidation_1-auc:0.84442\n",
            "[348]\tvalidation_0-auc:0.90955\tvalidation_1-auc:0.84441\n",
            "[349]\tvalidation_0-auc:0.90957\tvalidation_1-auc:0.84443\n",
            "[350]\tvalidation_0-auc:0.90962\tvalidation_1-auc:0.84442\n",
            "[351]\tvalidation_0-auc:0.90977\tvalidation_1-auc:0.84441\n",
            "[352]\tvalidation_0-auc:0.90982\tvalidation_1-auc:0.84439\n",
            "[353]\tvalidation_0-auc:0.90995\tvalidation_1-auc:0.84440\n",
            "[354]\tvalidation_0-auc:0.90998\tvalidation_1-auc:0.84440\n",
            "[355]\tvalidation_0-auc:0.91000\tvalidation_1-auc:0.84436\n",
            "[356]\tvalidation_0-auc:0.91002\tvalidation_1-auc:0.84436\n",
            "[357]\tvalidation_0-auc:0.91009\tvalidation_1-auc:0.84436\n",
            "[358]\tvalidation_0-auc:0.91021\tvalidation_1-auc:0.84434\n",
            "[359]\tvalidation_0-auc:0.91025\tvalidation_1-auc:0.84433\n",
            "[360]\tvalidation_0-auc:0.91035\tvalidation_1-auc:0.84437\n",
            "[361]\tvalidation_0-auc:0.91045\tvalidation_1-auc:0.84431\n",
            "[362]\tvalidation_0-auc:0.91048\tvalidation_1-auc:0.84435\n",
            "[363]\tvalidation_0-auc:0.91064\tvalidation_1-auc:0.84437\n",
            "[364]\tvalidation_0-auc:0.91065\tvalidation_1-auc:0.84436\n",
            "[365]\tvalidation_0-auc:0.91076\tvalidation_1-auc:0.84433\n",
            "[366]\tvalidation_0-auc:0.91087\tvalidation_1-auc:0.84428\n",
            "[367]\tvalidation_0-auc:0.91091\tvalidation_1-auc:0.84427\n",
            "[368]\tvalidation_0-auc:0.91094\tvalidation_1-auc:0.84428\n",
            "[369]\tvalidation_0-auc:0.91095\tvalidation_1-auc:0.84427\n",
            "[370]\tvalidation_0-auc:0.91097\tvalidation_1-auc:0.84430\n",
            "[371]\tvalidation_0-auc:0.91103\tvalidation_1-auc:0.84433\n",
            "[372]\tvalidation_0-auc:0.91112\tvalidation_1-auc:0.84426\n",
            "[373]\tvalidation_0-auc:0.91125\tvalidation_1-auc:0.84426\n",
            "[374]\tvalidation_0-auc:0.91138\tvalidation_1-auc:0.84424\n",
            "[375]\tvalidation_0-auc:0.91141\tvalidation_1-auc:0.84422\n",
            "[376]\tvalidation_0-auc:0.91145\tvalidation_1-auc:0.84418\n",
            "[377]\tvalidation_0-auc:0.91156\tvalidation_1-auc:0.84416\n",
            "[378]\tvalidation_0-auc:0.91166\tvalidation_1-auc:0.84420\n",
            "[379]\tvalidation_0-auc:0.91170\tvalidation_1-auc:0.84417\n",
            "[380]\tvalidation_0-auc:0.91181\tvalidation_1-auc:0.84414\n",
            "[381]\tvalidation_0-auc:0.91184\tvalidation_1-auc:0.84416\n",
            "[382]\tvalidation_0-auc:0.91188\tvalidation_1-auc:0.84414\n",
            "[383]\tvalidation_0-auc:0.91200\tvalidation_1-auc:0.84408\n",
            "[384]\tvalidation_0-auc:0.91207\tvalidation_1-auc:0.84407\n",
            "[385]\tvalidation_0-auc:0.91218\tvalidation_1-auc:0.84403\n",
            "[386]\tvalidation_0-auc:0.91221\tvalidation_1-auc:0.84401\n",
            "[387]\tvalidation_0-auc:0.91223\tvalidation_1-auc:0.84400\n",
            "[388]\tvalidation_0-auc:0.91229\tvalidation_1-auc:0.84398\n",
            "[389]\tvalidation_0-auc:0.91233\tvalidation_1-auc:0.84402\n",
            "[390]\tvalidation_0-auc:0.91236\tvalidation_1-auc:0.84405\n",
            "[391]\tvalidation_0-auc:0.91239\tvalidation_1-auc:0.84404\n",
            "[392]\tvalidation_0-auc:0.91243\tvalidation_1-auc:0.84404\n",
            "[393]\tvalidation_0-auc:0.91246\tvalidation_1-auc:0.84405\n",
            "[394]\tvalidation_0-auc:0.91250\tvalidation_1-auc:0.84404\n",
            "[395]\tvalidation_0-auc:0.91250\tvalidation_1-auc:0.84402\n",
            "[396]\tvalidation_0-auc:0.91257\tvalidation_1-auc:0.84401\n",
            "[397]\tvalidation_0-auc:0.91260\tvalidation_1-auc:0.84400\n",
            "[398]\tvalidation_0-auc:0.91261\tvalidation_1-auc:0.84399\n",
            "[399]\tvalidation_0-auc:0.91269\tvalidation_1-auc:0.84398\n",
            "[400]\tvalidation_0-auc:0.91269\tvalidation_1-auc:0.84398\n",
            "[401]\tvalidation_0-auc:0.91273\tvalidation_1-auc:0.84396\n",
            "[402]\tvalidation_0-auc:0.91276\tvalidation_1-auc:0.84394\n",
            "[403]\tvalidation_0-auc:0.91276\tvalidation_1-auc:0.84396\n",
            "[404]\tvalidation_0-auc:0.91280\tvalidation_1-auc:0.84394\n",
            "[405]\tvalidation_0-auc:0.91289\tvalidation_1-auc:0.84396\n",
            "[406]\tvalidation_0-auc:0.91290\tvalidation_1-auc:0.84396\n",
            "[407]\tvalidation_0-auc:0.91292\tvalidation_1-auc:0.84395\n",
            "[408]\tvalidation_0-auc:0.91293\tvalidation_1-auc:0.84396\n",
            "[409]\tvalidation_0-auc:0.91295\tvalidation_1-auc:0.84395\n",
            "[410]\tvalidation_0-auc:0.91296\tvalidation_1-auc:0.84398\n"
          ]
        },
        {
          "output_type": "error",
          "ename": "AttributeError",
          "evalue": "ignored",
          "traceback": [
            "\u001b[0;31m---------------------------------------------------------------------------\u001b[0m",
            "\u001b[0;31mAttributeError\u001b[0m                            Traceback (most recent call last)",
            "\u001b[0;32m<ipython-input-13-55ac91424fde>\u001b[0m in \u001b[0;36m<cell line: 8>\u001b[0;34m()\u001b[0m\n\u001b[1;32m      6\u001b[0m \u001b[0;34m\u001b[0m\u001b[0m\n\u001b[1;32m      7\u001b[0m \u001b[0mxgb_roc_score\u001b[0m \u001b[0;34m=\u001b[0m \u001b[0mroc_auc_score\u001b[0m\u001b[0;34m(\u001b[0m\u001b[0my_test\u001b[0m\u001b[0;34m,\u001b[0m \u001b[0mxgb_clf\u001b[0m\u001b[0;34m.\u001b[0m\u001b[0mpredict_proba\u001b[0m\u001b[0;34m(\u001b[0m\u001b[0mX_test\u001b[0m\u001b[0;34m)\u001b[0m\u001b[0;34m[\u001b[0m\u001b[0;34m:\u001b[0m\u001b[0;34m,\u001b[0m\u001b[0;36m1\u001b[0m\u001b[0;34m]\u001b[0m\u001b[0;34m,\u001b[0m\u001b[0maverage\u001b[0m\u001b[0;34m=\u001b[0m\u001b[0;34m'macro'\u001b[0m\u001b[0;34m)\u001b[0m\u001b[0;34m\u001b[0m\u001b[0;34m\u001b[0m\u001b[0m\n\u001b[0;32m----> 8\u001b[0;31m \u001b[0mprint\u001b[0m\u001b[0;34m(\u001b[0m\u001b[0;34m'ROC AUC: {0.4f}'\u001b[0m\u001b[0;34m.\u001b[0m\u001b[0mformat\u001b[0m\u001b[0;34m(\u001b[0m\u001b[0mxgb_roc_score\u001b[0m\u001b[0;34m)\u001b[0m\u001b[0;34m)\u001b[0m\u001b[0;34m\u001b[0m\u001b[0;34m\u001b[0m\u001b[0m\n\u001b[0m",
            "\u001b[0;31mAttributeError\u001b[0m: 'numpy.float64' object has no attribute '4f'"
          ]
        }
      ]
    },
    {
      "cell_type": "markdown",
      "source": [
        "* 각 피처의 중요도 그래프 그리기"
      ],
      "metadata": {
        "id": "OqRcWFKhKW_J"
      }
    },
    {
      "cell_type": "code",
      "source": [
        "from xgboost import plot_importance\n",
        "import matplotlib.pyplot as plt\n",
        "%matplotlib inline\n",
        "\n",
        "fig, ax = plt.subplots(figsize=(10,8))\n",
        "plot_importance(xgb_clf, ax=ax, max_num_features=20, height=0.4)"
      ],
      "metadata": {
        "id": "g0WOH5HWKaf6"
      },
      "execution_count": null,
      "outputs": []
    },
    {
      "cell_type": "markdown",
      "source": [
        "**LightGBM 모델 학습과 하이퍼 파라미터 튜닝**"
      ],
      "metadata": {
        "id": "n80Nv6aAKqne"
      }
    },
    {
      "cell_type": "code",
      "source": [
        "from lightgbm import LGBMClassifier\n",
        "\n",
        "lgbm_clf = LGBMClassifier(n_estimators=500)\n",
        "\n",
        "evals = [(X_test,y_test)]\n",
        "lgbm_clf.fit(X_train, y_train, early_stopping_rounds=100,eval_metric='auc',eval_set=evals, verbose=True)\n",
        "\n",
        "lgbm_roc_score = roc_auc_score(y_test, lgbm_clf.predict_proba(X_test)[:,1],average='macro')\n",
        "print('ROC AUC : {0:.4f}'.format(lgbm_roc_score))"
      ],
      "metadata": {
        "id": "HU0upS5-LJWD"
      },
      "execution_count": null,
      "outputs": []
    },
    {
      "cell_type": "markdown",
      "source": [
        "* 하이퍼 파라미터 튜닝"
      ],
      "metadata": {
        "id": "Lh8uHsPHLt24"
      }
    },
    {
      "cell_type": "code",
      "source": [
        "from sklearn.model_selection import GridSearchCV\n",
        "\n",
        "# 하이퍼 파라미터 테스트의 수행 속도를 향상시키기 위해 n_estimators를 200으로 감소\n",
        "lgbm_clf = LGBMClassifier(n_estimators=200)\n",
        "\n",
        "params = {'max_depth':[32,64],'min_child_samples':[60,100], 'max_depth':[128,168],'subsample':[0.8,1]}\n",
        "\n",
        "# cv는 3으로 지정\n",
        "gridcv = GridSearchCV(lgbm_clf, param_grid=params,cv=3)\n",
        "gridcv.fit(X_train, y_train, early_stopping_rounds=30, eval_metric='auc',eval_set=[(X_train,y_train),(X_test,y_test)])\n",
        "\n",
        "print('GridSearchCV 최적 파라미터:', gridcv.best_params_)\n",
        "\n",
        "lgbm_roc_score = roc_auc_score(y_test, gridcv.predict_proba(X_test)[:,1],average='macro')\n",
        "print('ROC AUC: {0:.4f}'.format(lgbm_roc_score))"
      ],
      "metadata": {
        "id": "sSFVeqcSLvp_"
      },
      "execution_count": null,
      "outputs": []
    },
    {
      "cell_type": "markdown",
      "source": [
        "* 최적화 된 파라미터로 최종 fitting 시키기"
      ],
      "metadata": {
        "id": "RjwguTuATKyo"
      }
    },
    {
      "cell_type": "code",
      "source": [
        "lgbm_clf = LGBMClassifier(n_estimators=1000,num_leaves=32, subsample=0.8,min_child_samples=100,max_depth=128)\n",
        "evals=[(X_test,y_test)]\n",
        "lgbm_clf.fit(X_train, y_train, early_stopping_rounds=100, eval_metric='auc',eval_set=evals,verbose=True)\n",
        "lgbm_roc_score = roc_auc_score(y_test, lgbm_clf.predict_proba(X_test)[:,1],average='macro')\n",
        "print('ROC AUC:{0:.4f}'.format(lgbm_roc_score))"
      ],
      "metadata": {
        "id": "A9ZQJZ6arHoR"
      },
      "execution_count": null,
      "outputs": []
    },
    {
      "cell_type": "markdown",
      "source": [
        "# 09 분류 실습 - 캐글 신용카드 사기 검출"
      ],
      "metadata": {
        "id": "qpI5LmlIxQZn"
      }
    },
    {
      "cell_type": "markdown",
      "source": [
        "**언더 샘플링과 오버 샘플링의 이해**"
      ],
      "metadata": {
        "id": "wUBWkVb2yBKG"
      }
    },
    {
      "cell_type": "markdown",
      "source": [
        "* 0이 정상, 1은 사기 -> 사기 검출이나 이상 검출 같은 데이터 세트는 레이블 값이 극도로 불균형한 분포를 가지는 편\n",
        "* 정상 레이블을 가지는 건수가 비정상 레이블을 가지는 것보다 매우 많기 때문에 제대로 된 이상 데이터 검출이 어려움 -> 오버 샘플링, 오버 샘플링 방법 이용\n",
        "* 오버 샘플링(이상 데이터와 같이 적은 데이터 세트를 증식하여 학습을 위한 충분한 데이터를 확보하는 방법)을 주로 이용 -> 주로 SMOTE 방법"
      ],
      "metadata": {
        "id": "UwqZO-AKx1fA"
      }
    },
    {
      "cell_type": "markdown",
      "source": [
        "**데이터 일차 가공 및 모델 학습/예측/평가**"
      ],
      "metadata": {
        "id": "jA9Cv5KK1HZL"
      }
    },
    {
      "cell_type": "code",
      "source": [
        "import pandas as pd\n",
        "import numpy as np\n",
        "import matplotlib.pyplot as plt\n",
        "import warnings\n",
        "warnings.filterwarnings('ignore')\n",
        "%matplotlib inline\n",
        "\n",
        "card_df = pd.read_csv('creditcard.csv')\n",
        "card_df.head(3)"
      ],
      "metadata": {
        "colab": {
          "base_uri": "https://localhost:8080/",
          "height": 237
        },
        "id": "E59ZEwDL1GoV",
        "outputId": "a51e98f8-681c-4534-9b82-a902ae411840"
      },
      "execution_count": 33,
      "outputs": [
        {
          "output_type": "execute_result",
          "data": {
            "text/plain": [
              "   Time        V1        V2        V3        V4        V5        V6        V7  \\\n",
              "0   0.0 -1.359807 -0.072781  2.536347  1.378155 -0.338321  0.462388  0.239599   \n",
              "1   0.0  1.191857  0.266151  0.166480  0.448154  0.060018 -0.082361 -0.078803   \n",
              "2   1.0 -1.358354 -1.340163  1.773209  0.379780 -0.503198  1.800499  0.791461   \n",
              "\n",
              "         V8        V9  ...       V21       V22       V23       V24       V25  \\\n",
              "0  0.098698  0.363787  ... -0.018307  0.277838 -0.110474  0.066928  0.128539   \n",
              "1  0.085102 -0.255425  ... -0.225775 -0.638672  0.101288 -0.339846  0.167170   \n",
              "2  0.247676 -1.514654  ...  0.247998  0.771679  0.909412 -0.689281 -0.327642   \n",
              "\n",
              "        V26       V27       V28  Amount  Class  \n",
              "0 -0.189115  0.133558 -0.021053  149.62      0  \n",
              "1  0.125895 -0.008983  0.014724    2.69      0  \n",
              "2 -0.139097 -0.055353 -0.059752  378.66      0  \n",
              "\n",
              "[3 rows x 31 columns]"
            ],
            "text/html": [
              "\n",
              "  <div id=\"df-b5116df8-6f63-4b96-9ac1-c6cdef71f871\">\n",
              "    <div class=\"colab-df-container\">\n",
              "      <div>\n",
              "<style scoped>\n",
              "    .dataframe tbody tr th:only-of-type {\n",
              "        vertical-align: middle;\n",
              "    }\n",
              "\n",
              "    .dataframe tbody tr th {\n",
              "        vertical-align: top;\n",
              "    }\n",
              "\n",
              "    .dataframe thead th {\n",
              "        text-align: right;\n",
              "    }\n",
              "</style>\n",
              "<table border=\"1\" class=\"dataframe\">\n",
              "  <thead>\n",
              "    <tr style=\"text-align: right;\">\n",
              "      <th></th>\n",
              "      <th>Time</th>\n",
              "      <th>V1</th>\n",
              "      <th>V2</th>\n",
              "      <th>V3</th>\n",
              "      <th>V4</th>\n",
              "      <th>V5</th>\n",
              "      <th>V6</th>\n",
              "      <th>V7</th>\n",
              "      <th>V8</th>\n",
              "      <th>V9</th>\n",
              "      <th>...</th>\n",
              "      <th>V21</th>\n",
              "      <th>V22</th>\n",
              "      <th>V23</th>\n",
              "      <th>V24</th>\n",
              "      <th>V25</th>\n",
              "      <th>V26</th>\n",
              "      <th>V27</th>\n",
              "      <th>V28</th>\n",
              "      <th>Amount</th>\n",
              "      <th>Class</th>\n",
              "    </tr>\n",
              "  </thead>\n",
              "  <tbody>\n",
              "    <tr>\n",
              "      <th>0</th>\n",
              "      <td>0.0</td>\n",
              "      <td>-1.359807</td>\n",
              "      <td>-0.072781</td>\n",
              "      <td>2.536347</td>\n",
              "      <td>1.378155</td>\n",
              "      <td>-0.338321</td>\n",
              "      <td>0.462388</td>\n",
              "      <td>0.239599</td>\n",
              "      <td>0.098698</td>\n",
              "      <td>0.363787</td>\n",
              "      <td>...</td>\n",
              "      <td>-0.018307</td>\n",
              "      <td>0.277838</td>\n",
              "      <td>-0.110474</td>\n",
              "      <td>0.066928</td>\n",
              "      <td>0.128539</td>\n",
              "      <td>-0.189115</td>\n",
              "      <td>0.133558</td>\n",
              "      <td>-0.021053</td>\n",
              "      <td>149.62</td>\n",
              "      <td>0</td>\n",
              "    </tr>\n",
              "    <tr>\n",
              "      <th>1</th>\n",
              "      <td>0.0</td>\n",
              "      <td>1.191857</td>\n",
              "      <td>0.266151</td>\n",
              "      <td>0.166480</td>\n",
              "      <td>0.448154</td>\n",
              "      <td>0.060018</td>\n",
              "      <td>-0.082361</td>\n",
              "      <td>-0.078803</td>\n",
              "      <td>0.085102</td>\n",
              "      <td>-0.255425</td>\n",
              "      <td>...</td>\n",
              "      <td>-0.225775</td>\n",
              "      <td>-0.638672</td>\n",
              "      <td>0.101288</td>\n",
              "      <td>-0.339846</td>\n",
              "      <td>0.167170</td>\n",
              "      <td>0.125895</td>\n",
              "      <td>-0.008983</td>\n",
              "      <td>0.014724</td>\n",
              "      <td>2.69</td>\n",
              "      <td>0</td>\n",
              "    </tr>\n",
              "    <tr>\n",
              "      <th>2</th>\n",
              "      <td>1.0</td>\n",
              "      <td>-1.358354</td>\n",
              "      <td>-1.340163</td>\n",
              "      <td>1.773209</td>\n",
              "      <td>0.379780</td>\n",
              "      <td>-0.503198</td>\n",
              "      <td>1.800499</td>\n",
              "      <td>0.791461</td>\n",
              "      <td>0.247676</td>\n",
              "      <td>-1.514654</td>\n",
              "      <td>...</td>\n",
              "      <td>0.247998</td>\n",
              "      <td>0.771679</td>\n",
              "      <td>0.909412</td>\n",
              "      <td>-0.689281</td>\n",
              "      <td>-0.327642</td>\n",
              "      <td>-0.139097</td>\n",
              "      <td>-0.055353</td>\n",
              "      <td>-0.059752</td>\n",
              "      <td>378.66</td>\n",
              "      <td>0</td>\n",
              "    </tr>\n",
              "  </tbody>\n",
              "</table>\n",
              "<p>3 rows × 31 columns</p>\n",
              "</div>\n",
              "      <button class=\"colab-df-convert\" onclick=\"convertToInteractive('df-b5116df8-6f63-4b96-9ac1-c6cdef71f871')\"\n",
              "              title=\"Convert this dataframe to an interactive table.\"\n",
              "              style=\"display:none;\">\n",
              "        \n",
              "  <svg xmlns=\"http://www.w3.org/2000/svg\" height=\"24px\"viewBox=\"0 0 24 24\"\n",
              "       width=\"24px\">\n",
              "    <path d=\"M0 0h24v24H0V0z\" fill=\"none\"/>\n",
              "    <path d=\"M18.56 5.44l.94 2.06.94-2.06 2.06-.94-2.06-.94-.94-2.06-.94 2.06-2.06.94zm-11 1L8.5 8.5l.94-2.06 2.06-.94-2.06-.94L8.5 2.5l-.94 2.06-2.06.94zm10 10l.94 2.06.94-2.06 2.06-.94-2.06-.94-.94-2.06-.94 2.06-2.06.94z\"/><path d=\"M17.41 7.96l-1.37-1.37c-.4-.4-.92-.59-1.43-.59-.52 0-1.04.2-1.43.59L10.3 9.45l-7.72 7.72c-.78.78-.78 2.05 0 2.83L4 21.41c.39.39.9.59 1.41.59.51 0 1.02-.2 1.41-.59l7.78-7.78 2.81-2.81c.8-.78.8-2.07 0-2.86zM5.41 20L4 18.59l7.72-7.72 1.47 1.35L5.41 20z\"/>\n",
              "  </svg>\n",
              "      </button>\n",
              "      \n",
              "  <style>\n",
              "    .colab-df-container {\n",
              "      display:flex;\n",
              "      flex-wrap:wrap;\n",
              "      gap: 12px;\n",
              "    }\n",
              "\n",
              "    .colab-df-convert {\n",
              "      background-color: #E8F0FE;\n",
              "      border: none;\n",
              "      border-radius: 50%;\n",
              "      cursor: pointer;\n",
              "      display: none;\n",
              "      fill: #1967D2;\n",
              "      height: 32px;\n",
              "      padding: 0 0 0 0;\n",
              "      width: 32px;\n",
              "    }\n",
              "\n",
              "    .colab-df-convert:hover {\n",
              "      background-color: #E2EBFA;\n",
              "      box-shadow: 0px 1px 2px rgba(60, 64, 67, 0.3), 0px 1px 3px 1px rgba(60, 64, 67, 0.15);\n",
              "      fill: #174EA6;\n",
              "    }\n",
              "\n",
              "    [theme=dark] .colab-df-convert {\n",
              "      background-color: #3B4455;\n",
              "      fill: #D2E3FC;\n",
              "    }\n",
              "\n",
              "    [theme=dark] .colab-df-convert:hover {\n",
              "      background-color: #434B5C;\n",
              "      box-shadow: 0px 1px 3px 1px rgba(0, 0, 0, 0.15);\n",
              "      filter: drop-shadow(0px 1px 2px rgba(0, 0, 0, 0.3));\n",
              "      fill: #FFFFFF;\n",
              "    }\n",
              "  </style>\n",
              "\n",
              "      <script>\n",
              "        const buttonEl =\n",
              "          document.querySelector('#df-b5116df8-6f63-4b96-9ac1-c6cdef71f871 button.colab-df-convert');\n",
              "        buttonEl.style.display =\n",
              "          google.colab.kernel.accessAllowed ? 'block' : 'none';\n",
              "\n",
              "        async function convertToInteractive(key) {\n",
              "          const element = document.querySelector('#df-b5116df8-6f63-4b96-9ac1-c6cdef71f871');\n",
              "          const dataTable =\n",
              "            await google.colab.kernel.invokeFunction('convertToInteractive',\n",
              "                                                     [key], {});\n",
              "          if (!dataTable) return;\n",
              "\n",
              "          const docLinkHtml = 'Like what you see? Visit the ' +\n",
              "            '<a target=\"_blank\" href=https://colab.research.google.com/notebooks/data_table.ipynb>data table notebook</a>'\n",
              "            + ' to learn more about interactive tables.';\n",
              "          element.innerHTML = '';\n",
              "          dataTable['output_type'] = 'display_data';\n",
              "          await google.colab.output.renderOutput(dataTable, element);\n",
              "          const docLink = document.createElement('div');\n",
              "          docLink.innerHTML = docLinkHtml;\n",
              "          element.appendChild(docLink);\n",
              "        }\n",
              "      </script>\n",
              "    </div>\n",
              "  </div>\n",
              "  "
            ]
          },
          "metadata": {},
          "execution_count": 33
        }
      ]
    },
    {
      "cell_type": "markdown",
      "source": [
        "-> 결과 : Time 피처는 데이터 생성과 관련된 속성으로서 큰 의미x, 결측치 값은 없고, class 레이블만 int형이고 나머지 피처는 모두 float"
      ],
      "metadata": {
        "id": "V12xBF-H20vV"
      }
    },
    {
      "cell_type": "code",
      "source": [
        "from sklearn.model_selection import train_test_split\n",
        "\n",
        "# 인자로 입력받은 DataFrame을 복사한 뒤 Time 칼럼만 삭제하고 복사된 DataFrame 반환\n",
        "\n",
        "def get_preprocessed_df(df=None):\n",
        "  df_copy = df.copy()\n",
        "  df_copy.drop('Time',axis=1,inplace=True)\n",
        "  return df_copy"
      ],
      "metadata": {
        "id": "CqrOzyI55eoC"
      },
      "execution_count": 23,
      "outputs": []
    },
    {
      "cell_type": "code",
      "source": [
        "card_df.info()"
      ],
      "metadata": {
        "colab": {
          "base_uri": "https://localhost:8080/"
        },
        "id": "p3QSwPqZ_2OL",
        "outputId": "612511c3-5f03-45b6-8660-144aeda9f76c"
      },
      "execution_count": 34,
      "outputs": [
        {
          "output_type": "stream",
          "name": "stdout",
          "text": [
            "<class 'pandas.core.frame.DataFrame'>\n",
            "RangeIndex: 284807 entries, 0 to 284806\n",
            "Data columns (total 31 columns):\n",
            " #   Column  Non-Null Count   Dtype  \n",
            "---  ------  --------------   -----  \n",
            " 0   Time    284807 non-null  float64\n",
            " 1   V1      284807 non-null  float64\n",
            " 2   V2      284807 non-null  float64\n",
            " 3   V3      284807 non-null  float64\n",
            " 4   V4      284807 non-null  float64\n",
            " 5   V5      284807 non-null  float64\n",
            " 6   V6      284807 non-null  float64\n",
            " 7   V7      284807 non-null  float64\n",
            " 8   V8      284807 non-null  float64\n",
            " 9   V9      284807 non-null  float64\n",
            " 10  V10     284807 non-null  float64\n",
            " 11  V11     284807 non-null  float64\n",
            " 12  V12     284807 non-null  float64\n",
            " 13  V13     284807 non-null  float64\n",
            " 14  V14     284807 non-null  float64\n",
            " 15  V15     284807 non-null  float64\n",
            " 16  V16     284807 non-null  float64\n",
            " 17  V17     284807 non-null  float64\n",
            " 18  V18     284807 non-null  float64\n",
            " 19  V19     284807 non-null  float64\n",
            " 20  V20     284807 non-null  float64\n",
            " 21  V21     284807 non-null  float64\n",
            " 22  V22     284807 non-null  float64\n",
            " 23  V23     284807 non-null  float64\n",
            " 24  V24     284807 non-null  float64\n",
            " 25  V25     284807 non-null  float64\n",
            " 26  V26     284807 non-null  float64\n",
            " 27  V27     284807 non-null  float64\n",
            " 28  V28     284807 non-null  float64\n",
            " 29  Amount  284807 non-null  float64\n",
            " 30  Class   284807 non-null  int64  \n",
            "dtypes: float64(30), int64(1)\n",
            "memory usage: 67.4 MB\n"
          ]
        }
      ]
    },
    {
      "cell_type": "code",
      "source": [
        "card_df['Class'].value_counts()"
      ],
      "metadata": {
        "colab": {
          "base_uri": "https://localhost:8080/"
        },
        "id": "qBuux7Nz_YY3",
        "outputId": "a1f402d7-10e5-4dbc-8f22-43f1113ccf11"
      },
      "execution_count": 35,
      "outputs": [
        {
          "output_type": "execute_result",
          "data": {
            "text/plain": [
              "0    284315\n",
              "1       492\n",
              "Name: Class, dtype: int64"
            ]
          },
          "metadata": {},
          "execution_count": 35
        }
      ]
    },
    {
      "cell_type": "code",
      "source": [
        "# 사전 데이터 가공 후 학습과 테스트 데이터 세트를 반환하는 함수.\n",
        "def get_train_test_dataset(df=None):\n",
        "  # 인자로 입력된 DataFrame의 사전 데이터 가공이 완료된 복사 DataFrame 반환\n",
        "  df_copy = get_preprocessed_df(df)\n",
        "  # DataFrame의 맨 마지막 칼럼이 레이블, 나머지는 피처들\n",
        "  X_features = df_copy.iloc[:,:-1]\n",
        "  y_target = df_copy.iloc[:,-1]\n",
        "  # train_test_split()으로 학습과 테스트 데이터 분할. stratify=y_target으로 Stratified 기반 분할\n",
        "  X_train, X_test, y_train, y_test = \\\n",
        "  train_test_split(X_features,y_target, test_size=0.3, random_state=0, stratify=y_target)\n",
        "  # 학습과 테스트 데이터 세트 반환\n",
        "  return X_train, X_test, y_train, y_test\n",
        "\n",
        "X_train, X_test, y_train, y_test = get_train_test_dataset(card_df)"
      ],
      "metadata": {
        "id": "gG6ZFrJg6v-6"
      },
      "execution_count": 36,
      "outputs": []
    },
    {
      "cell_type": "code",
      "source": [
        "print('학습 데이터 레이블 값 비율')\n",
        "print(y_train.value_counts()/y_train.shape[0]*100)\n",
        "\n",
        "print('테스트 데이터 레이블 값 비율')\n",
        "print(y_test.value_counts()/y_test.shape[0]*100)"
      ],
      "metadata": {
        "id": "Z_mSHRba8DV6",
        "colab": {
          "base_uri": "https://localhost:8080/"
        },
        "outputId": "6e4a0194-2e33-4a1e-b27a-aad41907a322"
      },
      "execution_count": 37,
      "outputs": [
        {
          "output_type": "stream",
          "name": "stdout",
          "text": [
            "학습 데이터 레이블 값 비율\n",
            "0    99.827451\n",
            "1     0.172549\n",
            "Name: Class, dtype: float64\n",
            "테스트 데이터 레이블 값 비율\n",
            "0    99.826785\n",
            "1     0.173215\n",
            "Name: Class, dtype: float64\n"
          ]
        }
      ]
    },
    {
      "cell_type": "markdown",
      "source": [
        "-> 결과: 학습 데이터 레이블은 1이 약 0.172%, 테스트 데이터 레이블의 경우 약 0.173%\n"
      ],
      "metadata": {
        "id": "itZX1EA38dqg"
      }
    },
    {
      "cell_type": "markdown",
      "source": [
        "* 로지스틱 회귀를 이용해 신용 카드 사기 여부 예측"
      ],
      "metadata": {
        "id": "CVU9ea638wmT"
      }
    },
    {
      "cell_type": "code",
      "source": [
        "from sklearn.metrics import confusion_matrix, accuracy_score, precision_score, recall_score, f1_score, roc_auc_score\n",
        "\n",
        "def get_clf_eval(y_test, pred=None, pred_proba=None):\n",
        "  confusion = confusion_matrix(y_test, pred)\n",
        "  accuracy = accuracy_score(y_test, pred)\n",
        "  precision = precision_score(y_test, pred)\n",
        "  recall = recall_score(y_test, pred)\n",
        "  f1 = f1_score(y_test,pred)\n",
        "  # ROC - AUC 추가\n",
        "  roc_auc = roc_auc_score(y_test, pred_proba)\n",
        "  print('오차 행렬')\n",
        "  print(confusion)\n",
        "  # ROC - AUC print 추가\n",
        "  print('정확도: {0:.4f}, 정밀도: {1:.4f}, 재현율: {2:.4f},/ F1: {3:.4f},AUC:{4:4f}'.format(accuracy, precision, recall, f1, roc_auc))"
      ],
      "metadata": {
        "id": "MKK9xpuAonH5"
      },
      "execution_count": 38,
      "outputs": []
    },
    {
      "cell_type": "code",
      "source": [
        "from sklearn.linear_model import LogisticRegression\n",
        "\n",
        "lr_clf = LogisticRegression()\n",
        "lr_clf.fit(X_train, y_train)\n",
        "lr_pred = lr_clf.predict(X_test)\n",
        "lr_pred_proba = lr_clf.predict_proba(X_test)[:,1]\n",
        "\n",
        "# 3장에서 사용한 get_clf_eval() 함수를 이용해 평가 수행\n",
        "get_clf_eval(y_test,lr_pred, lr_pred_proba)"
      ],
      "metadata": {
        "id": "T58tsWfN8tT3",
        "colab": {
          "base_uri": "https://localhost:8080/"
        },
        "outputId": "b9f3a973-48fc-410c-e1da-0855bec6917e"
      },
      "execution_count": 39,
      "outputs": [
        {
          "output_type": "stream",
          "name": "stdout",
          "text": [
            "오차 행렬\n",
            "[[85283    12]\n",
            " [   60    88]]\n",
            "정확도: 0.9992, 정밀도: 0.8800, 재현율: 0.5946,/ F1: 0.7097,AUC:0.959303\n"
          ]
        }
      ]
    },
    {
      "cell_type": "markdown",
      "source": [
        "* 모델 학습/예측/평가를 위한 함수 생성"
      ],
      "metadata": {
        "id": "OlzQbOs5B0dF"
      }
    },
    {
      "cell_type": "code",
      "source": [
        "# 인자로 사이킷런의 Estimator 객체와 학습/테스트 데이터 세트를 입력 받아서 학습/예측/평가 수행.\n",
        "\n",
        "def get_model_train_eval(model, ftr_train=None, ftr_test=None, tgt_train=None, tgt_test=None):\n",
        "  model.fit(ftr_train, tgt_train)\n",
        "  pred = model.predict(ftr_test)\n",
        "  pred_proba = model.predict_proba(ftr_test)[:,1]\n",
        "  get_clf_eval(tgt_test, pred, pred_proba)"
      ],
      "metadata": {
        "id": "k3nXXio3B5SW"
      },
      "execution_count": 7,
      "outputs": []
    },
    {
      "cell_type": "markdown",
      "source": [
        "* 데이터 세트가 극도로 불균형한 레이블 값 분포도를 가지고 있기 때문에 LGBMClassifier 객체 생성 시 boost_from_average=False로 파라미터를 설정"
      ],
      "metadata": {
        "id": "6JE2LXUcDRXp"
      }
    },
    {
      "cell_type": "code",
      "source": [
        "from lightgbm import LGBMClassifier\n",
        "\n",
        "lgbm_clf = LGBMClassifier(n_estimators=1000, num_leaves=64, n_jobs=-1, boost_from_average=False)\n",
        "get_model_train_eval(lgbm_clf,ftr_train=X_train, ftr_test=X_test, tgt_train=y_train, tgt_test=y_test)"
      ],
      "metadata": {
        "id": "mtcVtWYADfEP",
        "colab": {
          "base_uri": "https://localhost:8080/"
        },
        "outputId": "69032b5a-af98-40a2-93e8-ebd2a4671d4b"
      },
      "execution_count": 40,
      "outputs": [
        {
          "output_type": "stream",
          "name": "stdout",
          "text": [
            "오차 행렬\n",
            "[[85290     5]\n",
            " [   36   112]]\n",
            "정확도: 0.9995, 정밀도: 0.9573, 재현율: 0.7568,/ F1: 0.8453,AUC:0.979034\n"
          ]
        }
      ]
    },
    {
      "cell_type": "markdown",
      "source": [
        "**데이터 분포도 변환 후 모델 학습/예측/평가**"
      ],
      "metadata": {
        "id": "9X0f5cw6ECuL"
      }
    },
    {
      "cell_type": "markdown",
      "source": [
        "* Amount 피처의 분포도 확인"
      ],
      "metadata": {
        "id": "OcRdoOrno5Rf"
      }
    },
    {
      "cell_type": "code",
      "source": [
        "import seaborn as sns\n",
        "plt.figure(figsize=(8,4))\n",
        "plt.xticks(range(0,30000,1000),rotation=60)\n",
        "sns.distplot(card_df['Amount'])"
      ],
      "metadata": {
        "colab": {
          "base_uri": "https://localhost:8080/",
          "height": 437
        },
        "id": "hC8VUexGo8D1",
        "outputId": "61aa0aa4-2520-4dca-e1b7-f6cb4d4ff49d"
      },
      "execution_count": 41,
      "outputs": [
        {
          "output_type": "execute_result",
          "data": {
            "text/plain": [
              "<Axes: xlabel='Amount', ylabel='Density'>"
            ]
          },
          "metadata": {},
          "execution_count": 41
        },
        {
          "output_type": "display_data",
          "data": {
            "text/plain": [
              "<Figure size 800x400 with 1 Axes>"
            ],
            "image/png": "[encoded data removed]"
          },
          "metadata": {}
        }
      ]
    },
    {
      "cell_type": "markdown",
      "source": [
        "* Amount를 정규 분포 형태로 변환 후 로지스틱 회귀의 예측 성능을 측정"
      ],
      "metadata": {
        "id": "WV0iydaYpUBc"
      }
    },
    {
      "cell_type": "code",
      "source": [
        "from sklearn.preprocessing import StandardScaler\n",
        "# 사이킷런의 StandardScaler를 이용해 정균 분포 형태로 Amount 피처값 변환하는 로직으로 수정.\n",
        "def get_preprocessed_df(df=None):\n",
        "  df_copy = df.copy()\n",
        "  scaler = StandardScaler()\n",
        "  amount_n = scaler.fit_transform(df_copy['Amount'].values.reshape(-1,1))\n",
        "  # 변환된 Amount를 Amount Scaled로 피처명 변경 후 DataFrame 맨 앞 칼럼으로 입력\n",
        "  df_copy.insert(0,'Amount_Scaled',amount_n)\n",
        "  # 기존 Time,Amount 피처 삭제\n",
        "  df_copy.drop(['Time','Amount'],axis=1,inplace=True)\n",
        "  return df_copy"
      ],
      "metadata": {
        "id": "2N9ThrqPpY2U"
      },
      "execution_count": 42,
      "outputs": []
    },
    {
      "cell_type": "code",
      "source": [
        "# Amount를 정규 분포 형태로 변환 후 로지스틱 회귀 및 LightGBM 수행\n",
        "X_train, X_test, y_train, y_test = get_train_test_dataset(card_df)\n",
        "\n",
        "print('### 로지스틱 회귀 예측 성능 ###')\n",
        "lr_clf = LogisticRegression()\n",
        "get_model_train_eval(lr_clf, ftr_train=X_train, ftr_test=X_test, tgt_train=y_train, tgt_test=y_test)\n",
        "\n",
        "print('### LightGBM 예측 성능 ###')\n",
        "lgbm_clf = LGBMClassifier(n_estimators=1000, num_leaves=64, n_jobs=-1)\n",
        "get_model_train_eval(lgbm_clf,ftr_train=X_train, ftr_test=X_test, tgt_train=y_train, tgt_test=y_test)"
      ],
      "metadata": {
        "colab": {
          "base_uri": "https://localhost:8080/"
        },
        "id": "NBeXFGFwrrm6",
        "outputId": "85056871-27e6-450e-f129-d484aa356bf3"
      },
      "execution_count": 43,
      "outputs": [
        {
          "output_type": "stream",
          "name": "stdout",
          "text": [
            "### 로지스틱 회귀 예측 성능 ###\n",
            "오차 행렬\n",
            "[[85281    14]\n",
            " [   58    90]]\n",
            "정확도: 0.9992, 정밀도: 0.8654, 재현율: 0.6081,/ F1: 0.7143,AUC:0.970227\n",
            "### LightGBM 예측 성능 ###\n",
            "오차 행렬\n",
            "[[85236    59]\n",
            " [   52    96]]\n",
            "정확도: 0.9987, 정밀도: 0.6194, 재현율: 0.6486,/ F1: 0.6337,AUC:0.833987\n"
          ]
        }
      ]
    },
    {
      "cell_type": "markdown",
      "source": [
        "* 로그 변환 수행 (원래 값을 log 값으로 변환해 원래 큰 값을 상대적으로 작은 값으로 변환 -> 왜곡을 상당 수준 개선해 줌.)"
      ],
      "metadata": {
        "id": "dImCK9Fztwbc"
      }
    },
    {
      "cell_type": "code",
      "source": [
        "def get_preprocessed_df(df=None):\n",
        "  df_copy = df.copy()\n",
        "  # 넘파이의 log1p()를 이용해 Amount를 로그 변환\n",
        "  amount_n = np.log1p(df_copy['Amount'])\n",
        "  df_copy.insert(0,'Amount_Scaled',amount_n)\n",
        "  df_copy.drop(['Time','Amount'],axis=1,inplace=True)\n",
        "  return df_copy"
      ],
      "metadata": {
        "id": "KX4yjzVEtjKt"
      },
      "execution_count": 44,
      "outputs": []
    },
    {
      "cell_type": "code",
      "source": [
        "X_train, X_test, y_train, y_test = get_train_test_dataset(card_df)\n",
        "\n",
        "print('### 로지스틱 회귀 예측 성능 ###')\n",
        "lr_clf = LogisticRegression()\n",
        "get_model_train_eval(lr_clf, ftr_train=X_train, ftr_test=X_test, tgt_train=y_train, tgt_test=y_test)\n",
        "\n",
        "print('### LightGBM 예측 성능 ###')\n",
        "lgbm_clf = LGBMClassifier(n_estimators=1000, num_leaves=64, n_jobs=-1)\n",
        "get_model_train_eval(lgbm_clf,ftr_train=X_train, ftr_test=X_test, tgt_train=y_train, tgt_test=y_test)"
      ],
      "metadata": {
        "colab": {
          "base_uri": "https://localhost:8080/"
        },
        "id": "pP5vrA9ewA5A",
        "outputId": "eb57a260-a59a-459f-9f7f-891ab4b5c664"
      },
      "execution_count": 45,
      "outputs": [
        {
          "output_type": "stream",
          "name": "stdout",
          "text": [
            "### 로지스틱 회귀 예측 성능 ###\n",
            "오차 행렬\n",
            "[[85283    12]\n",
            " [   59    89]]\n",
            "정확도: 0.9992, 정밀도: 0.8812, 재현율: 0.6014,/ F1: 0.7149,AUC:0.972683\n",
            "### LightGBM 예측 성능 ###\n",
            "오차 행렬\n",
            "[[85268    27]\n",
            " [   65    83]]\n",
            "정확도: 0.9989, 정밀도: 0.7545, 재현율: 0.5608,/ F1: 0.6434,AUC:0.780225\n"
          ]
        }
      ]
    },
    {
      "cell_type": "markdown",
      "source": [
        "**이상치 데이터 제거 후 모델 학습/예측/평가**"
      ],
      "metadata": {
        "id": "W-kkqY_Vv9N6"
      }
    },
    {
      "cell_type": "markdown",
      "source": [
        "* IQR 방식: 사분위 값의 편차를 이용해 이상치 찾는 기법\n",
        "* Q1-IQR*1.5, Q3+IQR*1.5를 각각 최대, 최소로 지정해 이들 밖에 존재하는 값을 이상치로 간주\n",
        "* 이상치 검출 시 피처가 많다면 상관성이 높은 피처들 위주로 이상치를 검출하는 것이 좋음."
      ],
      "metadata": {
        "id": "5aEk6YzqwSwl"
      }
    },
    {
      "cell_type": "code",
      "source": [
        "import seaborn as sns\n",
        "\n",
        "plt.figure(figsize=(9,9))\n",
        "corr = card_df.corr()\n",
        "sns.heatmap(corr,cmap='RdBu')"
      ],
      "metadata": {
        "colab": {
          "base_uri": "https://localhost:8080/",
          "height": 817
        },
        "id": "O62bw1kowQTb",
        "outputId": "7874894e-681a-4a3e-f6a5-befed77c58d6"
      },
      "execution_count": 8,
      "outputs": [
        {
          "output_type": "execute_result",
          "data": {
            "text/plain": [
              "<Axes: >"
            ]
          },
          "metadata": {},
          "execution_count": 8
        },
        {
          "output_type": "display_data",
          "data": {
            "text/plain": [
              "<Figure size 900x900 with 2 Axes>"
            ],
            "image/png": "[encoded data removed]"
          },
          "metadata": {}
        }
      ]
    },
    {
      "cell_type": "markdown",
      "source": [
        "-> 양의 상관관계가 높을수록 진한 파란색, 음의 상관관계가 높을수록 진한 빨간색에 가까움\n",
        "-> V14가 가장 음의 상관관계가 높기 때문에 이에 대한 이상치 제거"
      ],
      "metadata": {
        "id": "EgmqSDBTzMkZ"
      }
    },
    {
      "cell_type": "code",
      "source": [
        "import numpy as np\n",
        "\n",
        "def get_outlier(df=None, column=None, weight=1.5):\n",
        "  # fraud에 해당하는 column 데이터만 추출, 1/4 분위와 3/4 분위 지점을 np.percentile로 구함.\n",
        "  fraud = df[df['Class']==1][column]\n",
        "  quantile_25 = np.percentile(fraud.values,25)\n",
        "  quantile_75 = np.percentile(fraud.values,75)\n",
        "  # IQR을 구하고, IQR에 1.5를 곱해 최댓값과 최솟값 지점 구함.\n",
        "  iqr = quantile_75 - quantile_25\n",
        "  iqr_weight = iqr * weight \n",
        "  lowest_val = quantile_25 - iqr_weight\n",
        "  highest_val = quantile_75 + iqr_weight\n",
        "  # 최댓값보다 크거나, 최솟값보다 작은 값을 이상치 데이터로 설정하고 DataFrame index 반환.\n",
        "  outlier_index = fraud[(fraud<lowest_val)|(fraud>highest_val)].index\n",
        "  return outlier_index"
      ],
      "metadata": {
        "id": "xE9mduFszS6t"
      },
      "execution_count": 46,
      "outputs": []
    },
    {
      "cell_type": "code",
      "source": [
        "outlier_index = get_outlier(df=card_df,column='V14',weight=1.5)\n",
        "print('이상치 데이터 인덱스:',outlier_index)"
      ],
      "metadata": {
        "colab": {
          "base_uri": "https://localhost:8080/"
        },
        "id": "4EeVyFmz2Uhm",
        "outputId": "9c364522-70a1-49b5-82bf-666d285c523a"
      },
      "execution_count": 47,
      "outputs": [
        {
          "output_type": "stream",
          "name": "stdout",
          "text": [
            "이상치 데이터 인덱스: Int64Index([8296, 8615, 9035, 9252], dtype='int64')\n"
          ]
        }
      ]
    },
    {
      "cell_type": "code",
      "source": [
        "def get_preprocessed_df(df=None):\n",
        "  df_copy = df.copy()\n",
        "  # 넘파이의 log1p()를 이용해 Amount를 로그 변환\n",
        "  amount_n = np.log1p(df_copy['Amount'])\n",
        "  df_copy.insert(0,'Amount_Scaled',amount_n)\n",
        "  df_copy.drop(['Time','Amount'],axis=1,inplace=True)\n",
        "  # 이상치 데이터 삭제하는 로직 추가\n",
        "  outlier_index = get_outlier(df=df_copy, column='V14',weight=1.5)\n",
        "  df_copy.drop(outlier_index,axis=0,inplace=True)\n",
        "  return df_copy\n",
        "\n",
        "X_train, X_test, y_train, y_test = get_train_test_dataset(card_df)\n",
        "\n",
        "print('### 로지스틱 회귀 예측 성능 ###')\n",
        "get_model_train_eval(lr_clf, ftr_train=X_train, ftr_test=X_test, tgt_train=y_train, tgt_test=y_test)\n",
        "\n",
        "print('### LightGBM 예측 성능 ###')\n",
        "get_model_train_eval(lgbm_clf,ftr_train=X_train, ftr_test=X_test, tgt_train=y_train, tgt_test=y_test)"
      ],
      "metadata": {
        "colab": {
          "base_uri": "https://localhost:8080/"
        },
        "id": "LyMSSjqC5vVN",
        "outputId": "84eebc40-6d28-439a-c573-e90a14cc3cb2"
      },
      "execution_count": 48,
      "outputs": [
        {
          "output_type": "stream",
          "name": "stdout",
          "text": [
            "### 로지스틱 회귀 예측 성능 ###\n",
            "오차 행렬\n",
            "[[85281    14]\n",
            " [   48    98]]\n",
            "정확도: 0.9993, 정밀도: 0.8750, 재현율: 0.6712,/ F1: 0.7597,AUC:0.974272\n",
            "### LightGBM 예측 성능 ###\n",
            "오차 행렬\n",
            "[[85268    27]\n",
            " [   36   110]]\n",
            "정확도: 0.9993, 정밀도: 0.8029, 재현율: 0.7534,/ F1: 0.7774,AUC:0.921805\n"
          ]
        }
      ]
    },
    {
      "cell_type": "markdown",
      "source": [
        "**SMOTE 오버 샘플링 적용 후 모델 학습/예측/평가**"
      ],
      "metadata": {
        "id": "ikaAR7Qx6jjP"
      }
    },
    {
      "cell_type": "markdown",
      "source": [
        "* SMOTE를 적용해 학습 데이터 오버 샘플링 (테스트 데이터는 안됨)"
      ],
      "metadata": {
        "id": "xJp2NTlo6yT0"
      }
    },
    {
      "cell_type": "code",
      "source": [
        "from imblearn.over_sampling import SMOTE\n",
        "\n",
        "smote = SMOTE(random_state=0)\n",
        "X_train_over, y_train_over = smote.fit_resample(X_train, y_train)\n",
        "print('SMOTE 적용 전 학습용 피처/레이블 데이터 세트:', X_train.shape, y_train.shape)\n",
        "print('SMOTE 적용 후 학습용 피처/레이블 데이터 세트:', X_train_over.shape, y_train_over.shape)\n",
        "print('SMOTE 적용 후 레이블 값 분포:\\n', pd.Series(y_train_over).value_counts())"
      ],
      "metadata": {
        "colab": {
          "base_uri": "https://localhost:8080/"
        },
        "id": "BMj1JMpo6jEQ",
        "outputId": "46ab9c15-a951-46c1-898d-253e91f9c677"
      },
      "execution_count": 50,
      "outputs": [
        {
          "output_type": "stream",
          "name": "stdout",
          "text": [
            "SMOTE 적용 전 학습용 피처/레이블 데이터 세트: (199362, 29) (199362,)\n",
            "SMOTE 적용 후 학습용 피처/레이블 데이터 세트: (398040, 29) (398040,)\n",
            "SMOTE 적용 후 레이블 값 분포:\n",
            " 0    199020\n",
            "1    199020\n",
            "Name: Class, dtype: int64\n"
          ]
        }
      ]
    },
    {
      "cell_type": "code",
      "source": [
        "lr_clf = LogisticRegression()\n",
        "get_model_train_eval(lr_clf, ftr_train=X_train_over, ftr_test=X_test, tgt_train=y_train_over, tgt_test=y_test)"
      ],
      "metadata": {
        "colab": {
          "base_uri": "https://localhost:8080/"
        },
        "id": "BCUB7nrD8u4V",
        "outputId": "a0029096-8f8a-4c3b-fa3b-e6aea840bda1"
      },
      "execution_count": 52,
      "outputs": [
        {
          "output_type": "stream",
          "name": "stdout",
          "text": [
            "오차 행렬\n",
            "[[82937  2358]\n",
            " [   11   135]]\n",
            "정확도: 0.9723, 정밀도: 0.0542, 재현율: 0.9247,/ F1: 0.1023,AUC:0.973654\n"
          ]
        }
      ]
    },
    {
      "cell_type": "markdown",
      "source": [
        "-> 결과: 재현율은 상당히 높지만 정밀도가 급격하게 저하되었기 대문에 문제"
      ],
      "metadata": {
        "id": "x3WI9Fqj8_v4"
      }
    },
    {
      "cell_type": "markdown",
      "source": [
        "* 문제 발생 시각화"
      ],
      "metadata": {
        "id": "W_aRRQGH9FOr"
      }
    },
    {
      "cell_type": "code",
      "source": [
        "from sklearn.metrics import precision_recall_curve"
      ],
      "metadata": {
        "id": "5PM_FQc1RyKJ"
      },
      "execution_count": 56,
      "outputs": []
    },
    {
      "cell_type": "code",
      "source": [
        "def precision_recall_curve_plot(y_test,pred_proba_c1):\n",
        "  # threshold ndarray와 이 threshold에 따른 정밀도, 재현율 ndarray 추출.\n",
        "  precisions, recalls, thresholds = precision_recall_curve(y_test, pred_proba_c1)\n",
        "\n",
        "  # X축을 threshold값으로, Y축은 정밀도, 재현율 값으로 각각 Plot 수행. 정밀도는 점선으로 표시\n",
        "  plt.figure(figsize=(8,6))\n",
        "  threshold_boundary = thresholds.shape[0]\n",
        "  plt.plot(thresholds, precisions[0:threshold_boundary],linestyle='--',label ='precision')\n",
        "  plt.plot(thresholds, recalls[0:threshold_boundary], label ='recall')\n",
        "\n",
        "  # threshold 값 X축의 Scale을 0.1 단위로 변경\n",
        "  start, end = plt.xlim()\n",
        "  plt.xticks(np.round(np.arange(start,end,0.1),2))\n",
        "\n",
        "  # x축, y축 label과 legend, 그리고 grid 설정\n",
        "  plt.xlabel('Threshold value'); plt.ylabel('Precision and Recall value')\n",
        "  plt.legend(); plt.grid()\n",
        "  plt.show()"
      ],
      "metadata": {
        "id": "buFoqaXzRpGC"
      },
      "execution_count": 57,
      "outputs": []
    },
    {
      "cell_type": "code",
      "source": [
        "precision_recall_curve_plot(y_test,lr_clf.predict_proba(X_test)[:,1])"
      ],
      "metadata": {
        "colab": {
          "base_uri": "https://localhost:8080/",
          "height": 542
        },
        "id": "yd_IJyzn9HDw",
        "outputId": "df395df7-5e8e-4a3b-bf3b-1fc23dc4976d"
      },
      "execution_count": 58,
      "outputs": [
        {
          "output_type": "display_data",
          "data": {
            "text/plain": [
              "<Figure size 800x600 with 1 Axes>"
            ],
            "image/png": "[encoded data removed]"
          },
          "metadata": {}
        }
      ]
    },
    {
      "cell_type": "markdown",
      "source": [
        "* LightGBM 모델을 SMOTE로 오버 샘플링된 데이터 세트로 학습/예측/평가"
      ],
      "metadata": {
        "id": "DTQwLVzS9UK1"
      }
    },
    {
      "cell_type": "code",
      "source": [
        "lgbm_clf = LGBMClassifier(n_estimators=1000, num_leaves=64, n_jobs=-1, boost_from_average=False)\n",
        "get_model_train_eval(lgbm_clf,ftr_train=X_train_over, ftr_test=X_test, tgt_train=y_train_over, tgt_test=y_test)"
      ],
      "metadata": {
        "colab": {
          "base_uri": "https://localhost:8080/"
        },
        "id": "W7oMyo2V9TjQ",
        "outputId": "161c7a36-7bd7-493e-c6bc-d764786f126a"
      },
      "execution_count": 53,
      "outputs": [
        {
          "output_type": "stream",
          "name": "stdout",
          "text": [
            "오차 행렬\n",
            "[[85283    12]\n",
            " [   22   124]]\n",
            "정확도: 0.9996, 정밀도: 0.9118, 재현율: 0.8493,/ F1: 0.8794,AUC:0.981354\n"
          ]
        }
      ]
    },
    {
      "cell_type": "markdown",
      "source": [
        "-> 결과: 재현율은 높아지고 정밀도가 낮아짐 (일반적인 상황) -> 좋은 패키지일수록 재현율 증가율이 높고 정밀도 감소율이 낮음."
      ],
      "metadata": {
        "id": "aArTV1k49yAb"
      }
    }
  ]
}