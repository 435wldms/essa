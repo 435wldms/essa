{
  "metadata": {
    "kernelspec": {
      "display_name": "Python 3",
      "language": "python",
      "name": "python3"
    },
    "language_info": {
      "name": "python",
      "version": "3.6.6",
      "mimetype": "text/x-python",
      "codemirror_mode": {
        "name": "ipython",
        "version": 3
      },
      "pygments_lexer": "ipython3",
      "nbconvert_exporter": "python",
      "file_extension": ".py"
    },
    "kaggle": {
      "accelerator": "gpu",
      "dataSources": [
        {
          "sourceId": 3362,
          "databundleVersionId": 31148,
          "sourceType": "competition"
        }
      ],
      "dockerImageVersionId": 25160,
      "isInternetEnabled": false,
      "language": "python",
      "sourceType": "notebook",
      "isGpuEnabled": true
    },
    "colab": {
      "provenance": [],
      "include_colab_link": true
    }
  },
  "nbformat_minor": 0,
  "nbformat": 4,
  "cells": [
    {
      "cell_type": "markdown",
      "metadata": {
        "id": "view-in-github",
        "colab_type": "text"
      },
      "source": [
        "<a href=\"https://colab.research.google.com/github/435wldms/essa/blob/main/20231201_keras_%EA%B3%BC%EC%A0%9C.ipynb\" target=\"_parent\"><img src=\"https://colab.research.google.com/assets/colab-badge.svg\" alt=\"Open In Colab\"/></a>"
      ]
    },
    {
      "cell_type": "markdown",
      "source": [
        "# Import Library"
      ],
      "metadata": {
        "_uuid": "fe76d1d1ded592430e7548feacfa38dc42f085d9",
        "id": "cGfh753jE7jq"
      }
    },
    {
      "cell_type": "code",
      "source": [
        "import numpy as np\n",
        "import pandas as pd\n",
        "from keras.preprocessing.image import ImageDataGenerator, load_img\n",
        "from keras.utils import to_categorical\n",
        "from sklearn.model_selection import train_test_split\n",
        "import matplotlib.pyplot as plt\n",
        "import random\n",
        "import os\n",
        "print(os.listdir(\"../input\"))\n"
      ],
      "metadata": {
        "_uuid": "8f2839f25d086af736a60e9eeb907d3b93b6e0e5",
        "_cell_guid": "b1076dfc-b9ad-4769-8c92-a6c4dae69d19",
        "trusted": true,
        "id": "ZKbiLTgbE7jt"
      },
      "execution_count": null,
      "outputs": []
    },
    {
      "cell_type": "markdown",
      "source": [
        "# Define Constants"
      ],
      "metadata": {
        "id": "QlUk1bXuE7ju"
      }
    },
    {
      "cell_type": "code",
      "source": [
        "FAST_RUN = False\n",
        "IMAGE_WIDTH=128\n",
        "IMAGE_HEIGHT=128\n",
        "IMAGE_SIZE=(IMAGE_WIDTH, IMAGE_HEIGHT)\n",
        "IMAGE_CHANNELS=3"
      ],
      "metadata": {
        "trusted": true,
        "id": "1bS_hIGWE7ju"
      },
      "execution_count": null,
      "outputs": []
    },
    {
      "cell_type": "markdown",
      "source": [
        "# Prepare Traning Data"
      ],
      "metadata": {
        "_uuid": "7335a579cc0268fba5d34d6f7558f33c187eedb3",
        "id": "Smi64s5ZE7jw"
      }
    },
    {
      "cell_type": "code",
      "source": [
        "filenames = os.listdir(\"../input/train/train\")\n",
        "categories = []\n",
        "for filename in filenames:\n",
        "    category = filename.split('.')[0]\n",
        "    if category == 'dog':\n",
        "        categories.append(1)\n",
        "    else:\n",
        "        categories.append(0)\n",
        "\n",
        "df = pd.DataFrame({\n",
        "    'filename': filenames,\n",
        "    'category': categories\n",
        "})"
      ],
      "metadata": {
        "_cell_guid": "79c7e3d0-c299-4dcb-8224-4455121ee9b0",
        "_uuid": "d629ff2d2480ee46fbb7e2d37f6b5fab8052498a",
        "trusted": true,
        "id": "QLAmaamME7jx"
      },
      "execution_count": null,
      "outputs": []
    },
    {
      "cell_type": "code",
      "source": [
        "df.head()"
      ],
      "metadata": {
        "_uuid": "915bb9ba7063ab4d5c07c542419ae119003a5f98",
        "trusted": true,
        "id": "VZk3DSJWE7jz"
      },
      "execution_count": null,
      "outputs": []
    },
    {
      "cell_type": "code",
      "source": [
        "df.tail()"
      ],
      "metadata": {
        "_uuid": "72bf69e817f67f5a2eaff8561217e22077248553",
        "trusted": true,
        "id": "YmARFiHaE7j0"
      },
      "execution_count": null,
      "outputs": []
    },
    {
      "cell_type": "markdown",
      "source": [
        "### See Total In count"
      ],
      "metadata": {
        "_uuid": "a999484fc35b73373fafe2253ae9db7ff46fdb90",
        "id": "7VnHm3p5E7j1"
      }
    },
    {
      "cell_type": "code",
      "source": [
        "df['category'].value_counts().plot.bar()"
      ],
      "metadata": {
        "_uuid": "fa26f0bc7a6d835a24989790b20f3c6f32946f45",
        "trusted": true,
        "id": "vmU8Rv6UE7j2"
      },
      "execution_count": null,
      "outputs": []
    },
    {
      "cell_type": "markdown",
      "source": [
        "From our data we have 12000 cats and 12000 dogs"
      ],
      "metadata": {
        "_uuid": "3a08da58107777a1dd05c4a4bf5c484484923cac",
        "id": "gFsAr35kE7j2"
      }
    },
    {
      "cell_type": "markdown",
      "source": [
        "# See sample image"
      ],
      "metadata": {
        "_uuid": "400a293df3c8499059d9175f3915187074efd971",
        "id": "vHk9tpamE7j3"
      }
    },
    {
      "cell_type": "code",
      "source": [
        "sample = random.choice(filenames)\n",
        "image = load_img(\"../input/train/train/\"+sample)\n",
        "plt.imshow(image)"
      ],
      "metadata": {
        "_uuid": "602b40f7353871cb161c60b5237f0da0096b2f47",
        "trusted": true,
        "id": "sYXlR81aE7j3"
      },
      "execution_count": null,
      "outputs": []
    },
    {
      "cell_type": "markdown",
      "source": [
        "# Build Model\n",
        "\n",
        "<img src=\"https://i.imgur.com/ebkMGGu.jpg\" width=\"100%\"/>"
      ],
      "metadata": {
        "_uuid": "b244e6b7715a04fc6df92dd6dfa3d35c473ca600",
        "id": "fE8Sk1ScE7j4"
      }
    },
    {
      "cell_type": "markdown",
      "source": [
        "* **Input Layer**: It represent input image data. It will reshape image into single diminsion array. Example your image is 64x64 = 4096, it will convert to (4096,1) array.\n",
        "* **Conv Layer**: This layer will extract features from image.\n",
        "* **Pooling Layer**: This layerreduce the spatial volume of input image after convolution.\n",
        "* **Fully Connected Layer**: It connect the network from a layer to another layer\n",
        "* **Output Layer**: It is the predicted values layer."
      ],
      "metadata": {
        "id": "X3d7Rm04E7j4"
      }
    },
    {
      "cell_type": "code",
      "source": [
        "from keras.models import Sequential\n",
        "from keras.layers import Conv2D, MaxPooling2D, Dropout, Flatten, Dense, Activation, BatchNormalization\n",
        "\n",
        "model = Sequential()\n",
        "\n",
        "model.add(Conv2D(32, (3, 3), activation='relu', input_shape=(IMAGE_WIDTH, IMAGE_HEIGHT, IMAGE_CHANNELS)))\n",
        "model.add(BatchNormalization())\n",
        "model.add(MaxPooling2D(pool_size=(2, 2)))\n",
        "model.add(Dropout(0.25))\n",
        "\n",
        "model.add(Conv2D(64, (3, 3), activation='relu'))\n",
        "model.add(BatchNormalization())\n",
        "model.add(MaxPooling2D(pool_size=(2, 2)))\n",
        "model.add(Dropout(0.25))\n",
        "\n",
        "model.add(Conv2D(128, (3, 3), activation='relu'))\n",
        "model.add(BatchNormalization())\n",
        "model.add(MaxPooling2D(pool_size=(2, 2)))\n",
        "model.add(Dropout(0.25))\n",
        "\n",
        "model.add(Flatten())\n",
        "model.add(Dense(512, activation='relu'))\n",
        "model.add(BatchNormalization())\n",
        "model.add(Dropout(0.5))\n",
        "model.add(Dense(2, activation='softmax')) # 2 because we have cat and dog classes\n",
        "\n",
        "model.compile(loss='categorical_crossentropy', optimizer='rmsprop', metrics=['accuracy'])\n",
        "\n",
        "model.summary()"
      ],
      "metadata": {
        "_uuid": "8c9f833c1441b657c779844912d0b8028218d454",
        "trusted": true,
        "id": "6hd7e6l-E7j4"
      },
      "execution_count": null,
      "outputs": []
    },
    {
      "cell_type": "markdown",
      "source": [
        "# Callbacks"
      ],
      "metadata": {
        "_uuid": "bd496f6c65888a969be3703135b0b03a8a1190c8",
        "id": "tYZ2PwKiE7j5"
      }
    },
    {
      "cell_type": "code",
      "source": [
        "from keras.callbacks import EarlyStopping, ReduceLROnPlateau"
      ],
      "metadata": {
        "_uuid": "9aa032f0f6da539d23918890d2d131cc3aac8c7a",
        "trusted": true,
        "id": "ooWu8Es9E7j5"
      },
      "execution_count": null,
      "outputs": []
    },
    {
      "cell_type": "markdown",
      "source": [
        "**Early Stop**\n",
        "\n",
        "To prevent over fitting we will stop the learning after 10 epochs and val_loss value not decreased"
      ],
      "metadata": {
        "_uuid": "76c9ba4fb7f930c96b2c3e0d6b68ed9fa6a4227b",
        "id": "6IWy5pGSE7j6"
      }
    },
    {
      "cell_type": "code",
      "source": [
        "earlystop = EarlyStopping(patience=10)"
      ],
      "metadata": {
        "_uuid": "3421c5ec428da6c0d8cc1184179a9caff1e01d1c",
        "trusted": true,
        "id": "30uo3hI1E7j6"
      },
      "execution_count": null,
      "outputs": []
    },
    {
      "cell_type": "markdown",
      "source": [
        "**Learning Rate Reduction**\n",
        "\n",
        "We will reduce the learning rate when then accuracy not increase for 2 steps"
      ],
      "metadata": {
        "_uuid": "51d3fe52e911286433cedf6e47332948a253361e",
        "id": "FMe4d7SHE7j6"
      }
    },
    {
      "cell_type": "code",
      "source": [
        "learning_rate_reduction = ReduceLROnPlateau(monitor='val_acc',\n",
        "                                            patience=2,\n",
        "                                            verbose=1,\n",
        "                                            factor=0.5,\n",
        "                                            min_lr=0.00001)"
      ],
      "metadata": {
        "_uuid": "8010a5661ad8924d2db24af0f3c00b1593b38901",
        "trusted": true,
        "id": "aFtp4fyCE7j7"
      },
      "execution_count": null,
      "outputs": []
    },
    {
      "cell_type": "code",
      "source": [
        "callbacks = [earlystop, learning_rate_reduction]"
      ],
      "metadata": {
        "_uuid": "a79cc604199469789f183096d863f7248e5f6aab",
        "trusted": true,
        "id": "zxI59Ey2E7j7"
      },
      "execution_count": null,
      "outputs": []
    },
    {
      "cell_type": "markdown",
      "source": [
        "# Prepare data"
      ],
      "metadata": {
        "id": "G9eNKDAjE7j7"
      }
    },
    {
      "cell_type": "markdown",
      "source": [
        "Because we will use image genaretor `with class_mode=\"categorical\"`. We need to convert column category into string. Then imagenerator will convert it one-hot encoding which is good for our classification.\n",
        "\n",
        "So we will convert 1 to dog and 0 to cat"
      ],
      "metadata": {
        "id": "lOoHf2v0E7j7"
      }
    },
    {
      "cell_type": "code",
      "source": [
        "df[\"category\"] = df[\"category\"].replace({0: 'cat', 1: 'dog'})"
      ],
      "metadata": {
        "trusted": true,
        "id": "UvigHOyWE7j8"
      },
      "execution_count": null,
      "outputs": []
    },
    {
      "cell_type": "code",
      "source": [
        "train_df, validate_df = train_test_split(df, test_size=0.20, random_state=42)\n",
        "train_df = train_df.reset_index(drop=True)\n",
        "validate_df = validate_df.reset_index(drop=True)"
      ],
      "metadata": {
        "_uuid": "4eeb7af8dcf02c4ef5ca744c8305c51a2f5cedef",
        "trusted": true,
        "id": "HhMdWl16E7j8"
      },
      "execution_count": null,
      "outputs": []
    },
    {
      "cell_type": "code",
      "source": [
        "train_df['category'].value_counts().plot.bar()"
      ],
      "metadata": {
        "_uuid": "b84836337441705eda9d2e655665ffa14d9feead",
        "trusted": true,
        "id": "ovwfzMGgE7j8"
      },
      "execution_count": null,
      "outputs": []
    },
    {
      "cell_type": "code",
      "source": [
        "validate_df['category'].value_counts().plot.bar()"
      ],
      "metadata": {
        "_uuid": "19cf03f9a3c39532d6e2d06bd30be49a5afd9d57",
        "trusted": true,
        "id": "jZTYZzxbE7j8"
      },
      "execution_count": null,
      "outputs": []
    },
    {
      "cell_type": "code",
      "source": [
        "total_train = train_df.shape[0]\n",
        "total_validate = validate_df.shape[0]\n",
        "batch_size=15"
      ],
      "metadata": {
        "_uuid": "ae3dec0361f0443132d0309d3b883ee80070cf9f",
        "trusted": true,
        "id": "5MqmgEOYE7j8"
      },
      "execution_count": null,
      "outputs": []
    },
    {
      "cell_type": "markdown",
      "source": [
        "# Traning Generator"
      ],
      "metadata": {
        "_uuid": "ff760be9104f7d9492467b8d9d3405011aa77d11",
        "id": "oKfYdbMbE7j9"
      }
    },
    {
      "cell_type": "code",
      "source": [
        "train_datagen = ImageDataGenerator(\n",
        "    rotation_range=15,\n",
        "    rescale=1./255,\n",
        "    shear_range=0.1,\n",
        "    zoom_range=0.2,\n",
        "    horizontal_flip=True,\n",
        "    width_shift_range=0.1,\n",
        "    height_shift_range=0.1\n",
        ")\n",
        "\n",
        "train_generator = train_datagen.flow_from_dataframe(\n",
        "    train_df,\n",
        "    \"../input/train/train/\",\n",
        "    x_col='filename',\n",
        "    y_col='category',\n",
        "    target_size=IMAGE_SIZE,\n",
        "    class_mode='categorical',\n",
        "    batch_size=batch_size\n",
        ")"
      ],
      "metadata": {
        "_uuid": "4d1c7818703a8a4bac5c036fdea45972aa9e5e9e",
        "trusted": true,
        "id": "b3tSFlWAE7j9"
      },
      "execution_count": null,
      "outputs": []
    },
    {
      "cell_type": "markdown",
      "source": [
        "### Validation Generator"
      ],
      "metadata": {
        "_uuid": "859c7b2857939c19fd2e3bb32839c9f7deb5aa3f",
        "id": "0POBr3Q7E7j9"
      }
    },
    {
      "cell_type": "code",
      "source": [
        "validation_datagen = ImageDataGenerator(rescale=1./255)\n",
        "validation_generator = validation_datagen.flow_from_dataframe(\n",
        "    validate_df,\n",
        "    \"../input/train/train/\",\n",
        "    x_col='filename',\n",
        "    y_col='category',\n",
        "    target_size=IMAGE_SIZE,\n",
        "    class_mode='categorical',\n",
        "    batch_size=batch_size\n",
        ")"
      ],
      "metadata": {
        "_uuid": "7925e16bcacc89f4484fb6fe47e54d6420af732e",
        "trusted": true,
        "id": "2YH7HF7zE7j-"
      },
      "execution_count": null,
      "outputs": []
    },
    {
      "cell_type": "markdown",
      "source": [
        "# See how our generator work"
      ],
      "metadata": {
        "_uuid": "6e17fc1f002fedd60febb78fee5e81770640b909",
        "id": "KQPkmkZPE7j-"
      }
    },
    {
      "cell_type": "code",
      "source": [
        "example_df = train_df.sample(n=1).reset_index(drop=True)\n",
        "example_generator = train_datagen.flow_from_dataframe(\n",
        "    example_df,\n",
        "    \"../input/train/train/\",\n",
        "    x_col='filename',\n",
        "    y_col='category',\n",
        "    target_size=IMAGE_SIZE,\n",
        "    class_mode='categorical'\n",
        ")"
      ],
      "metadata": {
        "_uuid": "4252cce168ab65f88e44a8ebc2672607bc852af4",
        "trusted": true,
        "id": "uSlO8C2FE7j-"
      },
      "execution_count": null,
      "outputs": []
    },
    {
      "cell_type": "code",
      "source": [
        "plt.figure(figsize=(12, 12))\n",
        "for i in range(0, 15):\n",
        "    plt.subplot(5, 3, i+1)\n",
        "    for X_batch, Y_batch in example_generator:\n",
        "        image = X_batch[0]\n",
        "        plt.imshow(image)\n",
        "        break\n",
        "plt.tight_layout()\n",
        "plt.show()"
      ],
      "metadata": {
        "_uuid": "23d923dba747f8b47dc75569244cecc6f70df321",
        "trusted": true,
        "id": "UVy_kw9OE7j-"
      },
      "execution_count": null,
      "outputs": []
    },
    {
      "cell_type": "markdown",
      "source": [
        "Seem to be nice"
      ],
      "metadata": {
        "_uuid": "810ddf1373d9db470ed48da4f30ca5a6c1274435",
        "id": "pQQDfmyXE7j_"
      }
    },
    {
      "cell_type": "markdown",
      "source": [
        "# Fit Model"
      ],
      "metadata": {
        "_uuid": "5cd8df64e794ed17de326b613a9819e7da977a0e",
        "id": "jEh2MXc3E7kF"
      }
    },
    {
      "cell_type": "code",
      "source": [
        "epochs=3 if FAST_RUN else 50\n",
        "history = model.fit_generator(\n",
        "    train_generator,\n",
        "    epochs=epochs,\n",
        "    validation_data=validation_generator,\n",
        "    validation_steps=total_validate//batch_size,\n",
        "    steps_per_epoch=total_train//batch_size,\n",
        "    callbacks=callbacks\n",
        ")"
      ],
      "metadata": {
        "_uuid": "0836a4cc8aa0abf603e0f96573c0c4ff383ad56b",
        "trusted": true,
        "id": "HIwq2EcqE7kG"
      },
      "execution_count": null,
      "outputs": []
    },
    {
      "cell_type": "markdown",
      "source": [
        "# Save Model"
      ],
      "metadata": {
        "_uuid": "aa1fbc4081ae0de2993188b2bf658a0be5bc0687",
        "id": "kqxiTYp9E7kG"
      }
    },
    {
      "cell_type": "code",
      "source": [
        "model.save_weights(\"model.h5\")"
      ],
      "metadata": {
        "_uuid": "67575a4decdaf79a915d23151626b784ffa82642",
        "trusted": true,
        "id": "sk-bEfcYE7kG"
      },
      "execution_count": null,
      "outputs": []
    },
    {
      "cell_type": "markdown",
      "source": [
        "# Virtualize Training"
      ],
      "metadata": {
        "_uuid": "1b76c0a9040bc0babf0a453e567e41e22f8a1e0e",
        "id": "JX0tWDY7E7kG"
      }
    },
    {
      "cell_type": "code",
      "source": [
        "fig, (ax1, ax2) = plt.subplots(2, 1, figsize=(12, 12))\n",
        "ax1.plot(history.history['loss'], color='b', label=\"Training loss\")\n",
        "ax1.plot(history.history['val_loss'], color='r', label=\"validation loss\")\n",
        "ax1.set_xticks(np.arange(1, epochs, 1))\n",
        "ax1.set_yticks(np.arange(0, 1, 0.1))\n",
        "\n",
        "ax2.plot(history.history['acc'], color='b', label=\"Training accuracy\")\n",
        "ax2.plot(history.history['val_acc'], color='r',label=\"Validation accuracy\")\n",
        "ax2.set_xticks(np.arange(1, epochs, 1))\n",
        "\n",
        "legend = plt.legend(loc='best', shadow=True)\n",
        "plt.tight_layout()\n",
        "plt.show()"
      ],
      "metadata": {
        "_uuid": "79055f2dc3e2abb47bea758e0464c86ca42ab431",
        "trusted": true,
        "id": "qU6LZ394E7kG"
      },
      "execution_count": null,
      "outputs": []
    },
    {
      "cell_type": "markdown",
      "source": [
        "# Prepare Testing Data"
      ],
      "metadata": {
        "_uuid": "764dc66e4b2bc558f3a0f90b80bb802f5b3d45a8",
        "id": "zU5XFyv3E7kH"
      }
    },
    {
      "cell_type": "code",
      "source": [
        "test_filenames = os.listdir(\"../input/test1/test1\")\n",
        "test_df = pd.DataFrame({\n",
        "    'filename': test_filenames\n",
        "})\n",
        "nb_samples = test_df.shape[0]"
      ],
      "metadata": {
        "_uuid": "c35e70d3e1e4834dbbf840fa0ea08c049bfcd915",
        "trusted": true,
        "id": "1c72dfq-E7kH"
      },
      "execution_count": null,
      "outputs": []
    },
    {
      "cell_type": "markdown",
      "source": [
        "# Create Testing Generator"
      ],
      "metadata": {
        "_uuid": "291bc3996dce8d05e174b27d64f03996d3e8038e",
        "id": "DQGFS-8tE7kH"
      }
    },
    {
      "cell_type": "code",
      "source": [
        "test_gen = ImageDataGenerator(rescale=1./255)\n",
        "test_generator = test_gen.flow_from_dataframe(\n",
        "    test_df,\n",
        "    \"../input/test1/test1/\",\n",
        "    x_col='filename',\n",
        "    y_col=None,\n",
        "    class_mode=None,\n",
        "    target_size=IMAGE_SIZE,\n",
        "    batch_size=batch_size,\n",
        "    shuffle=False\n",
        ")"
      ],
      "metadata": {
        "_uuid": "52249ec1c35fb1be3adef386be245de3794e55aa",
        "trusted": true,
        "id": "eEVUMQDaE7kH"
      },
      "execution_count": null,
      "outputs": []
    },
    {
      "cell_type": "markdown",
      "source": [
        "# Predict"
      ],
      "metadata": {
        "_uuid": "2fa580afca2931ec5ce374e732d8c1789d03f2ed",
        "id": "XP41yDKxE7kI"
      }
    },
    {
      "cell_type": "code",
      "source": [
        "predict = model.predict_generator(test_generator, steps=np.ceil(nb_samples/batch_size))"
      ],
      "metadata": {
        "_uuid": "4782eb23fa7d003f0e2415d995894017edb2d896",
        "trusted": true,
        "id": "nI1kloizE7kI"
      },
      "execution_count": null,
      "outputs": []
    },
    {
      "cell_type": "markdown",
      "source": [
        "For categoral classication the prediction will come with probability of each category. So we will pick the category that have the highest probability with numpy average max"
      ],
      "metadata": {
        "id": "edY9hDeFE7kI"
      }
    },
    {
      "cell_type": "code",
      "source": [
        "test_df['category'] = np.argmax(predict, axis=-1)"
      ],
      "metadata": {
        "trusted": true,
        "id": "dVrRTSgjE7kI"
      },
      "execution_count": null,
      "outputs": []
    },
    {
      "cell_type": "markdown",
      "source": [
        "We will convert the predict category back into our generator classes by using `train_generator.class_indices`. It is the classes that image generator map while converting data into computer vision"
      ],
      "metadata": {
        "id": "5hVlHDOsE7kI"
      }
    },
    {
      "cell_type": "code",
      "source": [
        "label_map = dict((v,k) for k,v in train_generator.class_indices.items())\n",
        "test_df['category'] = test_df['category'].replace(label_map)"
      ],
      "metadata": {
        "trusted": true,
        "id": "d8WjPpqFE7kJ"
      },
      "execution_count": null,
      "outputs": []
    },
    {
      "cell_type": "markdown",
      "source": [
        "From our prepare data part. We map data with `{1: 'dog', 0: 'cat'}`. Now we will map the result back to dog is 1 and cat is 0"
      ],
      "metadata": {
        "id": "g8-58Tv-E7kJ"
      }
    },
    {
      "cell_type": "code",
      "source": [
        "test_df['category'] = test_df['category'].replace({ 'dog': 1, 'cat': 0 })"
      ],
      "metadata": {
        "trusted": true,
        "id": "l6WxLRQwE7kJ"
      },
      "execution_count": null,
      "outputs": []
    },
    {
      "cell_type": "markdown",
      "source": [
        "### Virtaulize Result"
      ],
      "metadata": {
        "_uuid": "b00add65fe765529e637c3a9904d710bb7eff1d8",
        "id": "uhmByReUE7kJ"
      }
    },
    {
      "cell_type": "code",
      "source": [
        "test_df['category'].value_counts().plot.bar()"
      ],
      "metadata": {
        "_uuid": "d0bf6dd5ff344092fa0121f70bdd60fa5a40e29c",
        "trusted": true,
        "id": "Cd33S2GNE7kK"
      },
      "execution_count": null,
      "outputs": []
    },
    {
      "cell_type": "markdown",
      "source": [
        "### See predicted result with images"
      ],
      "metadata": {
        "_uuid": "ce72a83f80d6e012b12b82c8ee3365d671a3b307",
        "id": "G6y1BnNLE7kK"
      }
    },
    {
      "cell_type": "code",
      "source": [
        "sample_test = test_df.head(18)\n",
        "sample_test.head()\n",
        "plt.figure(figsize=(12, 24))\n",
        "for index, row in sample_test.iterrows():\n",
        "    filename = row['filename']\n",
        "    category = row['category']\n",
        "    img = load_img(\"../input/test1/test1/\"+filename, target_size=IMAGE_SIZE)\n",
        "    plt.subplot(6, 3, index+1)\n",
        "    plt.imshow(img)\n",
        "    plt.xlabel(filename + '(' + \"{}\".format(category) + ')' )\n",
        "plt.tight_layout()\n",
        "plt.show()"
      ],
      "metadata": {
        "_uuid": "98b41dc83075e6297137fb45bf703c313dd4ae28",
        "trusted": true,
        "id": "yAeIEJQTE7kK"
      },
      "execution_count": null,
      "outputs": []
    },
    {
      "cell_type": "markdown",
      "source": [
        "# Submission"
      ],
      "metadata": {
        "_uuid": "d1ca25943e73aa20a37f9fb8670ee430caeaaf1f",
        "id": "2JX-VFTpE7kK"
      }
    },
    {
      "cell_type": "code",
      "source": [
        "submission_df = test_df.copy()\n",
        "submission_df['id'] = submission_df['filename'].str.split('.').str[0]\n",
        "submission_df['label'] = submission_df['category']\n",
        "submission_df.drop(['filename', 'category'], axis=1, inplace=True)\n",
        "submission_df.to_csv('submission.csv', index=False)"
      ],
      "metadata": {
        "_uuid": "cce9f3e2ffff0693d79d84590ed71fbbca7c3c7c",
        "trusted": true,
        "id": "LzcMlPkjE7kK"
      },
      "execution_count": null,
      "outputs": []
    }
  ]
}