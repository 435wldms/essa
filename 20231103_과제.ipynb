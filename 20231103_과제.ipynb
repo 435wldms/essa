{
  "nbformat": 4,
  "nbformat_minor": 0,
  "metadata": {
    "colab": {
      "provenance": [],
      "mount_file_id": "1in7JgtCGo2k7mfjx2P9zT6fYRVCuYB6F",
      "authorship_tag": "ABX9TyOyY6LJE3gyUyD2k/ACbB/8",
      "include_colab_link": true
    },
    "kernelspec": {
      "name": "python3",
      "display_name": "Python 3"
    },
    "language_info": {
      "name": "python"
    }
  },
  "cells": [
    {
      "cell_type": "markdown",
      "metadata": {
        "id": "view-in-github",
        "colab_type": "text"
      },
      "source": [
        "<a href=\"https://colab.research.google.com/github/435wldms/essa/blob/main/20231103_%EA%B3%BC%EC%A0%9C.ipynb\" target=\"_parent\"><img src=\"https://colab.research.google.com/assets/colab-badge.svg\" alt=\"Open In Colab\"/></a>"
      ]
    },
    {
      "cell_type": "markdown",
      "source": [
        "# 06 토픽 모델링 - 20 뉴스 그룹"
      ],
      "metadata": {
        "id": "RXJYYoQa-DrR"
      }
    },
    {
      "cell_type": "markdown",
      "source": [
        "* 토핑 모델링: 문서 집합에 숨어 있는 주제를 찾아내는 것\n",
        "* 사람이 수행하는 토픽 모델링과 달리 숨겨진 주제를 효과적으로 표현할 수 있는 중심 단어를 함축적으로 추출\n",
        "* LSA,LDA 사용\n",
        "\n",
        "* fetch_20newsgroups() API는 categories 파라미터를 통해 필요한 주제만 필터링해 추출하고 추출된 텍스트를 count 기반으로 벡터화 변환, max_features=1000으로 word 피처의 개수 제한, ngram_range는 (1,2)"
      ],
      "metadata": {
        "id": "KHb0gcrS-Hs3"
      }
    },
    {
      "cell_type": "code",
      "execution_count": 3,
      "metadata": {
        "colab": {
          "base_uri": "https://localhost:8080/"
        },
        "id": "gvysuXJ991UT",
        "outputId": "22b03780-7d4e-4346-d3d4-36aaea95a4b3"
      },
      "outputs": [
        {
          "output_type": "stream",
          "name": "stdout",
          "text": [
            "CountVectorizer Shape: (7862, 1000)\n"
          ]
        }
      ],
      "source": [
        "from sklearn.datasets import fetch_20newsgroups\n",
        "from sklearn.feature_extraction.text import CountVectorizer\n",
        "from sklearn.decomposition import LatentDirichletAllocation\n",
        "\n",
        "# 모토사이클, 야구, 그래픽스, 윈도우즈, 중동, 기독교, 전자공학, 의학 8개 주제를 추출.\n",
        "cats = ['rec.motorcycles','rec.sport.baseball','comp.graphics','comp.windows.x',\n",
        "        'talk.politics.mideast','soc.religion.christian','sci.electronics','sci.med']\n",
        "\n",
        "# 위에서 cats 변수로 기재된 카테고리만 추출. fetch_20newsgroups()의 categories에 cats 입력\n",
        "news_df = fetch_20newsgroups(subset='all',remove=('headers','footers','quotes'), categories=cats, random_state=0)\n",
        "\n",
        "# LDA는 Count 기반의 벡터화만 적용합니다.\n",
        "count_vect = CountVectorizer(max_df=0.95, max_features=1000, min_df=2, stop_words='english',ngram_range=(1,2))\n",
        "\n",
        "feat_vect = count_vect.fit_transform(news_df.data)\n",
        "print('CountVectorizer Shape:', feat_vect.shape)"
      ]
    },
    {
      "cell_type": "markdown",
      "source": [
        "-> 7862개의 문서가 1000개의 피처로 구성된 행렬 데이터"
      ],
      "metadata": {
        "id": "auVizCCpB-zb"
      }
    },
    {
      "cell_type": "markdown",
      "source": [
        "* 피처 벡터화된 데이터 세트를 기반으로 LDA 토픽 모델링 수행 (뉴스그룹에서 추출한 주제와 동일하게 8개로 설정)"
      ],
      "metadata": {
        "id": "o4dxTXrLCedp"
      }
    },
    {
      "cell_type": "code",
      "source": [
        "lda=LatentDirichletAllocation(n_components=8,random_state=0)\n",
        "lda.fit(feat_vect)"
      ],
      "metadata": {
        "colab": {
          "base_uri": "https://localhost:8080/",
          "height": 74
        },
        "id": "2sQMOHoeC1FX",
        "outputId": "efdde8f8-7851-4bc1-8715-d341fb9ea89e"
      },
      "execution_count": 4,
      "outputs": [
        {
          "output_type": "execute_result",
          "data": {
            "text/plain": [
              "LatentDirichletAllocation(n_components=8, random_state=0)"
            ],
            "text/html": [
              "<style>#sk-container-id-1 {color: black;background-color: white;}#sk-container-id-1 pre{padding: 0;}#sk-container-id-1 div.sk-toggleable {background-color: white;}#sk-container-id-1 label.sk-toggleable__label {cursor: pointer;display: block;width: 100%;margin-bottom: 0;padding: 0.3em;box-sizing: border-box;text-align: center;}#sk-container-id-1 label.sk-toggleable__label-arrow:before {content: \"▸\";float: left;margin-right: 0.25em;color: #696969;}#sk-container-id-1 label.sk-toggleable__label-arrow:hover:before {color: black;}#sk-container-id-1 div.sk-estimator:hover label.sk-toggleable__label-arrow:before {color: black;}#sk-container-id-1 div.sk-toggleable__content {max-height: 0;max-width: 0;overflow: hidden;text-align: left;background-color: #f0f8ff;}#sk-container-id-1 div.sk-toggleable__content pre {margin: 0.2em;color: black;border-radius: 0.25em;background-color: #f0f8ff;}#sk-container-id-1 input.sk-toggleable__control:checked~div.sk-toggleable__content {max-height: 200px;max-width: 100%;overflow: auto;}#sk-container-id-1 input.sk-toggleable__control:checked~label.sk-toggleable__label-arrow:before {content: \"▾\";}#sk-container-id-1 div.sk-estimator input.sk-toggleable__control:checked~label.sk-toggleable__label {background-color: #d4ebff;}#sk-container-id-1 div.sk-label input.sk-toggleable__control:checked~label.sk-toggleable__label {background-color: #d4ebff;}#sk-container-id-1 input.sk-hidden--visually {border: 0;clip: rect(1px 1px 1px 1px);clip: rect(1px, 1px, 1px, 1px);height: 1px;margin: -1px;overflow: hidden;padding: 0;position: absolute;width: 1px;}#sk-container-id-1 div.sk-estimator {font-family: monospace;background-color: #f0f8ff;border: 1px dotted black;border-radius: 0.25em;box-sizing: border-box;margin-bottom: 0.5em;}#sk-container-id-1 div.sk-estimator:hover {background-color: #d4ebff;}#sk-container-id-1 div.sk-parallel-item::after {content: \"\";width: 100%;border-bottom: 1px solid gray;flex-grow: 1;}#sk-container-id-1 div.sk-label:hover label.sk-toggleable__label {background-color: #d4ebff;}#sk-container-id-1 div.sk-serial::before {content: \"\";position: absolute;border-left: 1px solid gray;box-sizing: border-box;top: 0;bottom: 0;left: 50%;z-index: 0;}#sk-container-id-1 div.sk-serial {display: flex;flex-direction: column;align-items: center;background-color: white;padding-right: 0.2em;padding-left: 0.2em;position: relative;}#sk-container-id-1 div.sk-item {position: relative;z-index: 1;}#sk-container-id-1 div.sk-parallel {display: flex;align-items: stretch;justify-content: center;background-color: white;position: relative;}#sk-container-id-1 div.sk-item::before, #sk-container-id-1 div.sk-parallel-item::before {content: \"\";position: absolute;border-left: 1px solid gray;box-sizing: border-box;top: 0;bottom: 0;left: 50%;z-index: -1;}#sk-container-id-1 div.sk-parallel-item {display: flex;flex-direction: column;z-index: 1;position: relative;background-color: white;}#sk-container-id-1 div.sk-parallel-item:first-child::after {align-self: flex-end;width: 50%;}#sk-container-id-1 div.sk-parallel-item:last-child::after {align-self: flex-start;width: 50%;}#sk-container-id-1 div.sk-parallel-item:only-child::after {width: 0;}#sk-container-id-1 div.sk-dashed-wrapped {border: 1px dashed gray;margin: 0 0.4em 0.5em 0.4em;box-sizing: border-box;padding-bottom: 0.4em;background-color: white;}#sk-container-id-1 div.sk-label label {font-family: monospace;font-weight: bold;display: inline-block;line-height: 1.2em;}#sk-container-id-1 div.sk-label-container {text-align: center;}#sk-container-id-1 div.sk-container {/* jupyter's `normalize.less` sets `[hidden] { display: none; }` but bootstrap.min.css set `[hidden] { display: none !important; }` so we also need the `!important` here to be able to override the default hidden behavior on the sphinx rendered scikit-learn.org. See: https://github.com/scikit-learn/scikit-learn/issues/21755 */display: inline-block !important;position: relative;}#sk-container-id-1 div.sk-text-repr-fallback {display: none;}</style><div id=\"sk-container-id-1\" class=\"sk-top-container\"><div class=\"sk-text-repr-fallback\"><pre>LatentDirichletAllocation(n_components=8, random_state=0)</pre><b>In a Jupyter environment, please rerun this cell to show the HTML representation or trust the notebook. <br />On GitHub, the HTML representation is unable to render, please try loading this page with nbviewer.org.</b></div><div class=\"sk-container\" hidden><div class=\"sk-item\"><div class=\"sk-estimator sk-toggleable\"><input class=\"sk-toggleable__control sk-hidden--visually\" id=\"sk-estimator-id-1\" type=\"checkbox\" checked><label for=\"sk-estimator-id-1\" class=\"sk-toggleable__label sk-toggleable__label-arrow\">LatentDirichletAllocation</label><div class=\"sk-toggleable__content\"><pre>LatentDirichletAllocation(n_components=8, random_state=0)</pre></div></div></div></div></div>"
            ]
          },
          "metadata": {},
          "execution_count": 4
        }
      ]
    },
    {
      "cell_type": "markdown",
      "source": [
        "* components_: 개별 토픽 별로 각 word 피처가 얼마나 많이 그 토픽에 할당됐는지에 대한 수치를 가짐 -> 높은 값일수록 해당 word 피처가 그 토픽의 중심 word가 됨"
      ],
      "metadata": {
        "id": "BWIPB4o2C-2g"
      }
    },
    {
      "cell_type": "code",
      "source": [
        "print(lda.components_.shape)\n",
        "lda.components_"
      ],
      "metadata": {
        "colab": {
          "base_uri": "https://localhost:8080/"
        },
        "id": "DNHkaEkPDi_q",
        "outputId": "5756578b-2086-4338-a392-07ecc6761893"
      },
      "execution_count": 5,
      "outputs": [
        {
          "output_type": "stream",
          "name": "stdout",
          "text": [
            "(8, 1000)\n"
          ]
        },
        {
          "output_type": "execute_result",
          "data": {
            "text/plain": [
              "array([[3.60992018e+01, 1.35626798e+02, 2.15751867e+01, ...,\n",
              "        3.02911688e+01, 8.66830093e+01, 6.79285199e+01],\n",
              "       [1.25199920e-01, 1.44401815e+01, 1.25045596e-01, ...,\n",
              "        1.81506995e+02, 1.25097844e-01, 9.39593286e+01],\n",
              "       [3.34762663e+02, 1.25176265e-01, 1.46743299e+02, ...,\n",
              "        1.25105772e-01, 3.63689741e+01, 1.25025218e-01],\n",
              "       ...,\n",
              "       [3.60204965e+01, 2.08640688e+01, 4.29606813e+00, ...,\n",
              "        1.45056650e+01, 8.33854413e+00, 1.55690009e+01],\n",
              "       [1.25128711e-01, 1.25247756e-01, 1.25005143e-01, ...,\n",
              "        9.17278769e+01, 1.25177668e-01, 3.74575887e+01],\n",
              "       [5.49258690e+01, 4.47009532e+00, 9.88524814e+00, ...,\n",
              "        4.87048440e+01, 1.25034678e-01, 1.25074632e-01]])"
            ]
          },
          "metadata": {},
          "execution_count": 5
        }
      ]
    },
    {
      "cell_type": "markdown",
      "source": [
        "-> components_array의 0번째 row, 10번째 col에 있는 값은 Topic #0에 대해서 피처 벡터화된 행렬에서 10번쨰 칼럼에 해당하는 피처가 Topic #0에 연관되는 수치 값\n",
        "* display_topics() 함수를 만들어서 각 토픽 별로 연관도가 높은 순으로 word를 나열"
      ],
      "metadata": {
        "id": "PIpkhZjQDz1s"
      }
    },
    {
      "cell_type": "code",
      "source": [
        "def display_topics(model, feature_names, no_top_words):\n",
        "  for topic_index, topic in enumerate(model.components_):\n",
        "    print('Topic #', topic_index)\n",
        "\n",
        "  # components_array에서 가장 값이 큰 순으로 정렬했을 때, 그 값의 array 인덱스를 반환.\n",
        "  topic_word_indexes = topic.argsort()[::-1]\n",
        "  top_indexes = topic_word_indexes[:no_top_words]\n",
        "\n",
        "  # top_indexes 대상인 인덱스 별로 feature_names에 해당하는 word feature 추출 후 join으로 concat\n",
        "  feature_concat = ' '.join([feature_names[i] for i in top_indexes])\n",
        "  print(feature_concat)\n",
        "\n",
        "# CountVectorizer 객체 내의 전체 word의 명칭을 get_features_names()를 통해 추출\n",
        "feature_names = count_vect.get_feature_names_out()\n",
        "\n",
        "# 토픽 별 가장 연관도가 높은 word를 15개만 추출\n",
        "display_topics(lda, feature_names,15)"
      ],
      "metadata": {
        "colab": {
          "base_uri": "https://localhost:8080/"
        },
        "id": "gCNNsD5DEOlh",
        "outputId": "ca2f635a-8986-4a0c-e7e5-d2b9168e882d"
      },
      "execution_count": 6,
      "outputs": [
        {
          "output_type": "stream",
          "name": "stdout",
          "text": [
            "Topic # 0\n",
            "Topic # 1\n",
            "Topic # 2\n",
            "Topic # 3\n",
            "Topic # 4\n",
            "Topic # 5\n",
            "Topic # 6\n",
            "Topic # 7\n",
            "use dos thanks windows using window does display help like problem server need know run\n"
          ]
        }
      ]
    },
    {
      "cell_type": "markdown",
      "source": [
        "* topic #0의 경우 명확하지 않고 일반적인 단어들이 주를 이루고 있고, topic #1은 컴퓨터 그래픽스 영역의 주제어, topic #2는 기독교, topic #3는 의학, topic #4는 윈도우 운영체제, topic #5는 일반적인 단어, topic #6는 중동 분쟁 등에 관련된 주제어, topic #7은 애매하지만 윈도우 운영체제와 관련된 주제어가 일부 추출됨"
      ],
      "metadata": {
        "id": "sln7OyE7GYsX"
      }
    },
    {
      "cell_type": "markdown",
      "source": [
        "# 08 문서 유사도"
      ],
      "metadata": {
        "id": "4sNuyNqxG8ew"
      }
    },
    {
      "cell_type": "markdown",
      "source": [
        "**문서 유사도 측정 방법 - 코사인 유사도**\n",
        "* 문서와 문서 간 유사도 비교는 일반적으로 코사인 유사도 사용\n",
        "* 벡터의 크기보다는 벡터의 상호 방향성이 얼마나 유사한지에 기반함\n",
        "\n",
        "**두 벡터 사잇각**\n",
        "* 두 벡터의 내적을 총 벡터 크기의 합으로 나눈 것(정규화)\n",
        "\n",
        "![image.png](data:image/png;base64,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)"
      ],
      "metadata": {
        "id": "GbEzpCzsHAV-"
      }
    },
    {
      "cell_type": "markdown",
      "source": [
        "* 코사인 유사도를 주로 사용하는 이유: 차원이 매우 많은 희소 행렬을 기반으로 유사도 지표를 사용하면 정확도가 떨어지기 쉬움, 문서가 매우 길면 단어의 빈도수도 더 많아지는데 빈도수에만 기반해서는 공정한 비교가 어려움\n",
        "* cos_similarity: 두 개의 넘파이 배열에 대한 코사인 유사도 구하는 함수"
      ],
      "metadata": {
        "id": "kBlr2vZaJhYV"
      }
    },
    {
      "cell_type": "code",
      "source": [
        "import numpy as np\n",
        "\n",
        "def cos_similarity(v1,v2):\n",
        "  dot_product = np.dot(v1,v2)\n",
        "  l2_norm = (np.sqrt(sum(np.square(v1)))*np.sqrt(sum(np.square(v2))))\n",
        "  similarity = dot_product / l2_norm\n",
        "\n",
        "  return similarity"
      ],
      "metadata": {
        "id": "OMqcYYQFKMVc"
      },
      "execution_count": 7,
      "outputs": []
    },
    {
      "cell_type": "markdown",
      "source": [
        "* doc_list로 정의된 3개의 간단한 문서의 유사도를 비교하기 위해 이 문서를 TF-IDF로 벡터화된 행렬로 변환"
      ],
      "metadata": {
        "id": "cote7pRyLi4n"
      }
    },
    {
      "cell_type": "code",
      "source": [
        "from sklearn.feature_extraction.text import TfidfVectorizer\n",
        "doc_list = ['if you take the blue pill, the story ends',\n",
        "            'if you take the red pill, you stay in Wonderland',\n",
        "            'if you take the red pill, I show you how the rabbit hole goes']\n",
        "\n",
        "tfidf_vect_simple = TfidfVectorizer()\n",
        "feature_vect_simple = tfidf_vect_simple.fit_transform(doc_list)\n",
        "print(feature_vect_simple.shape)"
      ],
      "metadata": {
        "colab": {
          "base_uri": "https://localhost:8080/"
        },
        "id": "3kYHkpytLvUA",
        "outputId": "c9f69cd2-0bab-4d69-c6ff-279218b6170e"
      },
      "execution_count": 8,
      "outputs": [
        {
          "output_type": "stream",
          "name": "stdout",
          "text": [
            "(3, 17)\n"
          ]
        }
      ]
    },
    {
      "cell_type": "markdown",
      "source": [
        "-> 반환된 행렬이 희소 행렬이므로 밀집 행렬로 변환한 뒤 다시 각각을 배열로 변환\n",
        "feature_vect_dense[0]은 첫 번째 문서 벡터화,\n",
        "feature_vect_dense[1]은 두 번째 문서 벡터화\n",
        "* 두 개 문서 유사도 측정"
      ],
      "metadata": {
        "id": "Tx67oHzfMhjH"
      }
    },
    {
      "cell_type": "code",
      "source": [
        "# TfidfVectorizer로 transform()한 결과는 희소 행렬이므로 밀집 행렬로 변환.\n",
        "feature_vect_dense = feature_vect_simple.todense()\n",
        "\n",
        "# 첫 번째 문장과 두 번째 문장의 피처 벡터 추출\n",
        "vect1 = np.array(feature_vect_dense[0]).reshape(-1,)\n",
        "vect2 = np.array(feature_vect_dense[1]).reshape(-1,)\n",
        "\n",
        "# 첫 번째 문장과 두 번째 문장의 피처 벡터로 두 개 문장의 코사인 유사도 추출\n",
        "similarity_simple = cos_similarity(vect1,vect2)\n",
        "print('문장1, 문장2 Cosine 유사도: {0:.3f}'.format(similarity_simple))"
      ],
      "metadata": {
        "colab": {
          "base_uri": "https://localhost:8080/"
        },
        "id": "XNaMZJnLMz8E",
        "outputId": "c66c49ba-85c6-4baa-fc79-a541ec752adc"
      },
      "execution_count": 9,
      "outputs": [
        {
          "output_type": "stream",
          "name": "stdout",
          "text": [
            "문장1, 문장2 Cosine 유사도: 0.402\n"
          ]
        }
      ]
    },
    {
      "cell_type": "code",
      "source": [
        "vect1 = np.array(feature_vect_dense[0]).reshape(-1,)\n",
        "vect3 = np.array(feature_vect_dense[2]).reshape(-1,)\n",
        "similarity_simple = cos_similarity(vect1,vect3)\n",
        "print('문장1, 문장3 Cosine 유사도: {0:.3f}'.format(similarity_simple))\n",
        "\n",
        "vect2 = np.array(feature_vect_dense[1]).reshape(-1,)\n",
        "vect3 = np.array(feature_vect_dense[2]).reshape(-1,)\n",
        "similarity_simple = cos_similarity(vect2,vect3)\n",
        "print('문장2, 문장3 Cosine 유사도: {0:.3f}'.format(similarity_simple))"
      ],
      "metadata": {
        "colab": {
          "base_uri": "https://localhost:8080/"
        },
        "id": "3mpsJwldUPdO",
        "outputId": "a8cc0099-cdb2-4a3f-cf73-60148967d7a3"
      },
      "execution_count": 10,
      "outputs": [
        {
          "output_type": "stream",
          "name": "stdout",
          "text": [
            "문장1, 문장3 Cosine 유사도: 0.425\n",
            "문장2, 문장3 Cosine 유사도: 0.480\n"
          ]
        }
      ]
    },
    {
      "cell_type": "markdown",
      "source": [
        "* sklearn.metrics.pairwise.cosine_similarity로 코사인 유사도 측정 (비교 기준이 되는 문서의 행렬, 비교할 피처 행렬)\n",
        "* 희소 행렬, 밀집 행렬 모두 가능"
      ],
      "metadata": {
        "id": "_ojfoDQoUnRv"
      }
    },
    {
      "cell_type": "code",
      "source": [
        "from sklearn.metrics.pairwise import cosine_similarity\n",
        "similarity_simple_pair = cosine_similarity(feature_vect_simple[0], feature_vect_simple)\n",
        "print(similarity_simple_pair)"
      ],
      "metadata": {
        "colab": {
          "base_uri": "https://localhost:8080/"
        },
        "id": "c4HqgkTaUmCr",
        "outputId": "18d73179-4255-4eaa-ebcc-871ad72fc0f5"
      },
      "execution_count": 11,
      "outputs": [
        {
          "output_type": "stream",
          "name": "stdout",
          "text": [
            "[[1.         0.40207758 0.42517613]]\n"
          ]
        }
      ]
    },
    {
      "cell_type": "markdown",
      "source": [
        "-> 첫 번째 문서와 자기자신, 두번째, 세번째 문서의 유사도 값을 돌려줌"
      ],
      "metadata": {
        "id": "7DzZWBpGWdDU"
      }
    },
    {
      "cell_type": "code",
      "source": [
        "from sklearn.metrics.pairwise import cosine_similarity\n",
        "similarity_simple_pair = cosine_similarity(feature_vect_simple[0], feature_vect_simple[1:])\n",
        "print(similarity_simple_pair)"
      ],
      "metadata": {
        "colab": {
          "base_uri": "https://localhost:8080/"
        },
        "id": "AdQeKxT8Wqc3",
        "outputId": "bf2ef463-35f4-4c09-b883-04414601f49b"
      },
      "execution_count": 12,
      "outputs": [
        {
          "output_type": "stream",
          "name": "stdout",
          "text": [
            "[[0.40207758 0.42517613]]\n"
          ]
        }
      ]
    },
    {
      "cell_type": "markdown",
      "source": [
        "-> 자기 자신과의 비교는 하지 않는 코드\n",
        "* 쌍으로 코사인 유사도 값을 측정하는 방법"
      ],
      "metadata": {
        "id": "VTDoLtj5Wssa"
      }
    },
    {
      "cell_type": "code",
      "source": [
        "similarity_simple_pair = cosine_similarity(feature_vect_simple, feature_vect_simple)\n",
        "print(similarity_simple_pair)\n",
        "print('shape:',similarity_simple_pair.shape)"
      ],
      "metadata": {
        "colab": {
          "base_uri": "https://localhost:8080/"
        },
        "id": "yyRkLeahW3Rz",
        "outputId": "a6625c1b-0e5f-438e-d582-89fe8003b05b"
      },
      "execution_count": 13,
      "outputs": [
        {
          "output_type": "stream",
          "name": "stdout",
          "text": [
            "[[1.         0.40207758 0.42517613]\n",
            " [0.40207758 1.         0.4801019 ]\n",
            " [0.42517613 0.4801019  1.        ]]\n",
            "shape: (3, 3)\n"
          ]
        }
      ]
    },
    {
      "cell_type": "markdown",
      "source": [
        "-> (3,3) 형태의 ndarray로 각각 첫 번째, 두 번째, 세 번째 문서를 기준으로 유사도를 측정한 결과를 array로 돌려줌"
      ],
      "metadata": {
        "id": "tKT_j2RiXWSy"
      }
    },
    {
      "cell_type": "markdown",
      "source": [
        "**Opinion Review 데이터 세트를 이용한 문서 유사도 측정**"
      ],
      "metadata": {
        "id": "tKSL5wUuXjfG"
      }
    },
    {
      "cell_type": "code",
      "source": [
        "from nltk.stem import WordNetLemmatizer\n",
        "import nltk\n",
        "import string\n",
        "\n",
        "nltk.download('punkt')\n",
        "nltk.download('wordnet')\n",
        "\n",
        "# 단어 원형 추출 함수\n",
        "lemmar = WordNetLemmatizer()\n",
        "def LemTokens(tokens):\n",
        "    return [lemmar.lemmatize(token) for token in tokens]\n",
        "\n",
        "# 특수 문자 사전 생성: {33: None ...}\n",
        "# ord(): 아스키 코드 생성\n",
        "remove_punct_dict = dict((ord(punct), None) for punct in string.punctuation)\n",
        "\n",
        "# 특수 문자 제거 및 단어 원형 추출\n",
        "def LemNormalize(text):\n",
        "    # 텍스트 소문자 변경 후 특수 문자 제거\n",
        "    text_new = text.lower().translate(remove_punct_dict)\n",
        "\n",
        "    # 단어 토큰화\n",
        "    word_tokens = nltk.word_tokenize(text_new)\n",
        "\n",
        "    # 단어 원형 추출\n",
        "    return LemTokens(word_tokens)"
      ],
      "metadata": {
        "colab": {
          "base_uri": "https://localhost:8080/"
        },
        "id": "_RS0XJ-VfKdS",
        "outputId": "da0604d0-c1a5-4fa9-8226-8b9c8baec530"
      },
      "execution_count": 5,
      "outputs": [
        {
          "output_type": "stream",
          "name": "stderr",
          "text": [
            "[nltk_data] Downloading package punkt to /root/nltk_data...\n",
            "[nltk_data]   Unzipping tokenizers/punkt.zip.\n",
            "[nltk_data] Downloading package wordnet to /root/nltk_data...\n"
          ]
        }
      ]
    },
    {
      "cell_type": "code",
      "source": [
        "from google.colab import drive\n",
        "drive.mount(\"/content/drive\")"
      ],
      "metadata": {
        "colab": {
          "base_uri": "https://localhost:8080/"
        },
        "id": "-bvQ5IPmtjxu",
        "outputId": "017a4eec-8b0d-4a64-d8da-ab7ee646962f"
      },
      "execution_count": 2,
      "outputs": [
        {
          "output_type": "stream",
          "name": "stdout",
          "text": [
            "Drive already mounted at /content/drive; to attempt to forcibly remount, call drive.mount(\"/content/drive\", force_remount=True).\n"
          ]
        }
      ]
    },
    {
      "cell_type": "code",
      "source": [
        "%cd /content/drive/MyDrive/서현 인수인계 자료/topics"
      ],
      "metadata": {
        "colab": {
          "base_uri": "https://localhost:8080/"
        },
        "id": "iK-qcDzkzTLj",
        "outputId": "2243a4c3-782e-4004-b4c1-ae1af4661060"
      },
      "execution_count": 3,
      "outputs": [
        {
          "output_type": "stream",
          "name": "stdout",
          "text": [
            "/content/drive/MyDrive/서현 인수인계 자료/topics\n"
          ]
        }
      ]
    },
    {
      "cell_type": "code",
      "source": [
        "import pandas as pd\n",
        "import glob, os\n",
        "from sklearn.feature_extraction.text import TfidfVectorizer\n",
        "from sklearn.cluster import KMeans\n",
        "\n",
        "all_files = glob.glob('*.data')\n",
        "filename_list = []\n",
        "opinion_text = []\n",
        "\n",
        "for file_ in all_files:\n",
        "  df = pd.read_table(file_, index_col=None, header=0, encoding='latin1')\n",
        "  filename_ = file_.split('\\\\')[-1]\n",
        "  filename = filename_.split('.')[0]\n",
        "  filename_list.append(filename)\n",
        "  opinion_text.append(df.to_string())\n",
        "\n",
        "document_df = pd.DataFrame({'filename': filename_list, 'opinion_text':opinion_text})\n",
        "\n",
        "tfidf_vect = TfidfVectorizer(tokenizer=LemNormalize, stop_words='english', ngram_range=(1,2), min_df=0.05, max_df=0.85)\n",
        "feature_vect = tfidf_vect.fit_transform(document_df['opinion_text'])\n",
        "\n",
        "km_cluster = KMeans(n_clusters=3, max_iter=10000, random_state=0)\n",
        "km_cluster.fit(feature_vect)\n",
        "cluster_label = km_cluster.labels_\n",
        "cluster_centers = km_cluster.cluster_centers_\n",
        "document_df['cluster_label'] = cluster_label"
      ],
      "metadata": {
        "colab": {
          "base_uri": "https://localhost:8080/"
        },
        "id": "ZOybb0I7XqI9",
        "outputId": "d4db0965-3d9f-4ced-de01-407f0d8fba98"
      },
      "execution_count": 6,
      "outputs": [
        {
          "output_type": "stream",
          "name": "stderr",
          "text": [
            "/usr/local/lib/python3.10/dist-packages/sklearn/feature_extraction/text.py:528: UserWarning: The parameter 'token_pattern' will not be used since 'tokenizer' is not None'\n",
            "  warnings.warn(\n",
            "/usr/local/lib/python3.10/dist-packages/sklearn/feature_extraction/text.py:409: UserWarning: Your stop_words may be inconsistent with your preprocessing. Tokenizing the stop words generated tokens ['ha', 'le', 'u', 'wa'] not in stop_words.\n",
            "  warnings.warn(\n",
            "/usr/local/lib/python3.10/dist-packages/sklearn/cluster/_kmeans.py:870: FutureWarning: The default value of `n_init` will change from 10 to 'auto' in 1.4. Set the value of `n_init` explicitly to suppress the warning\n",
            "  warnings.warn(\n"
          ]
        }
      ]
    },
    {
      "cell_type": "markdown",
      "source": [
        "-> 전자제품, 호텔, 자동차를 주제로 군집화되었음.\n",
        "* 호텔을 주제로 군집화된 문서를 이용해 다른 문서 간의 유사도 알아보기\n",
        "* 호텔을 주제로 군집화된 데이터 먼저 추출, 이 데이터에 해당하는 TfidfVectorizer 데이터 추출\n",
        "* DataFrame 객체 변수인 document_df에서 먼저 호텔로 군집화된 문서의 인덱스 추출, 이렇게 추출된 인덱스를 그대로 이용해 TfidfVectorizer 객체 변수인 feature_vect에서 호텔로 군집화된 문서의 피처 벡터 추출"
      ],
      "metadata": {
        "id": "ZZa3Es4IdV-2"
      }
    },
    {
      "cell_type": "code",
      "source": [
        "from sklearn.metrics.pairwise import cosine_similarity\n",
        "\n",
        "# cluster_label=1인 데이터는 호텔로 군집화된 데이터임. DataFrame에서 해당 인덱스를 추출\n",
        "hotel_indexes = document_df[document_df['cluster_label']==1].index\n",
        "print('호텔로 군집화 된 문서들의 DataFrame index:', hotel_indexes)\n",
        "\n",
        "# 호텔로 군집화된 데이터 중 첫 번째 문서를 추출해 파일명 표시.\n",
        "comparison_docname = document_df.iloc[hotel_indexes[0]]['filename']\n",
        "print('##### 비교 기준 문서명',comparison_docname,'와 타 문서 유사도#####')\n",
        "\n",
        "''' document_df에서 추출한 Index 객체를 feature_vect로 입력해 호텔 군집화된 feature_vect 추출\n",
        "이를 이용해 호텔로 군집화된 문서 중 첫 번째 문서와 다른 문서 간의 코사인 유사도 측정.'''\n",
        "similarity_pair = cosine_similarity(feature_vect[hotel_indexes[0]],feature_vect[hotel_indexes])\n",
        "print(similarity_pair)"
      ],
      "metadata": {
        "colab": {
          "base_uri": "https://localhost:8080/"
        },
        "id": "1D_9ToFneLY2",
        "outputId": "19ebf5e7-543e-413b-9bd2-2b60394088a4"
      },
      "execution_count": 7,
      "outputs": [
        {
          "output_type": "stream",
          "name": "stdout",
          "text": [
            "호텔로 군집화 된 문서들의 DataFrame index: Int64Index([5, 15, 16, 18, 19, 21, 24, 28, 30, 34, 35, 36, 37, 40, 47, 50], dtype='int64')\n",
            "##### 비교 기준 문서명 bathroom_bestwestern_hotel_sfo 와 타 문서 유사도#####\n",
            "[[1.         0.0430688  0.05846178 0.03638665 0.05221059 0.06193118\n",
            "  0.06189595 0.51442299 0.32619948 0.38038865 0.1386783  0.11282857\n",
            "  0.13989623 0.11742762 0.09518068 0.07049362]]\n"
          ]
        }
      ]
    },
    {
      "cell_type": "markdown",
      "source": [
        "-> 숫자로만 나타나 직관적으로 유사도를 이해하기 어려움\n",
        "* 첫 번째 문서와 다른 문서 간에 유사도가 높은 순으로 정렬하고 시각화"
      ],
      "metadata": {
        "id": "JdJYLVVCiAcW"
      }
    },
    {
      "cell_type": "code",
      "source": [
        "import seaborn as sns\n",
        "import numpy as np\n",
        "import matplotlib.pyplot as plt\n",
        "%matplotlib inline\n",
        "\n",
        "# 첫 번째 문서와 타 문서 간 유사도가 큰 순으로 정렬한 인덱스를 추출하되 자기 자신은 제외.\n",
        "sorted_index = similarity_pair.argsort()[:,::-1]\n",
        "sorted_index = sorted_index[:,1:]\n",
        "\n",
        "# 유사도가 큰 순으로 hotel_indexes를 추출해 재정렬\n",
        "hotel_sorted_indexes = hotel_indexes[sorted_index.reshape(-1)]\n",
        "\n",
        "# 유사도가 큰 순으로 유사도 값을 재정렬하되 자기 자신은 제외\n",
        "hotel_1_sim_value = np.sort(similarity_pair.reshape(-1))[::-1]\n",
        "hotel_1_sim_value = hotel_1_sim_value[1:]\n",
        "\n",
        "# 유사도가 큰 순으로 정렬된 인덱스와 유사도 값을 이용해 파일명과 유사도 값을 막대 그래프로 시각화\n",
        "hotel_1_sim_df = pd.DataFrame()\n",
        "hotel_1_sim_df['filename'] = document_df.iloc[hotel_sorted_indexes]['filename']\n",
        "hotel_1_sim_df['similarity'] = hotel_1_sim_value\n",
        "\n",
        "sns.barplot(x='similarity', y='filename', data=hotel_1_sim_df)\n",
        "plt.title(comparison_docname)"
      ],
      "metadata": {
        "colab": {
          "base_uri": "https://localhost:8080/",
          "height": 490
        },
        "id": "YlHHyrGniNg3",
        "outputId": "ea67faa5-f1c6-473b-d0f9-efe850d65aca"
      },
      "execution_count": 8,
      "outputs": [
        {
          "output_type": "execute_result",
          "data": {
            "text/plain": [
              "Text(0.5, 1.0, 'bathroom_bestwestern_hotel_sfo')"
            ]
          },
          "metadata": {},
          "execution_count": 8
        },
        {
          "output_type": "display_data",
          "data": {
            "text/plain": [
              "<Figure size 640x480 with 1 Axes>"
            ],
            "image/png": "[encoded data removed]"
          },
          "metadata": {}
        }
      ]
    },
    {
      "cell_type": "markdown",
      "source": [
        "# 09 한글 텍스트 처리 - 네이버 영화 평점 감성 분석"
      ],
      "metadata": {
        "id": "ylZXtggRjdGo"
      }
    },
    {
      "cell_type": "markdown",
      "source": [
        "**한글 NLP 처리의 어려움**"
      ],
      "metadata": {
        "id": "i8vAu9SrjqJU"
      }
    },
    {
      "cell_type": "markdown",
      "source": [
        "* 띄어쓰기나 다양한 조사 때문에 한글 언어 처리가 어려움\n",
        "* 영어는 띄어쓰기를 잘못하면 대부분 없는 단어로 인식하지만 한글은 의미가 왜곡되어 전달될 수 있음\n",
        "* 조사의 경우의 수가 워낙에 많아 어근 추출 등 전처리 시 제거하기가 까다로움 + 조사를 의미가 있는 단어와 구분하기가 어려움"
      ],
      "metadata": {
        "id": "u7WDA7LXlbdm"
      }
    },
    {
      "cell_type": "markdown",
      "source": [
        "**KoNLPy 소개**\n",
        "* 대표적인 한글 형태소(단어로서 의미를 가지는 최소 단위) 패키지\n",
        "* 형태소 분석: 말뭉치를 형태소 어근 단위로 쪼개고 각 형태소에 품사 태깅을 부착하는 작업"
      ],
      "metadata": {
        "id": "0c-D88b5lcD6"
      }
    },
    {
      "cell_type": "code",
      "source": [
        "pip install konlpy"
      ],
      "metadata": {
        "colab": {
          "base_uri": "https://localhost:8080/"
        },
        "id": "WPdTsAmgmGKe",
        "outputId": "9ec9c634-e963-4431-88f6-2e58eeac2013"
      },
      "execution_count": 1,
      "outputs": [
        {
          "output_type": "stream",
          "name": "stdout",
          "text": [
            "Collecting konlpy\n",
            "  Downloading konlpy-0.6.0-py2.py3-none-any.whl (19.4 MB)\n",
            "\u001b[2K     \u001b[90m━━━━━━━━━━━━━━━━━━━━━━━━━━━━━━━━━━━━━━━━\u001b[0m \u001b[32m19.4/19.4 MB\u001b[0m \u001b[31m61.9 MB/s\u001b[0m eta \u001b[36m0:00:00\u001b[0m\n",
            "\u001b[?25hCollecting JPype1>=0.7.0 (from konlpy)\n",
            "  Downloading JPype1-1.4.1-cp310-cp310-manylinux_2_12_x86_64.manylinux2010_x86_64.whl (465 kB)\n",
            "\u001b[2K     \u001b[90m━━━━━━━━━━━━━━━━━━━━━━━━━━━━━━━━━━━━━━━━\u001b[0m \u001b[32m465.3/465.3 kB\u001b[0m \u001b[31m44.5 MB/s\u001b[0m eta \u001b[36m0:00:00\u001b[0m\n",
            "\u001b[?25hRequirement already satisfied: lxml>=4.1.0 in /usr/local/lib/python3.10/dist-packages (from konlpy) (4.9.3)\n",
            "Requirement already satisfied: numpy>=1.6 in /usr/local/lib/python3.10/dist-packages (from konlpy) (1.23.5)\n",
            "Requirement already satisfied: packaging in /usr/local/lib/python3.10/dist-packages (from JPype1>=0.7.0->konlpy) (23.2)\n",
            "Installing collected packages: JPype1, konlpy\n",
            "Successfully installed JPype1-1.4.1 konlpy-0.6.0\n"
          ]
        }
      ]
    },
    {
      "cell_type": "code",
      "source": [
        "import pandas as pd\n",
        "\n",
        "train_df = pd.read_csv('ratings_train.txt',sep='\\t')\n",
        "train_df.head(3)"
      ],
      "metadata": {
        "colab": {
          "base_uri": "https://localhost:8080/",
          "height": 143
        },
        "id": "LSQLDuC6nwbS",
        "outputId": "0b98bddb-1c74-460e-b4ff-92888595e2b0"
      },
      "execution_count": 22,
      "outputs": [
        {
          "output_type": "execute_result",
          "data": {
            "text/plain": [
              "         id                           document  label\n",
              "0   9976970                아 더빙.. 진짜 짜증나네요 목소리      0\n",
              "1   3819312  흠...포스터보고 초딩영화줄....오버연기조차 가볍지 않구나      1\n",
              "2  10265843                  너무재밓었다그래서보는것을추천한다      0"
            ],
            "text/html": [
              "\n",
              "  <div id=\"df-bdf558e1-3bd5-4ae7-a27d-cba6dbb86955\" class=\"colab-df-container\">\n",
              "    <div>\n",
              "<style scoped>\n",
              "    .dataframe tbody tr th:only-of-type {\n",
              "        vertical-align: middle;\n",
              "    }\n",
              "\n",
              "    .dataframe tbody tr th {\n",
              "        vertical-align: top;\n",
              "    }\n",
              "\n",
              "    .dataframe thead th {\n",
              "        text-align: right;\n",
              "    }\n",
              "</style>\n",
              "<table border=\"1\" class=\"dataframe\">\n",
              "  <thead>\n",
              "    <tr style=\"text-align: right;\">\n",
              "      <th></th>\n",
              "      <th>id</th>\n",
              "      <th>document</th>\n",
              "      <th>label</th>\n",
              "    </tr>\n",
              "  </thead>\n",
              "  <tbody>\n",
              "    <tr>\n",
              "      <th>0</th>\n",
              "      <td>9976970</td>\n",
              "      <td>아 더빙.. 진짜 짜증나네요 목소리</td>\n",
              "      <td>0</td>\n",
              "    </tr>\n",
              "    <tr>\n",
              "      <th>1</th>\n",
              "      <td>3819312</td>\n",
              "      <td>흠...포스터보고 초딩영화줄....오버연기조차 가볍지 않구나</td>\n",
              "      <td>1</td>\n",
              "    </tr>\n",
              "    <tr>\n",
              "      <th>2</th>\n",
              "      <td>10265843</td>\n",
              "      <td>너무재밓었다그래서보는것을추천한다</td>\n",
              "      <td>0</td>\n",
              "    </tr>\n",
              "  </tbody>\n",
              "</table>\n",
              "</div>\n",
              "    <div class=\"colab-df-buttons\">\n",
              "\n",
              "  <div class=\"colab-df-container\">\n",
              "    <button class=\"colab-df-convert\" onclick=\"convertToInteractive('df-bdf558e1-3bd5-4ae7-a27d-cba6dbb86955')\"\n",
              "            title=\"Convert this dataframe to an interactive table.\"\n",
              "            style=\"display:none;\">\n",
              "\n",
              "  <svg xmlns=\"http://www.w3.org/2000/svg\" height=\"24px\" viewBox=\"0 -960 960 960\">\n",
              "    <path d=\"M120-120v-720h720v720H120Zm60-500h600v-160H180v160Zm220 220h160v-160H400v160Zm0 220h160v-160H400v160ZM180-400h160v-160H180v160Zm440 0h160v-160H620v160ZM180-180h160v-160H180v160Zm440 0h160v-160H620v160Z\"/>\n",
              "  </svg>\n",
              "    </button>\n",
              "\n",
              "  <style>\n",
              "    .colab-df-container {\n",
              "      display:flex;\n",
              "      gap: 12px;\n",
              "    }\n",
              "\n",
              "    .colab-df-convert {\n",
              "      background-color: #E8F0FE;\n",
              "      border: none;\n",
              "      border-radius: 50%;\n",
              "      cursor: pointer;\n",
              "      display: none;\n",
              "      fill: #1967D2;\n",
              "      height: 32px;\n",
              "      padding: 0 0 0 0;\n",
              "      width: 32px;\n",
              "    }\n",
              "\n",
              "    .colab-df-convert:hover {\n",
              "      background-color: #E2EBFA;\n",
              "      box-shadow: 0px 1px 2px rgba(60, 64, 67, 0.3), 0px 1px 3px 1px rgba(60, 64, 67, 0.15);\n",
              "      fill: #174EA6;\n",
              "    }\n",
              "\n",
              "    .colab-df-buttons div {\n",
              "      margin-bottom: 4px;\n",
              "    }\n",
              "\n",
              "    [theme=dark] .colab-df-convert {\n",
              "      background-color: #3B4455;\n",
              "      fill: #D2E3FC;\n",
              "    }\n",
              "\n",
              "    [theme=dark] .colab-df-convert:hover {\n",
              "      background-color: #434B5C;\n",
              "      box-shadow: 0px 1px 3px 1px rgba(0, 0, 0, 0.15);\n",
              "      filter: drop-shadow(0px 1px 2px rgba(0, 0, 0, 0.3));\n",
              "      fill: #FFFFFF;\n",
              "    }\n",
              "  </style>\n",
              "\n",
              "    <script>\n",
              "      const buttonEl =\n",
              "        document.querySelector('#df-bdf558e1-3bd5-4ae7-a27d-cba6dbb86955 button.colab-df-convert');\n",
              "      buttonEl.style.display =\n",
              "        google.colab.kernel.accessAllowed ? 'block' : 'none';\n",
              "\n",
              "      async function convertToInteractive(key) {\n",
              "        const element = document.querySelector('#df-bdf558e1-3bd5-4ae7-a27d-cba6dbb86955');\n",
              "        const dataTable =\n",
              "          await google.colab.kernel.invokeFunction('convertToInteractive',\n",
              "                                                    [key], {});\n",
              "        if (!dataTable) return;\n",
              "\n",
              "        const docLinkHtml = 'Like what you see? Visit the ' +\n",
              "          '<a target=\"_blank\" href=https://colab.research.google.com/notebooks/data_table.ipynb>data table notebook</a>'\n",
              "          + ' to learn more about interactive tables.';\n",
              "        element.innerHTML = '';\n",
              "        dataTable['output_type'] = 'display_data';\n",
              "        await google.colab.output.renderOutput(dataTable, element);\n",
              "        const docLink = document.createElement('div');\n",
              "        docLink.innerHTML = docLinkHtml;\n",
              "        element.appendChild(docLink);\n",
              "      }\n",
              "    </script>\n",
              "  </div>\n",
              "\n",
              "\n",
              "<div id=\"df-c3eebc56-7bf2-4282-b021-314c50a81117\">\n",
              "  <button class=\"colab-df-quickchart\" onclick=\"quickchart('df-c3eebc56-7bf2-4282-b021-314c50a81117')\"\n",
              "            title=\"Suggest charts.\"\n",
              "            style=\"display:none;\">\n",
              "\n",
              "<svg xmlns=\"http://www.w3.org/2000/svg\" height=\"24px\"viewBox=\"0 0 24 24\"\n",
              "     width=\"24px\">\n",
              "    <g>\n",
              "        <path d=\"M19 3H5c-1.1 0-2 .9-2 2v14c0 1.1.9 2 2 2h14c1.1 0 2-.9 2-2V5c0-1.1-.9-2-2-2zM9 17H7v-7h2v7zm4 0h-2V7h2v10zm4 0h-2v-4h2v4z\"/>\n",
              "    </g>\n",
              "</svg>\n",
              "  </button>\n",
              "\n",
              "<style>\n",
              "  .colab-df-quickchart {\n",
              "      --bg-color: #E8F0FE;\n",
              "      --fill-color: #1967D2;\n",
              "      --hover-bg-color: #E2EBFA;\n",
              "      --hover-fill-color: #174EA6;\n",
              "      --disabled-fill-color: #AAA;\n",
              "      --disabled-bg-color: #DDD;\n",
              "  }\n",
              "\n",
              "  [theme=dark] .colab-df-quickchart {\n",
              "      --bg-color: #3B4455;\n",
              "      --fill-color: #D2E3FC;\n",
              "      --hover-bg-color: #434B5C;\n",
              "      --hover-fill-color: #FFFFFF;\n",
              "      --disabled-bg-color: #3B4455;\n",
              "      --disabled-fill-color: #666;\n",
              "  }\n",
              "\n",
              "  .colab-df-quickchart {\n",
              "    background-color: var(--bg-color);\n",
              "    border: none;\n",
              "    border-radius: 50%;\n",
              "    cursor: pointer;\n",
              "    display: none;\n",
              "    fill: var(--fill-color);\n",
              "    height: 32px;\n",
              "    padding: 0;\n",
              "    width: 32px;\n",
              "  }\n",
              "\n",
              "  .colab-df-quickchart:hover {\n",
              "    background-color: var(--hover-bg-color);\n",
              "    box-shadow: 0 1px 2px rgba(60, 64, 67, 0.3), 0 1px 3px 1px rgba(60, 64, 67, 0.15);\n",
              "    fill: var(--button-hover-fill-color);\n",
              "  }\n",
              "\n",
              "  .colab-df-quickchart-complete:disabled,\n",
              "  .colab-df-quickchart-complete:disabled:hover {\n",
              "    background-color: var(--disabled-bg-color);\n",
              "    fill: var(--disabled-fill-color);\n",
              "    box-shadow: none;\n",
              "  }\n",
              "\n",
              "  .colab-df-spinner {\n",
              "    border: 2px solid var(--fill-color);\n",
              "    border-color: transparent;\n",
              "    border-bottom-color: var(--fill-color);\n",
              "    animation:\n",
              "      spin 1s steps(1) infinite;\n",
              "  }\n",
              "\n",
              "  @keyframes spin {\n",
              "    0% {\n",
              "      border-color: transparent;\n",
              "      border-bottom-color: var(--fill-color);\n",
              "      border-left-color: var(--fill-color);\n",
              "    }\n",
              "    20% {\n",
              "      border-color: transparent;\n",
              "      border-left-color: var(--fill-color);\n",
              "      border-top-color: var(--fill-color);\n",
              "    }\n",
              "    30% {\n",
              "      border-color: transparent;\n",
              "      border-left-color: var(--fill-color);\n",
              "      border-top-color: var(--fill-color);\n",
              "      border-right-color: var(--fill-color);\n",
              "    }\n",
              "    40% {\n",
              "      border-color: transparent;\n",
              "      border-right-color: var(--fill-color);\n",
              "      border-top-color: var(--fill-color);\n",
              "    }\n",
              "    60% {\n",
              "      border-color: transparent;\n",
              "      border-right-color: var(--fill-color);\n",
              "    }\n",
              "    80% {\n",
              "      border-color: transparent;\n",
              "      border-right-color: var(--fill-color);\n",
              "      border-bottom-color: var(--fill-color);\n",
              "    }\n",
              "    90% {\n",
              "      border-color: transparent;\n",
              "      border-bottom-color: var(--fill-color);\n",
              "    }\n",
              "  }\n",
              "</style>\n",
              "\n",
              "  <script>\n",
              "    async function quickchart(key) {\n",
              "      const quickchartButtonEl =\n",
              "        document.querySelector('#' + key + ' button');\n",
              "      quickchartButtonEl.disabled = true;  // To prevent multiple clicks.\n",
              "      quickchartButtonEl.classList.add('colab-df-spinner');\n",
              "      try {\n",
              "        const charts = await google.colab.kernel.invokeFunction(\n",
              "            'suggestCharts', [key], {});\n",
              "      } catch (error) {\n",
              "        console.error('Error during call to suggestCharts:', error);\n",
              "      }\n",
              "      quickchartButtonEl.classList.remove('colab-df-spinner');\n",
              "      quickchartButtonEl.classList.add('colab-df-quickchart-complete');\n",
              "    }\n",
              "    (() => {\n",
              "      let quickchartButtonEl =\n",
              "        document.querySelector('#df-c3eebc56-7bf2-4282-b021-314c50a81117 button');\n",
              "      quickchartButtonEl.style.display =\n",
              "        google.colab.kernel.accessAllowed ? 'block' : 'none';\n",
              "    })();\n",
              "  </script>\n",
              "</div>\n",
              "    </div>\n",
              "  </div>\n"
            ]
          },
          "metadata": {},
          "execution_count": 22
        }
      ]
    },
    {
      "cell_type": "markdown",
      "source": [
        "-> 1이 긍정, 0이 부정 감성"
      ],
      "metadata": {
        "id": "HmNeR3CrpJoT"
      }
    },
    {
      "cell_type": "code",
      "source": [
        "train_df['label'].value_counts()"
      ],
      "metadata": {
        "colab": {
          "base_uri": "https://localhost:8080/"
        },
        "id": "4Zi15MHipO4v",
        "outputId": "c0a49e9f-31fc-4edc-903f-633c79144e1a"
      },
      "execution_count": 23,
      "outputs": [
        {
          "output_type": "execute_result",
          "data": {
            "text/plain": [
              "0    75173\n",
              "1    74827\n",
              "Name: label, dtype: int64"
            ]
          },
          "metadata": {},
          "execution_count": 23
        }
      ]
    },
    {
      "cell_type": "markdown",
      "source": [
        "-> 0,1 비율이 균등한 분포를 나타냄, document 칼럼에 null이 일부 존재하는 것+숫자로 구성된 경우에 공백으로 변환"
      ],
      "metadata": {
        "id": "nY5bF9O9pTvu"
      }
    },
    {
      "cell_type": "code",
      "source": [
        "import re\n",
        "\n",
        "train_df = train_df.fillna(' ')\n",
        "# 정규 표현식을 이용해 숫자를 공백으로 변경 (정규 표현식으로 \\d는 숫자를 의미함)\n",
        "train_df['document'] = train_df['document'].apply(lambda x: re.sub(r'\\d+',' ',x))\n",
        "\n",
        "# 테스트 데이터 세트를 로딩하고 동일하게 Null 및 숫자를 공백으로 변환\n",
        "test_df = pd.read_csv('ratings_test.txt',sep='\\t')\n",
        "test_df = test_df.fillna(' ')\n",
        "test_df['document'] = test_df['document'].apply(lambda x: re.sub(r'\\d+',' ',x))\n",
        "\n",
        "# id 칼럼 삭제 수행\n",
        "train_df.drop('id', axis=1, inplace=True)\n",
        "test_df.drop('id', axis=1, inplace=True)"
      ],
      "metadata": {
        "id": "LJ7IgDdzpoal"
      },
      "execution_count": 24,
      "outputs": []
    },
    {
      "cell_type": "markdown",
      "source": [
        "* 한글 형태소 분석을 통해 형태소 단어로 토큰화하기\n",
        "* twitter 클래스의 morphs() 메서드를 이용하면 입력 인자로 들어온 문장을 형태소 단어 형태로 토큰화하여 list 객체로 반환"
      ],
      "metadata": {
        "id": "05LZpFC5qY01"
      }
    },
    {
      "cell_type": "code",
      "source": [
        "from konlpy.tag import Twitter\n",
        "\n",
        "twitter = Twitter()\n",
        "def tw_tokenizer(text):\n",
        "  # 입력 인자로 들어온 텍스트를 형태소 단어로 토큰화해 리스트 형태로 변환\n",
        "  tokens_ko = twitter.morphs(text)\n",
        "  return tokens_ko"
      ],
      "metadata": {
        "colab": {
          "base_uri": "https://localhost:8080/"
        },
        "id": "KFyw55sOqrCo",
        "outputId": "b7567ecd-db13-465f-aa3f-267229a07cd6"
      },
      "execution_count": 25,
      "outputs": [
        {
          "output_type": "stream",
          "name": "stderr",
          "text": [
            "/usr/local/lib/python3.10/dist-packages/konlpy/tag/_okt.py:17: UserWarning: \"Twitter\" has changed to \"Okt\" since KoNLPy v0.4.5.\n",
            "  warn('\"Twitter\" has changed to \"Okt\" since KoNLPy v0.4.5.')\n"
          ]
        }
      ]
    },
    {
      "cell_type": "markdown",
      "source": [
        "* 사이킷런의 TfidfVectorizer를 이용해 tf-idf 피처 모델 생성"
      ],
      "metadata": {
        "id": "cc_E2nxLq9dO"
      }
    },
    {
      "cell_type": "code",
      "source": [
        "from sklearn.feature_extraction.text import TfidfVectorizer\n",
        "from sklearn.linear_model import LogisticRegression\n",
        "from sklearn.model_selection import GridSearchCV\n",
        "\n",
        "# Twitter 객체의 morphs() 객체를 이용한 tokenizer를 사용. ngram_range는 (1,2)\n",
        "tfidf_vect = TfidfVectorizer(tokenizer=tw_tokenizer, ngram_range=(1,2), min_df=3, max_df=0.9)\n",
        "tfidf_vect.fit(train_df['document'])\n",
        "tfidf_matrix_train = tfidf_vect.transform(train_df['document'])"
      ],
      "metadata": {
        "colab": {
          "base_uri": "https://localhost:8080/"
        },
        "id": "4G-NVuwHrQf2",
        "outputId": "1fc8bbb8-09e7-48cc-a9f2-91c3976a6668"
      },
      "execution_count": 27,
      "outputs": [
        {
          "output_type": "stream",
          "name": "stderr",
          "text": [
            "/usr/local/lib/python3.10/dist-packages/sklearn/feature_extraction/text.py:528: UserWarning: The parameter 'token_pattern' will not be used since 'tokenizer' is not None'\n",
            "  warnings.warn(\n"
          ]
        }
      ]
    },
    {
      "cell_type": "markdown",
      "source": [
        "* 로지스틱 회귀를 이용해 분류 기반 감성 분석 수행"
      ],
      "metadata": {
        "id": "72BHgrFmsOg_"
      }
    },
    {
      "cell_type": "code",
      "source": [
        "# 로지스틱 회귀를 이용해 감성 분석 분류 수행.\n",
        "lg_clf = LogisticRegression(random_state = 0)\n",
        "\n",
        "# 파라미터 C 최적화를 위해 GridSearchCV를 이용\n",
        "params = {\"C\": [1, 3.5, 4.5, 5.5, 10]}\n",
        "grid_cv = GridSearchCV(lg_clf, param_grid = params, cv = 3, scoring = \"accuracy\", verbose = 1)\n",
        "grid_cv.fit(tfidf_matrix_train, train_df[\"label\"])\n",
        "print(grid_cv.best_params_, round(grid_cv.best_score_, 4))"
      ],
      "metadata": {
        "colab": {
          "base_uri": "https://localhost:8080/"
        },
        "id": "6vrAnXTMsNIS",
        "outputId": "31671355-154f-4789-fd8f-dc60b49ca0ee"
      },
      "execution_count": 29,
      "outputs": [
        {
          "output_type": "stream",
          "name": "stdout",
          "text": [
            "Fitting 3 folds for each of 5 candidates, totalling 15 fits\n"
          ]
        },
        {
          "output_type": "stream",
          "name": "stderr",
          "text": [
            "/usr/local/lib/python3.10/dist-packages/sklearn/linear_model/_logistic.py:458: ConvergenceWarning: lbfgs failed to converge (status=1):\n",
            "STOP: TOTAL NO. of ITERATIONS REACHED LIMIT.\n",
            "\n",
            "Increase the number of iterations (max_iter) or scale the data as shown in:\n",
            "    https://scikit-learn.org/stable/modules/preprocessing.html\n",
            "Please also refer to the documentation for alternative solver options:\n",
            "    https://scikit-learn.org/stable/modules/linear_model.html#logistic-regression\n",
            "  n_iter_i = _check_optimize_result(\n",
            "/usr/local/lib/python3.10/dist-packages/sklearn/linear_model/_logistic.py:458: ConvergenceWarning: lbfgs failed to converge (status=1):\n",
            "STOP: TOTAL NO. of ITERATIONS REACHED LIMIT.\n",
            "\n",
            "Increase the number of iterations (max_iter) or scale the data as shown in:\n",
            "    https://scikit-learn.org/stable/modules/preprocessing.html\n",
            "Please also refer to the documentation for alternative solver options:\n",
            "    https://scikit-learn.org/stable/modules/linear_model.html#logistic-regression\n",
            "  n_iter_i = _check_optimize_result(\n",
            "/usr/local/lib/python3.10/dist-packages/sklearn/linear_model/_logistic.py:458: ConvergenceWarning: lbfgs failed to converge (status=1):\n",
            "STOP: TOTAL NO. of ITERATIONS REACHED LIMIT.\n",
            "\n",
            "Increase the number of iterations (max_iter) or scale the data as shown in:\n",
            "    https://scikit-learn.org/stable/modules/preprocessing.html\n",
            "Please also refer to the documentation for alternative solver options:\n",
            "    https://scikit-learn.org/stable/modules/linear_model.html#logistic-regression\n",
            "  n_iter_i = _check_optimize_result(\n",
            "/usr/local/lib/python3.10/dist-packages/sklearn/linear_model/_logistic.py:458: ConvergenceWarning: lbfgs failed to converge (status=1):\n",
            "STOP: TOTAL NO. of ITERATIONS REACHED LIMIT.\n",
            "\n",
            "Increase the number of iterations (max_iter) or scale the data as shown in:\n",
            "    https://scikit-learn.org/stable/modules/preprocessing.html\n",
            "Please also refer to the documentation for alternative solver options:\n",
            "    https://scikit-learn.org/stable/modules/linear_model.html#logistic-regression\n",
            "  n_iter_i = _check_optimize_result(\n",
            "/usr/local/lib/python3.10/dist-packages/sklearn/linear_model/_logistic.py:458: ConvergenceWarning: lbfgs failed to converge (status=1):\n",
            "STOP: TOTAL NO. of ITERATIONS REACHED LIMIT.\n",
            "\n",
            "Increase the number of iterations (max_iter) or scale the data as shown in:\n",
            "    https://scikit-learn.org/stable/modules/preprocessing.html\n",
            "Please also refer to the documentation for alternative solver options:\n",
            "    https://scikit-learn.org/stable/modules/linear_model.html#logistic-regression\n",
            "  n_iter_i = _check_optimize_result(\n",
            "/usr/local/lib/python3.10/dist-packages/sklearn/linear_model/_logistic.py:458: ConvergenceWarning: lbfgs failed to converge (status=1):\n",
            "STOP: TOTAL NO. of ITERATIONS REACHED LIMIT.\n",
            "\n",
            "Increase the number of iterations (max_iter) or scale the data as shown in:\n",
            "    https://scikit-learn.org/stable/modules/preprocessing.html\n",
            "Please also refer to the documentation for alternative solver options:\n",
            "    https://scikit-learn.org/stable/modules/linear_model.html#logistic-regression\n",
            "  n_iter_i = _check_optimize_result(\n",
            "/usr/local/lib/python3.10/dist-packages/sklearn/linear_model/_logistic.py:458: ConvergenceWarning: lbfgs failed to converge (status=1):\n",
            "STOP: TOTAL NO. of ITERATIONS REACHED LIMIT.\n",
            "\n",
            "Increase the number of iterations (max_iter) or scale the data as shown in:\n",
            "    https://scikit-learn.org/stable/modules/preprocessing.html\n",
            "Please also refer to the documentation for alternative solver options:\n",
            "    https://scikit-learn.org/stable/modules/linear_model.html#logistic-regression\n",
            "  n_iter_i = _check_optimize_result(\n",
            "/usr/local/lib/python3.10/dist-packages/sklearn/linear_model/_logistic.py:458: ConvergenceWarning: lbfgs failed to converge (status=1):\n",
            "STOP: TOTAL NO. of ITERATIONS REACHED LIMIT.\n",
            "\n",
            "Increase the number of iterations (max_iter) or scale the data as shown in:\n",
            "    https://scikit-learn.org/stable/modules/preprocessing.html\n",
            "Please also refer to the documentation for alternative solver options:\n",
            "    https://scikit-learn.org/stable/modules/linear_model.html#logistic-regression\n",
            "  n_iter_i = _check_optimize_result(\n",
            "/usr/local/lib/python3.10/dist-packages/sklearn/linear_model/_logistic.py:458: ConvergenceWarning: lbfgs failed to converge (status=1):\n",
            "STOP: TOTAL NO. of ITERATIONS REACHED LIMIT.\n",
            "\n",
            "Increase the number of iterations (max_iter) or scale the data as shown in:\n",
            "    https://scikit-learn.org/stable/modules/preprocessing.html\n",
            "Please also refer to the documentation for alternative solver options:\n",
            "    https://scikit-learn.org/stable/modules/linear_model.html#logistic-regression\n",
            "  n_iter_i = _check_optimize_result(\n",
            "/usr/local/lib/python3.10/dist-packages/sklearn/linear_model/_logistic.py:458: ConvergenceWarning: lbfgs failed to converge (status=1):\n",
            "STOP: TOTAL NO. of ITERATIONS REACHED LIMIT.\n",
            "\n",
            "Increase the number of iterations (max_iter) or scale the data as shown in:\n",
            "    https://scikit-learn.org/stable/modules/preprocessing.html\n",
            "Please also refer to the documentation for alternative solver options:\n",
            "    https://scikit-learn.org/stable/modules/linear_model.html#logistic-regression\n",
            "  n_iter_i = _check_optimize_result(\n",
            "/usr/local/lib/python3.10/dist-packages/sklearn/linear_model/_logistic.py:458: ConvergenceWarning: lbfgs failed to converge (status=1):\n",
            "STOP: TOTAL NO. of ITERATIONS REACHED LIMIT.\n",
            "\n",
            "Increase the number of iterations (max_iter) or scale the data as shown in:\n",
            "    https://scikit-learn.org/stable/modules/preprocessing.html\n",
            "Please also refer to the documentation for alternative solver options:\n",
            "    https://scikit-learn.org/stable/modules/linear_model.html#logistic-regression\n",
            "  n_iter_i = _check_optimize_result(\n",
            "/usr/local/lib/python3.10/dist-packages/sklearn/linear_model/_logistic.py:458: ConvergenceWarning: lbfgs failed to converge (status=1):\n",
            "STOP: TOTAL NO. of ITERATIONS REACHED LIMIT.\n",
            "\n",
            "Increase the number of iterations (max_iter) or scale the data as shown in:\n",
            "    https://scikit-learn.org/stable/modules/preprocessing.html\n",
            "Please also refer to the documentation for alternative solver options:\n",
            "    https://scikit-learn.org/stable/modules/linear_model.html#logistic-regression\n",
            "  n_iter_i = _check_optimize_result(\n"
          ]
        },
        {
          "output_type": "stream",
          "name": "stdout",
          "text": [
            "{'C': 3.5} 0.8593\n"
          ]
        },
        {
          "output_type": "stream",
          "name": "stderr",
          "text": [
            "/usr/local/lib/python3.10/dist-packages/sklearn/linear_model/_logistic.py:458: ConvergenceWarning: lbfgs failed to converge (status=1):\n",
            "STOP: TOTAL NO. of ITERATIONS REACHED LIMIT.\n",
            "\n",
            "Increase the number of iterations (max_iter) or scale the data as shown in:\n",
            "    https://scikit-learn.org/stable/modules/preprocessing.html\n",
            "Please also refer to the documentation for alternative solver options:\n",
            "    https://scikit-learn.org/stable/modules/linear_model.html#logistic-regression\n",
            "  n_iter_i = _check_optimize_result(\n"
          ]
        }
      ]
    },
    {
      "cell_type": "code",
      "source": [
        "from sklearn.metrics import accuracy_score\n",
        "\n",
        "# 학습 데이터를 적용한 TfidfVectorizer를 이용해 테스트 데이터를 TF-IDF 값으로 피처 변환함.\n",
        "tfidf_matrix_test = tfidf_vect.transform(test_df['document'])\n",
        "\n",
        "# classifier는 GridSearchCV에서 최적 파라미터로 학습된 classifier를 그대로 이용\n",
        "best_estimator = grid_cv.best_estimator_\n",
        "preds = best_estimator.predict(tfidf_matrix_test)\n",
        "\n",
        "print('Logistic Regression 정확도:', accuracy_score(test_df['label'],preds))"
      ],
      "metadata": {
        "colab": {
          "base_uri": "https://localhost:8080/"
        },
        "id": "kclNf-jasfWT",
        "outputId": "d1e03bb4-8fc6-4e0a-c03c-eeec99af5ac1"
      },
      "execution_count": 30,
      "outputs": [
        {
          "output_type": "stream",
          "name": "stdout",
          "text": [
            "Logistic Regression 정확도: 0.86186\n"
          ]
        }
      ]
    }
  ]
}