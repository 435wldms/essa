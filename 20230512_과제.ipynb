{
  "nbformat": 4,
  "nbformat_minor": 0,
  "metadata": {
    "colab": {
      "provenance": [],
      "authorship_tag": "ABX9TyP0IeICewxf/R4zLUh5ba8k",
      "include_colab_link": true
    },
    "kernelspec": {
      "name": "python3",
      "display_name": "Python 3"
    },
    "language_info": {
      "name": "python"
    }
  },
  "cells": [
    {
      "cell_type": "markdown",
      "metadata": {
        "id": "view-in-github",
        "colab_type": "text"
      },
      "source": [
        "<a href=\"https://colab.research.google.com/github/435wldms/essa/blob/main/20230512_%EA%B3%BC%EC%A0%9C.ipynb\" target=\"_parent\"><img src=\"https://colab.research.google.com/assets/colab-badge.svg\" alt=\"Open In Colab\"/></a>"
      ]
    },
    {
      "cell_type": "markdown",
      "source": [
        "# 06 XGBoost"
      ],
      "metadata": {
        "id": "lSIH7pTp-09v"
      }
    },
    {
      "cell_type": "markdown",
      "source": [
        "* XGBoost는 트리 기반의 앙상블 학습에서 가장 각광받고 있는 알고리즘 중 하나\n",
        "* GBM을 기반으로 하고 있지만 GBM의 느린 수행 시간, 과적합 규제 부재 등의 문제를 해결"
      ],
      "metadata": {
        "id": "DhWeMq8p-7oF"
      }
    },
    {
      "cell_type": "code",
      "execution_count": 1,
      "metadata": {
        "id": "M3QiT54g-qk-"
      },
      "outputs": [],
      "source": [
        "import xgboost as xgb\n",
        "from xgboost import XGBClassifier"
      ]
    },
    {
      "cell_type": "markdown",
      "source": [
        "**파이썬 래퍼 XGBoost 하이퍼 파라미터**"
      ],
      "metadata": {
        "id": "YwxtodoUKQz4"
      }
    },
    {
      "cell_type": "markdown",
      "source": [
        "* GBM과 유사한 하이퍼 파라미터를 동일하게 가지고 있으며 여기에 조기 중단, 과적합 규제를 위한 하이퍼 파라미터 등이 추가\n",
        ">\n",
        "1) 일반 파라미터 : 디폴트 파라미터 값을 보통 그대로 사용(booster, silent, nthread)\n",
        ">\n",
        "2) 부스터 파라미터 : 트리 최적화, 부스팅, regularization 등\n",
        ">\n",
        "3) 학습 태스크 파라미터 : 학습 수행 시의 객체 함수, 평가를 위한 지표(eval_metric) 등\n",
        "\n",
        "* 과적합 문제가 심할 때 : eta 낮춤, max_depth 낮춤, min_child_weight 높임 등"
      ],
      "metadata": {
        "id": "E0yn4q0bKY-9"
      }
    },
    {
      "cell_type": "markdown",
      "source": [
        "* XGBoost나 LightGBM은 모두 조기 중단 기능이 있어서 GBM과 달리 n_estimators에 지정한 부스팅 반복 횟수에 도달하지 않아도 예측 오류가 더 이상 개선되지 않으면 반복을 끝까지 수행하지 않음."
      ],
      "metadata": {
        "id": "ryJT9E-pL4nE"
      }
    },
    {
      "cell_type": "code",
      "source": [
        "# xgboost version 확인\n",
        "import xgboost\n",
        "print(xgboost.__version__)"
      ],
      "metadata": {
        "colab": {
          "base_uri": "https://localhost:8080/"
        },
        "id": "d1eiwCCrKrVc",
        "outputId": "c1f6e8aa-089a-4c26-b7b0-63f671518020"
      },
      "execution_count": 2,
      "outputs": [
        {
          "output_type": "stream",
          "name": "stdout",
          "text": [
            "1.7.5\n"
          ]
        }
      ]
    },
    {
      "cell_type": "markdown",
      "source": [
        "**파이썬 래퍼 XGBoost 적용 - 위스콘신 유방암 예측**"
      ],
      "metadata": {
        "id": "VV0WSWo4MY5P"
      }
    },
    {
      "cell_type": "markdown",
      "source": [
        "* 종양의 크기, 모양 등의 다양한 속성 값을 기반으로 악성 종양인지, 양성 종양인지를 분류한 데이터\n",
        "* 해당 데이터를 DataFrame으로 로드 후 살펴 봄."
      ],
      "metadata": {
        "id": "8uEApvFpMeuQ"
      }
    },
    {
      "cell_type": "code",
      "source": [
        "import xgboost as xgb\n",
        "from xgboost import plot_importance\n",
        "import pandas as pd\n",
        "import numpy as np\n",
        "from sklearn.datasets import load_breast_cancer\n",
        "from sklearn.model_selection import train_test_split\n",
        "import warnings\n",
        "warnings.filterwarnings('ignore')\n",
        "\n",
        "dataset = load_breast_cancer()\n",
        "X_features = dataset.data\n",
        "y_label = dataset.target\n",
        "\n",
        "cancer_df = pd.DataFrame(data=X_features, columns=dataset.feature_names)\n",
        "cancer_df['target']=y_label\n",
        "cancer_df.head(3)"
      ],
      "metadata": {
        "colab": {
          "base_uri": "https://localhost:8080/",
          "height": 271
        },
        "id": "ZbWyCNqeMd5p",
        "outputId": "2f4157b1-fc8c-42b3-e87d-8b82e39e9d1e"
      },
      "execution_count": 3,
      "outputs": [
        {
          "output_type": "execute_result",
          "data": {
            "text/plain": [
              "   mean radius  mean texture  mean perimeter  mean area  mean smoothness  \\\n",
              "0        17.99         10.38           122.8     1001.0          0.11840   \n",
              "1        20.57         17.77           132.9     1326.0          0.08474   \n",
              "2        19.69         21.25           130.0     1203.0          0.10960   \n",
              "\n",
              "   mean compactness  mean concavity  mean concave points  mean symmetry  \\\n",
              "0           0.27760          0.3001              0.14710         0.2419   \n",
              "1           0.07864          0.0869              0.07017         0.1812   \n",
              "2           0.15990          0.1974              0.12790         0.2069   \n",
              "\n",
              "   mean fractal dimension  ...  worst texture  worst perimeter  worst area  \\\n",
              "0                 0.07871  ...          17.33            184.6      2019.0   \n",
              "1                 0.05667  ...          23.41            158.8      1956.0   \n",
              "2                 0.05999  ...          25.53            152.5      1709.0   \n",
              "\n",
              "   worst smoothness  worst compactness  worst concavity  worst concave points  \\\n",
              "0            0.1622             0.6656           0.7119                0.2654   \n",
              "1            0.1238             0.1866           0.2416                0.1860   \n",
              "2            0.1444             0.4245           0.4504                0.2430   \n",
              "\n",
              "   worst symmetry  worst fractal dimension  target  \n",
              "0          0.4601                  0.11890       0  \n",
              "1          0.2750                  0.08902       0  \n",
              "2          0.3613                  0.08758       0  \n",
              "\n",
              "[3 rows x 31 columns]"
            ],
            "text/html": [
              "\n",
              "  <div id=\"df-bdd462d0-d92f-4e17-8192-f04ed0757d74\">\n",
              "    <div class=\"colab-df-container\">\n",
              "      <div>\n",
              "<style scoped>\n",
              "    .dataframe tbody tr th:only-of-type {\n",
              "        vertical-align: middle;\n",
              "    }\n",
              "\n",
              "    .dataframe tbody tr th {\n",
              "        vertical-align: top;\n",
              "    }\n",
              "\n",
              "    .dataframe thead th {\n",
              "        text-align: right;\n",
              "    }\n",
              "</style>\n",
              "<table border=\"1\" class=\"dataframe\">\n",
              "  <thead>\n",
              "    <tr style=\"text-align: right;\">\n",
              "      <th></th>\n",
              "      <th>mean radius</th>\n",
              "      <th>mean texture</th>\n",
              "      <th>mean perimeter</th>\n",
              "      <th>mean area</th>\n",
              "      <th>mean smoothness</th>\n",
              "      <th>mean compactness</th>\n",
              "      <th>mean concavity</th>\n",
              "      <th>mean concave points</th>\n",
              "      <th>mean symmetry</th>\n",
              "      <th>mean fractal dimension</th>\n",
              "      <th>...</th>\n",
              "      <th>worst texture</th>\n",
              "      <th>worst perimeter</th>\n",
              "      <th>worst area</th>\n",
              "      <th>worst smoothness</th>\n",
              "      <th>worst compactness</th>\n",
              "      <th>worst concavity</th>\n",
              "      <th>worst concave points</th>\n",
              "      <th>worst symmetry</th>\n",
              "      <th>worst fractal dimension</th>\n",
              "      <th>target</th>\n",
              "    </tr>\n",
              "  </thead>\n",
              "  <tbody>\n",
              "    <tr>\n",
              "      <th>0</th>\n",
              "      <td>17.99</td>\n",
              "      <td>10.38</td>\n",
              "      <td>122.8</td>\n",
              "      <td>1001.0</td>\n",
              "      <td>0.11840</td>\n",
              "      <td>0.27760</td>\n",
              "      <td>0.3001</td>\n",
              "      <td>0.14710</td>\n",
              "      <td>0.2419</td>\n",
              "      <td>0.07871</td>\n",
              "      <td>...</td>\n",
              "      <td>17.33</td>\n",
              "      <td>184.6</td>\n",
              "      <td>2019.0</td>\n",
              "      <td>0.1622</td>\n",
              "      <td>0.6656</td>\n",
              "      <td>0.7119</td>\n",
              "      <td>0.2654</td>\n",
              "      <td>0.4601</td>\n",
              "      <td>0.11890</td>\n",
              "      <td>0</td>\n",
              "    </tr>\n",
              "    <tr>\n",
              "      <th>1</th>\n",
              "      <td>20.57</td>\n",
              "      <td>17.77</td>\n",
              "      <td>132.9</td>\n",
              "      <td>1326.0</td>\n",
              "      <td>0.08474</td>\n",
              "      <td>0.07864</td>\n",
              "      <td>0.0869</td>\n",
              "      <td>0.07017</td>\n",
              "      <td>0.1812</td>\n",
              "      <td>0.05667</td>\n",
              "      <td>...</td>\n",
              "      <td>23.41</td>\n",
              "      <td>158.8</td>\n",
              "      <td>1956.0</td>\n",
              "      <td>0.1238</td>\n",
              "      <td>0.1866</td>\n",
              "      <td>0.2416</td>\n",
              "      <td>0.1860</td>\n",
              "      <td>0.2750</td>\n",
              "      <td>0.08902</td>\n",
              "      <td>0</td>\n",
              "    </tr>\n",
              "    <tr>\n",
              "      <th>2</th>\n",
              "      <td>19.69</td>\n",
              "      <td>21.25</td>\n",
              "      <td>130.0</td>\n",
              "      <td>1203.0</td>\n",
              "      <td>0.10960</td>\n",
              "      <td>0.15990</td>\n",
              "      <td>0.1974</td>\n",
              "      <td>0.12790</td>\n",
              "      <td>0.2069</td>\n",
              "      <td>0.05999</td>\n",
              "      <td>...</td>\n",
              "      <td>25.53</td>\n",
              "      <td>152.5</td>\n",
              "      <td>1709.0</td>\n",
              "      <td>0.1444</td>\n",
              "      <td>0.4245</td>\n",
              "      <td>0.4504</td>\n",
              "      <td>0.2430</td>\n",
              "      <td>0.3613</td>\n",
              "      <td>0.08758</td>\n",
              "      <td>0</td>\n",
              "    </tr>\n",
              "  </tbody>\n",
              "</table>\n",
              "<p>3 rows × 31 columns</p>\n",
              "</div>\n",
              "      <button class=\"colab-df-convert\" onclick=\"convertToInteractive('df-bdd462d0-d92f-4e17-8192-f04ed0757d74')\"\n",
              "              title=\"Convert this dataframe to an interactive table.\"\n",
              "              style=\"display:none;\">\n",
              "        \n",
              "  <svg xmlns=\"http://www.w3.org/2000/svg\" height=\"24px\"viewBox=\"0 0 24 24\"\n",
              "       width=\"24px\">\n",
              "    <path d=\"M0 0h24v24H0V0z\" fill=\"none\"/>\n",
              "    <path d=\"M18.56 5.44l.94 2.06.94-2.06 2.06-.94-2.06-.94-.94-2.06-.94 2.06-2.06.94zm-11 1L8.5 8.5l.94-2.06 2.06-.94-2.06-.94L8.5 2.5l-.94 2.06-2.06.94zm10 10l.94 2.06.94-2.06 2.06-.94-2.06-.94-.94-2.06-.94 2.06-2.06.94z\"/><path d=\"M17.41 7.96l-1.37-1.37c-.4-.4-.92-.59-1.43-.59-.52 0-1.04.2-1.43.59L10.3 9.45l-7.72 7.72c-.78.78-.78 2.05 0 2.83L4 21.41c.39.39.9.59 1.41.59.51 0 1.02-.2 1.41-.59l7.78-7.78 2.81-2.81c.8-.78.8-2.07 0-2.86zM5.41 20L4 18.59l7.72-7.72 1.47 1.35L5.41 20z\"/>\n",
              "  </svg>\n",
              "      </button>\n",
              "      \n",
              "  <style>\n",
              "    .colab-df-container {\n",
              "      display:flex;\n",
              "      flex-wrap:wrap;\n",
              "      gap: 12px;\n",
              "    }\n",
              "\n",
              "    .colab-df-convert {\n",
              "      background-color: #E8F0FE;\n",
              "      border: none;\n",
              "      border-radius: 50%;\n",
              "      cursor: pointer;\n",
              "      display: none;\n",
              "      fill: #1967D2;\n",
              "      height: 32px;\n",
              "      padding: 0 0 0 0;\n",
              "      width: 32px;\n",
              "    }\n",
              "\n",
              "    .colab-df-convert:hover {\n",
              "      background-color: #E2EBFA;\n",
              "      box-shadow: 0px 1px 2px rgba(60, 64, 67, 0.3), 0px 1px 3px 1px rgba(60, 64, 67, 0.15);\n",
              "      fill: #174EA6;\n",
              "    }\n",
              "\n",
              "    [theme=dark] .colab-df-convert {\n",
              "      background-color: #3B4455;\n",
              "      fill: #D2E3FC;\n",
              "    }\n",
              "\n",
              "    [theme=dark] .colab-df-convert:hover {\n",
              "      background-color: #434B5C;\n",
              "      box-shadow: 0px 1px 3px 1px rgba(0, 0, 0, 0.15);\n",
              "      filter: drop-shadow(0px 1px 2px rgba(0, 0, 0, 0.3));\n",
              "      fill: #FFFFFF;\n",
              "    }\n",
              "  </style>\n",
              "\n",
              "      <script>\n",
              "        const buttonEl =\n",
              "          document.querySelector('#df-bdd462d0-d92f-4e17-8192-f04ed0757d74 button.colab-df-convert');\n",
              "        buttonEl.style.display =\n",
              "          google.colab.kernel.accessAllowed ? 'block' : 'none';\n",
              "\n",
              "        async function convertToInteractive(key) {\n",
              "          const element = document.querySelector('#df-bdd462d0-d92f-4e17-8192-f04ed0757d74');\n",
              "          const dataTable =\n",
              "            await google.colab.kernel.invokeFunction('convertToInteractive',\n",
              "                                                     [key], {});\n",
              "          if (!dataTable) return;\n",
              "\n",
              "          const docLinkHtml = 'Like what you see? Visit the ' +\n",
              "            '<a target=\"_blank\" href=https://colab.research.google.com/notebooks/data_table.ipynb>data table notebook</a>'\n",
              "            + ' to learn more about interactive tables.';\n",
              "          element.innerHTML = '';\n",
              "          dataTable['output_type'] = 'display_data';\n",
              "          await google.colab.output.renderOutput(dataTable, element);\n",
              "          const docLink = document.createElement('div');\n",
              "          docLink.innerHTML = docLinkHtml;\n",
              "          element.appendChild(docLink);\n",
              "        }\n",
              "      </script>\n",
              "    </div>\n",
              "  </div>\n",
              "  "
            ]
          },
          "metadata": {},
          "execution_count": 3
        }
      ]
    },
    {
      "cell_type": "markdown",
      "source": [
        "-> 결과 : target=0이면 malignant, target=1이면 benign"
      ],
      "metadata": {
        "id": "31GXeWRxN59W"
      }
    },
    {
      "cell_type": "code",
      "source": [
        "print(dataset.target_names)\n",
        "print(cancer_df['target'].value_counts())"
      ],
      "metadata": {
        "colab": {
          "base_uri": "https://localhost:8080/"
        },
        "id": "2gjHYAolOBrM",
        "outputId": "55f8a720-8834-4474-f5c7-296435ea09ea"
      },
      "execution_count": 4,
      "outputs": [
        {
          "output_type": "stream",
          "name": "stdout",
          "text": [
            "['malignant' 'benign']\n",
            "1    357\n",
            "0    212\n",
            "Name: target, dtype: int64\n"
          ]
        }
      ]
    },
    {
      "cell_type": "markdown",
      "source": [
        "-> 결과 : 양성이 357개, 악성이 212개로 구성돼 있음."
      ],
      "metadata": {
        "id": "tFEDEI8bOQPP"
      }
    },
    {
      "cell_type": "code",
      "source": [
        "# 전체 데이터 중 80%는 학습용 데이터, 20%는 테스트용 데이터 추출\n",
        "X_train, X_test, y_train, y_test = train_test_split(X_features,y_label, test_size=0.2, random_state=156)\n",
        "print(X_train.shape, X_test.shape)"
      ],
      "metadata": {
        "colab": {
          "base_uri": "https://localhost:8080/"
        },
        "id": "QXcN3xllOOsh",
        "outputId": "da504fca-ff1e-477c-b805-d8e4da8ff03f"
      },
      "execution_count": 5,
      "outputs": [
        {
          "output_type": "stream",
          "name": "stdout",
          "text": [
            "(455, 30) (114, 30)\n"
          ]
        }
      ]
    },
    {
      "cell_type": "markdown",
      "source": [
        "-> 파이썬 래퍼 XGBoost는 사이킷런과 차이가 있는데 가장 큰 차이는 학습&테스트용 데이터 세트를 위해 DMatrix를 생성한다는 점\n",
        ">\n",
        "-> 판다스의 DataFrame으로 데이터 인터페이스를 하기 위해서는 DataFrame.values를 이용해 넘파이로 일차 변환 후 DMatrix 변환 적용"
      ],
      "metadata": {
        "id": "eV3UmyvFPVQl"
      }
    },
    {
      "cell_type": "code",
      "source": [
        "dtrain = xgb.DMatrix(data=X_train, label=y_train)\n",
        "dtest = xgb.DMatrix(data=X_test, label=y_test)"
      ],
      "metadata": {
        "id": "8zUEN-4SRQzZ"
      },
      "execution_count": 6,
      "outputs": []
    },
    {
      "cell_type": "markdown",
      "source": [
        "* xgb 하이퍼 파라미터부터 설정, 딕셔너리 형태로 입력"
      ],
      "metadata": {
        "id": "m7VCzBzgRhbv"
      }
    },
    {
      "cell_type": "code",
      "source": [
        "params ={\n",
        "    'max_depth':3,\n",
        "    'objective': 'binary:logistic',\n",
        "    'eval_metric':'logloss',\n",
        "    'early_stoppings':100\n",
        "}\n",
        "num_rounds=400"
      ],
      "metadata": {
        "id": "q2Utv0NzRmEc"
      },
      "execution_count": 7,
      "outputs": []
    },
    {
      "cell_type": "markdown",
      "source": [
        "* 위에 지정된 하이퍼 파라미터로 XGBoost 모델 학습시키기 -> xgb.train() 함수에 파라미터로 전달\n",
        "* 조기 중단을 수행하려면 반드시 evals 파라미터에 eval 데이터 세트 명기"
      ],
      "metadata": {
        "id": "2hSvDLTGSt7V"
      }
    },
    {
      "cell_type": "code",
      "source": [
        "# train 데이터 세트는 'train', evaluation 데이터 세트는 'eval'로 명기.\n",
        "wlist = [(dtrain,'train'),(dtest,'eval')]\n",
        "\n",
        "# 하이퍼 파라미터와 early stopping 파라미터를 train() 함수의 파라미터로 전달\n",
        "xgb_model = xgb.train(params=params, dtrain=dtrain, num_boost_round=num_rounds, early_stopping_rounds=100, evals=wlist)"
      ],
      "metadata": {
        "colab": {
          "base_uri": "https://localhost:8080/"
        },
        "id": "Irq8RSBgTJIt",
        "outputId": "45dbab05-344a-4130-9bf8-e73bd06847d3"
      },
      "execution_count": 8,
      "outputs": [
        {
          "output_type": "stream",
          "name": "stdout",
          "text": [
            "[06:11:23] WARNING: ../src/learner.cc:767: \n",
            "Parameters: { \"early_stoppings\" } are not used.\n",
            "\n",
            "[0]\ttrain-logloss:0.46775\teval-logloss:0.47984\n",
            "[1]\ttrain-logloss:0.33578\teval-logloss:0.36218\n",
            "[2]\ttrain-logloss:0.25254\teval-logloss:0.29004\n",
            "[3]\ttrain-logloss:0.19584\teval-logloss:0.23382\n",
            "[4]\ttrain-logloss:0.15664\teval-logloss:0.19901\n",
            "[5]\ttrain-logloss:0.12663\teval-logloss:0.17469\n",
            "[6]\ttrain-logloss:0.10353\teval-logloss:0.15549\n",
            "[7]\ttrain-logloss:0.08545\teval-logloss:0.13367\n",
            "[8]\ttrain-logloss:0.07277\teval-logloss:0.12411\n",
            "[9]\ttrain-logloss:0.06333\teval-logloss:0.11611\n",
            "[10]\ttrain-logloss:0.05484\teval-logloss:0.10768\n",
            "[11]\ttrain-logloss:0.04787\teval-logloss:0.10018\n",
            "[12]\ttrain-logloss:0.04334\teval-logloss:0.09754\n",
            "[13]\ttrain-logloss:0.03794\teval-logloss:0.08920\n",
            "[14]\ttrain-logloss:0.03308\teval-logloss:0.09259\n",
            "[15]\ttrain-logloss:0.02942\teval-logloss:0.09144\n",
            "[16]\ttrain-logloss:0.02689\teval-logloss:0.09066\n",
            "[17]\ttrain-logloss:0.02439\teval-logloss:0.09058\n",
            "[18]\ttrain-logloss:0.02226\teval-logloss:0.08894\n",
            "[19]\ttrain-logloss:0.02053\teval-logloss:0.08622\n",
            "[20]\ttrain-logloss:0.01891\teval-logloss:0.08694\n",
            "[21]\ttrain-logloss:0.01766\teval-logloss:0.08437\n",
            "[22]\ttrain-logloss:0.01649\teval-logloss:0.08092\n",
            "[23]\ttrain-logloss:0.01547\teval-logloss:0.08404\n",
            "[24]\ttrain-logloss:0.01457\teval-logloss:0.08252\n",
            "[25]\ttrain-logloss:0.01381\teval-logloss:0.08363\n",
            "[26]\ttrain-logloss:0.01322\teval-logloss:0.08221\n",
            "[27]\ttrain-logloss:0.01285\teval-logloss:0.08006\n",
            "[28]\ttrain-logloss:0.01222\teval-logloss:0.08012\n",
            "[29]\ttrain-logloss:0.01170\teval-logloss:0.08106\n",
            "[30]\ttrain-logloss:0.01127\teval-logloss:0.07912\n",
            "[31]\ttrain-logloss:0.01086\teval-logloss:0.07902\n",
            "[32]\ttrain-logloss:0.01044\teval-logloss:0.07828\n",
            "[33]\ttrain-logloss:0.01009\teval-logloss:0.07763\n",
            "[34]\ttrain-logloss:0.00977\teval-logloss:0.07815\n",
            "[35]\ttrain-logloss:0.00948\teval-logloss:0.07717\n",
            "[36]\ttrain-logloss:0.00916\teval-logloss:0.08030\n",
            "[37]\ttrain-logloss:0.00899\teval-logloss:0.07981\n",
            "[38]\ttrain-logloss:0.00875\teval-logloss:0.07971\n",
            "[39]\ttrain-logloss:0.00862\teval-logloss:0.07979\n",
            "[40]\ttrain-logloss:0.00842\teval-logloss:0.08142\n",
            "[41]\ttrain-logloss:0.00826\teval-logloss:0.08108\n",
            "[42]\ttrain-logloss:0.00817\teval-logloss:0.08093\n",
            "[43]\ttrain-logloss:0.00791\teval-logloss:0.08288\n",
            "[44]\ttrain-logloss:0.00783\teval-logloss:0.08297\n",
            "[45]\ttrain-logloss:0.00774\teval-logloss:0.08286\n",
            "[46]\ttrain-logloss:0.00757\teval-logloss:0.08421\n",
            "[47]\ttrain-logloss:0.00749\teval-logloss:0.08398\n",
            "[48]\ttrain-logloss:0.00742\teval-logloss:0.08323\n",
            "[49]\ttrain-logloss:0.00734\teval-logloss:0.08398\n",
            "[50]\ttrain-logloss:0.00727\teval-logloss:0.08317\n",
            "[51]\ttrain-logloss:0.00721\teval-logloss:0.08331\n",
            "[52]\ttrain-logloss:0.00714\teval-logloss:0.08325\n",
            "[53]\ttrain-logloss:0.00708\teval-logloss:0.08248\n",
            "[54]\ttrain-logloss:0.00701\teval-logloss:0.08220\n",
            "[55]\ttrain-logloss:0.00696\teval-logloss:0.08152\n",
            "[56]\ttrain-logloss:0.00690\teval-logloss:0.08139\n",
            "[57]\ttrain-logloss:0.00683\teval-logloss:0.08152\n",
            "[58]\ttrain-logloss:0.00678\teval-logloss:0.08087\n",
            "[59]\ttrain-logloss:0.00672\teval-logloss:0.08083\n",
            "[60]\ttrain-logloss:0.00667\teval-logloss:0.08148\n",
            "[61]\ttrain-logloss:0.00661\teval-logloss:0.08076\n",
            "[62]\ttrain-logloss:0.00657\teval-logloss:0.08069\n",
            "[63]\ttrain-logloss:0.00652\teval-logloss:0.08011\n",
            "[64]\ttrain-logloss:0.00647\teval-logloss:0.07985\n",
            "[65]\ttrain-logloss:0.00642\teval-logloss:0.08012\n",
            "[66]\ttrain-logloss:0.00637\teval-logloss:0.08076\n",
            "[67]\ttrain-logloss:0.00633\teval-logloss:0.08075\n",
            "[68]\ttrain-logloss:0.00628\teval-logloss:0.08018\n",
            "[69]\ttrain-logloss:0.00624\teval-logloss:0.08022\n",
            "[70]\ttrain-logloss:0.00620\teval-logloss:0.08028\n",
            "[71]\ttrain-logloss:0.00616\teval-logloss:0.08027\n",
            "[72]\ttrain-logloss:0.00612\teval-logloss:0.08065\n",
            "[73]\ttrain-logloss:0.00607\teval-logloss:0.08046\n",
            "[74]\ttrain-logloss:0.00604\teval-logloss:0.08022\n",
            "[75]\ttrain-logloss:0.00600\teval-logloss:0.08049\n",
            "[76]\ttrain-logloss:0.00597\teval-logloss:0.08103\n",
            "[77]\ttrain-logloss:0.00592\teval-logloss:0.08086\n",
            "[78]\ttrain-logloss:0.00589\teval-logloss:0.08093\n",
            "[79]\ttrain-logloss:0.00586\teval-logloss:0.08098\n",
            "[80]\ttrain-logloss:0.00582\teval-logloss:0.08100\n",
            "[81]\ttrain-logloss:0.00579\teval-logloss:0.08151\n",
            "[82]\ttrain-logloss:0.00576\teval-logloss:0.08136\n",
            "[83]\ttrain-logloss:0.00573\teval-logloss:0.08115\n",
            "[84]\ttrain-logloss:0.00570\teval-logloss:0.08078\n",
            "[85]\ttrain-logloss:0.00567\teval-logloss:0.08082\n",
            "[86]\ttrain-logloss:0.00564\teval-logloss:0.08086\n",
            "[87]\ttrain-logloss:0.00562\teval-logloss:0.08052\n",
            "[88]\ttrain-logloss:0.00559\teval-logloss:0.08057\n",
            "[89]\ttrain-logloss:0.00557\teval-logloss:0.08082\n",
            "[90]\ttrain-logloss:0.00554\teval-logloss:0.08051\n",
            "[91]\ttrain-logloss:0.00552\teval-logloss:0.08086\n",
            "[92]\ttrain-logloss:0.00550\teval-logloss:0.08069\n",
            "[93]\ttrain-logloss:0.00547\teval-logloss:0.08040\n",
            "[94]\ttrain-logloss:0.00545\teval-logloss:0.08045\n",
            "[95]\ttrain-logloss:0.00543\teval-logloss:0.08050\n",
            "[96]\ttrain-logloss:0.00541\teval-logloss:0.08072\n",
            "[97]\ttrain-logloss:0.00539\teval-logloss:0.08045\n",
            "[98]\ttrain-logloss:0.00537\teval-logloss:0.08078\n",
            "[99]\ttrain-logloss:0.00535\teval-logloss:0.08044\n",
            "[100]\ttrain-logloss:0.00533\teval-logloss:0.08018\n",
            "[101]\ttrain-logloss:0.00531\teval-logloss:0.08049\n",
            "[102]\ttrain-logloss:0.00529\teval-logloss:0.08070\n",
            "[103]\ttrain-logloss:0.00527\teval-logloss:0.08045\n",
            "[104]\ttrain-logloss:0.00526\teval-logloss:0.08013\n",
            "[105]\ttrain-logloss:0.00524\teval-logloss:0.08007\n",
            "[106]\ttrain-logloss:0.00522\teval-logloss:0.08011\n",
            "[107]\ttrain-logloss:0.00520\teval-logloss:0.07986\n",
            "[108]\ttrain-logloss:0.00519\teval-logloss:0.08016\n",
            "[109]\ttrain-logloss:0.00517\teval-logloss:0.08036\n",
            "[110]\ttrain-logloss:0.00515\teval-logloss:0.08013\n",
            "[111]\ttrain-logloss:0.00514\teval-logloss:0.08019\n",
            "[112]\ttrain-logloss:0.00512\teval-logloss:0.08023\n",
            "[113]\ttrain-logloss:0.00511\teval-logloss:0.07999\n",
            "[114]\ttrain-logloss:0.00509\teval-logloss:0.08028\n",
            "[115]\ttrain-logloss:0.00508\teval-logloss:0.08048\n",
            "[116]\ttrain-logloss:0.00506\teval-logloss:0.08017\n",
            "[117]\ttrain-logloss:0.00505\teval-logloss:0.07995\n",
            "[118]\ttrain-logloss:0.00503\teval-logloss:0.07990\n",
            "[119]\ttrain-logloss:0.00502\teval-logloss:0.07994\n",
            "[120]\ttrain-logloss:0.00501\teval-logloss:0.07997\n",
            "[121]\ttrain-logloss:0.00499\teval-logloss:0.08002\n",
            "[122]\ttrain-logloss:0.00498\teval-logloss:0.08006\n",
            "[123]\ttrain-logloss:0.00497\teval-logloss:0.07986\n",
            "[124]\ttrain-logloss:0.00496\teval-logloss:0.08012\n",
            "[125]\ttrain-logloss:0.00494\teval-logloss:0.08031\n",
            "[126]\ttrain-logloss:0.00493\teval-logloss:0.08004\n",
            "[127]\ttrain-logloss:0.00492\teval-logloss:0.07984\n",
            "[128]\ttrain-logloss:0.00491\teval-logloss:0.08010\n",
            "[129]\ttrain-logloss:0.00490\teval-logloss:0.07974\n",
            "[130]\ttrain-logloss:0.00489\teval-logloss:0.07978\n",
            "[131]\ttrain-logloss:0.00488\teval-logloss:0.07982\n",
            "[132]\ttrain-logloss:0.00487\teval-logloss:0.07963\n",
            "[133]\ttrain-logloss:0.00486\teval-logloss:0.07980\n",
            "[134]\ttrain-logloss:0.00485\teval-logloss:0.07956\n"
          ]
        }
      ]
    },
    {
      "cell_type": "markdown",
      "source": [
        "-> 결과 : train()으로 학습을 수행했을때 반복하면서 train-error, eval-logloss가 지속적으로 감소"
      ],
      "metadata": {
        "id": "JsgjVc_uVpvh"
      }
    },
    {
      "cell_type": "markdown",
      "source": [
        "* xgboost를 이용해 테스트 데이터 세트에 예측 수행\n",
        "* xgboost에서 predict() 메서드는 예측 결괏값이 아닌 예측 결과를 추정할 수 있는 확률 값을 반환!"
      ],
      "metadata": {
        "id": "9Kzn-GWAVxAv"
      }
    },
    {
      "cell_type": "code",
      "source": [
        "pred_probs = xgb_model.predict(dtest)\n",
        "print('predict() 수행 결괏값을 10개만 표시, 예측 확률값으로 표시됨')\n",
        "print(np.round(pred_probs[:10],3))\n",
        "\n",
        "# 예측 확률이 0.5보다 크면 1, 그렇지 않으면 0으로 예측값 결정해 리스트 객체인 preds에 저장\n",
        "preds = [1 if x> 0.5 else 0 for x in pred_probs]\n",
        "print('예측값 10개만 표시:', preds[:10])"
      ],
      "metadata": {
        "colab": {
          "base_uri": "https://localhost:8080/"
        },
        "id": "ga8acVd7WCxe",
        "outputId": "6a918fcb-fe9f-4143-ffda-6ccade746593"
      },
      "execution_count": 9,
      "outputs": [
        {
          "output_type": "stream",
          "name": "stdout",
          "text": [
            "predict() 수행 결괏값을 10개만 표시, 예측 확률값으로 표시됨\n",
            "[0.978 0.004 0.945 0.054 0.994 1.    1.    1.    0.998 0.   ]\n",
            "예측값 10개만 표시: [1, 0, 1, 0, 1, 1, 1, 1, 1, 0]\n"
          ]
        }
      ]
    },
    {
      "cell_type": "markdown",
      "source": [
        "* get_clf_eval() 함수를 적용해 XGBoost 모델의 예측 성능 평가"
      ],
      "metadata": {
        "id": "UQnT-W63W1VS"
      }
    },
    {
      "cell_type": "code",
      "source": [
        "from sklearn.metrics import confusion_matrix, accuracy_score, precision_score, recall_score, f1_score, roc_auc_score"
      ],
      "metadata": {
        "id": "t9zbkUJCXkyE"
      },
      "execution_count": 10,
      "outputs": []
    },
    {
      "cell_type": "code",
      "source": [
        "def get_clf_eval(y_test, pred=None, pred_proba=None):\n",
        "  confusion = confusion_matrix(y_test, pred)\n",
        "  accuracy = accuracy_score(y_test, pred)\n",
        "  precision = precision_score(y_test, pred)\n",
        "  recall = recall_score(y_test, pred)\n",
        "  f1 = f1_score(y_test,pred)\n",
        "  # ROC - AUC 추가\n",
        "  roc_auc = roc_auc_score(y_test, pred_proba)\n",
        "  print('오차 행렬')\n",
        "  print(confusion)\n",
        "  # ROC - AUC print 추가\n",
        "  print('정확도: {0:.4f}, 정밀도: {1:.4f}, 재현율: {2:.4f},/ F1: {3:.4f},AUC:{4:4f}'.format(accuracy, precision, recall, f1, roc_auc))"
      ],
      "metadata": {
        "id": "MKK9xpuAonH5"
      },
      "execution_count": 11,
      "outputs": []
    },
    {
      "cell_type": "code",
      "source": [
        "get_clf_eval(y_test, preds, pred_probs)"
      ],
      "metadata": {
        "colab": {
          "base_uri": "https://localhost:8080/"
        },
        "id": "kDdv58_DW7rn",
        "outputId": "79dad6be-5272-43fa-e2eb-b309c3d9845b"
      },
      "execution_count": 12,
      "outputs": [
        {
          "output_type": "stream",
          "name": "stdout",
          "text": [
            "오차 행렬\n",
            "[[35  2]\n",
            " [ 2 75]]\n",
            "정확도: 0.9649, 정밀도: 0.9740, 재현율: 0.9740,/ F1: 0.9740,AUC:0.996139\n"
          ]
        }
      ]
    },
    {
      "cell_type": "markdown",
      "source": [
        "* xgboost 패키지에 내장된 시각화 기능 수행\n",
        "* plot_importance(): f1 스코어를 기반으로 하는 각 피처의 중요도 나타냄"
      ],
      "metadata": {
        "id": "BaWduU6oXvkU"
      }
    },
    {
      "cell_type": "code",
      "source": [
        "from xgboost import plot_importance\n",
        "import matplotlib.pyplot as plt\n",
        "%matplotlib inline\n",
        "\n",
        "fig, ax= plt.subplots(figsize=(10,12))\n",
        "plot_importance(xgb_model, ax=ax)"
      ],
      "metadata": {
        "colab": {
          "base_uri": "https://localhost:8080/",
          "height": 1000
        },
        "id": "13y0ZybioWip",
        "outputId": "4c5801ff-6488-413e-e9dc-3046424c0af1"
      },
      "execution_count": 13,
      "outputs": [
        {
          "output_type": "execute_result",
          "data": {
            "text/plain": [
              "<Axes: title={'center': 'Feature importance'}, xlabel='F score', ylabel='Features'>"
            ]
          },
          "metadata": {},
          "execution_count": 13
        },
        {
          "output_type": "display_data",
          "data": {
            "text/plain": [
              "<Figure size 1000x1200 with 1 Axes>"
            ],
            "image/png": "[encoded data removed]"
          },
          "metadata": {}
        }
      ]
    },
    {
      "cell_type": "markdown",
      "source": [
        "* 파이썬 래퍼 XGBoost는 사이킷런의 GridSearchCV와 유사한 값을 제공 : cv() "
      ],
      "metadata": {
        "id": "Juwq9rOZ47gQ"
      }
    },
    {
      "cell_type": "markdown",
      "source": [
        "**사이킷런 래퍼 XGBoost의 개요 및 적용**"
      ],
      "metadata": {
        "id": "JYUxYdxa5EY4"
      }
    },
    {
      "cell_type": "markdown",
      "source": [
        "* 위에서 사용한 파이썬 래퍼와 달리, 사이킷런의 기본 estimator를 그대로 상속해 만들었기 때문에 fit, predict만으로 학습과 예측이 가능\n",
        "* XGClassifier, XGBRegressor 두 가지 존재\n"
      ],
      "metadata": {
        "id": "JAENEGB45Qdf"
      }
    },
    {
      "cell_type": "markdown",
      "source": [
        "* 유방암 데이터 세트를 분류를 위한 래퍼 클래스인 XGBClassifier를 이용해 예측(n_estimators=400, learning_rate=0.1, max_depth=3)"
      ],
      "metadata": {
        "id": "XF9i721Q51Vg"
      }
    },
    {
      "cell_type": "code",
      "source": [
        "# 사이킷런 래퍼 XGBoost 클래스인 XGBClassifier 임포트\n",
        "from xgboost import XGBClassifier\n",
        "\n",
        "xgb_wrapper = XGBClassifier(n_estimators=400, learning_rate=0.1, max_depth=3)\n",
        "xgb_wrapper.fit(X_train, y_train)\n",
        "w_preds = xgb_wrapper.predict(X_test)\n",
        "w_pred_proba = xgb_wrapper.predict_proba(X_test)[:,1]"
      ],
      "metadata": {
        "id": "ybHteOVA6JKC"
      },
      "execution_count": 14,
      "outputs": []
    },
    {
      "cell_type": "markdown",
      "source": [
        "* get_clf_eval()를 이용해 사이킷런 래퍼 XGBoost로 만들어진 모델 예측 성능 평가"
      ],
      "metadata": {
        "id": "Ijtb68_A6sKi"
      }
    },
    {
      "cell_type": "code",
      "source": [
        "get_clf_eval(y_test, w_preds, w_pred_proba)"
      ],
      "metadata": {
        "colab": {
          "base_uri": "https://localhost:8080/"
        },
        "id": "aF4gho4M6yxh",
        "outputId": "d8dbc5d9-2e1d-489a-b7a1-e6ec604cbec0"
      },
      "execution_count": 15,
      "outputs": [
        {
          "output_type": "stream",
          "name": "stdout",
          "text": [
            "오차 행렬\n",
            "[[35  2]\n",
            " [ 1 76]]\n",
            "정확도: 0.9737, 정밀도: 0.9744, 재현율: 0.9870,/ F1: 0.9806,AUC:0.995086\n"
          ]
        }
      ]
    },
    {
      "cell_type": "markdown",
      "source": [
        "* 조기 중단을 위해서는 조기 중단 관련한 파라미터를 fit()에 입력\n",
        "* early_stopping_rounds=100, eval_metric='logloss', eval_set=evals"
      ],
      "metadata": {
        "id": "xnBATuEn6-o4"
      }
    },
    {
      "cell_type": "code",
      "source": [
        "from xgboost import XGBClassifier\n",
        "\n",
        "xgb_wrapper = XGBClassifier(n_estimators=400, learning_rate=0.1, max_depth=3)\n",
        "evals = [(X_test,y_test)]\n",
        "xgb_wrapper.fit(X_train, y_train,early_stopping_rounds=100, eval_metric='logloss', eval_set=evals, verbose=True)\n",
        "ws100_preds = xgb_wrapper.predict(X_test)\n",
        "ws100_pred_proba=xgb_wrapper.predict_proba(X_test)[:,1]"
      ],
      "metadata": {
        "colab": {
          "base_uri": "https://localhost:8080/"
        },
        "id": "3zNBpAtj7EJV",
        "outputId": "d1d8b5c2-37d2-467f-9597-b6b28babd82c"
      },
      "execution_count": 16,
      "outputs": [
        {
          "output_type": "stream",
          "name": "stdout",
          "text": [
            "[0]\tvalidation_0-logloss:0.61352\n",
            "[1]\tvalidation_0-logloss:0.54784\n",
            "[2]\tvalidation_0-logloss:0.49425\n",
            "[3]\tvalidation_0-logloss:0.44799\n",
            "[4]\tvalidation_0-logloss:0.40911\n",
            "[5]\tvalidation_0-logloss:0.37498\n",
            "[6]\tvalidation_0-logloss:0.34571\n",
            "[7]\tvalidation_0-logloss:0.32053\n",
            "[8]\tvalidation_0-logloss:0.29721\n",
            "[9]\tvalidation_0-logloss:0.27799\n",
            "[10]\tvalidation_0-logloss:0.26030\n",
            "[11]\tvalidation_0-logloss:0.24604\n",
            "[12]\tvalidation_0-logloss:0.23156\n",
            "[13]\tvalidation_0-logloss:0.22005\n",
            "[14]\tvalidation_0-logloss:0.20857\n",
            "[15]\tvalidation_0-logloss:0.19999\n",
            "[16]\tvalidation_0-logloss:0.19012\n",
            "[17]\tvalidation_0-logloss:0.18182\n",
            "[18]\tvalidation_0-logloss:0.17473\n",
            "[19]\tvalidation_0-logloss:0.16766\n",
            "[20]\tvalidation_0-logloss:0.15820\n",
            "[21]\tvalidation_0-logloss:0.15472\n",
            "[22]\tvalidation_0-logloss:0.14895\n",
            "[23]\tvalidation_0-logloss:0.14331\n",
            "[24]\tvalidation_0-logloss:0.13634\n",
            "[25]\tvalidation_0-logloss:0.13278\n",
            "[26]\tvalidation_0-logloss:0.12791\n",
            "[27]\tvalidation_0-logloss:0.12526\n",
            "[28]\tvalidation_0-logloss:0.11998\n",
            "[29]\tvalidation_0-logloss:0.11641\n",
            "[30]\tvalidation_0-logloss:0.11450\n",
            "[31]\tvalidation_0-logloss:0.11257\n",
            "[32]\tvalidation_0-logloss:0.11154\n",
            "[33]\tvalidation_0-logloss:0.10868\n",
            "[34]\tvalidation_0-logloss:0.10668\n",
            "[35]\tvalidation_0-logloss:0.10421\n",
            "[36]\tvalidation_0-logloss:0.10296\n",
            "[37]\tvalidation_0-logloss:0.10058\n",
            "[38]\tvalidation_0-logloss:0.09868\n",
            "[39]\tvalidation_0-logloss:0.09644\n",
            "[40]\tvalidation_0-logloss:0.09587\n",
            "[41]\tvalidation_0-logloss:0.09424\n",
            "[42]\tvalidation_0-logloss:0.09471\n",
            "[43]\tvalidation_0-logloss:0.09427\n",
            "[44]\tvalidation_0-logloss:0.09389\n",
            "[45]\tvalidation_0-logloss:0.09418\n",
            "[46]\tvalidation_0-logloss:0.09402\n",
            "[47]\tvalidation_0-logloss:0.09236\n",
            "[48]\tvalidation_0-logloss:0.09301\n",
            "[49]\tvalidation_0-logloss:0.09127\n",
            "[50]\tvalidation_0-logloss:0.09005\n",
            "[51]\tvalidation_0-logloss:0.08961\n",
            "[52]\tvalidation_0-logloss:0.08958\n",
            "[53]\tvalidation_0-logloss:0.09070\n",
            "[54]\tvalidation_0-logloss:0.08958\n",
            "[55]\tvalidation_0-logloss:0.09036\n",
            "[56]\tvalidation_0-logloss:0.09159\n",
            "[57]\tvalidation_0-logloss:0.09153\n",
            "[58]\tvalidation_0-logloss:0.09199\n",
            "[59]\tvalidation_0-logloss:0.09195\n",
            "[60]\tvalidation_0-logloss:0.09194\n",
            "[61]\tvalidation_0-logloss:0.09146\n",
            "[62]\tvalidation_0-logloss:0.09031\n",
            "[63]\tvalidation_0-logloss:0.08941\n",
            "[64]\tvalidation_0-logloss:0.08972\n",
            "[65]\tvalidation_0-logloss:0.08974\n",
            "[66]\tvalidation_0-logloss:0.08962\n",
            "[67]\tvalidation_0-logloss:0.08873\n",
            "[68]\tvalidation_0-logloss:0.08862\n",
            "[69]\tvalidation_0-logloss:0.08974\n",
            "[70]\tvalidation_0-logloss:0.08998\n",
            "[71]\tvalidation_0-logloss:0.08978\n",
            "[72]\tvalidation_0-logloss:0.08958\n",
            "[73]\tvalidation_0-logloss:0.08953\n",
            "[74]\tvalidation_0-logloss:0.08875\n",
            "[75]\tvalidation_0-logloss:0.08860\n",
            "[76]\tvalidation_0-logloss:0.08812\n",
            "[77]\tvalidation_0-logloss:0.08840\n",
            "[78]\tvalidation_0-logloss:0.08874\n",
            "[79]\tvalidation_0-logloss:0.08815\n",
            "[80]\tvalidation_0-logloss:0.08758\n",
            "[81]\tvalidation_0-logloss:0.08741\n",
            "[82]\tvalidation_0-logloss:0.08849\n",
            "[83]\tvalidation_0-logloss:0.08857\n",
            "[84]\tvalidation_0-logloss:0.08807\n",
            "[85]\tvalidation_0-logloss:0.08764\n",
            "[86]\tvalidation_0-logloss:0.08742\n",
            "[87]\tvalidation_0-logloss:0.08761\n",
            "[88]\tvalidation_0-logloss:0.08707\n",
            "[89]\tvalidation_0-logloss:0.08727\n",
            "[90]\tvalidation_0-logloss:0.08716\n",
            "[91]\tvalidation_0-logloss:0.08696\n",
            "[92]\tvalidation_0-logloss:0.08717\n",
            "[93]\tvalidation_0-logloss:0.08707\n",
            "[94]\tvalidation_0-logloss:0.08659\n",
            "[95]\tvalidation_0-logloss:0.08612\n",
            "[96]\tvalidation_0-logloss:0.08714\n",
            "[97]\tvalidation_0-logloss:0.08677\n",
            "[98]\tvalidation_0-logloss:0.08669\n",
            "[99]\tvalidation_0-logloss:0.08655\n",
            "[100]\tvalidation_0-logloss:0.08650\n",
            "[101]\tvalidation_0-logloss:0.08641\n",
            "[102]\tvalidation_0-logloss:0.08629\n",
            "[103]\tvalidation_0-logloss:0.08626\n",
            "[104]\tvalidation_0-logloss:0.08683\n",
            "[105]\tvalidation_0-logloss:0.08677\n",
            "[106]\tvalidation_0-logloss:0.08732\n",
            "[107]\tvalidation_0-logloss:0.08730\n",
            "[108]\tvalidation_0-logloss:0.08728\n",
            "[109]\tvalidation_0-logloss:0.08730\n",
            "[110]\tvalidation_0-logloss:0.08729\n",
            "[111]\tvalidation_0-logloss:0.08800\n",
            "[112]\tvalidation_0-logloss:0.08794\n",
            "[113]\tvalidation_0-logloss:0.08784\n",
            "[114]\tvalidation_0-logloss:0.08807\n",
            "[115]\tvalidation_0-logloss:0.08765\n",
            "[116]\tvalidation_0-logloss:0.08730\n",
            "[117]\tvalidation_0-logloss:0.08780\n",
            "[118]\tvalidation_0-logloss:0.08775\n",
            "[119]\tvalidation_0-logloss:0.08768\n",
            "[120]\tvalidation_0-logloss:0.08763\n",
            "[121]\tvalidation_0-logloss:0.08757\n",
            "[122]\tvalidation_0-logloss:0.08755\n",
            "[123]\tvalidation_0-logloss:0.08716\n",
            "[124]\tvalidation_0-logloss:0.08767\n",
            "[125]\tvalidation_0-logloss:0.08774\n",
            "[126]\tvalidation_0-logloss:0.08827\n",
            "[127]\tvalidation_0-logloss:0.08831\n",
            "[128]\tvalidation_0-logloss:0.08827\n",
            "[129]\tvalidation_0-logloss:0.08789\n",
            "[130]\tvalidation_0-logloss:0.08886\n",
            "[131]\tvalidation_0-logloss:0.08868\n",
            "[132]\tvalidation_0-logloss:0.08874\n",
            "[133]\tvalidation_0-logloss:0.08922\n",
            "[134]\tvalidation_0-logloss:0.08918\n",
            "[135]\tvalidation_0-logloss:0.08882\n",
            "[136]\tvalidation_0-logloss:0.08851\n",
            "[137]\tvalidation_0-logloss:0.08848\n",
            "[138]\tvalidation_0-logloss:0.08839\n",
            "[139]\tvalidation_0-logloss:0.08915\n",
            "[140]\tvalidation_0-logloss:0.08911\n",
            "[141]\tvalidation_0-logloss:0.08876\n",
            "[142]\tvalidation_0-logloss:0.08868\n",
            "[143]\tvalidation_0-logloss:0.08839\n",
            "[144]\tvalidation_0-logloss:0.08927\n",
            "[145]\tvalidation_0-logloss:0.08924\n",
            "[146]\tvalidation_0-logloss:0.08914\n",
            "[147]\tvalidation_0-logloss:0.08891\n",
            "[148]\tvalidation_0-logloss:0.08942\n",
            "[149]\tvalidation_0-logloss:0.08939\n",
            "[150]\tvalidation_0-logloss:0.08911\n",
            "[151]\tvalidation_0-logloss:0.08873\n",
            "[152]\tvalidation_0-logloss:0.08872\n",
            "[153]\tvalidation_0-logloss:0.08848\n",
            "[154]\tvalidation_0-logloss:0.08847\n",
            "[155]\tvalidation_0-logloss:0.08855\n",
            "[156]\tvalidation_0-logloss:0.08852\n",
            "[157]\tvalidation_0-logloss:0.08855\n",
            "[158]\tvalidation_0-logloss:0.08827\n",
            "[159]\tvalidation_0-logloss:0.08830\n",
            "[160]\tvalidation_0-logloss:0.08828\n",
            "[161]\tvalidation_0-logloss:0.08801\n",
            "[162]\tvalidation_0-logloss:0.08776\n",
            "[163]\tvalidation_0-logloss:0.08778\n",
            "[164]\tvalidation_0-logloss:0.08778\n",
            "[165]\tvalidation_0-logloss:0.08752\n",
            "[166]\tvalidation_0-logloss:0.08754\n",
            "[167]\tvalidation_0-logloss:0.08764\n",
            "[168]\tvalidation_0-logloss:0.08739\n",
            "[169]\tvalidation_0-logloss:0.08738\n",
            "[170]\tvalidation_0-logloss:0.08730\n",
            "[171]\tvalidation_0-logloss:0.08737\n",
            "[172]\tvalidation_0-logloss:0.08740\n",
            "[173]\tvalidation_0-logloss:0.08739\n",
            "[174]\tvalidation_0-logloss:0.08713\n",
            "[175]\tvalidation_0-logloss:0.08716\n",
            "[176]\tvalidation_0-logloss:0.08695\n",
            "[177]\tvalidation_0-logloss:0.08705\n",
            "[178]\tvalidation_0-logloss:0.08697\n",
            "[179]\tvalidation_0-logloss:0.08697\n",
            "[180]\tvalidation_0-logloss:0.08704\n",
            "[181]\tvalidation_0-logloss:0.08680\n",
            "[182]\tvalidation_0-logloss:0.08683\n",
            "[183]\tvalidation_0-logloss:0.08658\n",
            "[184]\tvalidation_0-logloss:0.08659\n",
            "[185]\tvalidation_0-logloss:0.08661\n",
            "[186]\tvalidation_0-logloss:0.08637\n",
            "[187]\tvalidation_0-logloss:0.08637\n",
            "[188]\tvalidation_0-logloss:0.08630\n",
            "[189]\tvalidation_0-logloss:0.08610\n",
            "[190]\tvalidation_0-logloss:0.08602\n",
            "[191]\tvalidation_0-logloss:0.08605\n",
            "[192]\tvalidation_0-logloss:0.08615\n",
            "[193]\tvalidation_0-logloss:0.08592\n",
            "[194]\tvalidation_0-logloss:0.08591\n",
            "[195]\tvalidation_0-logloss:0.08598\n",
            "[196]\tvalidation_0-logloss:0.08601\n",
            "[197]\tvalidation_0-logloss:0.08592\n",
            "[198]\tvalidation_0-logloss:0.08585\n",
            "[199]\tvalidation_0-logloss:0.08587\n",
            "[200]\tvalidation_0-logloss:0.08589\n",
            "[201]\tvalidation_0-logloss:0.08595\n",
            "[202]\tvalidation_0-logloss:0.08573\n",
            "[203]\tvalidation_0-logloss:0.08573\n",
            "[204]\tvalidation_0-logloss:0.08575\n",
            "[205]\tvalidation_0-logloss:0.08582\n",
            "[206]\tvalidation_0-logloss:0.08584\n",
            "[207]\tvalidation_0-logloss:0.08578\n",
            "[208]\tvalidation_0-logloss:0.08569\n",
            "[209]\tvalidation_0-logloss:0.08571\n",
            "[210]\tvalidation_0-logloss:0.08581\n",
            "[211]\tvalidation_0-logloss:0.08559\n",
            "[212]\tvalidation_0-logloss:0.08580\n",
            "[213]\tvalidation_0-logloss:0.08581\n",
            "[214]\tvalidation_0-logloss:0.08574\n",
            "[215]\tvalidation_0-logloss:0.08566\n",
            "[216]\tvalidation_0-logloss:0.08584\n",
            "[217]\tvalidation_0-logloss:0.08563\n",
            "[218]\tvalidation_0-logloss:0.08573\n",
            "[219]\tvalidation_0-logloss:0.08578\n",
            "[220]\tvalidation_0-logloss:0.08579\n",
            "[221]\tvalidation_0-logloss:0.08582\n",
            "[222]\tvalidation_0-logloss:0.08576\n",
            "[223]\tvalidation_0-logloss:0.08567\n",
            "[224]\tvalidation_0-logloss:0.08586\n",
            "[225]\tvalidation_0-logloss:0.08587\n",
            "[226]\tvalidation_0-logloss:0.08593\n",
            "[227]\tvalidation_0-logloss:0.08595\n",
            "[228]\tvalidation_0-logloss:0.08587\n",
            "[229]\tvalidation_0-logloss:0.08606\n",
            "[230]\tvalidation_0-logloss:0.08600\n",
            "[231]\tvalidation_0-logloss:0.08592\n",
            "[232]\tvalidation_0-logloss:0.08610\n",
            "[233]\tvalidation_0-logloss:0.08611\n",
            "[234]\tvalidation_0-logloss:0.08617\n",
            "[235]\tvalidation_0-logloss:0.08626\n",
            "[236]\tvalidation_0-logloss:0.08629\n",
            "[237]\tvalidation_0-logloss:0.08622\n",
            "[238]\tvalidation_0-logloss:0.08639\n",
            "[239]\tvalidation_0-logloss:0.08634\n",
            "[240]\tvalidation_0-logloss:0.08618\n",
            "[241]\tvalidation_0-logloss:0.08620\n",
            "[242]\tvalidation_0-logloss:0.08625\n",
            "[243]\tvalidation_0-logloss:0.08626\n",
            "[244]\tvalidation_0-logloss:0.08629\n",
            "[245]\tvalidation_0-logloss:0.08622\n",
            "[246]\tvalidation_0-logloss:0.08640\n",
            "[247]\tvalidation_0-logloss:0.08635\n",
            "[248]\tvalidation_0-logloss:0.08628\n",
            "[249]\tvalidation_0-logloss:0.08645\n",
            "[250]\tvalidation_0-logloss:0.08629\n",
            "[251]\tvalidation_0-logloss:0.08631\n",
            "[252]\tvalidation_0-logloss:0.08636\n",
            "[253]\tvalidation_0-logloss:0.08639\n",
            "[254]\tvalidation_0-logloss:0.08649\n",
            "[255]\tvalidation_0-logloss:0.08644\n",
            "[256]\tvalidation_0-logloss:0.08629\n",
            "[257]\tvalidation_0-logloss:0.08646\n",
            "[258]\tvalidation_0-logloss:0.08639\n",
            "[259]\tvalidation_0-logloss:0.08644\n",
            "[260]\tvalidation_0-logloss:0.08646\n",
            "[261]\tvalidation_0-logloss:0.08649\n",
            "[262]\tvalidation_0-logloss:0.08645\n",
            "[263]\tvalidation_0-logloss:0.08647\n",
            "[264]\tvalidation_0-logloss:0.08632\n",
            "[265]\tvalidation_0-logloss:0.08649\n",
            "[266]\tvalidation_0-logloss:0.08654\n",
            "[267]\tvalidation_0-logloss:0.08647\n",
            "[268]\tvalidation_0-logloss:0.08650\n",
            "[269]\tvalidation_0-logloss:0.08652\n",
            "[270]\tvalidation_0-logloss:0.08669\n",
            "[271]\tvalidation_0-logloss:0.08674\n",
            "[272]\tvalidation_0-logloss:0.08683\n",
            "[273]\tvalidation_0-logloss:0.08668\n",
            "[274]\tvalidation_0-logloss:0.08664\n",
            "[275]\tvalidation_0-logloss:0.08650\n",
            "[276]\tvalidation_0-logloss:0.08635\n",
            "[277]\tvalidation_0-logloss:0.08652\n",
            "[278]\tvalidation_0-logloss:0.08657\n",
            "[279]\tvalidation_0-logloss:0.08659\n",
            "[280]\tvalidation_0-logloss:0.08668\n",
            "[281]\tvalidation_0-logloss:0.08664\n",
            "[282]\tvalidation_0-logloss:0.08650\n",
            "[283]\tvalidation_0-logloss:0.08636\n",
            "[284]\tvalidation_0-logloss:0.08640\n",
            "[285]\tvalidation_0-logloss:0.08643\n",
            "[286]\tvalidation_0-logloss:0.08646\n",
            "[287]\tvalidation_0-logloss:0.08650\n",
            "[288]\tvalidation_0-logloss:0.08637\n",
            "[289]\tvalidation_0-logloss:0.08646\n",
            "[290]\tvalidation_0-logloss:0.08645\n",
            "[291]\tvalidation_0-logloss:0.08632\n",
            "[292]\tvalidation_0-logloss:0.08628\n",
            "[293]\tvalidation_0-logloss:0.08615\n",
            "[294]\tvalidation_0-logloss:0.08620\n",
            "[295]\tvalidation_0-logloss:0.08622\n",
            "[296]\tvalidation_0-logloss:0.08631\n",
            "[297]\tvalidation_0-logloss:0.08618\n",
            "[298]\tvalidation_0-logloss:0.08626\n",
            "[299]\tvalidation_0-logloss:0.08613\n",
            "[300]\tvalidation_0-logloss:0.08618\n",
            "[301]\tvalidation_0-logloss:0.08605\n",
            "[302]\tvalidation_0-logloss:0.08602\n",
            "[303]\tvalidation_0-logloss:0.08610\n",
            "[304]\tvalidation_0-logloss:0.08598\n",
            "[305]\tvalidation_0-logloss:0.08606\n",
            "[306]\tvalidation_0-logloss:0.08597\n",
            "[307]\tvalidation_0-logloss:0.08600\n",
            "[308]\tvalidation_0-logloss:0.08600\n",
            "[309]\tvalidation_0-logloss:0.08588\n",
            "[310]\tvalidation_0-logloss:0.08592\n",
            "[311]\tvalidation_0-logloss:0.08595\n"
          ]
        }
      ]
    },
    {
      "cell_type": "markdown",
      "source": [
        "-> 결과: n_estimators=400이지만 311번 반복 후 학습 완료 (100번 반복 동안 성능 평가 지수가 향상되지 않았기 때문)"
      ],
      "metadata": {
        "id": "48LkqiyL8iLR"
      }
    },
    {
      "cell_type": "code",
      "source": [
        "get_clf_eval(y_test, ws100_preds,ws100_pred_proba)"
      ],
      "metadata": {
        "colab": {
          "base_uri": "https://localhost:8080/"
        },
        "id": "7h6Hf7KL8vXQ",
        "outputId": "a86fe989-a5b5-4449-f311-4411291fd2b0"
      },
      "execution_count": 17,
      "outputs": [
        {
          "output_type": "stream",
          "name": "stdout",
          "text": [
            "오차 행렬\n",
            "[[34  3]\n",
            " [ 1 76]]\n",
            "정확도: 0.9649, 정밀도: 0.9620, 재현율: 0.9870,/ F1: 0.9744,AUC:0.995437\n"
          ]
        }
      ]
    },
    {
      "cell_type": "markdown",
      "source": [
        "-> 조기 중단한 모델과 그렇지 않은 모델 성능이 거의 비슷함\n",
        ">\n",
        "-> but 너무 조기 중단값을 급격하게 줄이면 성능 저하 위험"
      ],
      "metadata": {
        "id": "Pv8kUiO780wr"
      }
    },
    {
      "cell_type": "code",
      "source": [
        "# early_stopping_rounds를 10으로 설정하고 재학습\n",
        "xgb_wrapper.fit(X_train, y_train, early_stopping_rounds=10, eval_metric='logloss',eval_set=evals,verbose=True)\n",
        "\n",
        "ws10_preds = xgb_wrapper.predict(X_test)\n",
        "ws10_pred_proba=xgb_wrapper.predict_proba(X_test)[:,1]\n",
        "get_clf_eval(y_test, ws10_preds, ws10_pred_proba)"
      ],
      "metadata": {
        "colab": {
          "base_uri": "https://localhost:8080/"
        },
        "id": "ECOqeEPu9MuL",
        "outputId": "a4ea7bec-ce40-4883-9483-5a24c2786fb7"
      },
      "execution_count": 18,
      "outputs": [
        {
          "output_type": "stream",
          "name": "stdout",
          "text": [
            "[0]\tvalidation_0-logloss:0.61352\n",
            "[1]\tvalidation_0-logloss:0.54784\n",
            "[2]\tvalidation_0-logloss:0.49425\n",
            "[3]\tvalidation_0-logloss:0.44799\n",
            "[4]\tvalidation_0-logloss:0.40911\n",
            "[5]\tvalidation_0-logloss:0.37498\n",
            "[6]\tvalidation_0-logloss:0.34571\n",
            "[7]\tvalidation_0-logloss:0.32053\n",
            "[8]\tvalidation_0-logloss:0.29721\n",
            "[9]\tvalidation_0-logloss:0.27799\n",
            "[10]\tvalidation_0-logloss:0.26030\n",
            "[11]\tvalidation_0-logloss:0.24604\n",
            "[12]\tvalidation_0-logloss:0.23156\n",
            "[13]\tvalidation_0-logloss:0.22005\n",
            "[14]\tvalidation_0-logloss:0.20857\n",
            "[15]\tvalidation_0-logloss:0.19999\n",
            "[16]\tvalidation_0-logloss:0.19012\n",
            "[17]\tvalidation_0-logloss:0.18182\n",
            "[18]\tvalidation_0-logloss:0.17473\n",
            "[19]\tvalidation_0-logloss:0.16766\n",
            "[20]\tvalidation_0-logloss:0.15820\n",
            "[21]\tvalidation_0-logloss:0.15472\n",
            "[22]\tvalidation_0-logloss:0.14895\n",
            "[23]\tvalidation_0-logloss:0.14331\n",
            "[24]\tvalidation_0-logloss:0.13634\n",
            "[25]\tvalidation_0-logloss:0.13278\n",
            "[26]\tvalidation_0-logloss:0.12791\n",
            "[27]\tvalidation_0-logloss:0.12526\n",
            "[28]\tvalidation_0-logloss:0.11998\n",
            "[29]\tvalidation_0-logloss:0.11641\n",
            "[30]\tvalidation_0-logloss:0.11450\n",
            "[31]\tvalidation_0-logloss:0.11257\n",
            "[32]\tvalidation_0-logloss:0.11154\n",
            "[33]\tvalidation_0-logloss:0.10868\n",
            "[34]\tvalidation_0-logloss:0.10668\n",
            "[35]\tvalidation_0-logloss:0.10421\n",
            "[36]\tvalidation_0-logloss:0.10296\n",
            "[37]\tvalidation_0-logloss:0.10058\n",
            "[38]\tvalidation_0-logloss:0.09868\n",
            "[39]\tvalidation_0-logloss:0.09644\n",
            "[40]\tvalidation_0-logloss:0.09587\n",
            "[41]\tvalidation_0-logloss:0.09424\n",
            "[42]\tvalidation_0-logloss:0.09471\n",
            "[43]\tvalidation_0-logloss:0.09427\n",
            "[44]\tvalidation_0-logloss:0.09389\n",
            "[45]\tvalidation_0-logloss:0.09418\n",
            "[46]\tvalidation_0-logloss:0.09402\n",
            "[47]\tvalidation_0-logloss:0.09236\n",
            "[48]\tvalidation_0-logloss:0.09301\n",
            "[49]\tvalidation_0-logloss:0.09127\n",
            "[50]\tvalidation_0-logloss:0.09005\n",
            "[51]\tvalidation_0-logloss:0.08961\n",
            "[52]\tvalidation_0-logloss:0.08958\n",
            "[53]\tvalidation_0-logloss:0.09070\n",
            "[54]\tvalidation_0-logloss:0.08958\n",
            "[55]\tvalidation_0-logloss:0.09036\n",
            "[56]\tvalidation_0-logloss:0.09159\n",
            "[57]\tvalidation_0-logloss:0.09153\n",
            "[58]\tvalidation_0-logloss:0.09199\n",
            "[59]\tvalidation_0-logloss:0.09195\n",
            "[60]\tvalidation_0-logloss:0.09194\n",
            "[61]\tvalidation_0-logloss:0.09146\n",
            "오차 행렬\n",
            "[[34  3]\n",
            " [ 2 75]]\n",
            "정확도: 0.9561, 정밀도: 0.9615, 재현율: 0.9740,/ F1: 0.9677,AUC:0.994735\n"
          ]
        }
      ]
    },
    {
      "cell_type": "markdown",
      "source": [
        "* 피처의 중요도를 시각화하는 모듈인 plot_importance()에 사이킷런 래퍼 클래스를 입력해도 파이썬 래퍼의 경우와 같게 시각화 결과를 도출해 줌."
      ],
      "metadata": {
        "id": "EKoOE_s998bc"
      }
    },
    {
      "cell_type": "code",
      "source": [
        "from xgboost import plot_importance\n",
        "import matplotlib.pyplot as plt\n",
        "%matplotlib inline\n",
        "\n",
        "fig, ax = plt.subplots(figsize=(10,12))\n",
        "\n",
        "# 사이킷런 Wrapper 클래스를 입력해도 무방.\n",
        "plot_importance(xgb_wrapper, ax=ax)"
      ],
      "metadata": {
        "colab": {
          "base_uri": "https://localhost:8080/",
          "height": 1000
        },
        "id": "Rif4fWUq-ID7",
        "outputId": "60fadf60-a9ea-4c14-f9ac-525e5895068b"
      },
      "execution_count": 19,
      "outputs": [
        {
          "output_type": "execute_result",
          "data": {
            "text/plain": [
              "<Axes: title={'center': 'Feature importance'}, xlabel='F score', ylabel='Features'>"
            ]
          },
          "metadata": {},
          "execution_count": 19
        },
        {
          "output_type": "display_data",
          "data": {
            "text/plain": [
              "<Figure size 1000x1200 with 1 Axes>"
            ],
            "image/png": "[encoded data removed]"
          },
          "metadata": {}
        }
      ]
    },
    {
      "cell_type": "markdown",
      "source": [
        "# 07 LightGBM"
      ],
      "metadata": {
        "id": "DsHBgTCB-hYb"
      }
    },
    {
      "cell_type": "markdown",
      "source": [
        "* XGBoost는 뛰어난 부스팅 알고리즘이지만 하이퍼 파라미터 튜닝을 수행하다 보면 수행시간이 너무 오래 걸려 많은 파라미터 튜닝에 어려움이 있음.\n",
        "* LightGBM의 큰 장점은 학습에 걸리는 시간이 훨씬 적고, 메모리 사용량도 상대적으로 적음. + 예측 성능은 XGBoost와 유사\n",
        "* LightGBM은 일반 GBM 계열의 트리 분할 방법(균형 트리 분할)과 다르게 리프 중심 트리 분할 사용 -> 트리의 균형을 맞추지 않고 최대 손실 값을 가지는 리프 노드를 지속적으로 분할하면서 트리의 깊이가 깊어지고 비대칭적인 규칙 트리 생성"
      ],
      "metadata": {
        "id": "w3dwC070-lGz"
      }
    },
    {
      "cell_type": "markdown",
      "source": [
        "**LightGBM 하이퍼 파라미터**"
      ],
      "metadata": {
        "id": "yzaL1Xx4AAVd"
      }
    },
    {
      "cell_type": "markdown",
      "source": [
        "* num_iterations(반복하려는 트리의 개수), learning_rate, max_depth, min_data_in_leaf, num_leaves(하나의 트리가 가질 수 있는 최대 리프 개수)"
      ],
      "metadata": {
        "id": "RwdcNVjOAgBN"
      }
    },
    {
      "cell_type": "markdown",
      "source": [
        "**하이퍼 파라미터 튜닝 방안**"
      ],
      "metadata": {
        "id": "XsXADa8gAyLN"
      }
    },
    {
      "cell_type": "markdown",
      "source": [
        "* num_leaves의 개수를 중심으로 min_child_samples, max_depth를 함께 조작하면서 모델의 복잡도를 줄이는 것이 기본 튜닝 방안"
      ],
      "metadata": {
        "id": "1YEW5Ap2A0g-"
      }
    },
    {
      "cell_type": "markdown",
      "source": [
        "LightGBM 적용 - 위스콘신 유방암 예측"
      ],
      "metadata": {
        "id": "y-ibdH5LBbcE"
      }
    },
    {
      "cell_type": "code",
      "source": [
        "from lightgbm import LGBMClassifier\n",
        "\n",
        "import pandas as pd\n",
        "import numpy as np\n",
        "from sklearn.datasets import load_breast_cancer\n",
        "from sklearn.model_selection import train_test_split\n",
        "\n",
        "dataset = load_breast_cancer()\n",
        "ftr=dataset.data\n",
        "target=dataset.target\n",
        "\n",
        "# 전체 데이터 중 80%는 학습용 데이터, 20%는 테스트용 데이터 추출\n",
        "X_train, X_test, y_train, y_test = train_test_split(ftr,target, test_size=0.2,random_state=156)\n",
        "\n",
        "# 앞서 XGBoost와 동일하게 n_estimators는 400 설정\n",
        "lgbm_wrapper = LGBMClassifier(n_estimators=400)\n",
        "\n",
        "# LightGBM도 XGBoost와 동일하게 조기 중단 수행 가능\n",
        "evals = [(X_test,y_test)]\n",
        "lgbm_wrapper.fit(X_train, y_train,early_stopping_rounds=100, eval_metric='logloss', eval_set=evals, verbose=True)\n",
        "preds = lgbm_wrapper.predict(X_test)\n",
        "pred_proba=lgbm_wrapper.predict_proba(X_test)[:,1]"
      ],
      "metadata": {
        "colab": {
          "base_uri": "https://localhost:8080/"
        },
        "id": "E_4hB_ef_7lw",
        "outputId": "4e9ac729-459d-418e-c688-c14f9f2dae5b"
      },
      "execution_count": 20,
      "outputs": [
        {
          "output_type": "stream",
          "name": "stdout",
          "text": [
            "[1]\tvalid_0's binary_logloss: 0.565079\n",
            "[2]\tvalid_0's binary_logloss: 0.507451\n",
            "[3]\tvalid_0's binary_logloss: 0.458489\n",
            "[4]\tvalid_0's binary_logloss: 0.417481\n",
            "[5]\tvalid_0's binary_logloss: 0.385507\n",
            "[6]\tvalid_0's binary_logloss: 0.355773\n",
            "[7]\tvalid_0's binary_logloss: 0.329587\n",
            "[8]\tvalid_0's binary_logloss: 0.308478\n",
            "[9]\tvalid_0's binary_logloss: 0.285395\n",
            "[10]\tvalid_0's binary_logloss: 0.267055\n",
            "[11]\tvalid_0's binary_logloss: 0.252013\n",
            "[12]\tvalid_0's binary_logloss: 0.237018\n",
            "[13]\tvalid_0's binary_logloss: 0.224756\n",
            "[14]\tvalid_0's binary_logloss: 0.213383\n",
            "[15]\tvalid_0's binary_logloss: 0.203058\n",
            "[16]\tvalid_0's binary_logloss: 0.194015\n",
            "[17]\tvalid_0's binary_logloss: 0.186412\n",
            "[18]\tvalid_0's binary_logloss: 0.179108\n",
            "[19]\tvalid_0's binary_logloss: 0.174004\n",
            "[20]\tvalid_0's binary_logloss: 0.167155\n",
            "[21]\tvalid_0's binary_logloss: 0.162494\n",
            "[22]\tvalid_0's binary_logloss: 0.156886\n",
            "[23]\tvalid_0's binary_logloss: 0.152855\n",
            "[24]\tvalid_0's binary_logloss: 0.151113\n",
            "[25]\tvalid_0's binary_logloss: 0.148395\n",
            "[26]\tvalid_0's binary_logloss: 0.145869\n",
            "[27]\tvalid_0's binary_logloss: 0.143036\n",
            "[28]\tvalid_0's binary_logloss: 0.14033\n",
            "[29]\tvalid_0's binary_logloss: 0.139609\n",
            "[30]\tvalid_0's binary_logloss: 0.136109\n",
            "[31]\tvalid_0's binary_logloss: 0.134867\n",
            "[32]\tvalid_0's binary_logloss: 0.134729\n",
            "[33]\tvalid_0's binary_logloss: 0.1311\n",
            "[34]\tvalid_0's binary_logloss: 0.131143\n",
            "[35]\tvalid_0's binary_logloss: 0.129435\n",
            "[36]\tvalid_0's binary_logloss: 0.128474\n",
            "[37]\tvalid_0's binary_logloss: 0.126683\n",
            "[38]\tvalid_0's binary_logloss: 0.126112\n",
            "[39]\tvalid_0's binary_logloss: 0.122831\n",
            "[40]\tvalid_0's binary_logloss: 0.123162\n",
            "[41]\tvalid_0's binary_logloss: 0.125592\n",
            "[42]\tvalid_0's binary_logloss: 0.128293\n",
            "[43]\tvalid_0's binary_logloss: 0.128123\n",
            "[44]\tvalid_0's binary_logloss: 0.12789\n",
            "[45]\tvalid_0's binary_logloss: 0.122818\n",
            "[46]\tvalid_0's binary_logloss: 0.12496\n",
            "[47]\tvalid_0's binary_logloss: 0.125578\n",
            "[48]\tvalid_0's binary_logloss: 0.127381\n",
            "[49]\tvalid_0's binary_logloss: 0.128349\n",
            "[50]\tvalid_0's binary_logloss: 0.127004\n",
            "[51]\tvalid_0's binary_logloss: 0.130288\n",
            "[52]\tvalid_0's binary_logloss: 0.131362\n",
            "[53]\tvalid_0's binary_logloss: 0.133363\n",
            "[54]\tvalid_0's binary_logloss: 0.1332\n",
            "[55]\tvalid_0's binary_logloss: 0.134543\n",
            "[56]\tvalid_0's binary_logloss: 0.130803\n",
            "[57]\tvalid_0's binary_logloss: 0.130306\n",
            "[58]\tvalid_0's binary_logloss: 0.132514\n",
            "[59]\tvalid_0's binary_logloss: 0.133278\n",
            "[60]\tvalid_0's binary_logloss: 0.134804\n",
            "[61]\tvalid_0's binary_logloss: 0.136888\n",
            "[62]\tvalid_0's binary_logloss: 0.138745\n",
            "[63]\tvalid_0's binary_logloss: 0.140497\n",
            "[64]\tvalid_0's binary_logloss: 0.141368\n",
            "[65]\tvalid_0's binary_logloss: 0.140764\n",
            "[66]\tvalid_0's binary_logloss: 0.14348\n",
            "[67]\tvalid_0's binary_logloss: 0.143418\n",
            "[68]\tvalid_0's binary_logloss: 0.143682\n",
            "[69]\tvalid_0's binary_logloss: 0.145076\n",
            "[70]\tvalid_0's binary_logloss: 0.14686\n",
            "[71]\tvalid_0's binary_logloss: 0.148051\n",
            "[72]\tvalid_0's binary_logloss: 0.147664\n",
            "[73]\tvalid_0's binary_logloss: 0.149478\n",
            "[74]\tvalid_0's binary_logloss: 0.14708\n",
            "[75]\tvalid_0's binary_logloss: 0.14545\n",
            "[76]\tvalid_0's binary_logloss: 0.148767\n",
            "[77]\tvalid_0's binary_logloss: 0.149959\n",
            "[78]\tvalid_0's binary_logloss: 0.146083\n",
            "[79]\tvalid_0's binary_logloss: 0.14638\n",
            "[80]\tvalid_0's binary_logloss: 0.148461\n",
            "[81]\tvalid_0's binary_logloss: 0.15091\n",
            "[82]\tvalid_0's binary_logloss: 0.153011\n",
            "[83]\tvalid_0's binary_logloss: 0.154807\n",
            "[84]\tvalid_0's binary_logloss: 0.156501\n",
            "[85]\tvalid_0's binary_logloss: 0.158586\n",
            "[86]\tvalid_0's binary_logloss: 0.159819\n",
            "[87]\tvalid_0's binary_logloss: 0.161745\n",
            "[88]\tvalid_0's binary_logloss: 0.162829\n",
            "[89]\tvalid_0's binary_logloss: 0.159142\n",
            "[90]\tvalid_0's binary_logloss: 0.156765\n",
            "[91]\tvalid_0's binary_logloss: 0.158625\n",
            "[92]\tvalid_0's binary_logloss: 0.156832\n",
            "[93]\tvalid_0's binary_logloss: 0.154616\n",
            "[94]\tvalid_0's binary_logloss: 0.154263\n",
            "[95]\tvalid_0's binary_logloss: 0.157156\n",
            "[96]\tvalid_0's binary_logloss: 0.158617\n",
            "[97]\tvalid_0's binary_logloss: 0.157495\n",
            "[98]\tvalid_0's binary_logloss: 0.159413\n",
            "[99]\tvalid_0's binary_logloss: 0.15847\n",
            "[100]\tvalid_0's binary_logloss: 0.160746\n",
            "[101]\tvalid_0's binary_logloss: 0.16217\n",
            "[102]\tvalid_0's binary_logloss: 0.165293\n",
            "[103]\tvalid_0's binary_logloss: 0.164749\n",
            "[104]\tvalid_0's binary_logloss: 0.167097\n",
            "[105]\tvalid_0's binary_logloss: 0.167697\n",
            "[106]\tvalid_0's binary_logloss: 0.169462\n",
            "[107]\tvalid_0's binary_logloss: 0.169947\n",
            "[108]\tvalid_0's binary_logloss: 0.171\n",
            "[109]\tvalid_0's binary_logloss: 0.16907\n",
            "[110]\tvalid_0's binary_logloss: 0.169521\n",
            "[111]\tvalid_0's binary_logloss: 0.167719\n",
            "[112]\tvalid_0's binary_logloss: 0.166648\n",
            "[113]\tvalid_0's binary_logloss: 0.169053\n",
            "[114]\tvalid_0's binary_logloss: 0.169613\n",
            "[115]\tvalid_0's binary_logloss: 0.170059\n",
            "[116]\tvalid_0's binary_logloss: 0.1723\n",
            "[117]\tvalid_0's binary_logloss: 0.174733\n",
            "[118]\tvalid_0's binary_logloss: 0.173526\n",
            "[119]\tvalid_0's binary_logloss: 0.1751\n",
            "[120]\tvalid_0's binary_logloss: 0.178254\n",
            "[121]\tvalid_0's binary_logloss: 0.182968\n",
            "[122]\tvalid_0's binary_logloss: 0.179017\n",
            "[123]\tvalid_0's binary_logloss: 0.178326\n",
            "[124]\tvalid_0's binary_logloss: 0.177149\n",
            "[125]\tvalid_0's binary_logloss: 0.179171\n",
            "[126]\tvalid_0's binary_logloss: 0.180948\n",
            "[127]\tvalid_0's binary_logloss: 0.183861\n",
            "[128]\tvalid_0's binary_logloss: 0.187579\n",
            "[129]\tvalid_0's binary_logloss: 0.188122\n",
            "[130]\tvalid_0's binary_logloss: 0.1857\n",
            "[131]\tvalid_0's binary_logloss: 0.187442\n",
            "[132]\tvalid_0's binary_logloss: 0.188578\n",
            "[133]\tvalid_0's binary_logloss: 0.189729\n",
            "[134]\tvalid_0's binary_logloss: 0.187313\n",
            "[135]\tvalid_0's binary_logloss: 0.189279\n",
            "[136]\tvalid_0's binary_logloss: 0.191068\n",
            "[137]\tvalid_0's binary_logloss: 0.192414\n",
            "[138]\tvalid_0's binary_logloss: 0.191255\n",
            "[139]\tvalid_0's binary_logloss: 0.193453\n",
            "[140]\tvalid_0's binary_logloss: 0.196969\n",
            "[141]\tvalid_0's binary_logloss: 0.196378\n",
            "[142]\tvalid_0's binary_logloss: 0.196367\n",
            "[143]\tvalid_0's binary_logloss: 0.19869\n",
            "[144]\tvalid_0's binary_logloss: 0.200352\n",
            "[145]\tvalid_0's binary_logloss: 0.19712\n"
          ]
        }
      ]
    },
    {
      "cell_type": "code",
      "source": [
        "get_clf_eval(y_test,preds,pred_proba)"
      ],
      "metadata": {
        "colab": {
          "base_uri": "https://localhost:8080/"
        },
        "id": "7J5A8HlaEJRT",
        "outputId": "539627e8-9508-4bbf-bf0b-750c2111bd2e"
      },
      "execution_count": 21,
      "outputs": [
        {
          "output_type": "stream",
          "name": "stdout",
          "text": [
            "오차 행렬\n",
            "[[33  4]\n",
            " [ 1 76]]\n",
            "정확도: 0.9561, 정밀도: 0.9500, 재현율: 0.9870,/ F1: 0.9682,AUC:0.990523\n"
          ]
        }
      ]
    },
    {
      "cell_type": "markdown",
      "source": [
        "-> 결과: 조기 중단으로 145번 반복 수행 후 학습 종료, 정확도 :약 95.61%"
      ],
      "metadata": {
        "id": "bgZUJLn-EQ2E"
      }
    },
    {
      "cell_type": "markdown",
      "source": [
        "* plot_importance() 이용해 피처 중요도 시각화"
      ],
      "metadata": {
        "id": "QHo5WUxlEhHm"
      }
    },
    {
      "cell_type": "code",
      "source": [
        "# plot_importance()를 이용해 피처 중요도 시각화\n",
        "from lightgbm import plot_importance\n",
        "import matplotlib.pyplot as plt\n",
        "%matplotlib inline\n",
        "\n",
        "fig,ax = plt.subplots(figsize=(10,12))\n",
        "plot_importance(lgbm_wrapper,ax=ax)"
      ],
      "metadata": {
        "colab": {
          "base_uri": "https://localhost:8080/",
          "height": 1000
        },
        "id": "vPb_NYNiEm3J",
        "outputId": "11b7c9ef-3108-42d5-dd23-b8cd9ec23c42"
      },
      "execution_count": 22,
      "outputs": [
        {
          "output_type": "execute_result",
          "data": {
            "text/plain": [
              "<Axes: title={'center': 'Feature importance'}, xlabel='Feature importance', ylabel='Features'>"
            ]
          },
          "metadata": {},
          "execution_count": 22
        },
        {
          "output_type": "display_data",
          "data": {
            "text/plain": [
              "<Figure size 1000x1200 with 1 Axes>"
            ],
            "image/png": "[encoded data removed]"
          },
          "metadata": {}
        }
      ]
    },
    {
      "cell_type": "markdown",
      "source": [
        "# 10 스태킹 앙상블"
      ],
      "metadata": {
        "id": "bXlcZ4bUFNTw"
      }
    },
    {
      "cell_type": "markdown",
      "source": [
        "* 개별적인 여러 알고리즘을 서로 결합해 예측 결과를 도출한다는 것은 배깅, 부스팅과 공통점\n",
        "* but 개별 알고리즘의 예측 결과 데이터 세트를 최종적 메타 데이터 세트로 만들어 별도의 ML 알고리즘으로 최종 학습을 수행하고 테스트 데이터를 기반으로 다시 최종 예측을 수행한다는 점이 차이\n",
        "* 두 종류의 모델이 필요 -> 개별적 기반 모델, 기반 모델의 예측 데이터를 학습 데이터로 만들어서 학습하는 최종 메타 모델"
      ],
      "metadata": {
        "id": "VuhUN5v2utGM"
      }
    },
    {
      "cell_type": "markdown",
      "source": [
        "**기본 스태킹 모델**"
      ],
      "metadata": {
        "id": "5J6FzhRRzHBP"
      }
    },
    {
      "cell_type": "code",
      "source": [
        "import numpy as np\n",
        "\n",
        "from sklearn.neighbors import KNeighborsClassifier\n",
        "from sklearn.ensemble import RandomForestClassifier\n",
        "from sklearn.ensemble import AdaBoostClassifier\n",
        "from sklearn.tree import DecisionTreeClassifier\n",
        "from sklearn.linear_model import LogisticRegression\n",
        "\n",
        "from sklearn.datasets import load_breast_cancer\n",
        "from sklearn.model_selection import train_test_split\n",
        "from sklearn.metrics import accuracy_score\n",
        "\n",
        "cancer_data = load_breast_cancer()\n",
        "\n",
        "X_data= cancer_data.data\n",
        "y_label= cancer_data.target \n",
        "\n",
        "X_train, X_test, y_train, y_test = train_test_split(X_data, y_label, test_size=0.2, random_state=0)"
      ],
      "metadata": {
        "id": "I4XpNaGxzJBn"
      },
      "execution_count": 23,
      "outputs": []
    },
    {
      "cell_type": "code",
      "source": [
        "# 개별 ML 모델 생성\n",
        "knn_clf = KNeighborsClassifier(n_neighbors=4)\n",
        "rf_clf = RandomForestClassifier(n_estimators=100, random_state=0)\n",
        "dt_clf = DecisionTreeClassifier()\n",
        "ada_clf = AdaBoostClassifier(n_estimators=100)\n",
        "\n",
        "# 스태킹으로 만들어진 데이터 세트를 학습, 예측할 최종 모델\n",
        "lr_final = LogisticRegression(C=10)"
      ],
      "metadata": {
        "id": "iF42rVCn0H6L"
      },
      "execution_count": 24,
      "outputs": []
    },
    {
      "cell_type": "code",
      "source": [
        "# 개별 모델들을 학습.\n",
        "knn_clf.fit(X_train, y_train)\n",
        "rf_clf.fit(X_train, y_train)\n",
        "dt_clf.fit(X_train, y_train)\n",
        "ada_clf.fit(X_train, y_train)"
      ],
      "metadata": {
        "colab": {
          "base_uri": "https://localhost:8080/",
          "height": 74
        },
        "id": "D9MA1-Sy1gU3",
        "outputId": "d8ecbd32-6b19-4a85-eceb-77840c64497c"
      },
      "execution_count": 25,
      "outputs": [
        {
          "output_type": "execute_result",
          "data": {
            "text/plain": [
              "AdaBoostClassifier(n_estimators=100)"
            ],
            "text/html": [
              "<style>#sk-container-id-1 {color: black;background-color: white;}#sk-container-id-1 pre{padding: 0;}#sk-container-id-1 div.sk-toggleable {background-color: white;}#sk-container-id-1 label.sk-toggleable__label {cursor: pointer;display: block;width: 100%;margin-bottom: 0;padding: 0.3em;box-sizing: border-box;text-align: center;}#sk-container-id-1 label.sk-toggleable__label-arrow:before {content: \"▸\";float: left;margin-right: 0.25em;color: #696969;}#sk-container-id-1 label.sk-toggleable__label-arrow:hover:before {color: black;}#sk-container-id-1 div.sk-estimator:hover label.sk-toggleable__label-arrow:before {color: black;}#sk-container-id-1 div.sk-toggleable__content {max-height: 0;max-width: 0;overflow: hidden;text-align: left;background-color: #f0f8ff;}#sk-container-id-1 div.sk-toggleable__content pre {margin: 0.2em;color: black;border-radius: 0.25em;background-color: #f0f8ff;}#sk-container-id-1 input.sk-toggleable__control:checked~div.sk-toggleable__content {max-height: 200px;max-width: 100%;overflow: auto;}#sk-container-id-1 input.sk-toggleable__control:checked~label.sk-toggleable__label-arrow:before {content: \"▾\";}#sk-container-id-1 div.sk-estimator input.sk-toggleable__control:checked~label.sk-toggleable__label {background-color: #d4ebff;}#sk-container-id-1 div.sk-label input.sk-toggleable__control:checked~label.sk-toggleable__label {background-color: #d4ebff;}#sk-container-id-1 input.sk-hidden--visually {border: 0;clip: rect(1px 1px 1px 1px);clip: rect(1px, 1px, 1px, 1px);height: 1px;margin: -1px;overflow: hidden;padding: 0;position: absolute;width: 1px;}#sk-container-id-1 div.sk-estimator {font-family: monospace;background-color: #f0f8ff;border: 1px dotted black;border-radius: 0.25em;box-sizing: border-box;margin-bottom: 0.5em;}#sk-container-id-1 div.sk-estimator:hover {background-color: #d4ebff;}#sk-container-id-1 div.sk-parallel-item::after {content: \"\";width: 100%;border-bottom: 1px solid gray;flex-grow: 1;}#sk-container-id-1 div.sk-label:hover label.sk-toggleable__label {background-color: #d4ebff;}#sk-container-id-1 div.sk-serial::before {content: \"\";position: absolute;border-left: 1px solid gray;box-sizing: border-box;top: 0;bottom: 0;left: 50%;z-index: 0;}#sk-container-id-1 div.sk-serial {display: flex;flex-direction: column;align-items: center;background-color: white;padding-right: 0.2em;padding-left: 0.2em;position: relative;}#sk-container-id-1 div.sk-item {position: relative;z-index: 1;}#sk-container-id-1 div.sk-parallel {display: flex;align-items: stretch;justify-content: center;background-color: white;position: relative;}#sk-container-id-1 div.sk-item::before, #sk-container-id-1 div.sk-parallel-item::before {content: \"\";position: absolute;border-left: 1px solid gray;box-sizing: border-box;top: 0;bottom: 0;left: 50%;z-index: -1;}#sk-container-id-1 div.sk-parallel-item {display: flex;flex-direction: column;z-index: 1;position: relative;background-color: white;}#sk-container-id-1 div.sk-parallel-item:first-child::after {align-self: flex-end;width: 50%;}#sk-container-id-1 div.sk-parallel-item:last-child::after {align-self: flex-start;width: 50%;}#sk-container-id-1 div.sk-parallel-item:only-child::after {width: 0;}#sk-container-id-1 div.sk-dashed-wrapped {border: 1px dashed gray;margin: 0 0.4em 0.5em 0.4em;box-sizing: border-box;padding-bottom: 0.4em;background-color: white;}#sk-container-id-1 div.sk-label label {font-family: monospace;font-weight: bold;display: inline-block;line-height: 1.2em;}#sk-container-id-1 div.sk-label-container {text-align: center;}#sk-container-id-1 div.sk-container {/* jupyter's `normalize.less` sets `[hidden] { display: none; }` but bootstrap.min.css set `[hidden] { display: none !important; }` so we also need the `!important` here to be able to override the default hidden behavior on the sphinx rendered scikit-learn.org. See: https://github.com/scikit-learn/scikit-learn/issues/21755 */display: inline-block !important;position: relative;}#sk-container-id-1 div.sk-text-repr-fallback {display: none;}</style><div id=\"sk-container-id-1\" class=\"sk-top-container\"><div class=\"sk-text-repr-fallback\"><pre>AdaBoostClassifier(n_estimators=100)</pre><b>In a Jupyter environment, please rerun this cell to show the HTML representation or trust the notebook. <br />On GitHub, the HTML representation is unable to render, please try loading this page with nbviewer.org.</b></div><div class=\"sk-container\" hidden><div class=\"sk-item\"><div class=\"sk-estimator sk-toggleable\"><input class=\"sk-toggleable__control sk-hidden--visually\" id=\"sk-estimator-id-1\" type=\"checkbox\" checked><label for=\"sk-estimator-id-1\" class=\"sk-toggleable__label sk-toggleable__label-arrow\">AdaBoostClassifier</label><div class=\"sk-toggleable__content\"><pre>AdaBoostClassifier(n_estimators=100)</pre></div></div></div></div></div>"
            ]
          },
          "metadata": {},
          "execution_count": 25
        }
      ]
    },
    {
      "cell_type": "code",
      "source": [
        "# 학습된 개별 모델들이 각자 반환하는 예측 데이터 세트를 생성하고 개별 모델의 정확도 측정\n",
        "knn_pred=knn_clf.predict(X_test)\n",
        "rf_pred=rf_clf.predict(X_test)\n",
        "dt_pred=dt_clf.predict(X_test)\n",
        "ada_pred=ada_clf.predict(X_test)\n",
        "\n",
        "print('KNN 정확도: {0:.4f}'.format(accuracy_score(y_test, knn_pred)))\n",
        "print('랜덤포레스트 정확도: {0:.4f}'.format(accuracy_score(y_test, rf_pred)))\n",
        "print('결정 트리 정확도: {0:.4f}'.format(accuracy_score(y_test, dt_pred)))\n",
        "print('에이다부스트 정확도: {0:.4f}'.format(accuracy_score(y_test, ada_pred)))"
      ],
      "metadata": {
        "colab": {
          "base_uri": "https://localhost:8080/"
        },
        "id": "ISS0u0Km1qz4",
        "outputId": "1fd0d080-956d-4cc8-c7f4-e9cb95108c49"
      },
      "execution_count": 26,
      "outputs": [
        {
          "output_type": "stream",
          "name": "stdout",
          "text": [
            "KNN 정확도: 0.9211\n",
            "랜덤포레스트 정확도: 0.9649\n",
            "결정 트리 정확도: 0.9123\n",
            "에이다부스트 정확도: 0.9561\n"
          ]
        }
      ]
    },
    {
      "cell_type": "markdown",
      "source": [
        "* 개별 알고리즘으로부터 예측된 예측 값을 칼럼 레벨로 옆으로 붙여서 피처 값으로 만들어 최종 메타 모델인 로지스틱 회귀에서 학습 데이터로 다시 사용\n",
        "* 반환된 예측 데이터 세트는 1차원 ndarray이므로 행 -> 열로 변환"
      ],
      "metadata": {
        "id": "iEnMT4nH2jQP"
      }
    },
    {
      "cell_type": "code",
      "source": [
        "pred = np.array([knn_pred,rf_pred,dt_pred,ada_pred])\n",
        "print(pred.shape)\n",
        "\n",
        "# transpose를 이용해 행과 열의 위치 교환. 칼럼 레벨로 각 알고리즘의 예측 결과를 피처로 만듦.\n",
        "pred = np.transpose(pred)\n",
        "print(pred.shape)"
      ],
      "metadata": {
        "colab": {
          "base_uri": "https://localhost:8080/"
        },
        "id": "_4hVuA9T2rZr",
        "outputId": "4b594406-9d6e-4f10-8f5c-7d6efd3afb01"
      },
      "execution_count": 27,
      "outputs": [
        {
          "output_type": "stream",
          "name": "stdout",
          "text": [
            "(4, 114)\n",
            "(114, 4)\n"
          ]
        }
      ]
    },
    {
      "cell_type": "markdown",
      "source": [
        "* 최종 메타 모델인 로지스틱 회귀를 학습하고 예측 정확도 측정,"
      ],
      "metadata": {
        "id": "Uu5fH6xW3LLI"
      }
    },
    {
      "cell_type": "code",
      "source": [
        "lr_final.fit(pred,y_test)\n",
        "final = lr_final.predict(pred)\n",
        "\n",
        "print('최종 메타 모델의 예측 정확도: {0:.4f}'.format(accuracy_score(y_test, final)))"
      ],
      "metadata": {
        "colab": {
          "base_uri": "https://localhost:8080/"
        },
        "id": "p4qq5feh3glo",
        "outputId": "35b6bc93-294b-436b-a737-424ab1581c73"
      },
      "execution_count": 28,
      "outputs": [
        {
          "output_type": "stream",
          "name": "stdout",
          "text": [
            "최종 메타 모델의 예측 정확도: 0.9737\n"
          ]
        }
      ]
    },
    {
      "cell_type": "markdown",
      "source": [
        "-> 결과: 개별 모델 정확도보다 향상됨"
      ],
      "metadata": {
        "id": "2AKgTaQD4BPL"
      }
    },
    {
      "cell_type": "markdown",
      "source": [
        "**CV 세트 기반의 스태킹**"
      ],
      "metadata": {
        "id": "Q0rH2kis4FdD"
      }
    },
    {
      "cell_type": "markdown",
      "source": [
        "* 앞 예제에서 마지막에 메타 모델인 로지스틱 회귀 모델 기반에서 최종 학습 시 레이블 데이터 세트로 테스트용 데이터 세트를 기반으로 학습했기에 과적합 문제 발생 가능\n",
        "* CV 세트 기반 스태킹은 이에 대한 개선을 위해 개별 모델들이 각각 교차 검증으로 학습용, 테스트용 스태킹 데이터를 생성한 후 이를 기반으로 학습과 예측 수행\n",
        ">\n",
        "1) 학습 세트를 검증 폴드 1개와 나머지 학습 폴드로 나눈 후 모델을 학습시키고 검증 폴드를 이용해 예측 결괏값을 구함(최종 학습 데이터), 테스트 세트를 이전에 학습 폴드로 학습시킨 모델을 이용해 테스트 데이터로 예측한 결괏값을 구함(최종 테스트 데이터).\n",
        ">\n",
        "2) 위에서 생성한 최종 학습 데이터와 원본 레이블 데이터를 합쳐서 메타 모델을 학습한 후에 최종 테스트 데이터로 예측 수행"
      ],
      "metadata": {
        "id": "ViegqZIY4IBt"
      }
    },
    {
      "cell_type": "markdown",
      "source": [
        "* 1단계 구현, get_stacking_base_datasets() 함수를 생성함."
      ],
      "metadata": {
        "id": "aNjDrxl8j6P6"
      }
    },
    {
      "cell_type": "code",
      "source": [
        "from sklearn.model_selection import KFold\n",
        "from sklearn.metrics import mean_absolute_error\n",
        "\n",
        "# 개별 기반 모델에서 최종 메타 모델이 사용할 학습 및 테스트용 데이터를 생성하기 위한 함수\n",
        "def get_stacking_base_datasets(model, X_train_n, y_train_n, X_test_n, n_folds):\n",
        "  # 지정된 n_folds값으로 KFold 생성.\n",
        "  kf = KFold(n_splits=n_folds, shuffle=True, random_state=0)\n",
        "  # 추후에 메타 모델이 사용할 학습 데이터 반환을 위한 넘파이 배열 초기화\n",
        "  train_fold_pred = np.zeros((X_train_n.shape[0],1))\n",
        "  test_pred = np.zeros((X_test_n.shape[0],n_folds))\n",
        "  print(model.__class__.__name__,'model 시작')\n",
        "\n",
        "  for folder_counter, (train_index, valid_index) in enumerate(kf.split(X_train_n)):\n",
        "    # 입력된 학습 데이터에서 기반 모델이 학습/예측할 폴드 데이터 세트 추출\n",
        "    print('\\t 폴드 세트:', folder_counter, '시작')\n",
        "    X_tr=X_train_n[train_index]\n",
        "    y_tr=y_train_n[train_index]\n",
        "    X_te=X_train_n[valid_index]\n",
        "\n",
        "    # 폴드 세트 내부에서 다시 만들어진 학습 데이터로 기반 모델의 학습 수행.\n",
        "    model.fit(X_tr, y_tr)\n",
        "    # 폴드 세트 내부에서 다시 만들어진 검증 데이터로 기반 모델 예측 후 데이터 저장.\n",
        "    train_fold_pred[valid_index,:] = model.predict(X_te).reshape(-1,1)\n",
        "    # 입력된 원본 테스트 데이터를 폴드 세트내 학습된 기반 모델에서 예측 후 데이터 저장.\n",
        "    test_pred[:,folder_counter] = model.predict(X_test_n)\n",
        "\n",
        "  # 폴드 세트 내에서 원본 테스트 데이터를 예측한 데이터를 평균하여 테스트 데이터로 생성\n",
        "  test_pred_mean = np.mean(test_pred,axis=1).reshape(-1,1)\n",
        "\n",
        "  # train_fold_pred는 최종 메타 모델이 사용하는 학습 데이터, test_pred_mean은 테스트 데이터\n",
        "  return train_fold_pred, test_pred_mean"
      ],
      "metadata": {
        "id": "AXNIZwsGj0ay"
      },
      "execution_count": 29,
      "outputs": []
    },
    {
      "cell_type": "markdown",
      "source": [
        "* 여러 개의 분류 모델 별로 stack_base_model() 함수 수행"
      ],
      "metadata": {
        "id": "_J0GM5pNn8aI"
      }
    },
    {
      "cell_type": "code",
      "source": [
        "knn_train, knn_test = get_stacking_base_datasets(knn_clf, X_train,y_train,X_test,7)\n",
        "rf_train, rf_test = get_stacking_base_datasets(rf_clf, X_train,y_train,X_test,7)\n",
        "dt_train, dt_test = get_stacking_base_datasets(dt_clf, X_train,y_train,X_test,7)\n",
        "ada_train, ada_test = get_stacking_base_datasets(ada_clf, X_train,y_train,X_test,7)"
      ],
      "metadata": {
        "colab": {
          "base_uri": "https://localhost:8080/"
        },
        "id": "3ZygXhLbqCol",
        "outputId": "bb202308-539a-4686-f637-8abe010d1be2"
      },
      "execution_count": 30,
      "outputs": [
        {
          "output_type": "stream",
          "name": "stdout",
          "text": [
            "KNeighborsClassifier model 시작\n",
            "\t 폴드 세트: 0 시작\n",
            "\t 폴드 세트: 1 시작\n",
            "\t 폴드 세트: 2 시작\n",
            "\t 폴드 세트: 3 시작\n",
            "\t 폴드 세트: 4 시작\n",
            "\t 폴드 세트: 5 시작\n",
            "\t 폴드 세트: 6 시작\n",
            "RandomForestClassifier model 시작\n",
            "\t 폴드 세트: 0 시작\n",
            "\t 폴드 세트: 1 시작\n",
            "\t 폴드 세트: 2 시작\n",
            "\t 폴드 세트: 3 시작\n",
            "\t 폴드 세트: 4 시작\n",
            "\t 폴드 세트: 5 시작\n",
            "\t 폴드 세트: 6 시작\n",
            "DecisionTreeClassifier model 시작\n",
            "\t 폴드 세트: 0 시작\n",
            "\t 폴드 세트: 1 시작\n",
            "\t 폴드 세트: 2 시작\n",
            "\t 폴드 세트: 3 시작\n",
            "\t 폴드 세트: 4 시작\n",
            "\t 폴드 세트: 5 시작\n",
            "\t 폴드 세트: 6 시작\n",
            "AdaBoostClassifier model 시작\n",
            "\t 폴드 세트: 0 시작\n",
            "\t 폴드 세트: 1 시작\n",
            "\t 폴드 세트: 2 시작\n",
            "\t 폴드 세트: 3 시작\n",
            "\t 폴드 세트: 4 시작\n",
            "\t 폴드 세트: 5 시작\n",
            "\t 폴드 세트: 6 시작\n"
          ]
        }
      ]
    },
    {
      "cell_type": "markdown",
      "source": [
        "* 2단계 구현, get_stacking_base_datasets() 호출로 반환된 각 모델별 학습&테스트 데이터를 합침."
      ],
      "metadata": {
        "id": "1rGDSd-1cBiu"
      }
    },
    {
      "cell_type": "code",
      "source": [
        "Stack_final_X_train = np.concatenate((knn_train, rf_train, dt_train, ada_train),axis=1)\n",
        "Stack_final_X_test = np.concatenate((knn_test, rf_test, dt_test, ada_test),axis=1)\n",
        "print('원본 학습 피처 데이터 Shape:', X_train.shape,'원본 테스트 피처 Shape',X_test.shape)\n",
        "print('스태킹 학습 피처 데이터 Shape:', Stack_final_X_train.shape,'스태킹 테스트 피처 Shape',Stack_final_X_test.shape)"
      ],
      "metadata": {
        "colab": {
          "base_uri": "https://localhost:8080/"
        },
        "id": "mntGy_rncAMj",
        "outputId": "88d133ac-ffb3-48b4-aeb7-baa37e957cea"
      },
      "execution_count": 31,
      "outputs": [
        {
          "output_type": "stream",
          "name": "stdout",
          "text": [
            "원본 학습 피처 데이터 Shape: (455, 30) 원본 테스트 피처 Shape (114, 30)\n",
            "스태킹 학습 피처 데이터 Shape: (455, 4) 스태킹 테스트 피처 Shape (114, 4)\n"
          ]
        }
      ]
    },
    {
      "cell_type": "markdown",
      "source": [
        "-> 결과: 로우 크기는 서로 같고, 4개의 개별 모델 예측값을 합친 것이므로 칼럼은 4개"
      ],
      "metadata": {
        "id": "4mijGqv9dAQ_"
      }
    },
    {
      "cell_type": "markdown",
      "source": [
        "* 로지스틱회귀를 스태킹 된 학습용 피처 데이터 세트와 원본 학습 레이블 데이터로 학습한 후에 스태킹 된 테스트 데이터 세트로 예측, 결과를 원본 테스트 레이블 데이터와 비교"
      ],
      "metadata": {
        "id": "4MhsUfwPdHXl"
      }
    },
    {
      "cell_type": "code",
      "source": [
        "lr_final.fit(Stack_final_X_train,y_train)\n",
        "stack_final = lr_final.predict(Stack_final_X_test)\n",
        "\n",
        "print('최종 메타 모델의 예측 정확도: {0:.4f}'.format(accuracy_score(y_test, stack_final           )))"
      ],
      "metadata": {
        "colab": {
          "base_uri": "https://localhost:8080/"
        },
        "id": "a8j_KENWc8qs",
        "outputId": "d1bc2419-1b44-41b2-e0f7-93de1afbb73e"
      },
      "execution_count": 32,
      "outputs": [
        {
          "output_type": "stream",
          "name": "stdout",
          "text": [
            "최종 메타 모델의 예측 정확도: 0.9737\n"
          ]
        }
      ]
    }
  ]
}