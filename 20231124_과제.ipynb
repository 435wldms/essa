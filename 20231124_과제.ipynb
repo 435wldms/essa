{
  "nbformat": 4,
  "nbformat_minor": 0,
  "metadata": {
    "colab": {
      "provenance": [],
      "authorship_tag": "ABX9TyNIIQw6l3W47Qe1KUp5z0cw",
      "include_colab_link": true
    },
    "kernelspec": {
      "name": "python3",
      "display_name": "Python 3"
    },
    "language_info": {
      "name": "python"
    }
  },
  "cells": [
    {
      "cell_type": "markdown",
      "metadata": {
        "id": "view-in-github",
        "colab_type": "text"
      },
      "source": [
        "<a href=\"https://colab.research.google.com/github/435wldms/essa/blob/main/20231124_%EA%B3%BC%EC%A0%9C.ipynb\" target=\"_parent\"><img src=\"https://colab.research.google.com/assets/colab-badge.svg\" alt=\"Open In Colab\"/></a>"
      ]
    },
    {
      "cell_type": "markdown",
      "source": [
        "# 04 모델 세부 설정"
      ],
      "metadata": {
        "id": "Gn5V_e_chid7"
      }
    },
    {
      "cell_type": "code",
      "execution_count": 1,
      "metadata": {
        "colab": {
          "base_uri": "https://localhost:8080/"
        },
        "id": "O7iQucY1O_2c",
        "outputId": "f060aeec-c6c7-4f99-b9e5-fdeb7badebab"
      },
      "outputs": [
        {
          "output_type": "stream",
          "name": "stdout",
          "text": [
            "Downloading data from https://storage.googleapis.com/tensorflow/tf-keras-datasets/mnist.npz\n",
            "11490434/11490434 [==============================] - 1s 0us/step\n",
            "train set : (60000, 28, 28) (60000,)\n",
            "test set : (10000, 28, 28) (10000,)\n"
          ]
        }
      ],
      "source": [
        "# mnist data를 데이터 정규화까지 진행\n",
        "import tensorflow as tf\n",
        "\n",
        "# 케라스의 내장 데이터셋에서 mnist 데이터셋 로드\n",
        "mnist = tf.keras.datasets.mnist\n",
        "\n",
        "# load_data()로 데이터셋 로드\n",
        "(x_train, y_train),(x_test,y_test) = mnist.load_data()\n",
        "\n",
        "# 로드된 데이터셋 확인\n",
        "print('train set :', x_train.shape, y_train.shape)\n",
        "print('test set :', x_test.shape, y_test.shape)\n",
        "\n",
        "# 데이터 정규화\n",
        "x_train = x_train / x_train.max()\n",
        "x_test = x_test / x_test.max()"
      ]
    },
    {
      "cell_type": "markdown",
      "source": [
        "**4-1 초기값 설정**\n",
        "* 기본 초기화 방법: glorot uniform 초기화\n"
      ],
      "metadata": {
        "id": "WzPXd8bVia5B"
      }
    },
    {
      "cell_type": "code",
      "source": [
        "dense = tf.keras.layers.Dense(256, activation='relu')\n",
        "dense.get_config()['kernel_initializer']"
      ],
      "metadata": {
        "colab": {
          "base_uri": "https://localhost:8080/"
        },
        "id": "38HzCMZ8jPox",
        "outputId": "15a22306-202c-4822-f7c7-7228ec9020e5"
      },
      "execution_count": 2,
      "outputs": [
        {
          "output_type": "execute_result",
          "data": {
            "text/plain": [
              "{'module': 'keras.initializers',\n",
              " 'class_name': 'GlorotUniform',\n",
              " 'config': {'seed': None},\n",
              " 'registered_name': None}"
            ]
          },
          "metadata": {},
          "execution_count": 2
        }
      ]
    },
    {
      "cell_type": "markdown",
      "source": [
        "* 기본 초기화 방법을 HeNormal로 변경하기 위해서 kernel_initializer 매개변수에 설정"
      ],
      "metadata": {
        "id": "14m01xA2kaFm"
      }
    },
    {
      "cell_type": "code",
      "source": [
        "# 문자열 초기화\n",
        "dense = tf.keras.layers.Dense(256, kernel_initializer='he_normal', activation='relu')\n",
        "print(dense.get_config()['kernel_initializer'])\n",
        "\n",
        "# 클래스 인스턴스 초기화\n",
        "he_normal = tf.keras.initializers.HeNormal()\n",
        "dense = tf.keras.layers.Dense(256, kernel_initializer=he_normal, activation='relu')\n",
        "print(dense.get_config()['kernel_initializer'])"
      ],
      "metadata": {
        "colab": {
          "base_uri": "https://localhost:8080/"
        },
        "id": "XJCo620KkhJA",
        "outputId": "ad9e49e9-752c-4904-a140-8194b3ec9bf9"
      },
      "execution_count": 3,
      "outputs": [
        {
          "output_type": "stream",
          "name": "stdout",
          "text": [
            "{'module': 'keras.initializers', 'class_name': 'HeNormal', 'config': {'seed': None}, 'registered_name': None}\n",
            "{'module': 'keras.initializers', 'class_name': 'HeNormal', 'config': {'seed': None}, 'registered_name': None}\n"
          ]
        }
      ]
    },
    {
      "cell_type": "markdown",
      "source": [
        "**4-2 규제**\n",
        "* 모델의 과대적합 해소를 위해서 L1,L2 규제 적용 가능 (기본값 = 규제X)"
      ],
      "metadata": {
        "id": "7F2BZzKolTWO"
      }
    },
    {
      "cell_type": "code",
      "source": [
        "# 기본값\n",
        "dense = tf.keras.layers.Dense(256,activation='relu')\n",
        "dense.get_config()"
      ],
      "metadata": {
        "colab": {
          "base_uri": "https://localhost:8080/"
        },
        "id": "6EFgVY3qle9y",
        "outputId": "23ad71a1-35a8-4028-8e0b-b7254f6d352a"
      },
      "execution_count": 4,
      "outputs": [
        {
          "output_type": "execute_result",
          "data": {
            "text/plain": [
              "{'name': 'dense_3',\n",
              " 'trainable': True,\n",
              " 'dtype': 'float32',\n",
              " 'units': 256,\n",
              " 'activation': 'relu',\n",
              " 'use_bias': True,\n",
              " 'kernel_initializer': {'module': 'keras.initializers',\n",
              "  'class_name': 'GlorotUniform',\n",
              "  'config': {'seed': None},\n",
              "  'registered_name': None},\n",
              " 'bias_initializer': {'module': 'keras.initializers',\n",
              "  'class_name': 'Zeros',\n",
              "  'config': {},\n",
              "  'registered_name': None},\n",
              " 'kernel_regularizer': None,\n",
              " 'bias_regularizer': None,\n",
              " 'activity_regularizer': None,\n",
              " 'kernel_constraint': None,\n",
              " 'bias_constraint': None}"
            ]
          },
          "metadata": {},
          "execution_count": 4
        }
      ]
    },
    {
      "cell_type": "markdown",
      "source": [
        "->  'kernel_regularizer': None이 기본이므로 변경이 필요함"
      ],
      "metadata": {
        "id": "OE-0cSHXlyTv"
      }
    },
    {
      "cell_type": "code",
      "source": [
        "# l1 규제 적용\n",
        "dense = tf.keras.layers.Dense(256,kernel_regularizer='l1',activation='relu')\n",
        "print(dense.get_config()['kernel_regularizer'])\n",
        "\n",
        "# 클래스 인스턴스 적용, alpha=0.1 변경\n",
        "regularizer = tf.keras.regularizers.l1(l1=0.1)\n",
        "dense = tf.keras.layers.Dense(256,kernel_regularizer=regularizer, activation='relu')\n",
        "print(dense.get_config()['kernel_regularizer'])"
      ],
      "metadata": {
        "colab": {
          "base_uri": "https://localhost:8080/"
        },
        "id": "5Fexoctsl2aE",
        "outputId": "f569da51-1c90-4802-cb55-e1b49a14a756"
      },
      "execution_count": 5,
      "outputs": [
        {
          "output_type": "stream",
          "name": "stdout",
          "text": [
            "{'module': 'keras.regularizers', 'class_name': 'L1', 'config': {'l1': 0.009999999776482582}, 'registered_name': None}\n",
            "{'module': 'keras.regularizers', 'class_name': 'L1', 'config': {'l1': 0.10000000149011612}, 'registered_name': None}\n"
          ]
        }
      ]
    },
    {
      "cell_type": "markdown",
      "source": [
        "**4-3 드롭아웃(Dropout)**\n",
        "* 딥러닝 모델의 가장 큰 난제인 과대적합 문제를 해결하기 위해 제안된 아이디어로, 상당히 좋은 효과를 보이는 것으로 나타남\n",
        "* 노드의 일부 신호를 임의로 삭제해 모델이 쉽게 과대적합되는 것 방지 (가중치 파라미터 개수 감소로 인해)\n",
        "* 모델 훈련 시에만 드롭아웃이 적용, 예측 시점에는 모든 노드 활용"
      ],
      "metadata": {
        "id": "7fm-CLO0me-D"
      }
    },
    {
      "cell_type": "code",
      "source": [
        "# Dropout 25% 비율 적용 (25%의 노드가 삭제)\n",
        "tf.keras.layers.Dropout(0.25)"
      ],
      "metadata": {
        "colab": {
          "base_uri": "https://localhost:8080/"
        },
        "id": "jS7U6BvRmk12",
        "outputId": "ffad1f5e-cc08-4c3e-fada-8561c598dd00"
      },
      "execution_count": 6,
      "outputs": [
        {
          "output_type": "execute_result",
          "data": {
            "text/plain": [
              "<keras.src.layers.regularization.dropout.Dropout at 0x7cd918eab520>"
            ]
          },
          "metadata": {},
          "execution_count": 6
        }
      ]
    },
    {
      "cell_type": "markdown",
      "source": [
        "**4-4 배치 정규화**\n",
        "* 각 층에서 활성화 함수를 통과하기 전 미니 배치의 스케일 정규화 - 각 층에 데이터가 전달되기 전에 스케일 조정을 하므로 더 안정적이고 큰 성능 향상이 가능함\n",
        "* 배치 정규화를 적용한 것과 아닌 것 간에 성능 비교\n"
      ],
      "metadata": {
        "id": "wojpweqsnbkS"
      }
    },
    {
      "cell_type": "code",
      "source": [
        "# Model A: Dense + ReLU\n",
        "model_a = tf.keras.Sequential([\n",
        "          tf.keras.layers.Flatten(input_shape=(28,28)),\n",
        "          tf.keras.layers.Dense(64,activation='relu'),\n",
        "          tf.keras.layers.Dense(32, activation='relu'),\n",
        "          tf.keras.layers.Dense(10, activation='softmax')\n",
        "])\n",
        "model_a.summary()"
      ],
      "metadata": {
        "colab": {
          "base_uri": "https://localhost:8080/"
        },
        "id": "wn6Nx9xVorB8",
        "outputId": "ae7adea1-e6ff-484e-e88e-35424ee1aa06"
      },
      "execution_count": 7,
      "outputs": [
        {
          "output_type": "stream",
          "name": "stdout",
          "text": [
            "Model: \"sequential\"\n",
            "_________________________________________________________________\n",
            " Layer (type)                Output Shape              Param #   \n",
            "=================================================================\n",
            " flatten (Flatten)           (None, 784)               0         \n",
            "                                                                 \n",
            " dense_6 (Dense)             (None, 64)                50240     \n",
            "                                                                 \n",
            " dense_7 (Dense)             (None, 32)                2080      \n",
            "                                                                 \n",
            " dense_8 (Dense)             (None, 10)                330       \n",
            "                                                                 \n",
            "=================================================================\n",
            "Total params: 52650 (205.66 KB)\n",
            "Trainable params: 52650 (205.66 KB)\n",
            "Non-trainable params: 0 (0.00 Byte)\n",
            "_________________________________________________________________\n"
          ]
        }
      ]
    },
    {
      "cell_type": "code",
      "source": [
        "# Model B: Dense + BatchNorm + ReLU\n",
        "model_b = tf.keras.Sequential([\n",
        "          tf.keras.layers.Flatten(input_shape=(28,28)),\n",
        "          tf.keras.layers.Dense(64),\n",
        "          # 배치 정규화 적용\n",
        "          tf.keras.layers.BatchNormalization(),\n",
        "          # 배치 정규화 후 활성화 함수 적용\n",
        "          tf.keras.layers.Activation('relu'),\n",
        "\n",
        "          tf.keras.layers.Dense(32),\n",
        "           # 배치 정규화 적용\n",
        "          tf.keras.layers.BatchNormalization(),\n",
        "          # 배치 정규화 후 활성화 함수 적용\n",
        "          tf.keras.layers.Activation('relu'),\n",
        "\n",
        "          tf.keras.layers.Dense(10, activation='softmax')\n",
        "])\n",
        "model_b.summary()"
      ],
      "metadata": {
        "colab": {
          "base_uri": "https://localhost:8080/"
        },
        "id": "QoOq2Vq0pUUt",
        "outputId": "df677ba3-e8e2-4a22-e470-ce918a2b0cba"
      },
      "execution_count": 8,
      "outputs": [
        {
          "output_type": "stream",
          "name": "stdout",
          "text": [
            "Model: \"sequential_1\"\n",
            "_________________________________________________________________\n",
            " Layer (type)                Output Shape              Param #   \n",
            "=================================================================\n",
            " flatten_1 (Flatten)         (None, 784)               0         \n",
            "                                                                 \n",
            " dense_9 (Dense)             (None, 64)                50240     \n",
            "                                                                 \n",
            " batch_normalization (Batch  (None, 64)                256       \n",
            " Normalization)                                                  \n",
            "                                                                 \n",
            " activation (Activation)     (None, 64)                0         \n",
            "                                                                 \n",
            " dense_10 (Dense)            (None, 32)                2080      \n",
            "                                                                 \n",
            " batch_normalization_1 (Bat  (None, 32)                128       \n",
            " chNormalization)                                                \n",
            "                                                                 \n",
            " activation_1 (Activation)   (None, 32)                0         \n",
            "                                                                 \n",
            " dense_11 (Dense)            (None, 10)                330       \n",
            "                                                                 \n",
            "=================================================================\n",
            "Total params: 53034 (207.16 KB)\n",
            "Trainable params: 52842 (206.41 KB)\n",
            "Non-trainable params: 192 (768.00 Byte)\n",
            "_________________________________________________________________\n"
          ]
        }
      ]
    },
    {
      "cell_type": "markdown",
      "source": [
        "-> 배치 정규화 추가로 손실이 이전 대비 더 안정적이고 빠르게 수렴함\n",
        "\n",
        "**4-5 활성화 함수**"
      ],
      "metadata": {
        "id": "AxDUkj6kqGPu"
      }
    },
    {
      "cell_type": "code",
      "source": [
        "# LeakyReLU 기본 설정\n",
        "tf.keras.layers.LeakyReLU()\n",
        "\n",
        "# LeakyReLU, alpha=0.2로 변경\n",
        "tf.keras.layers.LeakyReLU(alpha=0.2)"
      ],
      "metadata": {
        "colab": {
          "base_uri": "https://localhost:8080/"
        },
        "id": "0VgyfdtoqUam",
        "outputId": "cba8e427-44a1-4df2-f64d-f794c320227f"
      },
      "execution_count": 9,
      "outputs": [
        {
          "output_type": "execute_result",
          "data": {
            "text/plain": [
              "<keras.src.layers.activation.leaky_relu.LeakyReLU at 0x7cd918eabbb0>"
            ]
          },
          "metadata": {},
          "execution_count": 9
        }
      ]
    },
    {
      "cell_type": "code",
      "source": [
        "# Model C: Dense + BatchNorm + LeakyReLU(0.2)\n",
        "model_c = tf.keras.Sequential([\n",
        "          tf.keras.layers.Flatten(input_shape=(28,28)),\n",
        "          tf.keras.layers.Dense(64),\n",
        "          # 배치 정규화 적용\n",
        "          tf.keras.layers.BatchNormalization(),\n",
        "          # LeakyReLU(alpha=0.2) 적용\n",
        "          tf.keras.layers.LeakyReLU(alpha=0.2),\n",
        "\n",
        "          tf.keras.layers.Dense(32),\n",
        "           # 배치 정규화 적용\n",
        "          tf.keras.layers.BatchNormalization(),\n",
        "          # LeakyReLU(alpha=0.2) 적용\n",
        "          tf.keras.layers.LeakyReLU(alpha=0.2),\n",
        "\n",
        "          tf.keras.layers.Dense(10, activation='softmax')\n",
        "])\n",
        "model_c.summary()"
      ],
      "metadata": {
        "colab": {
          "base_uri": "https://localhost:8080/"
        },
        "id": "bDrW8csxqzWc",
        "outputId": "02ecaf2d-5fda-439f-9deb-33dcc4e5b470"
      },
      "execution_count": 10,
      "outputs": [
        {
          "output_type": "stream",
          "name": "stdout",
          "text": [
            "Model: \"sequential_2\"\n",
            "_________________________________________________________________\n",
            " Layer (type)                Output Shape              Param #   \n",
            "=================================================================\n",
            " flatten_2 (Flatten)         (None, 784)               0         \n",
            "                                                                 \n",
            " dense_12 (Dense)            (None, 64)                50240     \n",
            "                                                                 \n",
            " batch_normalization_2 (Bat  (None, 64)                256       \n",
            " chNormalization)                                                \n",
            "                                                                 \n",
            " leaky_re_lu_2 (LeakyReLU)   (None, 64)                0         \n",
            "                                                                 \n",
            " dense_13 (Dense)            (None, 32)                2080      \n",
            "                                                                 \n",
            " batch_normalization_3 (Bat  (None, 32)                128       \n",
            " chNormalization)                                                \n",
            "                                                                 \n",
            " leaky_re_lu_3 (LeakyReLU)   (None, 32)                0         \n",
            "                                                                 \n",
            " dense_14 (Dense)            (None, 10)                330       \n",
            "                                                                 \n",
            "=================================================================\n",
            "Total params: 53034 (207.16 KB)\n",
            "Trainable params: 52842 (206.41 KB)\n",
            "Non-trainable params: 192 (768.00 Byte)\n",
            "_________________________________________________________________\n"
          ]
        }
      ]
    },
    {
      "cell_type": "markdown",
      "source": [
        "* a,b,c 모델을 동일한 조건으로 10번의 epoch 동안 훈련한 후에 수렴 속도 확인"
      ],
      "metadata": {
        "id": "xca8nkAMqyYF"
      }
    },
    {
      "cell_type": "code",
      "source": [
        "model_a.compile(optimizer='adam',loss='sparse_categorical_crossentropy', metrics=['accuracy'])\n",
        "model_b.compile(optimizer='adam',loss='sparse_categorical_crossentropy', metrics=['accuracy'])\n",
        "model_c.compile(optimizer='adam',loss='sparse_categorical_crossentropy', metrics=['accuracy'])\n",
        "\n",
        "# Model A: Dense + ReLU\n",
        "history_a = model_a.fit(x_train, y_train, validation_data = (x_test,y_test),epochs=10)\n",
        "\n",
        "# Model B: Dense + BatchNorm + ReLU\n",
        "history_b = model_b.fit(x_train, y_train, validation_data = (x_test,y_test),epochs=10)\n",
        "\n",
        "# Model C: Dense + BatchNorm + LeakyReLU(0.2)\n",
        "history_c = model_c.fit(x_train, y_train, validation_data = (x_test,y_test),epochs=10)"
      ],
      "metadata": {
        "colab": {
          "base_uri": "https://localhost:8080/"
        },
        "id": "ySG10k0qsndU",
        "outputId": "62dc817c-ab8e-46a0-82d0-25205e84ac12"
      },
      "execution_count": 11,
      "outputs": [
        {
          "output_type": "stream",
          "name": "stdout",
          "text": [
            "Epoch 1/10\n",
            "1875/1875 [==============================] - 13s 6ms/step - loss: 0.2833 - accuracy: 0.9181 - val_loss: 0.1397 - val_accuracy: 0.9575\n",
            "Epoch 2/10\n",
            "1875/1875 [==============================] - 9s 5ms/step - loss: 0.1286 - accuracy: 0.9617 - val_loss: 0.1208 - val_accuracy: 0.9625\n",
            "Epoch 3/10\n",
            "1875/1875 [==============================] - 6s 3ms/step - loss: 0.0940 - accuracy: 0.9715 - val_loss: 0.0981 - val_accuracy: 0.9688\n",
            "Epoch 4/10\n",
            "1875/1875 [==============================] - 5s 3ms/step - loss: 0.0759 - accuracy: 0.9764 - val_loss: 0.0960 - val_accuracy: 0.9697\n",
            "Epoch 5/10\n",
            "1875/1875 [==============================] - 7s 4ms/step - loss: 0.0626 - accuracy: 0.9804 - val_loss: 0.1001 - val_accuracy: 0.9713\n",
            "Epoch 6/10\n",
            "1875/1875 [==============================] - 5s 3ms/step - loss: 0.0521 - accuracy: 0.9836 - val_loss: 0.0897 - val_accuracy: 0.9742\n",
            "Epoch 7/10\n",
            "1875/1875 [==============================] - 7s 4ms/step - loss: 0.0450 - accuracy: 0.9854 - val_loss: 0.0949 - val_accuracy: 0.9716\n",
            "Epoch 8/10\n",
            "1875/1875 [==============================] - 6s 3ms/step - loss: 0.0375 - accuracy: 0.9877 - val_loss: 0.0983 - val_accuracy: 0.9727\n",
            "Epoch 9/10\n",
            "1875/1875 [==============================] - 6s 3ms/step - loss: 0.0349 - accuracy: 0.9886 - val_loss: 0.1113 - val_accuracy: 0.9702\n",
            "Epoch 10/10\n",
            "1875/1875 [==============================] - 6s 3ms/step - loss: 0.0294 - accuracy: 0.9902 - val_loss: 0.1044 - val_accuracy: 0.9736\n",
            "Epoch 1/10\n",
            "1875/1875 [==============================] - 9s 4ms/step - loss: 0.3211 - accuracy: 0.9122 - val_loss: 0.1267 - val_accuracy: 0.9619\n",
            "Epoch 2/10\n",
            "1875/1875 [==============================] - 7s 4ms/step - loss: 0.1418 - accuracy: 0.9566 - val_loss: 0.1027 - val_accuracy: 0.9683\n",
            "Epoch 3/10\n",
            "1875/1875 [==============================] - 9s 5ms/step - loss: 0.1110 - accuracy: 0.9655 - val_loss: 0.0922 - val_accuracy: 0.9720\n",
            "Epoch 4/10\n",
            "1875/1875 [==============================] - 7s 4ms/step - loss: 0.0933 - accuracy: 0.9707 - val_loss: 0.0847 - val_accuracy: 0.9755\n",
            "Epoch 5/10\n",
            "1875/1875 [==============================] - 7s 4ms/step - loss: 0.0831 - accuracy: 0.9736 - val_loss: 0.0840 - val_accuracy: 0.9733\n",
            "Epoch 6/10\n",
            "1875/1875 [==============================] - 7s 4ms/step - loss: 0.0748 - accuracy: 0.9768 - val_loss: 0.0824 - val_accuracy: 0.9741\n",
            "Epoch 7/10\n",
            "1875/1875 [==============================] - 11s 6ms/step - loss: 0.0670 - accuracy: 0.9783 - val_loss: 0.0903 - val_accuracy: 0.9731\n",
            "Epoch 8/10\n",
            "1875/1875 [==============================] - 7s 4ms/step - loss: 0.0615 - accuracy: 0.9804 - val_loss: 0.0757 - val_accuracy: 0.9775\n",
            "Epoch 9/10\n",
            "1875/1875 [==============================] - 8s 4ms/step - loss: 0.0588 - accuracy: 0.9811 - val_loss: 0.0822 - val_accuracy: 0.9741\n",
            "Epoch 10/10\n",
            "1875/1875 [==============================] - 6s 3ms/step - loss: 0.0534 - accuracy: 0.9822 - val_loss: 0.0797 - val_accuracy: 0.9773\n",
            "Epoch 1/10\n",
            "1875/1875 [==============================] - 10s 5ms/step - loss: 0.3240 - accuracy: 0.9100 - val_loss: 0.1428 - val_accuracy: 0.9560\n",
            "Epoch 2/10\n",
            "1875/1875 [==============================] - 8s 4ms/step - loss: 0.1556 - accuracy: 0.9534 - val_loss: 0.1130 - val_accuracy: 0.9654\n",
            "Epoch 3/10\n",
            "1875/1875 [==============================] - 7s 4ms/step - loss: 0.1235 - accuracy: 0.9628 - val_loss: 0.1056 - val_accuracy: 0.9684\n",
            "Epoch 4/10\n",
            "1875/1875 [==============================] - 6s 3ms/step - loss: 0.1065 - accuracy: 0.9662 - val_loss: 0.0952 - val_accuracy: 0.9713\n",
            "Epoch 5/10\n",
            "1875/1875 [==============================] - 7s 4ms/step - loss: 0.0969 - accuracy: 0.9692 - val_loss: 0.0914 - val_accuracy: 0.9734\n",
            "Epoch 6/10\n",
            "1875/1875 [==============================] - 7s 4ms/step - loss: 0.0855 - accuracy: 0.9729 - val_loss: 0.0904 - val_accuracy: 0.9717\n",
            "Epoch 7/10\n",
            "1875/1875 [==============================] - 7s 4ms/step - loss: 0.0780 - accuracy: 0.9744 - val_loss: 0.0847 - val_accuracy: 0.9747\n",
            "Epoch 8/10\n",
            "1875/1875 [==============================] - 7s 4ms/step - loss: 0.0741 - accuracy: 0.9761 - val_loss: 0.0887 - val_accuracy: 0.9739\n",
            "Epoch 9/10\n",
            "1875/1875 [==============================] - 7s 4ms/step - loss: 0.0703 - accuracy: 0.9770 - val_loss: 0.0887 - val_accuracy: 0.9746\n",
            "Epoch 10/10\n",
            "1875/1875 [==============================] - 7s 4ms/step - loss: 0.0659 - accuracy: 0.9786 - val_loss: 0.0895 - val_accuracy: 0.9754\n"
          ]
        }
      ]
    },
    {
      "cell_type": "code",
      "source": [
        "# 시각화하여 epoch 별 검증 손실 감소 추이 확인\n",
        "import matplotlib.pyplot as plt\n",
        "import numpy as np\n",
        "\n",
        "plt.figure(figsize=(12,9))\n",
        "plt.plot(np.arange(1,11), history_a.history['val_loss'], color='navy',linestyle=':')\n",
        "plt.plot(np.arange(1,11), history_b.history['val_loss'], color='tomato',linestyle='-.')\n",
        "plt.plot(np.arange(1,11), history_c.history['val_loss'], color='green',linestyle='-')\n",
        "\n",
        "plt.title('Losses', fontsize=20)\n",
        "plt.xlabel('epochs')\n",
        "plt.ylabel('Losses')\n",
        "plt.legend(['ReLU','BatchNorm+ReLU','BatchNorm+LeakyReLU'],fontsize=12)\n",
        "plt.show()"
      ],
      "metadata": {
        "colab": {
          "base_uri": "https://localhost:8080/",
          "height": 589
        },
        "id": "sABk_RH0vu-x",
        "outputId": "c083fd73-b2b8-4c7c-b9ea-6e5bf4552d17"
      },
      "execution_count": 12,
      "outputs": [
        {
          "output_type": "display_data",
          "data": {
            "text/plain": [
              "<Figure size 1200x900 with 1 Axes>"
            ],
            "image/png": "[encoded data removed]"
          },
          "metadata": {}
        }
      ]
    },
    {
      "cell_type": "markdown",
      "source": [
        "-> 데이터 크기가 더 크면 더 뚜렷한 차이 발생"
      ],
      "metadata": {
        "id": "B86ZxPFJwu1Z"
      }
    },
    {
      "cell_type": "markdown",
      "source": [
        "# 06 모델 저장 및 불러오기"
      ],
      "metadata": {
        "id": "qECUIL8Fw5t_"
      }
    },
    {
      "cell_type": "markdown",
      "source": [
        "**6-1 모델을 파일로 저장**\n",
        "* save() 메소드를 이용해 가중치가 업데이트된 모델 인스턴스 저장\n",
        "* HDFF5는 .h5 확장자를 포함하는 경우 (대용량)"
      ],
      "metadata": {
        "id": "jw7_tbMvw8h_"
      }
    },
    {
      "cell_type": "code",
      "source": [
        "# 모델을 h5 포맷으로 저장\n",
        "model_c.save('h5-model.h5')"
      ],
      "metadata": {
        "colab": {
          "base_uri": "https://localhost:8080/"
        },
        "id": "wecnfE9QxZMq",
        "outputId": "d8a9d834-b4dc-405c-9d39-ca9443729244"
      },
      "execution_count": 13,
      "outputs": [
        {
          "output_type": "stream",
          "name": "stderr",
          "text": [
            "/usr/local/lib/python3.10/dist-packages/keras/src/engine/training.py:3079: UserWarning: You are saving your model as an HDF5 file via `model.save()`. This file format is considered legacy. We recommend using instead the native Keras format, e.g. `model.save('my_model.keras')`.\n",
            "  saving_api.save_model(\n"
          ]
        }
      ]
    },
    {
      "cell_type": "markdown",
      "source": [
        "**6-2 저장된 모델 복원**"
      ],
      "metadata": {
        "id": "PjbghrXaxlxv"
      }
    },
    {
      "cell_type": "code",
      "source": [
        "# 모델 복원\n",
        "h5_model = tf.keras.models.load_model('h5-model.h5')\n",
        "h5_model.summary()"
      ],
      "metadata": {
        "colab": {
          "base_uri": "https://localhost:8080/"
        },
        "id": "zhDUc0oBxvgE",
        "outputId": "f9d72827-8dbe-4a9c-8786-891dced99e1e"
      },
      "execution_count": 14,
      "outputs": [
        {
          "output_type": "stream",
          "name": "stdout",
          "text": [
            "Model: \"sequential_2\"\n",
            "_________________________________________________________________\n",
            " Layer (type)                Output Shape              Param #   \n",
            "=================================================================\n",
            " flatten_2 (Flatten)         (None, 784)               0         \n",
            "                                                                 \n",
            " dense_12 (Dense)            (None, 64)                50240     \n",
            "                                                                 \n",
            " batch_normalization_2 (Bat  (None, 64)                256       \n",
            " chNormalization)                                                \n",
            "                                                                 \n",
            " leaky_re_lu_2 (LeakyReLU)   (None, 64)                0         \n",
            "                                                                 \n",
            " dense_13 (Dense)            (None, 32)                2080      \n",
            "                                                                 \n",
            " batch_normalization_3 (Bat  (None, 32)                128       \n",
            " chNormalization)                                                \n",
            "                                                                 \n",
            " leaky_re_lu_3 (LeakyReLU)   (None, 32)                0         \n",
            "                                                                 \n",
            " dense_14 (Dense)            (None, 10)                330       \n",
            "                                                                 \n",
            "=================================================================\n",
            "Total params: 53034 (207.16 KB)\n",
            "Trainable params: 52842 (206.41 KB)\n",
            "Non-trainable params: 192 (768.00 Byte)\n",
            "_________________________________________________________________\n"
          ]
        }
      ]
    },
    {
      "cell_type": "markdown",
      "source": [
        "* 복원한 모델을 검증해 복원이 잘 되었는지 확인"
      ],
      "metadata": {
        "id": "WopFCPE4yBBw"
      }
    },
    {
      "cell_type": "code",
      "source": [
        "# 모델 검증\n",
        "loss, acc = h5_model.evaluate(x_test,y_test,verbose=0)\n",
        "print(f'h5 model loss: {loss:.5f}, acc:{acc:.5f}')"
      ],
      "metadata": {
        "colab": {
          "base_uri": "https://localhost:8080/"
        },
        "id": "XgTdJ4UMyE5q",
        "outputId": "e2859521-ecdb-45b3-e089-f25d9318d26f"
      },
      "execution_count": 15,
      "outputs": [
        {
          "output_type": "stream",
          "name": "stdout",
          "text": [
            "h5 model loss: 0.08953, acc:0.97540\n"
          ]
        }
      ]
    },
    {
      "cell_type": "markdown",
      "source": [
        "* h5 확장자 생략 시, savedmodel 포맷으로 저장됨 (기본으로 지원하는 파일 포맷)"
      ],
      "metadata": {
        "id": "5Y3xniETycSe"
      }
    },
    {
      "cell_type": "code",
      "source": [
        "# 모델을 SavedModel 포맷으로 저장\n",
        "model_c.save('saved-model')"
      ],
      "metadata": {
        "id": "syKwD90Synzz"
      },
      "execution_count": 16,
      "outputs": []
    },
    {
      "cell_type": "code",
      "source": [
        "# 모델 복원\n",
        "saved_model = tf.keras.models.load_model('saved-model')\n",
        "saved_model.summary()"
      ],
      "metadata": {
        "colab": {
          "base_uri": "https://localhost:8080/"
        },
        "id": "z7NS1xxByypv",
        "outputId": "d28d6abd-719b-4c58-9aa2-c68ef9d24a9e"
      },
      "execution_count": 17,
      "outputs": [
        {
          "output_type": "stream",
          "name": "stdout",
          "text": [
            "Model: \"sequential_2\"\n",
            "_________________________________________________________________\n",
            " Layer (type)                Output Shape              Param #   \n",
            "=================================================================\n",
            " flatten_2 (Flatten)         (None, 784)               0         \n",
            "                                                                 \n",
            " dense_12 (Dense)            (None, 64)                50240     \n",
            "                                                                 \n",
            " batch_normalization_2 (Bat  (None, 64)                256       \n",
            " chNormalization)                                                \n",
            "                                                                 \n",
            " leaky_re_lu_2 (LeakyReLU)   (None, 64)                0         \n",
            "                                                                 \n",
            " dense_13 (Dense)            (None, 32)                2080      \n",
            "                                                                 \n",
            " batch_normalization_3 (Bat  (None, 32)                128       \n",
            " chNormalization)                                                \n",
            "                                                                 \n",
            " leaky_re_lu_3 (LeakyReLU)   (None, 32)                0         \n",
            "                                                                 \n",
            " dense_14 (Dense)            (None, 10)                330       \n",
            "                                                                 \n",
            "=================================================================\n",
            "Total params: 53034 (207.16 KB)\n",
            "Trainable params: 52842 (206.41 KB)\n",
            "Non-trainable params: 192 (768.00 Byte)\n",
            "_________________________________________________________________\n"
          ]
        }
      ]
    },
    {
      "cell_type": "code",
      "source": [
        "# 모델 검증\n",
        "loss, acc = saved_model.evaluate(x_test,y_test,verbose=0)\n",
        "print(f'saved model loss: {loss:.5f}, acc:{acc:.5f}')"
      ],
      "metadata": {
        "colab": {
          "base_uri": "https://localhost:8080/"
        },
        "id": "od6rSuIpy6ZK",
        "outputId": "d88d3830-b98d-4ab3-a14f-297f299807d3"
      },
      "execution_count": 18,
      "outputs": [
        {
          "output_type": "stream",
          "name": "stdout",
          "text": [
            "saved model loss: 0.08953, acc:0.97540\n"
          ]
        }
      ]
    },
    {
      "cell_type": "markdown",
      "source": [
        "# 07 복잡한 모델 생성"
      ],
      "metadata": {
        "id": "6pg_XGn6zCu5"
      }
    },
    {
      "cell_type": "markdown",
      "source": [
        "**7-1 함수형 API**\n",
        "* 함수형으로 모델을 생성한다면 다중 입력, 다중 출력, 입출력 공유 등의 기능이 가능 (sequence는 단방향 모델만 가능)\n"
      ],
      "metadata": {
        "id": "gWiavbHxzFLR"
      }
    },
    {
      "cell_type": "code",
      "source": [
        "# 모델의 레이어를 체인 구조로 연결 INPUT 레이어 정의\n",
        "input_layer = tf.keras.Input(shape=(28,28), name='InputLayer')\n",
        "\n",
        "# 모델의 레이어를 체인 구조로 연결\n",
        "x1 = tf.keras.layers.Flatten(name='Flatten')(input_layer)\n",
        "x2 = tf.keras.layers.Dense(256, activation='relu',name='Dense1')(x1)\n",
        "x3 = tf.keras.layers.Dense(64, activation='relu',name='Dense2')(x2)\n",
        "x4 = tf.keras.layers.Dense(10, activation='softmax',name='OutputLayer')(x3)"
      ],
      "metadata": {
        "id": "JFJGpTMeG2WZ"
      },
      "execution_count": 19,
      "outputs": []
    },
    {
      "cell_type": "markdown",
      "source": [
        "-> name 매개변수로 레이어마다 이름 부여"
      ],
      "metadata": {
        "id": "1Ut2_7V7K2b3"
      }
    },
    {
      "cell_type": "code",
      "source": [
        "# 모델 생성\n",
        "func_model = tf.keras.Model(inputs=input_layer, outputs=x4, name='FunctionalModel')\n",
        "\n",
        "# 모델 요약\n",
        "func_model.summary()"
      ],
      "metadata": {
        "colab": {
          "base_uri": "https://localhost:8080/"
        },
        "id": "_DQ2nLlPK7Id",
        "outputId": "a8d8d5a7-a987-4146-e08d-82cc461d2279"
      },
      "execution_count": 20,
      "outputs": [
        {
          "output_type": "stream",
          "name": "stdout",
          "text": [
            "Model: \"FunctionalModel\"\n",
            "_________________________________________________________________\n",
            " Layer (type)                Output Shape              Param #   \n",
            "=================================================================\n",
            " InputLayer (InputLayer)     [(None, 28, 28)]          0         \n",
            "                                                                 \n",
            " Flatten (Flatten)           (None, 784)               0         \n",
            "                                                                 \n",
            " Dense1 (Dense)              (None, 256)               200960    \n",
            "                                                                 \n",
            " Dense2 (Dense)              (None, 64)                16448     \n",
            "                                                                 \n",
            " OutputLayer (Dense)         (None, 10)                650       \n",
            "                                                                 \n",
            "=================================================================\n",
            "Total params: 218058 (851.79 KB)\n",
            "Trainable params: 218058 (851.79 KB)\n",
            "Non-trainable params: 0 (0.00 Byte)\n",
            "_________________________________________________________________\n"
          ]
        }
      ]
    },
    {
      "cell_type": "markdown",
      "source": [
        "-> 입력층과 출력층을 지정해주어 모델 생성 (name에 지정한 이름이 summary에 출력\n",
        "* plot_model 모듈로 모델의 구조도 시각"
      ],
      "metadata": {
        "id": "dVpyeIlFLQeF"
      }
    },
    {
      "cell_type": "code",
      "source": [
        "from tensorflow.keras.utils import plot_model\n",
        "\n",
        "# 구조도 시각화\n",
        "plot_model(func_model, show_shapes=True, show_layer_names=True, to_file='model.png')"
      ],
      "metadata": {
        "colab": {
          "base_uri": "https://localhost:8080/",
          "height": 533
        },
        "id": "XwZu9oRCLeCK",
        "outputId": "5becbb4e-bce4-4e10-a088-867057806b2b"
      },
      "execution_count": 21,
      "outputs": [
        {
          "output_type": "execute_result",
          "data": {
            "image/png": "[encoded data removed]",
            "text/plain": [
              "<IPython.core.display.Image object>"
            ]
          },
          "metadata": {},
          "execution_count": 21
        }
      ]
    },
    {
      "cell_type": "markdown",
      "source": [
        "-> show_shapes = True : 입출력 shape 출력, show_layer_names = True : 레이어 이름 출력\n",
        "* 함수형 api도 sequential api와 유사하게 compile, fit, evaluate 과정"
      ],
      "metadata": {
        "id": "IuFc4_FuL3QB"
      }
    },
    {
      "cell_type": "code",
      "source": [
        "# 컴파일\n",
        "func_model.compile(optimizer='adam',loss='sparse_categorical_crossentropy', metrics=['accuracy'])\n",
        "\n",
        "# 훈련\n",
        "func_model.fit(x_train, y_train, epochs=3)\n",
        "\n",
        "# 검증\n",
        "loss,acc = func_model.evaluate(x_test,y_test, verbose=0)\n",
        "print(f'Functional Model] loss: {loss:.5f}, acc: {acc:.5f}')"
      ],
      "metadata": {
        "colab": {
          "base_uri": "https://localhost:8080/"
        },
        "id": "7mpeIHgLMu1k",
        "outputId": "0e61a351-a44a-406e-c75d-710169f514bb"
      },
      "execution_count": 22,
      "outputs": [
        {
          "output_type": "stream",
          "name": "stdout",
          "text": [
            "Epoch 1/3\n",
            "1875/1875 [==============================] - 14s 7ms/step - loss: 0.2162 - accuracy: 0.9366\n",
            "Epoch 2/3\n",
            "1875/1875 [==============================] - 10s 6ms/step - loss: 0.0877 - accuracy: 0.9725\n",
            "Epoch 3/3\n",
            "1875/1875 [==============================] - 10s 6ms/step - loss: 0.0596 - accuracy: 0.9811\n",
            "Functional Model] loss: 0.08215, acc: 0.97440\n"
          ]
        }
      ]
    },
    {
      "cell_type": "markdown",
      "source": [
        "**7-2 모델 서브클래싱**\n",
        "* model 클래스를 직접 상속받아 사용자가 직접 서브클래스로 딥러닝 모델 생성"
      ],
      "metadata": {
        "id": "e7p-dxx9NWgf"
      }
    },
    {
      "cell_type": "code",
      "source": [
        "class MyModel(tf.keras.Model):\n",
        "  def __init__(self):\n",
        "    super(MyModel,self).__init__()\n",
        "    # 초기값 설정\n",
        "    self.flatten = tf.keras.layers.Flatten()\n",
        "    self.dense1 = tf.keras.layers.Dense(256, activation='relu')\n",
        "    self.dense2 = tf.keras.layers.Dense(64, activation='relu')\n",
        "    self.dense3 = tf.keras.layers.Dense(10, activation='softmax')\n",
        "\n",
        "  # method overiding\n",
        "  # 훈련용 함수 정의\n",
        "  # x는 input\n",
        "  def call(self,x):\n",
        "    x = self.flatten(x)\n",
        "    x= self.dense1(x)\n",
        "    x= self.dense2(x)\n",
        "    x= self.dense3(x)\n",
        "    return x"
      ],
      "metadata": {
        "id": "SqdzR8SUNpb8"
      },
      "execution_count": 24,
      "outputs": []
    },
    {
      "cell_type": "code",
      "source": [
        "# 모델 생성\n",
        "mymodel = MyModel()\n",
        "\n",
        "# 모델의 이름 설정\n",
        "mymodel._name = 'subclass_model'\n",
        "\n",
        "# 모델 input 정의\n",
        "mymodel(tf.keras.layers.Input(shape=(28,28)))\n",
        "\n",
        "# 모델 요약\n",
        "mymodel.summary()"
      ],
      "metadata": {
        "colab": {
          "base_uri": "https://localhost:8080/"
        },
        "id": "RtdEMo2dOy4g",
        "outputId": "b7425cdb-cf11-4166-8cc9-ba96e81e4d6d"
      },
      "execution_count": 26,
      "outputs": [
        {
          "output_type": "stream",
          "name": "stdout",
          "text": [
            "Model: \"subclass_model\"\n",
            "_________________________________________________________________\n",
            " Layer (type)                Output Shape              Param #   \n",
            "=================================================================\n",
            " flatten_4 (Flatten)         multiple                  0         \n",
            "                                                                 \n",
            " dense_18 (Dense)            multiple                  200960    \n",
            "                                                                 \n",
            " dense_19 (Dense)            multiple                  16448     \n",
            "                                                                 \n",
            " dense_20 (Dense)            multiple                  650       \n",
            "                                                                 \n",
            "=================================================================\n",
            "Total params: 218058 (851.79 KB)\n",
            "Trainable params: 218058 (851.79 KB)\n",
            "Non-trainable params: 0 (0.00 Byte)\n",
            "_________________________________________________________________\n"
          ]
        }
      ]
    },
    {
      "cell_type": "code",
      "source": [
        "# 컴파일\n",
        "mymodel.compile(optimizer='adam',loss='sparse_categorical_crossentropy',metrics=['accuracy'])\n",
        "\n",
        "# 훈련\n",
        "mymodel.fit(x_train, y_train, epochs=3)\n",
        "\n",
        "# 검증\n",
        "loss, acc = mymodel.evaluate(x_test, y_test, verbose=0)\n",
        "print(f'Subclassing Model] loss: {loss:.5f}, acc: {acc:.5f}')"
      ],
      "metadata": {
        "colab": {
          "base_uri": "https://localhost:8080/"
        },
        "id": "Idkd86idPRwb",
        "outputId": "6e9801c8-bae0-4a29-c824-b90b8c80016d"
      },
      "execution_count": 27,
      "outputs": [
        {
          "output_type": "stream",
          "name": "stdout",
          "text": [
            "Epoch 1/3\n",
            "1875/1875 [==============================] - 14s 7ms/step - loss: 0.2105 - accuracy: 0.9370\n",
            "Epoch 2/3\n",
            "1875/1875 [==============================] - 12s 7ms/step - loss: 0.0872 - accuracy: 0.9734\n",
            "Epoch 3/3\n",
            "1875/1875 [==============================] - 10s 5ms/step - loss: 0.0594 - accuracy: 0.9816\n",
            "Subclassing Model] loss: 0.08220, acc: 0.97340\n"
          ]
        }
      ]
    },
    {
      "cell_type": "markdown",
      "source": [
        "**7-3 서브클래싱 모델 파라미터를 활용한 생성**\n",
        "* 모델의 생성자 파라미터를 추가하여 동적으로 레이어의 유닛 개수 초기화"
      ],
      "metadata": {
        "id": "24FOq-z7PzPZ"
      }
    },
    {
      "cell_type": "code",
      "source": [
        "class MyModel(tf.keras.Model):\n",
        "\n",
        "  # 생성자 파라미터 추가\n",
        "  def __init__(self, units, num_classes):\n",
        "    super(MyModel, self).__init__()\n",
        "    # 초기값 설정\n",
        "    self.flatten = tf.keras.layers.Flatten()\n",
        "    self.dense1 = tf.keras.layers.Dense(units, activation='relu')\n",
        "    self.dense2 = tf.keras.layers.Dense(units/4, activation='relu')\n",
        "    self.dense3 = tf.keras.layers.Dense(num_classes, activation='softmax')\n",
        "\n",
        "  # method overiding\n",
        "  # 훈련용 함수 정의\n",
        "  # x는 input\n",
        "  def call(self,x):\n",
        "    x = self.flatten(x)\n",
        "    x= self.dense1(x)\n",
        "    x= self.dense2(x)\n",
        "    x= self.dense3(x)\n",
        "    return x"
      ],
      "metadata": {
        "id": "E4PQfR_0QALL"
      },
      "execution_count": 28,
      "outputs": []
    },
    {
      "cell_type": "code",
      "source": [
        "# 모델 생성\n",
        "mymodel = MyModel(256,10)\n",
        "\n",
        "# 모델 input 정의\n",
        "mymodel(tf.keras.layers.Input(shape=(28,28)))\n",
        "\n",
        "# 모델 요약\n",
        "mymodel.summary()"
      ],
      "metadata": {
        "colab": {
          "base_uri": "https://localhost:8080/"
        },
        "id": "bi46NCJBQr4q",
        "outputId": "6ab59aac-4d92-4f8d-b1a9-952a23c0b333"
      },
      "execution_count": 29,
      "outputs": [
        {
          "output_type": "stream",
          "name": "stdout",
          "text": [
            "Model: \"my_model_2\"\n",
            "_________________________________________________________________\n",
            " Layer (type)                Output Shape              Param #   \n",
            "=================================================================\n",
            " flatten_5 (Flatten)         multiple                  0         \n",
            "                                                                 \n",
            " dense_21 (Dense)            multiple                  200960    \n",
            "                                                                 \n",
            " dense_22 (Dense)            multiple                  16448     \n",
            "                                                                 \n",
            " dense_23 (Dense)            multiple                  650       \n",
            "                                                                 \n",
            "=================================================================\n",
            "Total params: 218058 (851.79 KB)\n",
            "Trainable params: 218058 (851.79 KB)\n",
            "Non-trainable params: 0 (0.00 Byte)\n",
            "_________________________________________________________________\n"
          ]
        }
      ]
    },
    {
      "cell_type": "code",
      "source": [
        "# 컴파일\n",
        "mymodel.compile(optimizer='adam',loss='sparse_categorical_crossentropy',metrics=['accuracy'])\n",
        "\n",
        "# 훈련\n",
        "mymodel.fit(x_train, y_train, epochs=3)\n",
        "\n",
        "# 검증\n",
        "loss, acc = mymodel.evaluate(x_test, y_test, verbose=0)\n",
        "print(f'Subclassing Model] loss: {loss:.5f}, acc: {acc:.5f}')"
      ],
      "metadata": {
        "colab": {
          "base_uri": "https://localhost:8080/"
        },
        "id": "rWcK-jo0Q1Si",
        "outputId": "2270e12e-feda-4f66-f885-92c3d3243a15"
      },
      "execution_count": 30,
      "outputs": [
        {
          "output_type": "stream",
          "name": "stdout",
          "text": [
            "Epoch 1/3\n",
            "1875/1875 [==============================] - 11s 5ms/step - loss: 0.2189 - accuracy: 0.9360\n",
            "Epoch 2/3\n",
            "1875/1875 [==============================] - 10s 5ms/step - loss: 0.0892 - accuracy: 0.9722\n",
            "Epoch 3/3\n",
            "1875/1875 [==============================] - 8s 4ms/step - loss: 0.0591 - accuracy: 0.9811\n",
            "Subclassing Model] loss: 0.07660, acc: 0.97600\n"
          ]
        }
      ]
    }
  ]
}