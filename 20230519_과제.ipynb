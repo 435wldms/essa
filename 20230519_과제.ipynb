{
  "nbformat": 4,
  "nbformat_minor": 0,
  "metadata": {
    "colab": {
      "provenance": [],
      "authorship_tag": "ABX9TyPWc6tLJLUiHgpkvHSwSqEa",
      "include_colab_link": true
    },
    "kernelspec": {
      "name": "python3",
      "display_name": "Python 3"
    },
    "language_info": {
      "name": "python"
    }
  },
  "cells": [
    {
      "cell_type": "markdown",
      "metadata": {
        "id": "view-in-github",
        "colab_type": "text"
      },
      "source": [
        "<a href=\"https://colab.research.google.com/github/435wldms/essa/blob/main/20230519_%EA%B3%BC%EC%A0%9C.ipynb\" target=\"_parent\"><img src=\"https://colab.research.google.com/assets/colab-badge.svg\" alt=\"Open In Colab\"/></a>"
      ]
    },
    {
      "cell_type": "markdown",
      "source": [
        "# 회귀"
      ],
      "metadata": {
        "id": "uz4UBDEKKDqz"
      }
    },
    {
      "cell_type": "markdown",
      "source": [
        "* 독립변수의 개수에 따라 단일, 다중 회귀\n",
        "* 회귀 계수의 결합에 따라 선형, 비선형 회귀"
      ],
      "metadata": {
        "id": "N39_LjylKF1W"
      }
    },
    {
      "cell_type": "markdown",
      "source": [
        "**단순 선형 회귀를 통한 회귀 이해**"
      ],
      "metadata": {
        "id": "hdS50e54MtAX"
      }
    },
    {
      "cell_type": "markdown",
      "source": [
        "* 독립변수와 종속변수가 하나인 선형 회귀 \n",
        "* Y^ = w0 + w1*X / Y = w0 + w1*X + e\n",
        "* 잔차: 실제 값과 회귀 모델의 차이에 따른 오류 값-> 잔차의 제곱 합(RSS-비용함수)이 최소가 되는 모델이 최적의 회귀 모델"
      ],
      "metadata": {
        "id": "_UVcJPDyMwb7"
      }
    },
    {
      "cell_type": "markdown",
      "source": [
        "**비용 최소화하기 - 경사하강법(Gradient Descent) 소개**"
      ],
      "metadata": {
        "id": "RHnch1K5Nr1O"
      }
    },
    {
      "cell_type": "markdown",
      "source": [
        "* 점진적으로 반복적인 계산을 통해 w 파라미터 값을 업데이트 하면서 오류 값이 최소가 되는 w 파라미터를 구하는 방식\n",
        "* 오류 값이 더 이상 작아지지 않으면 그 오류 값을 최소 비용으로 판단하고 그때의 w 값을 최적 파라미터로 반환\n",
        "* 비용 함수가 포물선 형태의 2차 함수라 가정, 최초 w에서부터 미분을 적용한 뒤 미분 값이 계속 감소하는 방향으로 순차적으로 w를 업데이트함, 더 이상 기울기가 감소하지 않는 지점이 비용 함수가 최소인 지점"
      ],
      "metadata": {
        "id": "udt_xbhcN_8j"
      }
    },
    {
      "cell_type": "markdown",
      "source": [
        "* 경사 하강법 파이썬 코드로 구현\n",
        "* y=4X+6을 근사하기 위한 100개의 데이터 세트 생성, 경사하강법을 통해 w1,w0 도출"
      ],
      "metadata": {
        "id": "MtXVZF1YViW1"
      }
    },
    {
      "cell_type": "code",
      "source": [
        "import numpy as np\n",
        "import matplotlib.pyplot as plt\n",
        "%matplotlib inline\n",
        "\n",
        "np.random.seed(0)\n",
        "# y=4X+6을 근사(w1=4,w0=6). 임의의 값은 노이즈를 위해 만듦.\n",
        "X = 2* np.random.rand(100,1)\n",
        "y = 6 + 4*X + np.random.randn(100,1)\n",
        "\n",
        "# X, y 데이터 세트 산점도로 시각화\n",
        "plt.scatter(X,y)"
      ],
      "metadata": {
        "colab": {
          "base_uri": "https://localhost:8080/",
          "height": 448
        },
        "id": "fkSX2SZeN-J5",
        "outputId": "e4e54914-2fcc-4370-c053-49b4c617eef9"
      },
      "execution_count": 1,
      "outputs": [
        {
          "output_type": "execute_result",
          "data": {
            "text/plain": [
              "<matplotlib.collections.PathCollection at 0x7fb29b2bbeb0>"
            ]
          },
          "metadata": {},
          "execution_count": 1
        },
        {
          "output_type": "display_data",
          "data": {
            "text/plain": [
              "<Figure size 640x480 with 1 Axes>"
            ],
            "image/png": "[encoded data removed]"
          },
          "metadata": {}
        }
      ]
    },
    {
      "cell_type": "markdown",
      "source": [
        "* 비용 함수 정의"
      ],
      "metadata": {
        "id": "sAnNUnlyXAf3"
      }
    },
    {
      "cell_type": "code",
      "source": [
        "def get_cost(y,y_pred):\n",
        "  N = len(y)\n",
        "  cost= np.sum(np.square(y-y_pred))/N\n",
        "  return cost"
      ],
      "metadata": {
        "id": "dvahHg0Z6dpA"
      },
      "execution_count": 2,
      "outputs": []
    },
    {
      "cell_type": "markdown",
      "source": [
        "* 경사하강법 정의"
      ],
      "metadata": {
        "id": "WRI8OAP4Y9pI"
      }
    },
    {
      "cell_type": "code",
      "source": [
        "# w1과 w0를 업데이트 할 w1_update, w0_update를 반환.\n",
        "def get_weight_updates(w1,w0,X,y,learning_rate=0.01):\n",
        "  N = len(y)\n",
        "  # 먼저 w1_update, w0_update를 각각 w1, w0의 shape과 동일한 크기를 가진 0 값으로 초기화\n",
        "  w1_update = np.zeros_like(w1)\n",
        "  w0_update = np.zeros_like(w0)\n",
        "  # 예측 배열 계산하고 예측과 실제 값의 차이 계산\n",
        "  y_pred = np.dot(X,w1.T) + w0\n",
        "  diff = y-y_pred\n",
        "\n",
        "  # w0_update를 dot 행렬 연산으로 구하기 위해 모두 1 값을 가진 행렬 생성\n",
        "  w0_factors = np.ones((N,1))\n",
        "\n",
        "  # w1과 w0을 업데이트할 w1_update와 w0_update 계산\n",
        "  w1_update = -(2/N)*learning_rate*(np.dot(X.T,diff))\n",
        "  w0_update = -(2/N)*learning_rate*(np.dot(w0_factors.T,diff))\n",
        "\n",
        "  return w1_update, w0_update"
      ],
      "metadata": {
        "id": "pl24HnB0Y_-D"
      },
      "execution_count": 3,
      "outputs": []
    },
    {
      "cell_type": "code",
      "source": [
        "# 입력 인자 iters로 주어진 횟수만큼 반복적으로 w1과 w0를 업데이트 적용함.\n",
        "def gradient_descent_steps(X,y,iters=10000):\n",
        "  # w0와 w1을 모두 0으로 초기화.\n",
        "  w0 = np.zeros((1,1))\n",
        "  w1 = np.zeros((1,1))\n",
        "\n",
        "  # 인자로 주어진 iters 만큼 반복적으로 get_weight_updates() 호출해 w1,w0 업데이트 수행.\n",
        "  for ind in range(iters):\n",
        "    w1_update, w0_update = get_weight_updates(w1,w0,X,y,learning_rate=0.01)\n",
        "    w1 = w1 - w1_update\n",
        "    w0 = w0 - w0_update\n",
        "\n",
        "  return w1, w0"
      ],
      "metadata": {
        "id": "a8Q5SLcDdCNu"
      },
      "execution_count": 4,
      "outputs": []
    },
    {
      "cell_type": "code",
      "source": [
        "w1, w0 = gradient_descent_steps(X,y,iters=1000)\n",
        "print('w1:{0:.3f} w0:{1:.3f}'.format(w1[0,0],w0[0,0]))\n",
        "y_pred = w1[0,0]*X + w0\n",
        "\n",
        "print('Gradient Descent Total Cost:{0:.4f}'.format(get_cost(y,y_pred)))"
      ],
      "metadata": {
        "colab": {
          "base_uri": "https://localhost:8080/"
        },
        "id": "XRQzXTsGd2EF",
        "outputId": "23090b7b-ab5b-4d46-e8e1-602be32f2224"
      },
      "execution_count": 5,
      "outputs": [
        {
          "output_type": "stream",
          "name": "stdout",
          "text": [
            "w1:4.022 w0:6.162\n",
            "Gradient Descent Total Cost:0.9935\n"
          ]
        }
      ]
    },
    {
      "cell_type": "markdown",
      "source": [
        "-> 결과 : 실제 선형식인 y = 4X +6과 유사하게 결과 도출, 예측 오류 비용 - 0.9935"
      ],
      "metadata": {
        "id": "a8TIQHAMfisL"
      }
    },
    {
      "cell_type": "code",
      "source": [
        "plt.scatter(X,y)\n",
        "plt.plot(X,y_pred)"
      ],
      "metadata": {
        "colab": {
          "base_uri": "https://localhost:8080/",
          "height": 448
        },
        "id": "zl56EVlXfsw7",
        "outputId": "20fe29ae-db9a-48ad-8651-b1bb841afd5b"
      },
      "execution_count": 6,
      "outputs": [
        {
          "output_type": "execute_result",
          "data": {
            "text/plain": [
              "[<matplotlib.lines.Line2D at 0x7fb278d12c80>]"
            ]
          },
          "metadata": {},
          "execution_count": 6
        },
        {
          "output_type": "display_data",
          "data": {
            "text/plain": [
              "<Figure size 640x480 with 1 Axes>"
            ],
            "image/png": "[encoded data removed]"
          },
          "metadata": {}
        }
      ]
    },
    {
      "cell_type": "markdown",
      "source": [
        "* 위의 경사하강법은 좋은 방법이지만 수행 시간이 매우 오래 걸린다는 단점이 있어 대부분 확률적 경사 하강법 이용\n",
        "* 일부 데이터만 이용해 w가 업데이트되는 값을 계산 -> 속도가 빠름.\n",
        "* 확률적 경사 하강법은 경사하강법과 유사하지만 X,y 데이터에서 랜덤하게 batch_size만큼 추출해 이를 기반으로 w1_update, w0_update를 계산하는 부분만 차이"
      ],
      "metadata": {
        "id": "Lbcyw8_uf37L"
      }
    },
    {
      "cell_type": "code",
      "source": [
        "def stochastic_gradient_descent_steps(X,y,batch_size=10, iters=1000):\n",
        "  w0 = np.zeros((1,1))\n",
        "  w1 = np.zeros((1,1))\n",
        "  prev_cost = 100000\n",
        "  iter_index = 0\n",
        "  \n",
        "  for ind in range(iters):\n",
        "    np.random.seed(ind)\n",
        "    # 전체 X,y 데이터에서 랜덤하게 batch_size만큼 데이터를 추출해 sample_X, sample_y로 저장\n",
        "    stochastic_random_index = np.random.permutation(X.shape[0])\n",
        "    sample_X = X[stochastic_random_index[0:batch_size]]\n",
        "    sample_y = y[stochastic_random_index[0:batch_size]]\n",
        "  \n",
        "    # 랜덤하게 batch_size만큼 추출된 데이터 기반으로 w1_update, w0_update 계산 후 업데이트\n",
        "    w1_update, w0_update = get_weight_updates(w1,w0,sample_X,sample_y,learning_rate=0.01)\n",
        "    w1 = w1 - w1_update\n",
        "    w0 = w0 - w0_update\n",
        "\n",
        "  return w1,w0"
      ],
      "metadata": {
        "id": "gg9QJm-Pfh58"
      },
      "execution_count": 7,
      "outputs": []
    },
    {
      "cell_type": "code",
      "source": [
        "w1, w0 = stochastic_gradient_descent_steps(X,y, iters=1000)\n",
        "print('w1:{0:.3f} w0:{1:.3f}'.format(w1[0,0],w0[0,0]))\n",
        "y_pred = w1[0,0]*X + w0\n",
        "\n",
        "print('Stochastic Gradient Descent Total Cost:{0:.4f}'.format(get_cost(y,y_pred)))"
      ],
      "metadata": {
        "colab": {
          "base_uri": "https://localhost:8080/"
        },
        "id": "9VM9DvLgpPWu",
        "outputId": "3422b197-032e-4643-ffe5-878f592cad15"
      },
      "execution_count": 8,
      "outputs": [
        {
          "output_type": "stream",
          "name": "stdout",
          "text": [
            "w1:4.028 w0:6.156\n",
            "Stochastic Gradient Descent Total Cost:0.9937\n"
          ]
        }
      ]
    },
    {
      "cell_type": "markdown",
      "source": [
        "-> 결과: 경사하강법이나 확률적 경사하강법이나 w1, w0 값에 큰 차이가 없고 예측 오류 비용도 확률적 경사하강법이 아주 조금 높을 뿐이므로 큰 예측 성능상의 차이가 없음 -> 큰 데이터 처리 시 확률적 경사하강법 주로 사용함."
      ],
      "metadata": {
        "id": "SJcmjRZ7prqH"
      }
    },
    {
      "cell_type": "markdown",
      "source": [
        "**다항 회귀와 과(대)적합/과소적합 이해**"
      ],
      "metadata": {
        "id": "qUtE2yl6suL4"
      }
    },
    {
      "cell_type": "markdown",
      "source": [
        "* 회귀가 독립변수의 단항식이 아닌 2,3차 방정식과 같은 다항식으로 표현되는 것\n",
        "* 다항회귀는 선형 회귀!\n",
        "* PolynomialFeatures 클래스를 통해 피처 변환한 후 fit, transform() 메서드 수행"
      ],
      "metadata": {
        "id": "q6nTqPT4s0_6"
      }
    },
    {
      "cell_type": "code",
      "source": [
        "from sklearn.preprocessing import PolynomialFeatures\n",
        "import numpy as np\n",
        "\n",
        "# 다항식으로 변환한 단항식 생성, [[0,1],[2,3]]의 2x2 행렬 생성\n",
        "X = np.arange(4).reshape(2,2)\n",
        "print('일차 단항식 계수 피처 \\n',X)\n",
        "\n",
        "# degree =2인 2차 다항식으로 변환하기 위해 PolynomialFeatures를 이용해 변환\n",
        "poly = PolynomialFeatures(degree=2)\n",
        "poly.fit(X)\n",
        "poly_ftr = poly.transform(X)\n",
        "print('변환된 2차 다항식 계수 피처:\\n',poly_ftr)"
      ],
      "metadata": {
        "colab": {
          "base_uri": "https://localhost:8080/"
        },
        "id": "Vc1Ep_EeprR5",
        "outputId": "81662263-b433-45e9-e9ca-f4fa24c2464a"
      },
      "execution_count": 9,
      "outputs": [
        {
          "output_type": "stream",
          "name": "stdout",
          "text": [
            "일차 단항식 계수 피처 \n",
            " [[0 1]\n",
            " [2 3]]\n",
            "변환된 2차 다항식 계수 피처:\n",
            " [[1. 0. 1. 0. 0. 1.]\n",
            " [1. 2. 3. 4. 6. 9.]]\n"
          ]
        }
      ]
    },
    {
      "cell_type": "markdown",
      "source": [
        "-> 결과 해석: [x1, x2] => [1,x1,x2,x1^2,x1*x2,x2^2]"
      ],
      "metadata": {
        "id": "gHbQbSE6wnHx"
      }
    },
    {
      "cell_type": "markdown",
      "source": [
        "* 3차 다항 회귀 함수를 임의로 설정해 이의 회귀 계수를 예측"
      ],
      "metadata": {
        "id": "j29Fbxe5w-cX"
      }
    },
    {
      "cell_type": "code",
      "source": [
        "def polynomial_func(X):\n",
        "  y = 1 + 2*X[:,0] + 3*X[:,0]**2 + 4*X[:,1]**3\n",
        "  return y\n",
        "\n",
        "X = np.arange(4).reshape(2,2)\n",
        "print('일차 단항식 계수 feature: \\n',X)\n",
        "y = polynomial_func(X)\n",
        "print('삼차 다항식 결정값: \\n',y)"
      ],
      "metadata": {
        "colab": {
          "base_uri": "https://localhost:8080/"
        },
        "id": "KRXd5oc5xDUq",
        "outputId": "eef44970-09e5-4a9e-81d5-49c58ccdc839"
      },
      "execution_count": 10,
      "outputs": [
        {
          "output_type": "stream",
          "name": "stdout",
          "text": [
            "일차 단항식 계수 feature: \n",
            " [[0 1]\n",
            " [2 3]]\n",
            "삼차 다항식 결정값: \n",
            " [  5 125]\n"
          ]
        }
      ]
    },
    {
      "cell_type": "markdown",
      "source": [
        "* 일차 단항식 계수를 삼차 다항식 계수로 변환, 선형 회귀에 적용하면 다항 회귀 구현"
      ],
      "metadata": {
        "id": "QV3e8qkQOgSz"
      }
    },
    {
      "cell_type": "code",
      "source": [
        "from sklearn.linear_model import LinearRegression\n",
        "\n",
        "# 3차 다항식 변환\n",
        "poly_ftr = PolynomialFeatures(degree=3).fit_transform(X)\n",
        "print('3차 다항식 계수 feature: \\n',poly_ftr)\n",
        "\n",
        "# Linear Regression에 3차 다항식 계수 feature와 3차 다항식 결정값으로 학습 후 회귀 계수 확인 \n",
        "model = LinearRegression()\n",
        "model.fit(poly_ftr,y)\n",
        "print('Polynomial 회귀 계수\\n', np.round(model.coef_,2))\n",
        "print('Polynomial 회귀 Shape:', model.coef_.shape)"
      ],
      "metadata": {
        "colab": {
          "base_uri": "https://localhost:8080/"
        },
        "id": "WgCgjLt4PGet",
        "outputId": "bb943471-c625-43d8-ad13-61fefe16b99c"
      },
      "execution_count": 11,
      "outputs": [
        {
          "output_type": "stream",
          "name": "stdout",
          "text": [
            "3차 다항식 계수 feature: \n",
            " [[ 1.  0.  1.  0.  0.  1.  0.  0.  0.  1.]\n",
            " [ 1.  2.  3.  4.  6.  9.  8. 12. 18. 27.]]\n",
            "Polynomial 회귀 계수\n",
            " [0.   0.18 0.18 0.36 0.54 0.72 0.72 1.08 1.62 2.34]\n",
            "Polynomial 회귀 Shape: (10,)\n"
          ]
        }
      ]
    },
    {
      "cell_type": "markdown",
      "source": [
        "-> 결과: 회귀 계수가 10개로 늘어나면서, LinearRegression을 적용했을때 원래 회귀 계수 값이랑 약간은 차이가 있으나 다항 회귀로 근사하고 있음.\n",
        ">\n",
        "-> PolynomialFeatures로 피처 변환 후 LinearRegression 클래스로 다항 회귀 구현"
      ],
      "metadata": {
        "id": "MKHpsAZPQsia"
      }
    },
    {
      "cell_type": "code",
      "source": [
        "from sklearn.preprocessing import PolynomialFeatures\n",
        "from sklearn.linear_model import LinearRegression\n",
        "from sklearn.pipeline import Pipeline\n",
        "import numpy as np\n",
        "\n",
        "def polynomial_func(X):\n",
        "  y = 1 + 2*X[:,0] + 3*X[:,0]**2 + 4*X[:,1]**3\n",
        "  return y\n",
        "\n",
        "# Pipeline 객체로 Steamline하게 Polynomial Feature 변환과 Linear Regression을 연결\n",
        "model = Pipeline([('poly',PolynomialFeatures(degree=3)),('linear',LinearRegression())])\n",
        "X=np.arange(4).reshape(2,2)\n",
        "y=polynomial_func(X)\n",
        "\n",
        "model = model.fit(X,y)\n",
        "\n",
        "print('Polynomial 회귀 계수 \\n',np.round(model.named_steps['linear'].coef_,2))"
      ],
      "metadata": {
        "colab": {
          "base_uri": "https://localhost:8080/"
        },
        "id": "snT8DhxPRO2T",
        "outputId": "ae5b348d-c36d-45f3-8f4f-3541c18b09ce"
      },
      "execution_count": 12,
      "outputs": [
        {
          "output_type": "stream",
          "name": "stdout",
          "text": [
            "Polynomial 회귀 계수 \n",
            " [0.   0.18 0.18 0.36 0.54 0.72 0.72 1.08 1.62 2.34]\n"
          ]
        }
      ]
    },
    {
      "cell_type": "markdown",
      "source": [
        "**다항 회귀를 이용한 과소적합 및 과적합 이해**"
      ],
      "metadata": {
        "id": "Eo4lrFHPSdIA"
      }
    },
    {
      "cell_type": "markdown",
      "source": [
        "* 다항식의 차수가 높아지면 복잡한 피처 간의 관계까지 모델링이 가능하지만, 너무 학습 데이터에만 맞춘 학습이 이루어져서 과적합 문제 발생 가능"
      ],
      "metadata": {
        "id": "yU7fkYbkShiX"
      }
    },
    {
      "cell_type": "code",
      "source": [
        "import numpy as np\n",
        "import matplotlib.pyplot as plt\n",
        "from sklearn.pipeline import Pipeline\n",
        "from sklearn.preprocessing import PolynomialFeatures\n",
        "from sklearn.linear_model import LinearRegression\n",
        "from sklearn.model_selection import cross_val_score\n",
        "%matplotlib inline\n",
        "\n",
        "# 임의의 값으로 구성된 X 값에 대해 코사인 변환 값을 반환.\n",
        "def true_fun(X):\n",
        "  return np.cos(1.5*np.pi*X)\n",
        "\n",
        "# X는 0부터 1까지 30개의 임의의 값을 순서대로 샘플링한 데이터입니다.\n",
        "np.random.seed(0)\n",
        "n_samples=30\n",
        "X = np.sort(np.random.rand(n_samples))\n",
        "\n",
        "# y 값은 코사인 기반의 true_fun()에서 약간의 노이즈 변동 값을 더한 값입니다.\n",
        "y = true_fun(X) + np.random.randn(n_samples)*0.1"
      ],
      "metadata": {
        "id": "3UstGkZFSxOS"
      },
      "execution_count": 13,
      "outputs": []
    },
    {
      "cell_type": "code",
      "source": [
        "plt.figure(figsize=(14,5))\n",
        "degrees = [1,4,15]\n",
        "\n",
        "# 다항 회귀의 차수(degree)를 1,4,15로 각각 변화시키면서 비교합니다.\n",
        "for i in range(len(degrees)):\n",
        "  ax = plt.subplot(1, len(degrees),i+1)\n",
        "  plt.setp(ax,xticks=(),yticks=())\n",
        "\n",
        "  # 개별 degree별로 Polynomial 변환합니다.\n",
        "  polynomial_features = PolynomialFeatures(degree=degrees[i],include_bias=False)\n",
        "  linear_regression = LinearRegression()\n",
        "  pipeline = Pipeline([('polynomial_features',polynomial_features),('linear_regression',linear_regression)])\n",
        "  pipeline.fit(X.reshape(-1,1),y)\n",
        "\n",
        "  # 교차 검증으로 다항 회귀를 평가합니다. \n",
        "  scores = cross_val_score(pipeline,X.reshape(-1,1),y,scoring='neg_mean_squared_error',cv=10)\n",
        "  \n",
        "  # Pipeline을 구성하는 세부 객체를 접근하는 named_steps['객체명']을 이용해 회귀계수 추출\n",
        "  coefficients = pipeline.named_steps['linear_regression'].coef_\n",
        "  print('\\n Degree {0} 회귀 계수는 {1} 입니다.'.format(degrees[i],np.round(coefficients,2)))\n",
        "  print('Degree {0} MSE 는 {1} 입니다.'.format(degrees[i],-1*np.mean(scores)))\n",
        "\n",
        "  # 0부터 1까지 테스트 데이터 세트를 100개로 나눠 예측을 수행합니다.\n",
        "  X_test = np.linspace(0,1,100)\n",
        "  # 예측값 곡선\n",
        "  plt.plot(X_test, pipeline.predict(X_test[:,np.newaxis]),label='Model')\n",
        "  # 실제값 곡선\n",
        "  plt.plot(X_test, true_fun(X_test),'--',label='True function')\n",
        "  plt.scatter(X,y, edgecolor='b',s=20, label ='Samples')\n",
        "\n",
        "  plt.xlabel('x'); plt.ylabel('y'); plt.xlim((0,1)); plt.ylim((-2,2)); plt.legend(loc='best')\n",
        "  plt.title('Degree {}\\n MSE = {:.2e}(+/- {:.2e})'.format(degrees[i],-scores.mean(),scores.std()))\n",
        "\n",
        "plt.show()"
      ],
      "metadata": {
        "colab": {
          "base_uri": "https://localhost:8080/",
          "height": 723
        },
        "id": "qSumgrb5DcT5",
        "outputId": "3612056c-364b-46ff-acf9-5b54c76c9a26"
      },
      "execution_count": 14,
      "outputs": [
        {
          "output_type": "stream",
          "name": "stdout",
          "text": [
            "\n",
            " Degree 1 회귀 계수는 [-1.61] 입니다.\n",
            "Degree 1 MSE 는 0.4077289625098685 입니다.\n",
            "\n",
            " Degree 4 회귀 계수는 [  0.47 -17.79  23.59  -7.26] 입니다.\n",
            "Degree 4 MSE 는 0.04320874987232064 입니다.\n",
            "\n",
            " Degree 15 회귀 계수는 [-2.98293000e+03  1.03899390e+05 -1.87416123e+06  2.03716219e+07\n",
            " -1.44873283e+08  7.09315363e+08 -2.47065792e+09  6.24561050e+09\n",
            " -1.15676510e+10  1.56894936e+10 -1.54006023e+10  1.06457264e+10\n",
            " -4.91377530e+09  1.35919645e+09 -1.70380786e+08] 입니다.\n",
            "Degree 15 MSE 는 181238256.56423894 입니다.\n"
          ]
        },
        {
          "output_type": "display_data",
          "data": {
            "text/plain": [
              "<Figure size 1400x500 with 3 Axes>"
            ],
            "image/png": "[encoded data removed]"
          },
          "metadata": {}
        }
      ]
    },
    {
      "cell_type": "markdown",
      "source": [
        "-> 결과 : degree1 예측 곡선은 너무 단순, degree4 예측 곡선은 실제 데이터 세트와 유사, degree15 예측 곡선은 train 데이터 과적합으로 MSE 값이 과하게 큼."
      ],
      "metadata": {
        "id": "wFjoaeX8gkQd"
      }
    },
    {
      "cell_type": "markdown",
      "source": [
        "**편형-분산 트레이드오프**"
      ],
      "metadata": {
        "id": "Z8E0Cil7g-lA"
      }
    },
    {
      "cell_type": "markdown",
      "source": [
        "* degree1 모델 : 지나치게 한 방향성으로 치우친 고편향성 모델\n",
        "* degree15 모델 : 학습 데이터 하나 하나의 특성을 반영해 매우 복잡한 고분산성 모델\n",
        "* 저편향, 저분산 모델은 드물지만 좋은 모델\n",
        "* 일반적으로 편향과 분산은 한 쪽이 높으면 한 쪽이 낮아지는 경향을 보임\n",
        "* 편향 h, 분산 l : 과소 적합, 편향 l, 분산 h : 과적합"
      ],
      "metadata": {
        "id": "0rQ7dmxdhEWX"
      }
    }
  ]
}