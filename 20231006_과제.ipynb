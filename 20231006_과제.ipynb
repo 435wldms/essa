{
  "nbformat": 4,
  "nbformat_minor": 0,
  "metadata": {
    "colab": {
      "provenance": [],
      "authorship_tag": "ABX9TyPFeEtnIpvZV3+g1BkltHH4",
      "include_colab_link": true
    },
    "kernelspec": {
      "name": "python3",
      "display_name": "Python 3"
    },
    "language_info": {
      "name": "python"
    }
  },
  "cells": [
    {
      "cell_type": "markdown",
      "metadata": {
        "id": "view-in-github",
        "colab_type": "text"
      },
      "source": [
        "<a href=\"https://colab.research.google.com/github/435wldms/essa/blob/main/20231006_%EA%B3%BC%EC%A0%9C.ipynb\" target=\"_parent\"><img src=\"https://colab.research.google.com/assets/colab-badge.svg\" alt=\"Open In Colab\"/></a>"
      ]
    },
    {
      "cell_type": "markdown",
      "source": [
        "# 01 텍스트 분석 이해"
      ],
      "metadata": {
        "id": "tNcPW9lHihuO"
      }
    },
    {
      "cell_type": "markdown",
      "source": [
        "* 텍스트 분석: 비정형 데이터 분석 -> 비정형 데이터를 어떻게 피처 형태로 추출하고 추출된 피처에 의미있는 값을 부여하는가가 중요함\n",
        "* 피처 벡터화(추출) : 텍스트를 word 기반의 다수 피처로 추출, 빈도수를 숫자 값으로 부여하여 벡터값으로 표현"
      ],
      "metadata": {
        "id": "Nyx07V4fik67"
      }
    },
    {
      "cell_type": "markdown",
      "source": [
        "**텍스트 분석 수행 프로세스**\n",
        "* 텍스트 사전 준비작업(전처리) -> 피처 벡터화/추출(bow, word2vec가 대표적) -> ML 모델 수립 및 학습/예측/평가"
      ],
      "metadata": {
        "id": "mjIWr0RvjBEe"
      }
    },
    {
      "cell_type": "markdown",
      "source": [
        "**파이썬 기반의 NLP, 텍스트 분석 패키지**"
      ],
      "metadata": {
        "id": "18ndgbk-jZwT"
      }
    },
    {
      "cell_type": "markdown",
      "source": [
        "* Genism과 SpaCy가 자주 활용되는 패키지\\\n",
        "* 사이킷런으로도 텍스트 분석이 가능하지만 특화된 라이브러리는 가지고 있지 않아 위와 같은 패키지와 결합해 사용하는 경우가 많음"
      ],
      "metadata": {
        "id": "z2rluyTujdT9"
      }
    },
    {
      "cell_type": "markdown",
      "source": [
        "# 02 텍스트 사전 준비 작업(텍스트 전처리) - 텍스트 정규화"
      ],
      "metadata": {
        "id": "4-6x1ZmIj3Gb"
      }
    },
    {
      "cell_type": "markdown",
      "source": [
        "* 입력 데이터로 사용하기 위해 클렌징, 정제, 토큰화, 어근화 등의 사전 작업을 수행하는 것\n",
        "* 클렌징: 불필요한 문자, 기호 등을 제거\n",
        "* 텍스트 토큰화: 문서에서 문장을 분리하는 문장 토큰화, 문장에서 단어를 토큰으로 분리하는 단어 토큰화\n"
      ],
      "metadata": {
        "id": "-wLxrFn0j8c9"
      }
    },
    {
      "cell_type": "markdown",
      "source": [
        "1) 문장 토큰화\n",
        ">\n",
        "문장의 마지막 기호에 따라 분리하는 것이 일반적 -> sent_tokenize를 이용해 토큰화 수행"
      ],
      "metadata": {
        "id": "i6Yrl5ZikX92"
      }
    },
    {
      "cell_type": "code",
      "execution_count": 4,
      "metadata": {
        "colab": {
          "base_uri": "https://localhost:8080/"
        },
        "id": "RVHD7yp8iVT_",
        "outputId": "23a8a14b-61f5-43d2-9e52-caad50324753"
      },
      "outputs": [
        {
          "output_type": "stream",
          "name": "stderr",
          "text": [
            "[nltk_data] Downloading package punkt to /root/nltk_data...\n",
            "[nltk_data]   Unzipping tokenizers/punkt.zip.\n"
          ]
        },
        {
          "output_type": "stream",
          "name": "stdout",
          "text": [
            "<class 'list'> 3\n",
            "['The Matrix is everywhere its all around us, here even in this room.', 'You can see it out your window or on your television.', 'You feel it when you go to work, or go to church or pay your taxes.']\n"
          ]
        }
      ],
      "source": [
        "from nltk import sent_tokenize\n",
        "import nltk\n",
        "nltk.download('punkt')\n",
        "\n",
        "text_sample = 'The Matrix is everywhere its all around us, here even in this room. \\\n",
        "               You can see it out your window or on your television. \\\n",
        "               You feel it when you go to work, or go to church or pay your taxes.'\n",
        "sentences = sent_tokenize(text=text_sample)\n",
        "\n",
        "print(type(sentences), len(sentences))\n",
        "print(sentences)"
      ]
    },
    {
      "cell_type": "markdown",
      "source": [
        "-> 문장으로 구성된 list 객체 반환"
      ],
      "metadata": {
        "id": "Ssu8gIWHlqjb"
      }
    },
    {
      "cell_type": "markdown",
      "source": [
        "2) 단어 토큰화"
      ],
      "metadata": {
        "id": "RWniZaHml-Ru"
      }
    },
    {
      "cell_type": "markdown",
      "source": [
        "문장을 분리하는 구분자를 이용해 문장을 단어로 토큰화하는 것 -> word_tokenize()를 이용"
      ],
      "metadata": {
        "id": "hUJUQITdvTlZ"
      }
    },
    {
      "cell_type": "code",
      "source": [
        "from nltk import word_tokenize\n",
        "\n",
        "sentence = 'The Matrix is everywhere its all around us, here even in this room.'\n",
        "words = word_tokenize(sentence)\n",
        "print(type(words), len(words))\n",
        "print(words)"
      ],
      "metadata": {
        "colab": {
          "base_uri": "https://localhost:8080/"
        },
        "id": "sLez1i_mvzJe",
        "outputId": "58d02057-866d-4c14-9d19-709ef4b77b97"
      },
      "execution_count": 5,
      "outputs": [
        {
          "output_type": "stream",
          "name": "stdout",
          "text": [
            "<class 'list'> 15\n",
            "['The', 'Matrix', 'is', 'everywhere', 'its', 'all', 'around', 'us', ',', 'here', 'even', 'in', 'this', 'room', '.']\n"
          ]
        }
      ]
    },
    {
      "cell_type": "markdown",
      "source": [
        "* sent_tokenize, word_tokenize를 조합해 문서에 대한 단어 토큰화 진행\n",
        "* 문서를 문장으로, 개별 문장을 단어로 토큰화하는 tokenize_text() 함수 생성"
      ],
      "metadata": {
        "id": "tUODMFsfwNFk"
      }
    },
    {
      "cell_type": "code",
      "source": [
        "from nltk import word_tokenize, sent_tokenize\n",
        "\n",
        "# 여러 개의 문장으로 된 입력 데이터를 문장 별로 단어 토큰화하게 만드는 함수 생성\n",
        "def tokenize_text(text):\n",
        "  # 문장 별로 분리 토큰\n",
        "  sentences = sent_tokenize(text)\n",
        "  # 분리된 문장 별 단어 토큰화\n",
        "  word_tokens = [word_tokenize(sentence) for sentence in sentences]\n",
        "  return word_tokens\n",
        "\n",
        "# 여러 문장에 대해 문장별 단어 토큰화 수행.\n",
        "word_tokens = tokenize_text(text_sample)\n",
        "print(type(word_tokens), len(word_tokens))\n",
        "print(word_tokens)"
      ],
      "metadata": {
        "colab": {
          "base_uri": "https://localhost:8080/"
        },
        "id": "_dMbPZoAwK1x",
        "outputId": "c8f17054-b486-424a-b2e8-9408f11dcbec"
      },
      "execution_count": 6,
      "outputs": [
        {
          "output_type": "stream",
          "name": "stdout",
          "text": [
            "<class 'list'> 3\n",
            "[['The', 'Matrix', 'is', 'everywhere', 'its', 'all', 'around', 'us', ',', 'here', 'even', 'in', 'this', 'room', '.'], ['You', 'can', 'see', 'it', 'out', 'your', 'window', 'or', 'on', 'your', 'television', '.'], ['You', 'feel', 'it', 'when', 'you', 'go', 'to', 'work', ',', 'or', 'go', 'to', 'church', 'or', 'pay', 'your', 'taxes', '.']]\n"
          ]
        }
      ]
    },
    {
      "cell_type": "markdown",
      "source": [
        "-> 3개의 리스트 객체를 내포하는데, 각 객체는 문장 별로 토큰화된 단어를 요소로 가짐\n",
        ">\n",
        "* 문맥적인 의미도 무시하지 않고자 도입된 것 : n-gram\n",
        "* n-gram: 연속된 n개의 단어를 하나의 토큰화 단위로 분리해 냄"
      ],
      "metadata": {
        "id": "8rMxIp21DSlX"
      }
    },
    {
      "cell_type": "markdown",
      "source": [
        "**스톱 워드 제거**"
      ],
      "metadata": {
        "id": "fLOjFRl0EAJa"
      }
    },
    {
      "cell_type": "markdown",
      "source": [
        "* 스톱 워드: 분석에 큰 의미가 없는 단어\n",
        "* 필수 문법 요소지만 문맥적으로 큰 의미가 없는 단어를 말하는데, 제거하지 않으면 빈번함으로 인해 오히려 중요한 단어로 인지될 수 있어 위험"
      ],
      "metadata": {
        "id": "MnRu6QM8EB47"
      }
    },
    {
      "cell_type": "markdown",
      "source": [
        "* 언어별로 스톱 워드가 목록화되어 있음"
      ],
      "metadata": {
        "id": "SKtcyJC_Eu05"
      }
    },
    {
      "cell_type": "code",
      "source": [
        "import nltk\n",
        "nltk.download('stopwords')"
      ],
      "metadata": {
        "colab": {
          "base_uri": "https://localhost:8080/"
        },
        "id": "Fln8MOWrExoY",
        "outputId": "0c475596-5452-41bb-c8c0-aa3bd579bc1e"
      },
      "execution_count": 1,
      "outputs": [
        {
          "output_type": "stream",
          "name": "stderr",
          "text": [
            "[nltk_data] Downloading package stopwords to /root/nltk_data...\n",
            "[nltk_data]   Unzipping corpora/stopwords.zip.\n"
          ]
        },
        {
          "output_type": "execute_result",
          "data": {
            "text/plain": [
              "True"
            ]
          },
          "metadata": {},
          "execution_count": 1
        }
      ]
    },
    {
      "cell_type": "code",
      "source": [
        "print('영어 stop words 개수:', len(nltk.corpus.stopwords.words('english')))\n",
        "print(nltk.corpus.stopwords.words('english')[:20])"
      ],
      "metadata": {
        "colab": {
          "base_uri": "https://localhost:8080/"
        },
        "id": "gjnVkn6XE251",
        "outputId": "9408f807-fe72-4fcd-9af7-8f6ef785e94a"
      },
      "execution_count": 2,
      "outputs": [
        {
          "output_type": "stream",
          "name": "stdout",
          "text": [
            "영어 stop words 개수: 179\n",
            "['i', 'me', 'my', 'myself', 'we', 'our', 'ours', 'ourselves', 'you', \"you're\", \"you've\", \"you'll\", \"you'd\", 'your', 'yours', 'yourself', 'yourselves', 'he', 'him', 'his']\n"
          ]
        }
      ]
    },
    {
      "cell_type": "markdown",
      "source": [
        "-> 총 스톱 워드: 179개"
      ],
      "metadata": {
        "id": "EpKNYVuEFfrz"
      }
    },
    {
      "cell_type": "markdown",
      "source": [
        "* 3개의 문장을 토큰화해 생성한 word_tokens 리스트에 대해 stopwords 제거하여 의미 있는 단어 추출"
      ],
      "metadata": {
        "id": "ZCnYHI_jFlmM"
      }
    },
    {
      "cell_type": "code",
      "source": [
        "import nltk\n",
        "\n",
        "stopwords = nltk.corpus.stopwords.words('english')\n",
        "all_tokens = []\n",
        "# 위 예제에서 3개의 문장 별로 얻은 word_tokens list에 대해 스톱 워드를 제거하는 반복문\n",
        "for sentence in word_tokens:\n",
        "  filtered_words = []\n",
        "  # 개별 문장 별로 토큰화된 문장 list에 대해 스톱 워드를 제거하는 반복문\n",
        "  for word in sentence:\n",
        "    # 소문자로 모두 변환합니다.\n",
        "    word=word.lower()\n",
        "    # 토큰화된 개별 단어가 스톱 워드의 단어에 포함되지 않으면 word_tokens에 추가\n",
        "    if word not in stopwords:\n",
        "      filtered_words.append(word)\n",
        "  all_tokens.append(filtered_words)\n",
        "\n",
        "print(all_tokens)"
      ],
      "metadata": {
        "colab": {
          "base_uri": "https://localhost:8080/"
        },
        "id": "RGTPWxxUFz_O",
        "outputId": "268c45f7-386b-4203-ad6d-13bd812048e7"
      },
      "execution_count": 7,
      "outputs": [
        {
          "output_type": "stream",
          "name": "stdout",
          "text": [
            "[['matrix', 'everywhere', 'around', 'us', ',', 'even', 'room', '.'], ['see', 'window', 'television', '.'], ['feel', 'go', 'work', ',', 'go', 'church', 'pay', 'taxes', '.']]\n"
          ]
        }
      ]
    },
    {
      "cell_type": "markdown",
      "source": [
        "**Stemming과 Lemmatization**"
      ],
      "metadata": {
        "id": "nGyMVHviH4Lw"
      }
    },
    {
      "cell_type": "markdown",
      "source": [
        "* 문법적인 요소에 따라 형태가 달라지는 단어의 원형을 찾는 것\n",
        "* 둘 다 유사한 역할을 하지만 Stemming이 더 정확한 철자로 된 어근 단어를 찾아줌 + 시간이 더 오래 걸림\n",
        "* stemmer: porter, lancaster, snowball stemmer 등\n",
        "* lemmatization: WordNetLemmatizer를 제공\n",
        "* stemmer 객체를 생성한 뒤 stem('단어') 메서드를 호출해 단어의 stemming 작업 가능"
      ],
      "metadata": {
        "id": "TcIKT0ElH-Nw"
      }
    },
    {
      "cell_type": "code",
      "source": [
        "from nltk.stem import LancasterStemmer\n",
        "stemmer = LancasterStemmer()\n",
        "\n",
        "print(stemmer.stem('working'), stemmer.stem('works'), stemmer.stem('worked'))\n",
        "print(stemmer.stem('amusing'),stemmer.stem('amuses'), stemmer.stem('amused'))\n",
        "print(stemmer.stem('happier'), stemmer.stem('happiest'))\n",
        "print(stemmer.stem('fancier'),stemmer.stem('fanciest'))"
      ],
      "metadata": {
        "colab": {
          "base_uri": "https://localhost:8080/"
        },
        "id": "qfHJcntsJM96",
        "outputId": "a282c6c4-6ed4-4a23-f8ac-4feee8eb0ad5"
      },
      "execution_count": 8,
      "outputs": [
        {
          "output_type": "stream",
          "name": "stdout",
          "text": [
            "work work work\n",
            "amus amus amus\n",
            "happy happiest\n",
            "fant fanciest\n"
          ]
        }
      ]
    },
    {
      "cell_type": "markdown",
      "source": [
        "-> work는 단순 변화이므로 제대로 인식하지만 amuse는 e를 빼고 인식하고, happy와 fancy도 비교형, 최상급형으로 변형된 단어의 정확한 원형을 찾지 못함\n",
        ">\n",
        "* Lemmatization을 수행, 품사를 입력해주어야 함"
      ],
      "metadata": {
        "id": "0SLNuA1SKDhD"
      }
    },
    {
      "cell_type": "code",
      "source": [
        "from nltk.stem import WordNetLemmatizer\n",
        "import nltk\n",
        "nltk.download('wordnet')"
      ],
      "metadata": {
        "colab": {
          "base_uri": "https://localhost:8080/"
        },
        "id": "HRyaRs3uKeNe",
        "outputId": "e4614b59-1a2b-4837-daec-1b0a0bfcb12b"
      },
      "execution_count": 9,
      "outputs": [
        {
          "output_type": "stream",
          "name": "stderr",
          "text": [
            "[nltk_data] Downloading package wordnet to /root/nltk_data...\n"
          ]
        },
        {
          "output_type": "execute_result",
          "data": {
            "text/plain": [
              "True"
            ]
          },
          "metadata": {},
          "execution_count": 9
        }
      ]
    },
    {
      "cell_type": "code",
      "source": [
        "lemma = WordNetLemmatizer()\n",
        "print(lemma.lemmatize('amusing','v'), lemma.lemmatize('amuses','v'),lemma.lemmatize('amused','v'))\n",
        "print(lemma.lemmatize('happier','a'), lemma.lemmatize('happiest','a'))\n",
        "print(lemma.lemmatize('fancier','a'),lemma.lemmatize('fanciest','a'))"
      ],
      "metadata": {
        "colab": {
          "base_uri": "https://localhost:8080/"
        },
        "id": "P0dwrHztKlJ1",
        "outputId": "13182634-e871-42f2-c24f-18e0284373cb"
      },
      "execution_count": 10,
      "outputs": [
        {
          "output_type": "stream",
          "name": "stdout",
          "text": [
            "amuse amuse amuse\n",
            "happy happy\n",
            "fancy fancy\n"
          ]
        }
      ]
    },
    {
      "cell_type": "markdown",
      "source": [
        "-> 더 정확하게 원형 단어를 추출해 줌"
      ],
      "metadata": {
        "id": "eD5vBU9ELcxc"
      }
    },
    {
      "cell_type": "markdown",
      "source": [
        "# 03 Bag of Words - BOW"
      ],
      "metadata": {
        "id": "CU4ZqYNKLXOp"
      }
    },
    {
      "cell_type": "markdown",
      "source": [
        "* 문서가 가지는 모든 단어를 문맥, 순서를 무시하고 일괄적으로 빈도 값을 부여해 피처 값을 추출하는 모델\n",
        "* 문장에 있는 모든 단어에서 중복을 제거하고 단어를 칼럼 형태로 나열, 문장에서 단어가 나타나는 횟수를 인덱스에 기재\n",
        "* 장점: 쉽고 빠른 구축\n",
        "* 단점: 문맥 의미 반영 부족, 희소 행렬 문제"
      ],
      "metadata": {
        "id": "Ez1-ImprLfSN"
      }
    },
    {
      "cell_type": "markdown",
      "source": [
        "**BOW 피처 벡터화**"
      ],
      "metadata": {
        "id": "674CeXQ1MKoI"
      }
    },
    {
      "cell_type": "markdown",
      "source": [
        "* 텍스트와 같은 데이터는 머신러닝 알고리즘에 바로 입력할 수 없음 -> 특정 의미를 가지는 숫자형 값인 벡터로 변환해야 함 (피처 벡터화)\n",
        "* 텍스트를 단어로 추출해 피처로 할당, 발생 빈도와 같은 값을 이 피처에 값으로 부여해 단어 피처의 발생 빈도 값으로 구성된 벡터 만들기\n",
        "* bow 모델에서 피처 벡터화를 수행하는 것은 모든 문서에서 모든 단어를 칼럼 형태로 나열, 해당 단어의 횟수나 정규화된 빈도를 값으로 부여\n"
      ],
      "metadata": {
        "id": "fLJ6cE_cO228"
      }
    },
    {
      "cell_type": "markdown",
      "source": [
        "* BOW 피처 벡터화: 카운트 기반 벡터화, tf-idf(term-frequency) 기반 벡터화\n",
        "* count 벡터화에서는 카운트 값이 높을수록 중요한 단어로 인식됨 -> 문서의 특징 뿐만 아니라 문장에서 자주 자용되는 단어까지 높은 값을 가지게 됨\n",
        "* tf-idf 벡터화는 개별 문서에서 자주 나타나는 단어에 높은 가중치를 주되, 모든 문서에서 전반적으로 자주 나타나는 단어에는 페널티를 부여"
      ],
      "metadata": {
        "id": "_ESlJMCRQGv7"
      }
    },
    {
      "cell_type": "markdown",
      "source": [
        "**사이킷런의 Count 및 TF-IDF 벡터화 구현: CountVectorizer, TfidfVectorizer**"
      ],
      "metadata": {
        "id": "R7_ZUsfNQuBb"
      }
    },
    {
      "cell_type": "markdown",
      "source": [
        "* countvectorizer는 단지 피처 벡터화만 수행하지는 않고, 소문자 일괄 변환, 토큰화 등 전처리도 함께 수행\n",
        "* 파라미터: max_df- 너무 높은 빈도수를 가지는 단어 제외, min_df- 너무 낮은 빈도수를 가지는 단어 제외, max_features- 피처의 개수 제한, stop_words, n_gram_range, analyzer, token_pattern, tokenizer, ..\n",
        "* 모든 문자를 소문자로 변경, n_gram_range를 반영해 각 단어 토큰화, 텍스트 정규화 수행, tokenizer 파라미터에 커스텀 어근 변환 함수 적용, max_df, min_df 등 단어 빈도수 벡터값 적용"
      ],
      "metadata": {
        "id": "eAruqeEHQ2B4"
      }
    },
    {
      "cell_type": "markdown",
      "source": [
        "**BOW 벡터화를 위한 희소 행렬**"
      ],
      "metadata": {
        "id": "ROu-2v01TQ5W"
      }
    },
    {
      "cell_type": "markdown",
      "source": [
        "* 희소 행렬: 문서에 있는 단어를 추출해 행렬화하였을 때 대부분의 값을 0이 차지하는 행렬\n",
        "* 희소 행렬은 불필요한 0값이 메모리 공간을 많이 차지하고, 데이터 액세스를 위한 시간이 많이 소모됨\n",
        "-> 적은 메모리 공간을 차지하도록 변환(C00, CSR 형식)"
      ],
      "metadata": {
        "id": "lqhQHp2BUenm"
      }
    },
    {
      "cell_type": "markdown",
      "source": [
        "**희소 행렬 - COO 형식**"
      ],
      "metadata": {
        "id": "F4Y0LU__VCA4"
      }
    },
    {
      "cell_type": "markdown",
      "source": [
        "* 0이 아닌 데이터만 별도의 데이터 배열에 저장하고 그 데이터가 가리키는 행과 열의 위치를 별도의 배열로 저장하는 방식\n",
        "* Scipy의 sparse를 이용해 희소 행렬 변환 수행"
      ],
      "metadata": {
        "id": "ZFLxNKzHVFlI"
      }
    },
    {
      "cell_type": "code",
      "source": [
        "import numpy as np\n",
        "\n",
        "dense = np.array([[3,0,1],[0,2,0]])"
      ],
      "metadata": {
        "id": "99jOE9bLVo0f"
      },
      "execution_count": 11,
      "outputs": []
    },
    {
      "cell_type": "code",
      "source": [
        "from scipy import sparse\n",
        "\n",
        "# 0이 아닌 데이터 추출\n",
        "data = np.array([3,1,2])\n",
        "\n",
        "# 행 위치와 열 위치를 각각 배열로 생성\n",
        "row_pos = np.array([0,0,1])\n",
        "col_pos = np.array([0,2,1])\n",
        "\n",
        "# sparse 패키지의 coo_matrix를 이용해 COO 형식으로 희소 행렬 생성\n",
        "sparse_coo = sparse.coo_matrix((data, (row_pos, col_pos)))"
      ],
      "metadata": {
        "id": "rScBB2zDV2ra"
      },
      "execution_count": 14,
      "outputs": []
    },
    {
      "cell_type": "code",
      "source": [
        "# toarray 메서드를 이용해 밀집 형태의 행렬로 다시 출력\n",
        "sparse_coo.toarray()"
      ],
      "metadata": {
        "colab": {
          "base_uri": "https://localhost:8080/"
        },
        "id": "LY4nxB52WcAR",
        "outputId": "f01433d4-dd29-40e6-878f-c0a8d1607854"
      },
      "execution_count": 15,
      "outputs": [
        {
          "output_type": "execute_result",
          "data": {
            "text/plain": [
              "array([[3, 0, 1],\n",
              "       [0, 2, 0]])"
            ]
          },
          "metadata": {},
          "execution_count": 15
        }
      ]
    },
    {
      "cell_type": "markdown",
      "source": [
        "**희소 행렬 - CSR 형식**"
      ],
      "metadata": {
        "id": "B-I2djkXWpE6"
      }
    },
    {
      "cell_type": "markdown",
      "source": [
        "* COO 방식은 위치를 순서대로 표시하므로 같은 값이 연속해서 나오게 됨 -> 이렇게 반복되는 것을 제거하기 위해 위치의 위치를 표기함\n",
        "* 고유 값의 시작 위치만 알면 얼마든지 행 위치 배열을 다시 만들 수 있어 메모리가 적게 들고 빠른 연산이 가능함"
      ],
      "metadata": {
        "id": "0fiAuWlJXCQW"
      }
    },
    {
      "cell_type": "markdown",
      "source": [
        "![image.png](data:image/png;base64,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)"
      ],
      "metadata": {
        "id": "oYzOQ7GrYDa9"
      }
    },
    {
      "cell_type": "markdown",
      "source": [
        "* CSR matrix를 이용해 csr 변환이 쉽게 가능"
      ],
      "metadata": {
        "id": "tkZIslu8YFjd"
      }
    },
    {
      "cell_type": "code",
      "source": [
        "from scipy import sparse\n",
        "\n",
        "dense2 = np.array([[0,0,1,0,0,5],\n",
        "                   [1,4,0,3,2,5],\n",
        "                   [0,6,0,3,0,0],\n",
        "                   [2,0,0,0,0,0],\n",
        "                   [0,0,0,7,0,8],\n",
        "                   [1,0,0,0,0,0]])\n",
        "# 0이 아닌 데이터 추출\n",
        "data2 = np.array([1,5,1,4,3,2,5,6,3,2,7,8,1])\n",
        "\n",
        "# 행 위치와 열 위치를 각각 array로 생성\n",
        "row_pos = np.array([0,0,1,1,1,1,1,2,2,3,4,4,5])\n",
        "col_pos = np.array([2,5,0,1,3,4,5,1,3,0,3,5,0])\n",
        "\n",
        "# COO 형식으로 변환\n",
        "sparse_coo = sparse.coo_matrix((data2, (row_pos, col_pos)))\n",
        "\n",
        "# 행 위치 배열의 고유한 값의 시작 위치 인덱스를 배열로 생성\n",
        "row_pos_ind = np.array([0,2,7,9,10,12,13])\n",
        "\n",
        "# CRS 형식으로 변환\n",
        "sparse_csr = sparse.csr_matrix((data2, col_pos, row_pos_ind))\n",
        "\n",
        "print('COO 변환된 데이터가 제대로 되었는지 다시 Dense로 출력 확인')\n",
        "print(sparse_coo.toarray())\n",
        "print('CSR 변환된 데이터가 제대로 되었는지 다시 Dense로 출력 확인')\n",
        "print(sparse_csr.toarray())"
      ],
      "metadata": {
        "colab": {
          "base_uri": "https://localhost:8080/"
        },
        "id": "TY7u3MG_YPa3",
        "outputId": "61fed902-9fd8-472f-e1d0-ad23374cbed1"
      },
      "execution_count": 17,
      "outputs": [
        {
          "output_type": "stream",
          "name": "stdout",
          "text": [
            "COO 변환된 데이터가 제대로 되었는지 다시 Dense로 출력 확인\n",
            "[[0 0 1 0 0 5]\n",
            " [1 4 0 3 2 5]\n",
            " [0 6 0 3 0 0]\n",
            " [2 0 0 0 0 0]\n",
            " [0 0 0 7 0 8]\n",
            " [1 0 0 0 0 0]]\n",
            "CSR 변환된 데이터가 제대로 되었는지 다시 Dense로 출력 확인\n",
            "[[0 0 1 0 0 5]\n",
            " [1 4 0 3 2 5]\n",
            " [0 6 0 3 0 0]\n",
            " [2 0 0 0 0 0]\n",
            " [0 0 0 7 0 8]\n",
            " [1 0 0 0 0 0]]\n"
          ]
        }
      ]
    },
    {
      "cell_type": "markdown",
      "source": [
        "* 실제 사용 시에는 밀집 행렬을 생성 파라미터로 입력하면 coo나 csr 희소 행렬로 생성"
      ],
      "metadata": {
        "id": "mVCEtypBaMOc"
      }
    },
    {
      "cell_type": "code",
      "source": [
        "dense3 = np.array([[0,0,1,0,0,5],\n",
        "                   [1,4,0,3,2,5],\n",
        "                   [0,6,0,3,0,0],\n",
        "                   [2,0,0,0,0,0],\n",
        "                   [0,0,0,7,0,8],\n",
        "                   [1,0,0,0,0,0]])\n",
        "\n",
        "coo = sparse.coo_matrix(dense3)\n",
        "csr = sparse.csr_matrix(dense3)"
      ],
      "metadata": {
        "id": "hEFQzv2BaSfe"
      },
      "execution_count": 18,
      "outputs": []
    },
    {
      "cell_type": "markdown",
      "source": [
        "* countvectorizer나 TfidfVectorizer 클래스로 변환된 피처화 벡터, 행렬은 모두 csr 형태"
      ],
      "metadata": {
        "id": "ikmB6BoJacT2"
      }
    }
  ]
}